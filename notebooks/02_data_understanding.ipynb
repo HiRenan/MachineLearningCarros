{
 "cells": [
  {
   "cell_type": "markdown",
   "metadata": {},
   "source": [
    "# 2. Data Understanding - Análise Exploratória de Dados\n",
    "\n",
    "## Aviso Educacional\n",
    "Este conteúdo é destinado apenas para fins educacionais. Os dados exibidos são ilustrativos e podem não corresponder a situações reais.\n",
    "\n",
    "---\n",
    "\n",
    "## Objetivo\n",
    "Realizar uma análise exploratória profunda do mercado automotivo brasileiro, identificando padrões, anomalias e insights que guiarão as próximas fases do CRISP-DM.\n",
    "\n",
    "### Metodologia CRISP-DM - Fase 2: Data Understanding\n",
    "1. **Coleta inicial de dados** ✅\n",
    "2. **Descrição dos dados** ⏳ (Esta etapa)\n",
    "3. **Exploração dos dados** ⏳ (Esta etapa) \n",
    "4. **Verificação da qualidade** ⏳ (Esta etapa)"
   ]
  },
  {
   "cell_type": "markdown",
   "metadata": {},
   "source": [
    "## 1. Setup e Configuração"
   ]
  },
  {
   "cell_type": "code",
   "execution_count": 22,
   "metadata": {},
   "outputs": [
    {
     "name": "stdout",
     "output_type": "stream",
     "text": [
      " Setup concluído!\n",
      "Python: 3.13.5 (tags/v3.13.5:6cb20a2, Jun 11 2025, 16:15:46) [MSC v.1943 64 bit (AMD64)]\n",
      "Pandas: 2.3.1\n",
      "NumPy: 2.2.6\n"
     ]
    }
   ],
   "source": [
    "# Importações principais\n",
    "import sys\n",
    "import os\n",
    "sys.path.append('../src')\n",
    "\n",
    "import pandas as pd\n",
    "import numpy as np\n",
    "import matplotlib.pyplot as plt\n",
    "import seaborn as sns\n",
    "import plotly.express as px\n",
    "import plotly.graph_objects as go\n",
    "from plotly.subplots import make_subplots\n",
    "import plotly.figure_factory as ff\n",
    "\n",
    "# Análise estatística\n",
    "from scipy import stats\n",
    "from scipy.stats import normaltest, shapiro, kstest\n",
    "from sklearn.ensemble import IsolationForest\n",
    "from sklearn.preprocessing import StandardScaler\n",
    "\n",
    "# Utilitários\n",
    "import warnings\n",
    "import json\n",
    "from datetime import datetime\n",
    "from pathlib import Path\n",
    "\n",
    "# Módulo personalizado\n",
    "from data.load_data import DataLoader, load_car_dataset\n",
    "\n",
    "warnings.filterwarnings('ignore')\n",
    "\n",
    "# Configurações de visualização profissional\n",
    "plt.style.use('default')\n",
    "sns.set_style(\"whitegrid\")\n",
    "sns.set_palette(\"husl\")\n",
    "\n",
    "# Configurações do matplotlib\n",
    "plt.rcParams['figure.figsize'] = (12, 8)\n",
    "plt.rcParams['font.size'] = 11\n",
    "plt.rcParams['axes.titlesize'] = 14\n",
    "plt.rcParams['axes.labelsize'] = 12\n",
    "plt.rcParams['xtick.labelsize'] = 10\n",
    "plt.rcParams['ytick.labelsize'] = 10\n",
    "plt.rcParams['legend.fontsize'] = 10\n",
    "\n",
    "# Configurações do pandas\n",
    "pd.set_option('display.max_columns', None)\n",
    "pd.set_option('display.max_rows', 100)\n",
    "pd.set_option('display.float_format', '{:.2f}'.format)\n",
    "\n",
    "# Configurações do plotly\n",
    "import plotly.io as pio\n",
    "pio.templates.default = \"plotly_white\"\n",
    "\n",
    "print(\" Setup concluído!\")\n",
    "print(f\"Python: {sys.version}\")\n",
    "print(f\"Pandas: {pd.__version__}\")\n",
    "print(f\"NumPy: {np.__version__}\")"
   ]
  },
  {
   "cell_type": "markdown",
   "metadata": {},
   "source": [
    "## 2. Carregamento e Inspeção Inicial"
   ]
  },
  {
   "cell_type": "code",
   "execution_count": 23,
   "metadata": {},
   "outputs": [
    {
     "name": "stderr",
     "output_type": "stream",
     "text": [
      "2025-09-28 18:05:26,604 - data.load_data - INFO - DataLoader inicializado com sucesso\n",
      "2025-09-28 18:05:26,612 - data.load_data - INFO - Iniciando carregamento do dataset: ../data/raw/dataset_carros_brasil.csv\n",
      "2025-09-28 18:05:26,628 - data.load_data - INFO - Dataset encontrado no cache, carregando...\n",
      "2025-09-28 18:05:26,722 - data.load_data - INFO - Dataset carregado do cache: (10000, 9)\n",
      "2025-09-28 18:05:26,725 - data.load_data - INFO - Gerando relatório de qualidade dos dados...\n"
     ]
    },
    {
     "name": "stdout",
     "output_type": "stream",
     "text": [
      " Carregando dataset usando DataLoader personalizado...\n"
     ]
    },
    {
     "name": "stderr",
     "output_type": "stream",
     "text": [
      "2025-09-28 18:05:27,025 - data.load_data - INFO - Relatório de qualidade gerado com sucesso\n",
      "2025-09-28 18:05:27,027 - data.load_data - INFO - Detectando anomalias específicas do mercado automotivo...\n",
      "2025-09-28 18:05:27,072 - data.load_data - INFO - Detecção de anomalias concluída: 2 anomalias encontradas\n"
     ]
    },
    {
     "name": "stdout",
     "output_type": "stream",
     "text": [
      " Dataset carregado com sucesso!\n",
      " Dimensões: (10000, 9)\n",
      " Memória: 3.07 MB\n",
      " Carregado em: 2025-09-28 18:05:27\n"
     ]
    }
   ],
   "source": [
    "# Carregamento usando nosso DataLoader personalizado\n",
    "file_path = '../data/raw/dataset_carros_brasil.csv'\n",
    "\n",
    "print(\" Carregando dataset usando DataLoader personalizado...\")\n",
    "df, quality_report = load_car_dataset(file_path)\n",
    "\n",
    "print(f\" Dataset carregado com sucesso!\")\n",
    "print(f\" Dimensões: {df.shape}\")\n",
    "print(f\" Memória: {df.memory_usage(deep=True).sum() / 1024**2:.2f} MB\")\n",
    "print(f\" Carregado em: {datetime.now().strftime('%Y-%m-%d %H:%M:%S')}\")"
   ]
  },
  {
   "cell_type": "code",
   "execution_count": 24,
   "metadata": {},
   "outputs": [
    {
     "name": "stdout",
     "output_type": "stream",
     "text": [
      "=== INFORMAÇÕES GERAIS DO DATASET ===\n",
      "Número de linhas: 10,000\n",
      "Número de colunas: 9\n",
      "\n",
      "Colunas: ['Marca', 'Modelo', 'Ano', 'Quilometragem', 'Cor', 'Cambio', 'Combustivel', 'Portas', 'Valor_Venda']\n",
      "\n",
      "=== TIPOS DE DADOS ===\n"
     ]
    },
    {
     "data": {
      "text/html": [
       "<div>\n",
       "<style scoped>\n",
       "    .dataframe tbody tr th:only-of-type {\n",
       "        vertical-align: middle;\n",
       "    }\n",
       "\n",
       "    .dataframe tbody tr th {\n",
       "        vertical-align: top;\n",
       "    }\n",
       "\n",
       "    .dataframe thead th {\n",
       "        text-align: right;\n",
       "    }\n",
       "</style>\n",
       "<table border=\"1\" class=\"dataframe\">\n",
       "  <thead>\n",
       "    <tr style=\"text-align: right;\">\n",
       "      <th></th>\n",
       "      <th>Coluna</th>\n",
       "      <th>Tipo</th>\n",
       "      <th>Não-Nulos</th>\n",
       "      <th>Nulos</th>\n",
       "      <th>Únicos</th>\n",
       "      <th>% Únicos</th>\n",
       "    </tr>\n",
       "  </thead>\n",
       "  <tbody>\n",
       "    <tr>\n",
       "      <th>Marca</th>\n",
       "      <td>Marca</td>\n",
       "      <td>object</td>\n",
       "      <td>10000</td>\n",
       "      <td>0</td>\n",
       "      <td>10</td>\n",
       "      <td>0.10</td>\n",
       "    </tr>\n",
       "    <tr>\n",
       "      <th>Modelo</th>\n",
       "      <td>Modelo</td>\n",
       "      <td>object</td>\n",
       "      <td>10000</td>\n",
       "      <td>0</td>\n",
       "      <td>32</td>\n",
       "      <td>0.32</td>\n",
       "    </tr>\n",
       "    <tr>\n",
       "      <th>Ano</th>\n",
       "      <td>Ano</td>\n",
       "      <td>float64</td>\n",
       "      <td>9900</td>\n",
       "      <td>100</td>\n",
       "      <td>24</td>\n",
       "      <td>0.24</td>\n",
       "    </tr>\n",
       "    <tr>\n",
       "      <th>Quilometragem</th>\n",
       "      <td>Quilometragem</td>\n",
       "      <td>float64</td>\n",
       "      <td>9900</td>\n",
       "      <td>100</td>\n",
       "      <td>9652</td>\n",
       "      <td>96.52</td>\n",
       "    </tr>\n",
       "    <tr>\n",
       "      <th>Cor</th>\n",
       "      <td>Cor</td>\n",
       "      <td>object</td>\n",
       "      <td>10000</td>\n",
       "      <td>0</td>\n",
       "      <td>6</td>\n",
       "      <td>0.06</td>\n",
       "    </tr>\n",
       "    <tr>\n",
       "      <th>Cambio</th>\n",
       "      <td>Cambio</td>\n",
       "      <td>object</td>\n",
       "      <td>10000</td>\n",
       "      <td>0</td>\n",
       "      <td>2</td>\n",
       "      <td>0.02</td>\n",
       "    </tr>\n",
       "    <tr>\n",
       "      <th>Combustivel</th>\n",
       "      <td>Combustivel</td>\n",
       "      <td>object</td>\n",
       "      <td>10000</td>\n",
       "      <td>0</td>\n",
       "      <td>3</td>\n",
       "      <td>0.03</td>\n",
       "    </tr>\n",
       "    <tr>\n",
       "      <th>Portas</th>\n",
       "      <td>Portas</td>\n",
       "      <td>int64</td>\n",
       "      <td>10000</td>\n",
       "      <td>0</td>\n",
       "      <td>2</td>\n",
       "      <td>0.02</td>\n",
       "    </tr>\n",
       "    <tr>\n",
       "      <th>Valor_Venda</th>\n",
       "      <td>Valor_Venda</td>\n",
       "      <td>float64</td>\n",
       "      <td>10000</td>\n",
       "      <td>0</td>\n",
       "      <td>9672</td>\n",
       "      <td>96.72</td>\n",
       "    </tr>\n",
       "  </tbody>\n",
       "</table>\n",
       "</div>"
      ],
      "text/plain": [
       "                      Coluna     Tipo  Não-Nulos  Nulos  Únicos  % Únicos\n",
       "Marca                  Marca   object      10000      0      10      0.10\n",
       "Modelo                Modelo   object      10000      0      32      0.32\n",
       "Ano                      Ano  float64       9900    100      24      0.24\n",
       "Quilometragem  Quilometragem  float64       9900    100    9652     96.52\n",
       "Cor                      Cor   object      10000      0       6      0.06\n",
       "Cambio                Cambio   object      10000      0       2      0.02\n",
       "Combustivel      Combustivel   object      10000      0       3      0.03\n",
       "Portas                Portas    int64      10000      0       2      0.02\n",
       "Valor_Venda      Valor_Venda  float64      10000      0    9672     96.72"
      ]
     },
     "metadata": {},
     "output_type": "display_data"
    },
    {
     "name": "stdout",
     "output_type": "stream",
     "text": [
      "\n",
      "=== PRIMEIRAS 5 LINHAS ===\n"
     ]
    },
    {
     "data": {
      "text/html": [
       "<div>\n",
       "<style scoped>\n",
       "    .dataframe tbody tr th:only-of-type {\n",
       "        vertical-align: middle;\n",
       "    }\n",
       "\n",
       "    .dataframe tbody tr th {\n",
       "        vertical-align: top;\n",
       "    }\n",
       "\n",
       "    .dataframe thead th {\n",
       "        text-align: right;\n",
       "    }\n",
       "</style>\n",
       "<table border=\"1\" class=\"dataframe\">\n",
       "  <thead>\n",
       "    <tr style=\"text-align: right;\">\n",
       "      <th></th>\n",
       "      <th>Marca</th>\n",
       "      <th>Modelo</th>\n",
       "      <th>Ano</th>\n",
       "      <th>Quilometragem</th>\n",
       "      <th>Cor</th>\n",
       "      <th>Cambio</th>\n",
       "      <th>Combustivel</th>\n",
       "      <th>Portas</th>\n",
       "      <th>Valor_Venda</th>\n",
       "    </tr>\n",
       "  </thead>\n",
       "  <tbody>\n",
       "    <tr>\n",
       "      <th>0</th>\n",
       "      <td>Ford</td>\n",
       "      <td>EcoSport</td>\n",
       "      <td>2003.00</td>\n",
       "      <td>82624.00</td>\n",
       "      <td>Azul</td>\n",
       "      <td>Automático</td>\n",
       "      <td>Flex</td>\n",
       "      <td>4</td>\n",
       "      <td>52604.20</td>\n",
       "    </tr>\n",
       "    <tr>\n",
       "      <th>1</th>\n",
       "      <td>Hyundai</td>\n",
       "      <td>HB20S</td>\n",
       "      <td>2017.00</td>\n",
       "      <td>69260.00</td>\n",
       "      <td>Azul</td>\n",
       "      <td>Automático</td>\n",
       "      <td>Diesel</td>\n",
       "      <td>2</td>\n",
       "      <td>63219.00</td>\n",
       "    </tr>\n",
       "    <tr>\n",
       "      <th>2</th>\n",
       "      <td>Jeep</td>\n",
       "      <td>Renegade</td>\n",
       "      <td>2008.00</td>\n",
       "      <td>106493.00</td>\n",
       "      <td>Cinza</td>\n",
       "      <td>Manual</td>\n",
       "      <td>Gasolina</td>\n",
       "      <td>2</td>\n",
       "      <td>79710.40</td>\n",
       "    </tr>\n",
       "    <tr>\n",
       "      <th>3</th>\n",
       "      <td>Toyota</td>\n",
       "      <td>Corolla</td>\n",
       "      <td>2018.00</td>\n",
       "      <td>53570.00</td>\n",
       "      <td>Prata</td>\n",
       "      <td>Automático</td>\n",
       "      <td>Flex</td>\n",
       "      <td>2</td>\n",
       "      <td>99149.00</td>\n",
       "    </tr>\n",
       "    <tr>\n",
       "      <th>4</th>\n",
       "      <td>Ford</td>\n",
       "      <td>Ranger</td>\n",
       "      <td>2009.00</td>\n",
       "      <td>21643.00</td>\n",
       "      <td>Prata</td>\n",
       "      <td>Manual</td>\n",
       "      <td>Flex</td>\n",
       "      <td>2</td>\n",
       "      <td>68913.40</td>\n",
       "    </tr>\n",
       "  </tbody>\n",
       "</table>\n",
       "</div>"
      ],
      "text/plain": [
       "     Marca    Modelo     Ano  Quilometragem    Cor      Cambio Combustivel  \\\n",
       "0     Ford  EcoSport 2003.00       82624.00   Azul  Automático        Flex   \n",
       "1  Hyundai     HB20S 2017.00       69260.00   Azul  Automático      Diesel   \n",
       "2     Jeep  Renegade 2008.00      106493.00  Cinza      Manual    Gasolina   \n",
       "3   Toyota   Corolla 2018.00       53570.00  Prata  Automático        Flex   \n",
       "4     Ford    Ranger 2009.00       21643.00  Prata      Manual        Flex   \n",
       "\n",
       "   Portas  Valor_Venda  \n",
       "0       4     52604.20  \n",
       "1       2     63219.00  \n",
       "2       2     79710.40  \n",
       "3       2     99149.00  \n",
       "4       2     68913.40  "
      ]
     },
     "metadata": {},
     "output_type": "display_data"
    }
   ],
   "source": [
    "# Informações básicas do dataset\n",
    "print(\"=== INFORMAÇÕES GERAIS DO DATASET ===\")\n",
    "print(f\"Número de linhas: {df.shape[0]:,}\")\n",
    "print(f\"Número de colunas: {df.shape[1]}\")\n",
    "print(f\"\\nColunas: {list(df.columns)}\")\n",
    "\n",
    "print(\"\\n=== TIPOS DE DADOS ===\")\n",
    "info_df = pd.DataFrame({\n",
    "    'Coluna': df.columns,\n",
    "    'Tipo': df.dtypes,\n",
    "    'Não-Nulos': df.count(),\n",
    "    'Nulos': df.isnull().sum(),\n",
    "    'Únicos': df.nunique(),\n",
    "    '% Únicos': (df.nunique() / len(df) * 100).round(2)\n",
    "})\n",
    "display(info_df)\n",
    "\n",
    "print(\"\\n=== PRIMEIRAS 5 LINHAS ===\")\n",
    "display(df.head())"
   ]
  },
  {
   "cell_type": "markdown",
   "metadata": {},
   "source": [
    "## 3. Análise de Qualidade dos Dados"
   ]
  },
  {
   "cell_type": "code",
   "execution_count": 25,
   "metadata": {},
   "outputs": [
    {
     "name": "stdout",
     "output_type": "stream",
     "text": [
      "=== RELATÓRIO DE QUALIDADE AUTOMÁTICO ===\n",
      "Timestamp: 2025-09-28T18:05:26.728431\n",
      "\n",
      " Informações do Dataset:\n",
      "  shape: (10000, 9)\n",
      "  memory_usage_mb: 3.015763282775879\n",
      "  columns: ['Marca', 'Modelo', 'Ano', 'Quilometragem', 'Cor', 'Cambio', 'Combustivel', 'Portas', 'Valor_Venda']\n",
      "\n",
      " Qualidade dos Dados:\n",
      "  Duplicatas: 0\n",
      "  Valores ausentes por coluna:\n",
      "    Ano: 100 (1.00%)\n",
      "    Quilometragem: 100 (1.00%)\n"
     ]
    }
   ],
   "source": [
    "# Relatório de qualidade automático\n",
    "print(\"=== RELATÓRIO DE QUALIDADE AUTOMÁTICO ===\")\n",
    "print(f\"Timestamp: {quality_report['timestamp']}\")\n",
    "print(f\"\\n Informações do Dataset:\")\n",
    "for key, value in quality_report['dataset_info'].items():\n",
    "    print(f\"  {key}: {value}\")\n",
    "\n",
    "print(f\"\\n Qualidade dos Dados:\")\n",
    "print(f\"  Duplicatas: {quality_report['data_quality']['duplicates']}\")\n",
    "print(f\"  Valores ausentes por coluna:\")\n",
    "for col, missing in quality_report['data_quality']['missing_values'].items():\n",
    "    if missing > 0:\n",
    "        print(f\"    {col}: {missing} ({missing/len(df)*100:.2f}%)\")\n",
    "\n",
    "if all(v == 0 for v in quality_report['data_quality']['missing_values'].values()):\n",
    "    print(\" Nenhum valor ausente detectado!\")"
   ]
  },
  {
   "cell_type": "code",
   "execution_count": 26,
   "metadata": {},
   "outputs": [
    {
     "name": "stdout",
     "output_type": "stream",
     "text": [
      "=== DETECÇÃO DE ANOMALIAS ESPECÍFICAS ===\n",
      "Total de tipos de anomalias detectadas: 2\n",
      "\n",
      " Temporal Anomalies: Nenhuma anomalia detectada\n",
      "\n",
      " Business Logic Anomalies:\n",
      "  • 992 carros antigos com baixa quilometragem\n",
      "  • 200 carros com preços muito altos (>R$300k)\n",
      "\n",
      " Statistical Anomalies: Nenhuma anomalia detectada\n",
      "\n",
      " Data Quality Issues: Nenhuma anomalia detectada\n"
     ]
    }
   ],
   "source": [
    "# Detecção de anomalias específicas do mercado automotivo\n",
    "print(\"=== DETECÇÃO DE ANOMALIAS ESPECÍFICAS ===\")\n",
    "anomalies = quality_report['anomalies']\n",
    "\n",
    "total_anomalies = sum(len(v) for v in anomalies.values())\n",
    "print(f\"Total de tipos de anomalias detectadas: {total_anomalies}\")\n",
    "\n",
    "for category, issues in anomalies.items():\n",
    "    if issues:\n",
    "        print(f\"\\n {category.replace('_', ' ').title()}:\")\n",
    "        for issue in issues:\n",
    "            print(f\"  • {issue}\")\n",
    "    else:\n",
    "        print(f\"\\n {category.replace('_', ' ').title()}: Nenhuma anomalia detectada\")"
   ]
  },
  {
   "cell_type": "markdown",
   "metadata": {},
   "source": [
    "## 4. Análise Estatística Descritiva"
   ]
  },
  {
   "cell_type": "code",
   "execution_count": 27,
   "metadata": {},
   "outputs": [
    {
     "name": "stdout",
     "output_type": "stream",
     "text": [
      "=== ANÁLISE DE VARIÁVEIS NUMÉRICAS (4 variáveis) ===\n",
      "Variáveis: ['Ano', 'Quilometragem', 'Portas', 'Valor_Venda']\n"
     ]
    },
    {
     "data": {
      "text/html": [
       "<div>\n",
       "<style scoped>\n",
       "    .dataframe tbody tr th:only-of-type {\n",
       "        vertical-align: middle;\n",
       "    }\n",
       "\n",
       "    .dataframe tbody tr th {\n",
       "        vertical-align: top;\n",
       "    }\n",
       "\n",
       "    .dataframe thead th {\n",
       "        text-align: right;\n",
       "    }\n",
       "</style>\n",
       "<table border=\"1\" class=\"dataframe\">\n",
       "  <thead>\n",
       "    <tr style=\"text-align: right;\">\n",
       "      <th></th>\n",
       "      <th>Ano</th>\n",
       "      <th>Quilometragem</th>\n",
       "      <th>Portas</th>\n",
       "      <th>Valor_Venda</th>\n",
       "    </tr>\n",
       "  </thead>\n",
       "  <tbody>\n",
       "    <tr>\n",
       "      <th>count</th>\n",
       "      <td>9900.00</td>\n",
       "      <td>9900.00</td>\n",
       "      <td>10000.00</td>\n",
       "      <td>10000.00</td>\n",
       "    </tr>\n",
       "    <tr>\n",
       "      <th>mean</th>\n",
       "      <td>2011.52</td>\n",
       "      <td>99805.34</td>\n",
       "      <td>3.01</td>\n",
       "      <td>83097.49</td>\n",
       "    </tr>\n",
       "    <tr>\n",
       "      <th>std</th>\n",
       "      <td>6.90</td>\n",
       "      <td>57760.42</td>\n",
       "      <td>1.00</td>\n",
       "      <td>166858.22</td>\n",
       "    </tr>\n",
       "    <tr>\n",
       "      <th>min</th>\n",
       "      <td>2000.00</td>\n",
       "      <td>10.00</td>\n",
       "      <td>2.00</td>\n",
       "      <td>10000.00</td>\n",
       "    </tr>\n",
       "    <tr>\n",
       "      <th>25%</th>\n",
       "      <td>2006.00</td>\n",
       "      <td>50712.75</td>\n",
       "      <td>2.00</td>\n",
       "      <td>44467.05</td>\n",
       "    </tr>\n",
       "    <tr>\n",
       "      <th>50%</th>\n",
       "      <td>2012.00</td>\n",
       "      <td>99751.00</td>\n",
       "      <td>4.00</td>\n",
       "      <td>58905.70</td>\n",
       "    </tr>\n",
       "    <tr>\n",
       "      <th>75%</th>\n",
       "      <td>2017.00</td>\n",
       "      <td>149429.75</td>\n",
       "      <td>4.00</td>\n",
       "      <td>74804.40</td>\n",
       "    </tr>\n",
       "    <tr>\n",
       "      <th>max</th>\n",
       "      <td>2023.00</td>\n",
       "      <td>199994.00</td>\n",
       "      <td>4.00</td>\n",
       "      <td>1241962.00</td>\n",
       "    </tr>\n",
       "  </tbody>\n",
       "</table>\n",
       "</div>"
      ],
      "text/plain": [
       "          Ano  Quilometragem   Portas  Valor_Venda\n",
       "count 9900.00        9900.00 10000.00     10000.00\n",
       "mean  2011.52       99805.34     3.01     83097.49\n",
       "std      6.90       57760.42     1.00    166858.22\n",
       "min   2000.00          10.00     2.00     10000.00\n",
       "25%   2006.00       50712.75     2.00     44467.05\n",
       "50%   2012.00       99751.00     4.00     58905.70\n",
       "75%   2017.00      149429.75     4.00     74804.40\n",
       "max   2023.00      199994.00     4.00   1241962.00"
      ]
     },
     "metadata": {},
     "output_type": "display_data"
    },
    {
     "name": "stdout",
     "output_type": "stream",
     "text": [
      "\n",
      "=== ESTATÍSTICAS ADICIONAIS ===\n"
     ]
    },
    {
     "data": {
      "text/html": [
       "<div>\n",
       "<style scoped>\n",
       "    .dataframe tbody tr th:only-of-type {\n",
       "        vertical-align: middle;\n",
       "    }\n",
       "\n",
       "    .dataframe tbody tr th {\n",
       "        vertical-align: top;\n",
       "    }\n",
       "\n",
       "    .dataframe thead th {\n",
       "        text-align: right;\n",
       "    }\n",
       "</style>\n",
       "<table border=\"1\" class=\"dataframe\">\n",
       "  <thead>\n",
       "    <tr style=\"text-align: right;\">\n",
       "      <th></th>\n",
       "      <th>Assimetria</th>\n",
       "      <th>Curtose</th>\n",
       "      <th>Coef_Variação</th>\n",
       "    </tr>\n",
       "  </thead>\n",
       "  <tbody>\n",
       "    <tr>\n",
       "      <th>Ano</th>\n",
       "      <td>-0.01</td>\n",
       "      <td>-1.20</td>\n",
       "      <td>0.34</td>\n",
       "    </tr>\n",
       "    <tr>\n",
       "      <th>Quilometragem</th>\n",
       "      <td>-0.00</td>\n",
       "      <td>-1.19</td>\n",
       "      <td>57.87</td>\n",
       "    </tr>\n",
       "    <tr>\n",
       "      <th>Portas</th>\n",
       "      <td>-0.02</td>\n",
       "      <td>-2.00</td>\n",
       "      <td>33.24</td>\n",
       "    </tr>\n",
       "    <tr>\n",
       "      <th>Valor_Venda</th>\n",
       "      <td>6.69</td>\n",
       "      <td>43.57</td>\n",
       "      <td>200.80</td>\n",
       "    </tr>\n",
       "  </tbody>\n",
       "</table>\n",
       "</div>"
      ],
      "text/plain": [
       "               Assimetria  Curtose  Coef_Variação\n",
       "Ano                 -0.01    -1.20           0.34\n",
       "Quilometragem       -0.00    -1.19          57.87\n",
       "Portas              -0.02    -2.00          33.24\n",
       "Valor_Venda          6.69    43.57         200.80"
      ]
     },
     "metadata": {},
     "output_type": "display_data"
    }
   ],
   "source": [
    "# Estatísticas descritivas para variáveis numéricas\n",
    "numeric_cols = df.select_dtypes(include=[np.number]).columns.tolist()\n",
    "categorical_cols = df.select_dtypes(include=['object']).columns.tolist()\n",
    "\n",
    "print(f\"=== ANÁLISE DE VARIÁVEIS NUMÉRICAS ({len(numeric_cols)} variáveis) ===\")\n",
    "print(f\"Variáveis: {numeric_cols}\")\n",
    "\n",
    "# Estatísticas básicas\n",
    "desc_stats = df[numeric_cols].describe()\n",
    "display(desc_stats)\n",
    "\n",
    "# Estatísticas adicionais\n",
    "print(\"\\n=== ESTATÍSTICAS ADICIONAIS ===\")\n",
    "additional_stats = pd.DataFrame({\n",
    "    'Assimetria': df[numeric_cols].skew(),\n",
    "    'Curtose': df[numeric_cols].kurtosis(),\n",
    "    'Coef_Variação': (df[numeric_cols].std() / df[numeric_cols].mean()) * 100\n",
    "})\n",
    "display(additional_stats.round(3))"
   ]
  },
  {
   "cell_type": "code",
   "execution_count": 28,
   "metadata": {},
   "outputs": [
    {
     "name": "stdout",
     "output_type": "stream",
     "text": [
      "=== TESTES DE NORMALIDADE ===\n"
     ]
    },
    {
     "data": {
      "text/html": [
       "<div>\n",
       "<style scoped>\n",
       "    .dataframe tbody tr th:only-of-type {\n",
       "        vertical-align: middle;\n",
       "    }\n",
       "\n",
       "    .dataframe tbody tr th {\n",
       "        vertical-align: top;\n",
       "    }\n",
       "\n",
       "    .dataframe thead th {\n",
       "        text-align: right;\n",
       "    }\n",
       "</style>\n",
       "<table border=\"1\" class=\"dataframe\">\n",
       "  <thead>\n",
       "    <tr style=\"text-align: right;\">\n",
       "      <th></th>\n",
       "      <th>Variável</th>\n",
       "      <th>Shapiro_p</th>\n",
       "      <th>Normal_Shapiro</th>\n",
       "      <th>DAgostino_p</th>\n",
       "      <th>Normal_DAgostino</th>\n",
       "    </tr>\n",
       "  </thead>\n",
       "  <tbody>\n",
       "    <tr>\n",
       "      <th>0</th>\n",
       "      <td>Ano</td>\n",
       "      <td>NaN</td>\n",
       "      <td>N/A</td>\n",
       "      <td>0.00</td>\n",
       "      <td>False</td>\n",
       "    </tr>\n",
       "    <tr>\n",
       "      <th>1</th>\n",
       "      <td>Quilometragem</td>\n",
       "      <td>NaN</td>\n",
       "      <td>N/A</td>\n",
       "      <td>0.00</td>\n",
       "      <td>False</td>\n",
       "    </tr>\n",
       "    <tr>\n",
       "      <th>2</th>\n",
       "      <td>Portas</td>\n",
       "      <td>NaN</td>\n",
       "      <td>N/A</td>\n",
       "      <td>0.00</td>\n",
       "      <td>False</td>\n",
       "    </tr>\n",
       "    <tr>\n",
       "      <th>3</th>\n",
       "      <td>Valor_Venda</td>\n",
       "      <td>NaN</td>\n",
       "      <td>N/A</td>\n",
       "      <td>0.00</td>\n",
       "      <td>False</td>\n",
       "    </tr>\n",
       "  </tbody>\n",
       "</table>\n",
       "</div>"
      ],
      "text/plain": [
       "        Variável  Shapiro_p Normal_Shapiro  DAgostino_p  Normal_DAgostino\n",
       "0            Ano        NaN            N/A         0.00             False\n",
       "1  Quilometragem        NaN            N/A         0.00             False\n",
       "2         Portas        NaN            N/A         0.00             False\n",
       "3    Valor_Venda        NaN            N/A         0.00             False"
      ]
     },
     "metadata": {},
     "output_type": "display_data"
    }
   ],
   "source": [
    "# Testes de normalidade\n",
    "print(\"=== TESTES DE NORMALIDADE ===\")\n",
    "normality_results = []\n",
    "\n",
    "for col in numeric_cols:\n",
    "    # Teste de Shapiro-Wilk (para amostras pequenas)\n",
    "    if len(df[col].dropna()) <= 5000:\n",
    "        stat_sw, p_sw = shapiro(df[col].dropna().sample(min(5000, len(df[col].dropna()))))\n",
    "        is_normal_sw = p_sw > 0.05\n",
    "    else:\n",
    "        stat_sw, p_sw, is_normal_sw = np.nan, np.nan, \"N/A\"\n",
    "    \n",
    "    # Teste de D'Agostino-Pearson\n",
    "    stat_dp, p_dp = normaltest(df[col].dropna())\n",
    "    is_normal_dp = p_dp > 0.05\n",
    "    \n",
    "    normality_results.append({\n",
    "        'Variável': col,\n",
    "        'Shapiro_p': p_sw,\n",
    "        'Normal_Shapiro': is_normal_sw,\n",
    "        'DAgostino_p': p_dp,\n",
    "        'Normal_DAgostino': is_normal_dp\n",
    "    })\n",
    "\n",
    "normality_df = pd.DataFrame(normality_results)\n",
    "display(normality_df)"
   ]
  },
  {
   "cell_type": "code",
   "execution_count": 29,
   "metadata": {},
   "outputs": [
    {
     "name": "stdout",
     "output_type": "stream",
     "text": [
      "=== ANÁLISE DE VARIÁVEIS CATEGÓRICAS (5 variáveis) ===\n",
      "Variáveis: ['Marca', 'Modelo', 'Cor', 'Cambio', 'Combustivel']\n",
      "\n",
      " MARCA:\n",
      "  Valores únicos: 10\n",
      "  Valor mais frequente: Volkswagen (1053 ocorrências)\n",
      "  Top 5 valores:\n",
      "    1. Volkswagen: 1053 (10.5%)\n",
      "    2. Nissan: 1034 (10.3%)\n",
      "    3. Honda: 1021 (10.2%)\n",
      "    4. Ford: 1017 (10.2%)\n",
      "    5. Fiat: 996 (10.0%)\n",
      "\n",
      " MODELO:\n",
      "  Valores únicos: 32\n",
      "  Valor mais frequente: Compass (493 ocorrências)\n",
      "  Top 5 valores:\n",
      "    1. Compass: 493 (4.9%)\n",
      "    2. Renegade: 474 (4.7%)\n",
      "    3. Frontier: 363 (3.6%)\n",
      "    4. Kicks: 358 (3.6%)\n",
      "    5. Duster: 355 (3.5%)\n",
      "\n",
      " COR:\n",
      "  Valores únicos: 6\n",
      "  Valor mais frequente: Azul (1739 ocorrências)\n",
      "  Top 5 valores:\n",
      "    1. Azul: 1739 (17.4%)\n",
      "    2. Cinza: 1720 (17.2%)\n",
      "    3. Preto: 1700 (17.0%)\n",
      "    4. Branco: 1652 (16.5%)\n",
      "    5. Vermelho: 1599 (16.0%)\n",
      "\n",
      " CAMBIO:\n",
      "  Valores únicos: 2\n",
      "  Valor mais frequente: Automático (5051 ocorrências)\n",
      "  Top 5 valores:\n",
      "    1. Automático: 5051 (50.5%)\n",
      "    2. Manual: 4949 (49.5%)\n",
      "\n",
      " COMBUSTIVEL:\n",
      "  Valores únicos: 3\n",
      "  Valor mais frequente: Flex (3353 ocorrências)\n",
      "  Top 5 valores:\n",
      "    1. Flex: 3353 (33.5%)\n",
      "    2. Diesel: 3328 (33.3%)\n",
      "    3. Gasolina: 3319 (33.2%)\n"
     ]
    }
   ],
   "source": [
    "# Análise de variáveis categóricas\n",
    "print(f\"=== ANÁLISE DE VARIÁVEIS CATEGÓRICAS ({len(categorical_cols)} variáveis) ===\")\n",
    "print(f\"Variáveis: {categorical_cols}\")\n",
    "\n",
    "for col in categorical_cols:\n",
    "    print(f\"\\n {col.upper()}:\")\n",
    "    value_counts = df[col].value_counts()\n",
    "    print(f\"  Valores únicos: {df[col].nunique()}\")\n",
    "    print(f\"  Valor mais frequente: {value_counts.index[0]} ({value_counts.iloc[0]} ocorrências)\")\n",
    "    print(f\"  Top 5 valores:\")\n",
    "    for idx, (value, count) in enumerate(value_counts.head(5).items()):\n",
    "        percentage = (count / len(df)) * 100\n",
    "        print(f\"    {idx+1}. {value}: {count} ({percentage:.1f}%)\")"
   ]
  },
  {
   "cell_type": "markdown",
   "metadata": {},
   "source": [
    "## 5. Análise da Variável Target (Valor_Venda)"
   ]
  },
  {
   "cell_type": "code",
   "execution_count": 30,
   "metadata": {},
   "outputs": [
    {
     "name": "stdout",
     "output_type": "stream",
     "text": [
      "=== ANÁLISE DETALHADA DA VARIÁVEL TARGET: Valor_Venda ===\n",
      " Estatísticas Centrais:\n",
      "  Média: R$ 83,097.49\n",
      "  Mediana: R$ 58,905.70\n",
      "  Diferença Média-Mediana: R$ 24,191.79\n",
      "  Desvio Padrão: R$ 166,858.22\n",
      "  Coeficiente de Variação: 200.8%\n",
      "\n",
      " Extremos:\n",
      "  Valor Mínimo: R$ 10,000.00\n",
      "  Valor Máximo: R$ 1,241,962.00\n",
      "  Amplitude: R$ 1,231,962.00\n",
      "\n",
      " Distribuição (Quartis):\n",
      "  Q1 (25%): R$ 44,467.05\n",
      "  Q2 (50%): R$ 58,905.70\n",
      "  Q3 (75%): R$ 74,804.40\n",
      "\n",
      " Percentis Específicos:\n",
      "  P10: R$ 33,032.66\n",
      "  P90: R$ 90,299.10\n",
      "  P95: R$ 100,878.67\n",
      "  P99: R$ 1,241,962.00\n"
     ]
    }
   ],
   "source": [
    "# Análise profunda da variável target\n",
    "target = 'Valor_Venda'\n",
    "\n",
    "print(f\"=== ANÁLISE DETALHADA DA VARIÁVEL TARGET: {target} ===\")\n",
    "\n",
    "# Estatísticas centrais\n",
    "mean_price = df[target].mean()\n",
    "median_price = df[target].median()\n",
    "std_price = df[target].std()\n",
    "min_price = df[target].min()\n",
    "max_price = df[target].max()\n",
    "\n",
    "print(f\" Estatísticas Centrais:\")\n",
    "print(f\"  Média: R$ {mean_price:,.2f}\")\n",
    "print(f\"  Mediana: R$ {median_price:,.2f}\")\n",
    "print(f\"  Diferença Média-Mediana: R$ {abs(mean_price - median_price):,.2f}\")\n",
    "print(f\"  Desvio Padrão: R$ {std_price:,.2f}\")\n",
    "print(f\"  Coeficiente de Variação: {(std_price/mean_price)*100:.1f}%\")\n",
    "\n",
    "print(f\"\\n Extremos:\")\n",
    "print(f\"  Valor Mínimo: R$ {min_price:,.2f}\")\n",
    "print(f\"  Valor Máximo: R$ {max_price:,.2f}\")\n",
    "print(f\"  Amplitude: R$ {max_price - min_price:,.2f}\")\n",
    "\n",
    "# Quartis e percentis\n",
    "print(f\"\\n Distribuição (Quartis):\")\n",
    "quartiles = df[target].quantile([0.25, 0.5, 0.75])\n",
    "for q, value in quartiles.items():\n",
    "    print(f\"  Q{int(q*4)} ({q*100:.0f}%): R$ {value:,.2f}\")\n",
    "\n",
    "print(f\"\\n Percentis Específicos:\")\n",
    "percentiles = [0.1, 0.9, 0.95, 0.99]\n",
    "for p in percentiles:\n",
    "    value = df[target].quantile(p)\n",
    "    print(f\"  P{int(p*100)}: R$ {value:,.2f}\")"
   ]
  },
  {
   "cell_type": "code",
   "execution_count": 31,
   "metadata": {},
   "outputs": [
    {
     "data": {
      "image/png": "[encoded data removed]",
      "text/plain": [
       "<Figure size 1600x1200 with 4 Axes>"
      ]
     },
     "metadata": {},
     "output_type": "display_data"
    },
    {
     "name": "stdout",
     "output_type": "stream",
     "text": [
      "\n",
      " Características da Distribuição:\n",
      "  Assimetria: 6.693 (Positiva - cauda à direita)\n",
      "  Curtose: 43.568 (Leptocúrtica - mais pontiaguda)\n"
     ]
    }
   ],
   "source": [
    "# Visualização da distribuição da variável target\n",
    "fig, axes = plt.subplots(2, 2, figsize=(16, 12))\n",
    "fig.suptitle(f'Análise Distribucional: {target}', fontsize=16, fontweight='bold')\n",
    "\n",
    "# Histograma\n",
    "axes[0,0].hist(df[target], bins=50, alpha=0.7, color='skyblue', edgecolor='black')\n",
    "axes[0,0].axvline(mean_price, color='red', linestyle='--', label=f'Média: R${mean_price:,.0f}')\n",
    "axes[0,0].axvline(median_price, color='green', linestyle='--', label=f'Mediana: R${median_price:,.0f}')\n",
    "axes[0,0].set_title('Distribuição dos Preços')\n",
    "axes[0,0].set_xlabel('Valor de Venda (R$)')\n",
    "axes[0,0].set_ylabel('Frequência')\n",
    "axes[0,0].legend()\n",
    "axes[0,0].grid(True, alpha=0.3)\n",
    "\n",
    "# Boxplot\n",
    "bp = axes[0,1].boxplot(df[target], patch_artist=True)\n",
    "bp['boxes'][0].set_facecolor('lightblue')\n",
    "axes[0,1].set_title('Boxplot dos Preços')\n",
    "axes[0,1].set_ylabel('Valor de Venda (R$)')\n",
    "axes[0,1].grid(True, alpha=0.3)\n",
    "\n",
    "# Q-Q Plot\n",
    "stats.probplot(df[target], dist=\"norm\", plot=axes[1,0])\n",
    "axes[1,0].set_title('Q-Q Plot (Normalidade)')\n",
    "axes[1,0].grid(True, alpha=0.3)\n",
    "\n",
    "# Distribuição log-transformada\n",
    "log_prices = np.log1p(df[target])  # log(1+x) para evitar log(0)\n",
    "axes[1,1].hist(log_prices, bins=50, alpha=0.7, color='orange', edgecolor='black')\n",
    "axes[1,1].set_title('Distribuição Log-Transformada')\n",
    "axes[1,1].set_xlabel('log(1 + Valor_Venda)')\n",
    "axes[1,1].set_ylabel('Frequência')\n",
    "axes[1,1].grid(True, alpha=0.3)\n",
    "\n",
    "plt.tight_layout()\n",
    "plt.show()\n",
    "\n",
    "# Análise de assimetria e curtose\n",
    "skewness = df[target].skew()\n",
    "kurt = df[target].kurtosis()\n",
    "\n",
    "print(f\"\\n Características da Distribuição:\")\n",
    "print(f\"  Assimetria: {skewness:.3f} {'(Positiva - cauda à direita)' if skewness > 0 else '(Negativa - cauda à esquerda)' if skewness < 0 else '(Simétrica)'}\")\n",
    "print(f\"  Curtose: {kurt:.3f} {'(Leptocúrtica - mais pontiaguda)' if kurt > 0 else '(Platicúrtica - mais achatada)' if kurt < 0 else '(Mesocúrtica - normal)'}\")"
   ]
  },
  {
   "cell_type": "markdown",
   "metadata": {},
   "source": [
    "## 6. Análise de Outliers Multicamada"
   ]
  },
  {
   "cell_type": "code",
   "execution_count": 32,
   "metadata": {},
   "outputs": [
    {
     "name": "stdout",
     "output_type": "stream",
     "text": [
      "=== ANÁLISE DE OUTLIERS MULTICAMADA ===\n"
     ]
    },
    {
     "data": {
      "text/html": [
       "<div>\n",
       "<style scoped>\n",
       "    .dataframe tbody tr th:only-of-type {\n",
       "        vertical-align: middle;\n",
       "    }\n",
       "\n",
       "    .dataframe tbody tr th {\n",
       "        vertical-align: top;\n",
       "    }\n",
       "\n",
       "    .dataframe thead th {\n",
       "        text-align: right;\n",
       "    }\n",
       "</style>\n",
       "<table border=\"1\" class=\"dataframe\">\n",
       "  <thead>\n",
       "    <tr style=\"text-align: right;\">\n",
       "      <th></th>\n",
       "      <th>Variável</th>\n",
       "      <th>Z-Score</th>\n",
       "      <th>IQR</th>\n",
       "      <th>Isolation_Forest</th>\n",
       "      <th>Z-Score_%</th>\n",
       "      <th>IQR_%</th>\n",
       "      <th>Isolation_%</th>\n",
       "    </tr>\n",
       "  </thead>\n",
       "  <tbody>\n",
       "    <tr>\n",
       "      <th>0</th>\n",
       "      <td>Ano</td>\n",
       "      <td>0</td>\n",
       "      <td>0</td>\n",
       "      <td>814</td>\n",
       "      <td>0.00</td>\n",
       "      <td>0.00</td>\n",
       "      <td>8.22</td>\n",
       "    </tr>\n",
       "    <tr>\n",
       "      <th>1</th>\n",
       "      <td>Quilometragem</td>\n",
       "      <td>0</td>\n",
       "      <td>0</td>\n",
       "      <td>990</td>\n",
       "      <td>0.00</td>\n",
       "      <td>0.00</td>\n",
       "      <td>10.00</td>\n",
       "    </tr>\n",
       "    <tr>\n",
       "      <th>2</th>\n",
       "      <td>Portas</td>\n",
       "      <td>0</td>\n",
       "      <td>0</td>\n",
       "      <td>0</td>\n",
       "      <td>0.00</td>\n",
       "      <td>0.00</td>\n",
       "      <td>0.00</td>\n",
       "    </tr>\n",
       "    <tr>\n",
       "      <th>3</th>\n",
       "      <td>Valor_Venda</td>\n",
       "      <td>200</td>\n",
       "      <td>217</td>\n",
       "      <td>996</td>\n",
       "      <td>2.00</td>\n",
       "      <td>2.17</td>\n",
       "      <td>9.96</td>\n",
       "    </tr>\n",
       "  </tbody>\n",
       "</table>\n",
       "</div>"
      ],
      "text/plain": [
       "        Variável  Z-Score  IQR  Isolation_Forest  Z-Score_%  IQR_%  \\\n",
       "0            Ano        0    0               814       0.00   0.00   \n",
       "1  Quilometragem        0    0               990       0.00   0.00   \n",
       "2         Portas        0    0                 0       0.00   0.00   \n",
       "3    Valor_Venda      200  217               996       2.00   2.17   \n",
       "\n",
       "   Isolation_%  \n",
       "0         8.22  \n",
       "1        10.00  \n",
       "2         0.00  \n",
       "3         9.96  "
      ]
     },
     "metadata": {},
     "output_type": "display_data"
    }
   ],
   "source": [
    "# Detecção de outliers usando múltiplos métodos\n",
    "print(\"=== ANÁLISE DE OUTLIERS MULTICAMADA ===\")\n",
    "\n",
    "def detect_outliers_zscore(data, threshold=3):\n",
    "    \"\"\"Detecção usando Z-score\"\"\"\n",
    "    z_scores = np.abs(stats.zscore(data.dropna()))\n",
    "    return data[z_scores > threshold]\n",
    "\n",
    "def detect_outliers_iqr(data, factor=1.5):\n",
    "    \"\"\"Detecção usando IQR\"\"\"\n",
    "    Q1 = data.quantile(0.25)\n",
    "    Q3 = data.quantile(0.75)\n",
    "    IQR = Q3 - Q1\n",
    "    lower_bound = Q1 - factor * IQR\n",
    "    upper_bound = Q3 + factor * IQR\n",
    "    return data[(data < lower_bound) | (data > upper_bound)]\n",
    "\n",
    "def detect_outliers_isolation_forest(data, contamination=0.1):\n",
    "    \"\"\"Detecção usando Isolation Forest\"\"\"\n",
    "    iso_forest = IsolationForest(contamination=contamination, random_state=42)\n",
    "    outlier_labels = iso_forest.fit_predict(data.values.reshape(-1, 1))\n",
    "    return data[outlier_labels == -1]\n",
    "\n",
    "# Análise para cada variável numérica\n",
    "outlier_summary = []\n",
    "\n",
    "for col in numeric_cols:\n",
    "    data = df[col].dropna()\n",
    "    \n",
    "    # Métodos de detecção\n",
    "    outliers_zscore = detect_outliers_zscore(data)\n",
    "    outliers_iqr = detect_outliers_iqr(data)\n",
    "    outliers_iso = detect_outliers_isolation_forest(data)\n",
    "    \n",
    "    outlier_summary.append({\n",
    "        'Variável': col,\n",
    "        'Z-Score': len(outliers_zscore),\n",
    "        'IQR': len(outliers_iqr),\n",
    "        'Isolation_Forest': len(outliers_iso),\n",
    "        'Z-Score_%': (len(outliers_zscore) / len(data)) * 100,\n",
    "        'IQR_%': (len(outliers_iqr) / len(data)) * 100,\n",
    "        'Isolation_%': (len(outliers_iso) / len(data)) * 100\n",
    "    })\n",
    "\n",
    "outlier_df = pd.DataFrame(outlier_summary)\n",
    "display(outlier_df.round(2))"
   ]
  },
  {
   "cell_type": "code",
   "execution_count": 33,
   "metadata": {},
   "outputs": [
    {
     "data": {
      "image/png": "[encoded data removed]",
      "text/plain": [
       "<Figure size 1600x1200 with 5 Axes>"
      ]
     },
     "metadata": {},
     "output_type": "display_data"
    }
   ],
   "source": [
    "# Visualização de outliers para variáveis principais\n",
    "fig, axes = plt.subplots(2, 2, figsize=(16, 12))\n",
    "fig.suptitle('Análise Visual de Outliers', fontsize=16, fontweight='bold')\n",
    "\n",
    "main_vars = ['Valor_Venda', 'Quilometragem', 'Ano']\n",
    "\n",
    "for i, var in enumerate(main_vars[:3]):\n",
    "    row = i // 2\n",
    "    col = i % 2\n",
    "    \n",
    "    # Boxplot\n",
    "    bp = axes[row, col].boxplot(df[var], patch_artist=True)\n",
    "    bp['boxes'][0].set_facecolor('lightcoral')\n",
    "    axes[row, col].set_title(f'Outliers: {var}')\n",
    "    axes[row, col].set_ylabel(var)\n",
    "    axes[row, col].grid(True, alpha=0.3)\n",
    "\n",
    "# Scatter plot multivariado para detectar outliers\n",
    "axes[1, 1].scatter(df['Ano'], df['Valor_Venda'], alpha=0.6, c=df['Quilometragem'], cmap='viridis')\n",
    "axes[1, 1].set_xlabel('Ano')\n",
    "axes[1, 1].set_ylabel('Valor_Venda')\n",
    "axes[1, 1].set_title('Outliers Multivariados\\n(cor = Quilometragem)')\n",
    "cbar = plt.colorbar(axes[1, 1].collections[0], ax=axes[1, 1])\n",
    "cbar.set_label('Quilometragem')\n",
    "\n",
    "plt.tight_layout()\n",
    "plt.show()"
   ]
  },
  {
   "cell_type": "markdown",
   "metadata": {},
   "source": [
    "## 7. Análise de Correlações e Padrões"
   ]
  },
  {
   "cell_type": "code",
   "execution_count": 34,
   "metadata": {},
   "outputs": [
    {
     "name": "stdout",
     "output_type": "stream",
     "text": [
      "=== ANÁLISE DE CORRELAÇÕES ===\n"
     ]
    },
    {
     "data": {
      "image/png": "[encoded data removed]",
      "text/plain": [
       "<Figure size 1000x800 with 2 Axes>"
      ]
     },
     "metadata": {},
     "output_type": "display_data"
    },
    {
     "name": "stdout",
     "output_type": "stream",
     "text": [
      "\n",
      " Correlações com Valor_Venda (em ordem decrescente):\n",
      "  Quilometragem: 0.079 (correlação fraca negativa)\n",
      "  Ano: 0.051 (correlação fraca positiva)\n",
      "  Portas: 0.006 (correlação fraca negativa)\n"
     ]
    }
   ],
   "source": [
    "# Matriz de correlação completa\n",
    "print(\"=== ANÁLISE DE CORRELAÇÕES ===\")\n",
    "\n",
    "# Correlação de Pearson\n",
    "correlation_matrix = df[numeric_cols].corr()\n",
    "\n",
    "# Visualização da matriz de correlação\n",
    "plt.figure(figsize=(10, 8))\n",
    "mask = np.triu(np.ones_like(correlation_matrix, dtype=bool))  # Máscara para metade superior\n",
    "sns.heatmap(correlation_matrix, \n",
    "            annot=True, \n",
    "            cmap='RdBu_r', \n",
    "            center=0,\n",
    "            square=True, \n",
    "            linewidths=0.5,\n",
    "            mask=mask,\n",
    "            fmt='.3f')\n",
    "plt.title('Matriz de Correlação (Pearson)', fontsize=14, fontweight='bold')\n",
    "plt.tight_layout()\n",
    "plt.show()\n",
    "\n",
    "# Correlações com a variável target\n",
    "target_corr = correlation_matrix[target].abs().sort_values(ascending=False)\n",
    "print(f\"\\n Correlações com {target} (em ordem decrescente):\")\n",
    "for var, corr in target_corr.items():\n",
    "    if var != target:\n",
    "        direction = \"positiva\" if correlation_matrix[target][var] > 0 else \"negativa\"\n",
    "        strength = \"forte\" if abs(corr) > 0.7 else \"moderada\" if abs(corr) > 0.3 else \"fraca\"\n",
    "        print(f\"  {var}: {corr:.3f} (correlação {strength} {direction})\")"
   ]
  },
  {
   "cell_type": "code",
   "execution_count": 35,
   "metadata": {},
   "outputs": [
    {
     "name": "stdout",
     "output_type": "stream",
     "text": [
      "\n",
      " COMPARAÇÃO: PEARSON vs SPEARMAN\n"
     ]
    },
    {
     "data": {
      "text/html": [
       "<div>\n",
       "<style scoped>\n",
       "    .dataframe tbody tr th:only-of-type {\n",
       "        vertical-align: middle;\n",
       "    }\n",
       "\n",
       "    .dataframe tbody tr th {\n",
       "        vertical-align: top;\n",
       "    }\n",
       "\n",
       "    .dataframe thead th {\n",
       "        text-align: right;\n",
       "    }\n",
       "</style>\n",
       "<table border=\"1\" class=\"dataframe\">\n",
       "  <thead>\n",
       "    <tr style=\"text-align: right;\">\n",
       "      <th></th>\n",
       "      <th>Variável</th>\n",
       "      <th>Pearson</th>\n",
       "      <th>Spearman</th>\n",
       "      <th>Diferença</th>\n",
       "      <th>Não-Linear</th>\n",
       "    </tr>\n",
       "  </thead>\n",
       "  <tbody>\n",
       "    <tr>\n",
       "      <th>0</th>\n",
       "      <td>Ano</td>\n",
       "      <td>0.05</td>\n",
       "      <td>0.46</td>\n",
       "      <td>0.41</td>\n",
       "      <td>Sim</td>\n",
       "    </tr>\n",
       "    <tr>\n",
       "      <th>1</th>\n",
       "      <td>Quilometragem</td>\n",
       "      <td>-0.08</td>\n",
       "      <td>-0.52</td>\n",
       "      <td>0.44</td>\n",
       "      <td>Sim</td>\n",
       "    </tr>\n",
       "    <tr>\n",
       "      <th>2</th>\n",
       "      <td>Portas</td>\n",
       "      <td>-0.01</td>\n",
       "      <td>0.00</td>\n",
       "      <td>0.01</td>\n",
       "      <td>Não</td>\n",
       "    </tr>\n",
       "  </tbody>\n",
       "</table>\n",
       "</div>"
      ],
      "text/plain": [
       "        Variável  Pearson  Spearman  Diferença Não-Linear\n",
       "0            Ano     0.05      0.46       0.41        Sim\n",
       "1  Quilometragem    -0.08     -0.52       0.44        Sim\n",
       "2         Portas    -0.01      0.00       0.01        Não"
      ]
     },
     "metadata": {},
     "output_type": "display_data"
    }
   ],
   "source": [
    "# Correlações não-lineares (Spearman)\n",
    "spearman_corr = df[numeric_cols].corr(method='spearman')\n",
    "\n",
    "# Comparação Pearson vs Spearman\n",
    "print(\"\\n COMPARAÇÃO: PEARSON vs SPEARMAN\")\n",
    "comparison_data = []\n",
    "for var in numeric_cols:\n",
    "    if var != target:\n",
    "        pearson_val = correlation_matrix[target][var]\n",
    "        spearman_val = spearman_corr[target][var]\n",
    "        difference = abs(pearson_val - spearman_val)\n",
    "        \n",
    "        comparison_data.append({\n",
    "            'Variável': var,\n",
    "            'Pearson': pearson_val,\n",
    "            'Spearman': spearman_val,\n",
    "            'Diferença': difference,\n",
    "            'Não-Linear': 'Sim' if difference > 0.1 else 'Não'\n",
    "        })\n",
    "\n",
    "comparison_df = pd.DataFrame(comparison_data)\n",
    "display(comparison_df.round(3))"
   ]
  },
  {
   "cell_type": "code",
   "execution_count": 36,
   "metadata": {},
   "outputs": [
    {
     "name": "stdout",
     "output_type": "stream",
     "text": [
      "\n",
      "🔗 ASSOCIAÇÕES ENTRE VARIÁVEIS CATEGÓRICAS (V de Cramér)\n"
     ]
    },
    {
     "data": {
      "text/html": [
       "<div>\n",
       "<style scoped>\n",
       "    .dataframe tbody tr th:only-of-type {\n",
       "        vertical-align: middle;\n",
       "    }\n",
       "\n",
       "    .dataframe tbody tr th {\n",
       "        vertical-align: top;\n",
       "    }\n",
       "\n",
       "    .dataframe thead th {\n",
       "        text-align: right;\n",
       "    }\n",
       "</style>\n",
       "<table border=\"1\" class=\"dataframe\">\n",
       "  <thead>\n",
       "    <tr style=\"text-align: right;\">\n",
       "      <th></th>\n",
       "      <th>Variável_1</th>\n",
       "      <th>Variável_2</th>\n",
       "      <th>Cramers_V</th>\n",
       "      <th>Força</th>\n",
       "    </tr>\n",
       "  </thead>\n",
       "  <tbody>\n",
       "    <tr>\n",
       "      <th>0</th>\n",
       "      <td>Marca</td>\n",
       "      <td>Modelo</td>\n",
       "      <td>1.00</td>\n",
       "      <td>forte</td>\n",
       "    </tr>\n",
       "    <tr>\n",
       "      <th>5</th>\n",
       "      <td>Modelo</td>\n",
       "      <td>Cambio</td>\n",
       "      <td>0.01</td>\n",
       "      <td>fraca</td>\n",
       "    </tr>\n",
       "    <tr>\n",
       "      <th>1</th>\n",
       "      <td>Marca</td>\n",
       "      <td>Cor</td>\n",
       "      <td>0.00</td>\n",
       "      <td>fraca</td>\n",
       "    </tr>\n",
       "    <tr>\n",
       "      <th>2</th>\n",
       "      <td>Marca</td>\n",
       "      <td>Cambio</td>\n",
       "      <td>0.00</td>\n",
       "      <td>fraca</td>\n",
       "    </tr>\n",
       "    <tr>\n",
       "      <th>3</th>\n",
       "      <td>Marca</td>\n",
       "      <td>Combustivel</td>\n",
       "      <td>0.00</td>\n",
       "      <td>fraca</td>\n",
       "    </tr>\n",
       "    <tr>\n",
       "      <th>4</th>\n",
       "      <td>Modelo</td>\n",
       "      <td>Cor</td>\n",
       "      <td>0.00</td>\n",
       "      <td>fraca</td>\n",
       "    </tr>\n",
       "    <tr>\n",
       "      <th>6</th>\n",
       "      <td>Modelo</td>\n",
       "      <td>Combustivel</td>\n",
       "      <td>0.00</td>\n",
       "      <td>fraca</td>\n",
       "    </tr>\n",
       "    <tr>\n",
       "      <th>7</th>\n",
       "      <td>Cor</td>\n",
       "      <td>Cambio</td>\n",
       "      <td>0.00</td>\n",
       "      <td>fraca</td>\n",
       "    </tr>\n",
       "    <tr>\n",
       "      <th>8</th>\n",
       "      <td>Cor</td>\n",
       "      <td>Combustivel</td>\n",
       "      <td>0.00</td>\n",
       "      <td>fraca</td>\n",
       "    </tr>\n",
       "    <tr>\n",
       "      <th>9</th>\n",
       "      <td>Cambio</td>\n",
       "      <td>Combustivel</td>\n",
       "      <td>0.00</td>\n",
       "      <td>fraca</td>\n",
       "    </tr>\n",
       "  </tbody>\n",
       "</table>\n",
       "</div>"
      ],
      "text/plain": [
       "  Variável_1   Variável_2  Cramers_V  Força\n",
       "0      Marca       Modelo       1.00  forte\n",
       "5     Modelo       Cambio       0.01  fraca\n",
       "1      Marca          Cor       0.00  fraca\n",
       "2      Marca       Cambio       0.00  fraca\n",
       "3      Marca  Combustivel       0.00  fraca\n",
       "4     Modelo          Cor       0.00  fraca\n",
       "6     Modelo  Combustivel       0.00  fraca\n",
       "7        Cor       Cambio       0.00  fraca\n",
       "8        Cor  Combustivel       0.00  fraca\n",
       "9     Cambio  Combustivel       0.00  fraca"
      ]
     },
     "metadata": {},
     "output_type": "display_data"
    }
   ],
   "source": [
    "# Análise de associação para variáveis categóricas (Cramér's V)\n",
    "from scipy.stats import chi2_contingency\n",
    "\n",
    "def cramers_v(x, y):\n",
    "    \"\"\"Calcula o V de Cramér para associação entre variáveis categóricas\"\"\"\n",
    "    confusion_matrix = pd.crosstab(x, y)\n",
    "    chi2 = chi2_contingency(confusion_matrix)[0]\n",
    "    n = confusion_matrix.sum().sum()\n",
    "    phi2 = chi2 / n\n",
    "    r, k = confusion_matrix.shape\n",
    "    phi2corr = max(0, phi2 - ((k-1)*(r-1))/(n-1))\n",
    "    rcorr = r - ((r-1)**2)/(n-1)\n",
    "    kcorr = k - ((k-1)**2)/(n-1)\n",
    "    return np.sqrt(phi2corr / min((kcorr-1), (rcorr-1)))\n",
    "\n",
    "print(\"\\n🔗 ASSOCIAÇÕES ENTRE VARIÁVEIS CATEGÓRICAS (V de Cramér)\")\n",
    "categorical_associations = []\n",
    "\n",
    "for i, var1 in enumerate(categorical_cols):\n",
    "    for var2 in categorical_cols[i+1:]:\n",
    "        try:\n",
    "            cramers = cramers_v(df[var1], df[var2])\n",
    "            strength = \"forte\" if cramers > 0.6 else \"moderada\" if cramers > 0.3 else \"fraca\"\n",
    "            categorical_associations.append({\n",
    "                'Variável_1': var1,\n",
    "                'Variável_2': var2,\n",
    "                'Cramers_V': cramers,\n",
    "                'Força': strength\n",
    "            })\n",
    "        except:\n",
    "            pass\n",
    "\n",
    "if categorical_associations:\n",
    "    assoc_df = pd.DataFrame(categorical_associations).sort_values('Cramers_V', ascending=False)\n",
    "    display(assoc_df.round(3))\n",
    "else:\n",
    "    print(\"Nenhuma associação categórica calculada.\")"
   ]
  },
  {
   "cell_type": "markdown",
   "metadata": {},
   "source": [
    "## 8. Visualizações Profissionais e Interativas"
   ]
  },
  {
   "cell_type": "code",
   "execution_count": 37,
   "metadata": {},
   "outputs": [
    {
     "name": "stdout",
     "output_type": "stream",
     "text": [
      "=== ANÁLISE TEMPORAL: PREÇOS POR ANO ===\n"
     ]
    },
    {
     "data": {
      "application/vnd.plotly.v1+json": {
       "config": {
        "plotlyServerURL": "https://plot.ly"
       },
       "data": [
        {
         "line": {
          "color": "blue",
          "width": 3
         },
         "mode": "lines+markers",
         "name": "Preço Médio",
         "type": "scatter",
         "x": {
          "bdata": "AAAAAABAn0AAAAAAAESfQAAAAAAASJ9AAAAAAABMn0AAAAAAAFCfQAAAAAAAVJ9AAAAAAABYn0AAAAAAAFyfQAAAAAAAYJ9AAAAAAABkn0AAAAAAAGifQAAAAAAAbJ9AAAAAAABwn0AAAAAAAHSfQAAAAAAAeJ9AAAAAAAB8n0AAAAAAAICfQAAAAAAAhJ9AAAAAAACIn0AAAAAAAIyfQAAAAAAAkJ9AAAAAAACUn0AAAAAAAJifQAAAAAAAnJ9A",
          "dtype": "f8"
         },
         "xaxis": "x",
         "y": {
          "bdata": "XI/C9cRk8EAK16NwITXxQJqZmZkZf+5ACtejcD1D7UAAAAAAPCz2QD0K16PogfNAXI/C9QBL80AAAAAAkD3yQIXrUbhmx/FAPQrXoyxQ9EBI4XoUWp31QFK4HoX/O/RAuB6F61nz9EApXI/CGd/0QOxRuB69TPZACtejcEXx9EC4HoXr6RP2QM3MzMzEPfRA9ihcj0Yb90AK16NwhbL3QJqZmZmxRPdAXI/C9bj99EA9CtejAG72QOF6FK4nLfhA",
          "dtype": "f8"
         },
         "yaxis": "y"
        },
        {
         "marker": {
          "color": "green"
         },
         "name": "Volume",
         "type": "bar",
         "x": {
          "bdata": "AAAAAABAn0AAAAAAAESfQAAAAAAASJ9AAAAAAABMn0AAAAAAAFCfQAAAAAAAVJ9AAAAAAABYn0AAAAAAAFyfQAAAAAAAYJ9AAAAAAABkn0AAAAAAAGifQAAAAAAAbJ9AAAAAAABwn0AAAAAAAHSfQAAAAAAAeJ9AAAAAAAB8n0AAAAAAAICfQAAAAAAAhJ9AAAAAAACIn0AAAAAAAIyfQAAAAAAAkJ9AAAAAAACUn0AAAAAAAJifQAAAAAAAnJ9A",
          "dtype": "f8"
         },
         "xaxis": "x2",
         "y": {
          "bdata": "lAGiAY0BtQGOAZABsQGTAX8BpAGZAZsBpgGgAaYBwAGdAZsBqAGUAX0BqQGbAZoB",
          "dtype": "i2"
         },
         "yaxis": "y2"
        },
        {
         "line": {
          "color": "orange",
          "width": 2
         },
         "mode": "lines+markers",
         "name": "Desvio Padrão",
         "type": "scatter",
         "x": {
          "bdata": "AAAAAABAn0AAAAAAAESfQAAAAAAASJ9AAAAAAABMn0AAAAAAAFCfQAAAAAAAVJ9AAAAAAABYn0AAAAAAAFyfQAAAAAAAYJ9AAAAAAABkn0AAAAAAAGifQAAAAAAAbJ9AAAAAAABwn0AAAAAAAHSfQAAAAAAAeJ9AAAAAAAB8n0AAAAAAAICfQAAAAAAAhJ9AAAAAAACIn0AAAAAAAIyfQAAAAAAAkJ9AAAAAAACUn0AAAAAAAJifQAAAAAAAnJ9A",
          "dtype": "f8"
         },
         "xaxis": "x3",
         "y": {
          "bdata": "CtejcNuCBEFxPQrXsVgFQR+F61Ec/wFBKVyPwnle/0AAAAAAsvUKQfYoXI/u3AZBUrgehdv0BUGuR+F6TGoEQcP1KFwtKgJBuB6F6785BkFSuB6F64kHQTMzMzN3FARBpHA9CpP5BEGF61G42CIFQdejcD28BQZBFK5H4YwwA0EUrkfhABwFQRSuR+GOx/9AmpmZmavFBEFmZmZm6jwFQfYoXI/EowRB16NwPdbz+0DD9ShcdT8BQR+F61FY1gNB",
          "dtype": "f8"
         },
         "yaxis": "y3"
        },
        {
         "line": {
          "color": "red",
          "width": 2
         },
         "mode": "lines+markers",
         "name": "Amplitude",
         "type": "scatter",
         "x": {
          "bdata": "AAAAAABAn0AAAAAAAESfQAAAAAAASJ9AAAAAAABMn0AAAAAAAFCfQAAAAAAAVJ9AAAAAAABYn0AAAAAAAFyfQAAAAAAAYJ9AAAAAAABkn0AAAAAAAGifQAAAAAAAbJ9AAAAAAABwn0AAAAAAAHSfQAAAAAAAeJ9AAAAAAAB8n0AAAAAAAICfQAAAAAAAhJ9AAAAAAACIn0AAAAAAAIyfQAAAAAAAkJ9AAAAAAACUn0AAAAAAAJifQAAAAAAAnJ9A",
          "dtype": "f8"
         },
         "xaxis": "x4",
         "y": {
          "bdata": "AAAAAFrMMkEAAAAAWswyQQAAAABazDJBAAAAAFrMMkEAAAAAy8kyQZqZmZkeyjJBMzMzM8C7MkFmZmZmxbkyQWZmZmartDJBzczMzAaqMkEzMzMzhZ8yQZqZmZmInjJBMzMzM+KZMkGamZmZ/JMyQZqZmZnzljJBmpmZmdSQMkGamZmZLIUyQZqZmZnyeTJBmpmZmcJ1MkFmZmZmVWwyQTMzMzOjcjJBZmZmZlpoMkGamZmZJloyQZqZmZn2WDJB",
          "dtype": "f8"
         },
         "yaxis": "y4"
        }
       ],
       "layout": {
        "annotations": [
         {
          "font": {
           "size": 16
          },
          "showarrow": false,
          "text": "Preço Médio por Ano",
          "x": 0.225,
          "xanchor": "center",
          "xref": "paper",
          "y": 1,
          "yanchor": "bottom",
          "yref": "paper"
         },
         {
          "font": {
           "size": 16
          },
          "showarrow": false,
          "text": "Volume de Vendas por Ano",
          "x": 0.775,
          "xanchor": "center",
          "xref": "paper",
          "y": 1,
          "yanchor": "bottom",
          "yref": "paper"
         },
         {
          "font": {
           "size": 16
          },
          "showarrow": false,
          "text": "Variabilidade (Desvio Padrão)",
          "x": 0.225,
          "xanchor": "center",
          "xref": "paper",
          "y": 0.375,
          "yanchor": "bottom",
          "yref": "paper"
         },
         {
          "font": {
           "size": 16
          },
          "showarrow": false,
          "text": "Amplitude de Preços",
          "x": 0.775,
          "xanchor": "center",
          "xref": "paper",
          "y": 0.375,
          "yanchor": "bottom",
          "yref": "paper"
         }
        ],
        "height": 700,
        "template": {
         "data": {
          "bar": [
           {
            "error_x": {
             "color": "#2a3f5f"
            },
            "error_y": {
             "color": "#2a3f5f"
            },
            "marker": {
             "line": {
              "color": "white",
              "width": 0.5
             },
             "pattern": {
              "fillmode": "overlay",
              "size": 10,
              "solidity": 0.2
             }
            },
            "type": "bar"
           }
          ],
          "barpolar": [
           {
            "marker": {
             "line": {
              "color": "white",
              "width": 0.5
             },
             "pattern": {
              "fillmode": "overlay",
              "size": 10,
              "solidity": 0.2
             }
            },
            "type": "barpolar"
           }
          ],
          "carpet": [
           {
            "aaxis": {
             "endlinecolor": "#2a3f5f",
             "gridcolor": "#C8D4E3",
             "linecolor": "#C8D4E3",
             "minorgridcolor": "#C8D4E3",
             "startlinecolor": "#2a3f5f"
            },
            "baxis": {
             "endlinecolor": "#2a3f5f",
             "gridcolor": "#C8D4E3",
             "linecolor": "#C8D4E3",
             "minorgridcolor": "#C8D4E3",
             "startlinecolor": "#2a3f5f"
            },
            "type": "carpet"
           }
          ],
          "choropleth": [
           {
            "colorbar": {
             "outlinewidth": 0,
             "ticks": ""
            },
            "type": "choropleth"
           }
          ],
          "contour": [
           {
            "colorbar": {
             "outlinewidth": 0,
             "ticks": ""
            },
            "colorscale": [
             [
              0,
              "#0d0887"
             ],
             [
              0.1111111111111111,
              "#46039f"
             ],
             [
              0.2222222222222222,
              "#7201a8"
             ],
             [
              0.3333333333333333,
              "#9c179e"
             ],
             [
              0.4444444444444444,
              "#bd3786"
             ],
             [
              0.5555555555555556,
              "#d8576b"
             ],
             [
              0.6666666666666666,
              "#ed7953"
             ],
             [
              0.7777777777777778,
              "#fb9f3a"
             ],
             [
              0.8888888888888888,
              "#fdca26"
             ],
             [
              1,
              "#f0f921"
             ]
            ],
            "type": "contour"
           }
          ],
          "contourcarpet": [
           {
            "colorbar": {
             "outlinewidth": 0,
             "ticks": ""
            },
            "type": "contourcarpet"
           }
          ],
          "heatmap": [
           {
            "colorbar": {
             "outlinewidth": 0,
             "ticks": ""
            },
            "colorscale": [
             [
              0,
              "#0d0887"
             ],
             [
              0.1111111111111111,
              "#46039f"
             ],
             [
              0.2222222222222222,
              "#7201a8"
             ],
             [
              0.3333333333333333,
              "#9c179e"
             ],
             [
              0.4444444444444444,
              "#bd3786"
             ],
             [
              0.5555555555555556,
              "#d8576b"
             ],
             [
              0.6666666666666666,
              "#ed7953"
             ],
             [
              0.7777777777777778,
              "#fb9f3a"
             ],
             [
              0.8888888888888888,
              "#fdca26"
             ],
             [
              1,
              "#f0f921"
             ]
            ],
            "type": "heatmap"
           }
          ],
          "histogram": [
           {
            "marker": {
             "pattern": {
              "fillmode": "overlay",
              "size": 10,
              "solidity": 0.2
             }
            },
            "type": "histogram"
           }
          ],
          "histogram2d": [
           {
            "colorbar": {
             "outlinewidth": 0,
             "ticks": ""
            },
            "colorscale": [
             [
              0,
              "#0d0887"
             ],
             [
              0.1111111111111111,
              "#46039f"
             ],
             [
              0.2222222222222222,
              "#7201a8"
             ],
             [
              0.3333333333333333,
              "#9c179e"
             ],
             [
              0.4444444444444444,
              "#bd3786"
             ],
             [
              0.5555555555555556,
              "#d8576b"
             ],
             [
              0.6666666666666666,
              "#ed7953"
             ],
             [
              0.7777777777777778,
              "#fb9f3a"
             ],
             [
              0.8888888888888888,
              "#fdca26"
             ],
             [
              1,
              "#f0f921"
             ]
            ],
            "type": "histogram2d"
           }
          ],
          "histogram2dcontour": [
           {
            "colorbar": {
             "outlinewidth": 0,
             "ticks": ""
            },
            "colorscale": [
             [
              0,
              "#0d0887"
             ],
             [
              0.1111111111111111,
              "#46039f"
             ],
             [
              0.2222222222222222,
              "#7201a8"
             ],
             [
              0.3333333333333333,
              "#9c179e"
             ],
             [
              0.4444444444444444,
              "#bd3786"
             ],
             [
              0.5555555555555556,
              "#d8576b"
             ],
             [
              0.6666666666666666,
              "#ed7953"
             ],
             [
              0.7777777777777778,
              "#fb9f3a"
             ],
             [
              0.8888888888888888,
              "#fdca26"
             ],
             [
              1,
              "#f0f921"
             ]
            ],
            "type": "histogram2dcontour"
           }
          ],
          "mesh3d": [
           {
            "colorbar": {
             "outlinewidth": 0,
             "ticks": ""
            },
            "type": "mesh3d"
           }
          ],
          "parcoords": [
           {
            "line": {
             "colorbar": {
              "outlinewidth": 0,
              "ticks": ""
             }
            },
            "type": "parcoords"
           }
          ],
          "pie": [
           {
            "automargin": true,
            "type": "pie"
           }
          ],
          "scatter": [
           {
            "fillpattern": {
             "fillmode": "overlay",
             "size": 10,
             "solidity": 0.2
            },
            "type": "scatter"
           }
          ],
          "scatter3d": [
           {
            "line": {
             "colorbar": {
              "outlinewidth": 0,
              "ticks": ""
             }
            },
            "marker": {
             "colorbar": {
              "outlinewidth": 0,
              "ticks": ""
             }
            },
            "type": "scatter3d"
           }
          ],
          "scattercarpet": [
           {
            "marker": {
             "colorbar": {
              "outlinewidth": 0,
              "ticks": ""
             }
            },
            "type": "scattercarpet"
           }
          ],
          "scattergeo": [
           {
            "marker": {
             "colorbar": {
              "outlinewidth": 0,
              "ticks": ""
             }
            },
            "type": "scattergeo"
           }
          ],
          "scattergl": [
           {
            "marker": {
             "colorbar": {
              "outlinewidth": 0,
              "ticks": ""
             }
            },
            "type": "scattergl"
           }
          ],
          "scattermap": [
           {
            "marker": {
             "colorbar": {
              "outlinewidth": 0,
              "ticks": ""
             }
            },
            "type": "scattermap"
           }
          ],
          "scattermapbox": [
           {
            "marker": {
             "colorbar": {
              "outlinewidth": 0,
              "ticks": ""
             }
            },
            "type": "scattermapbox"
           }
          ],
          "scatterpolar": [
           {
            "marker": {
             "colorbar": {
              "outlinewidth": 0,
              "ticks": ""
             }
            },
            "type": "scatterpolar"
           }
          ],
          "scatterpolargl": [
           {
            "marker": {
             "colorbar": {
              "outlinewidth": 0,
              "ticks": ""
             }
            },
            "type": "scatterpolargl"
           }
          ],
          "scatterternary": [
           {
            "marker": {
             "colorbar": {
              "outlinewidth": 0,
              "ticks": ""
             }
            },
            "type": "scatterternary"
           }
          ],
          "surface": [
           {
            "colorbar": {
             "outlinewidth": 0,
             "ticks": ""
            },
            "colorscale": [
             [
              0,
              "#0d0887"
             ],
             [
              0.1111111111111111,
              "#46039f"
             ],
             [
              0.2222222222222222,
              "#7201a8"
             ],
             [
              0.3333333333333333,
              "#9c179e"
             ],
             [
              0.4444444444444444,
              "#bd3786"
             ],
             [
              0.5555555555555556,
              "#d8576b"
             ],
             [
              0.6666666666666666,
              "#ed7953"
             ],
             [
              0.7777777777777778,
              "#fb9f3a"
             ],
             [
              0.8888888888888888,
              "#fdca26"
             ],
             [
              1,
              "#f0f921"
             ]
            ],
            "type": "surface"
           }
          ],
          "table": [
           {
            "cells": {
             "fill": {
              "color": "#EBF0F8"
             },
             "line": {
              "color": "white"
             }
            },
            "header": {
             "fill": {
              "color": "#C8D4E3"
             },
             "line": {
              "color": "white"
             }
            },
            "type": "table"
           }
          ]
         },
         "layout": {
          "annotationdefaults": {
           "arrowcolor": "#2a3f5f",
           "arrowhead": 0,
           "arrowwidth": 1
          },
          "autotypenumbers": "strict",
          "coloraxis": {
           "colorbar": {
            "outlinewidth": 0,
            "ticks": ""
           }
          },
          "colorscale": {
           "diverging": [
            [
             0,
             "#8e0152"
            ],
            [
             0.1,
             "#c51b7d"
            ],
            [
             0.2,
             "#de77ae"
            ],
            [
             0.3,
             "#f1b6da"
            ],
            [
             0.4,
             "#fde0ef"
            ],
            [
             0.5,
             "#f7f7f7"
            ],
            [
             0.6,
             "#e6f5d0"
            ],
            [
             0.7,
             "#b8e186"
            ],
            [
             0.8,
             "#7fbc41"
            ],
            [
             0.9,
             "#4d9221"
            ],
            [
             1,
             "#276419"
            ]
           ],
           "sequential": [
            [
             0,
             "#0d0887"
            ],
            [
             0.1111111111111111,
             "#46039f"
            ],
            [
             0.2222222222222222,
             "#7201a8"
            ],
            [
             0.3333333333333333,
             "#9c179e"
            ],
            [
             0.4444444444444444,
             "#bd3786"
            ],
            [
             0.5555555555555556,
             "#d8576b"
            ],
            [
             0.6666666666666666,
             "#ed7953"
            ],
            [
             0.7777777777777778,
             "#fb9f3a"
            ],
            [
             0.8888888888888888,
             "#fdca26"
            ],
            [
             1,
             "#f0f921"
            ]
           ],
           "sequentialminus": [
            [
             0,
             "#0d0887"
            ],
            [
             0.1111111111111111,
             "#46039f"
            ],
            [
             0.2222222222222222,
             "#7201a8"
            ],
            [
             0.3333333333333333,
             "#9c179e"
            ],
            [
             0.4444444444444444,
             "#bd3786"
            ],
            [
             0.5555555555555556,
             "#d8576b"
            ],
            [
             0.6666666666666666,
             "#ed7953"
            ],
            [
             0.7777777777777778,
             "#fb9f3a"
            ],
            [
             0.8888888888888888,
             "#fdca26"
            ],
            [
             1,
             "#f0f921"
            ]
           ]
          },
          "colorway": [
           "#636efa",
           "#EF553B",
           "#00cc96",
           "#ab63fa",
           "#FFA15A",
           "#19d3f3",
           "#FF6692",
           "#B6E880",
           "#FF97FF",
           "#FECB52"
          ],
          "font": {
           "color": "#2a3f5f"
          },
          "geo": {
           "bgcolor": "white",
           "lakecolor": "white",
           "landcolor": "white",
           "showlakes": true,
           "showland": true,
           "subunitcolor": "#C8D4E3"
          },
          "hoverlabel": {
           "align": "left"
          },
          "hovermode": "closest",
          "mapbox": {
           "style": "light"
          },
          "paper_bgcolor": "white",
          "plot_bgcolor": "white",
          "polar": {
           "angularaxis": {
            "gridcolor": "#EBF0F8",
            "linecolor": "#EBF0F8",
            "ticks": ""
           },
           "bgcolor": "white",
           "radialaxis": {
            "gridcolor": "#EBF0F8",
            "linecolor": "#EBF0F8",
            "ticks": ""
           }
          },
          "scene": {
           "xaxis": {
            "backgroundcolor": "white",
            "gridcolor": "#DFE8F3",
            "gridwidth": 2,
            "linecolor": "#EBF0F8",
            "showbackground": true,
            "ticks": "",
            "zerolinecolor": "#EBF0F8"
           },
           "yaxis": {
            "backgroundcolor": "white",
            "gridcolor": "#DFE8F3",
            "gridwidth": 2,
            "linecolor": "#EBF0F8",
            "showbackground": true,
            "ticks": "",
            "zerolinecolor": "#EBF0F8"
           },
           "zaxis": {
            "backgroundcolor": "white",
            "gridcolor": "#DFE8F3",
            "gridwidth": 2,
            "linecolor": "#EBF0F8",
            "showbackground": true,
            "ticks": "",
            "zerolinecolor": "#EBF0F8"
           }
          },
          "shapedefaults": {
           "line": {
            "color": "#2a3f5f"
           }
          },
          "ternary": {
           "aaxis": {
            "gridcolor": "#DFE8F3",
            "linecolor": "#A2B1C6",
            "ticks": ""
           },
           "baxis": {
            "gridcolor": "#DFE8F3",
            "linecolor": "#A2B1C6",
            "ticks": ""
           },
           "bgcolor": "white",
           "caxis": {
            "gridcolor": "#DFE8F3",
            "linecolor": "#A2B1C6",
            "ticks": ""
           }
          },
          "title": {
           "x": 0.05
          },
          "xaxis": {
           "automargin": true,
           "gridcolor": "#EBF0F8",
           "linecolor": "#EBF0F8",
           "ticks": "",
           "title": {
            "standoff": 15
           },
           "zerolinecolor": "#EBF0F8",
           "zerolinewidth": 2
          },
          "yaxis": {
           "automargin": true,
           "gridcolor": "#EBF0F8",
           "linecolor": "#EBF0F8",
           "ticks": "",
           "title": {
            "standoff": 15
           },
           "zerolinecolor": "#EBF0F8",
           "zerolinewidth": 2
          }
         }
        },
        "title": {
         "text": "Análise Temporal do Mercado Automotivo"
        },
        "xaxis": {
         "anchor": "y",
         "domain": [
          0,
          0.45
         ]
        },
        "xaxis2": {
         "anchor": "y2",
         "domain": [
          0.55,
          1
         ]
        },
        "xaxis3": {
         "anchor": "y3",
         "domain": [
          0,
          0.45
         ]
        },
        "xaxis4": {
         "anchor": "y4",
         "domain": [
          0.55,
          1
         ]
        },
        "yaxis": {
         "anchor": "x",
         "domain": [
          0.625,
          1
         ]
        },
        "yaxis2": {
         "anchor": "x2",
         "domain": [
          0.625,
          1
         ]
        },
        "yaxis3": {
         "anchor": "x3",
         "domain": [
          0,
          0.375
         ]
        },
        "yaxis4": {
         "anchor": "x4",
         "domain": [
          0,
          0.375
         ]
        }
       }
      }
     },
     "metadata": {},
     "output_type": "display_data"
    },
    {
     "name": "stdout",
     "output_type": "stream",
     "text": [
      "\n",
      " Insights Temporais (últimos 5 anos):\n",
      "  Preço médio mais alto: 99,026.48 (ano 2023.0)\n",
      "  Preço médio mais baixo: 59,929.92 (ano 2003.0)\n",
      "  Maior volume de vendas: 448 (ano 2015.0)\n"
     ]
    }
   ],
   "source": [
    "# Análise temporal dos preços por ano\n",
    "print(\"=== ANÁLISE TEMPORAL: PREÇOS POR ANO ===\")\n",
    "\n",
    "# Estatísticas por ano\n",
    "yearly_stats = df.groupby('Ano')['Valor_Venda'].agg([\n",
    "    'count', 'mean', 'median', 'std', 'min', 'max'\n",
    "]).round(2)\n",
    "\n",
    "# Gráfico interativo com Plotly\n",
    "fig = make_subplots(\n",
    "    rows=2, cols=2,\n",
    "    subplot_titles=('Preço Médio por Ano', 'Volume de Vendas por Ano', \n",
    "                   'Variabilidade (Desvio Padrão)', 'Amplitude de Preços'),\n",
    "    specs=[[{'secondary_y': False}, {'secondary_y': False}],\n",
    "           [{'secondary_y': False}, {'secondary_y': False}]]\n",
    ")\n",
    "\n",
    "# Preço médio\n",
    "fig.add_trace(\n",
    "    go.Scatter(x=yearly_stats.index, y=yearly_stats['mean'],\n",
    "               mode='lines+markers', name='Preço Médio',\n",
    "               line=dict(color='blue', width=3)),\n",
    "    row=1, col=1\n",
    ")\n",
    "\n",
    "# Volume de vendas\n",
    "fig.add_trace(\n",
    "    go.Bar(x=yearly_stats.index, y=yearly_stats['count'],\n",
    "           name='Volume', marker_color='green'),\n",
    "    row=1, col=2\n",
    ")\n",
    "\n",
    "# Variabilidade\n",
    "fig.add_trace(\n",
    "    go.Scatter(x=yearly_stats.index, y=yearly_stats['std'],\n",
    "               mode='lines+markers', name='Desvio Padrão',\n",
    "               line=dict(color='orange', width=2)),\n",
    "    row=2, col=1\n",
    ")\n",
    "\n",
    "# Amplitude\n",
    "amplitude = yearly_stats['max'] - yearly_stats['min']\n",
    "fig.add_trace(\n",
    "    go.Scatter(x=yearly_stats.index, y=amplitude,\n",
    "               mode='lines+markers', name='Amplitude',\n",
    "               line=dict(color='red', width=2)),\n",
    "    row=2, col=2\n",
    ")\n",
    "\n",
    "fig.update_layout(height=700, title_text=\"Análise Temporal do Mercado Automotivo\")\n",
    "fig.show()\n",
    "\n",
    "# Insights temporais\n",
    "current_year = datetime.now().year\n",
    "recent_years = yearly_stats[yearly_stats.index >= current_year - 5]\n",
    "print(f\"\\n Insights Temporais (últimos 5 anos):\")\n",
    "print(f\"  Preço médio mais alto: {yearly_stats['mean'].max():,.2f} (ano {yearly_stats['mean'].idxmax()})\")\n",
    "print(f\"  Preço médio mais baixo: {yearly_stats['mean'].min():,.2f} (ano {yearly_stats['mean'].idxmin()})\")\n",
    "print(f\"  Maior volume de vendas: {yearly_stats['count'].max()} (ano {yearly_stats['count'].idxmax()})\")"
   ]
  },
  {
   "cell_type": "code",
   "execution_count": 38,
   "metadata": {},
   "outputs": [
    {
     "name": "stdout",
     "output_type": "stream",
     "text": [
      "=== ANÁLISE DE MARKET SHARE POR MARCA ===\n"
     ]
    },
    {
     "data": {
      "application/vnd.plotly.v1+json": {
       "config": {
        "plotlyServerURL": "https://plot.ly"
       },
       "data": [
        {
         "branchvalues": "total",
         "customdata": {
          "bdata": "hetRuM498UBcj8L1tNv1QAAAAAA02vVAhetRuPLP8kDD9ShcI6HzQD0K16P47fFAH4XrUaQP80D2KFyPql/xQKRwPQo/nflAcT0K17fK90A=",
          "dtype": "f8",
          "shape": "10, 1"
         },
         "domain": {
          "x": [
           0,
           1
          ],
          "y": [
           0,
           1
          ]
         },
         "hovertemplate": "labels=%{label}<br>Volume=%{value}<br>parent=%{parent}<br>id=%{id}<br>Preco_Medio=%{color}<extra></extra>",
         "ids": [
          "Volkswagen",
          "Nissan",
          "Honda",
          "Ford",
          "Fiat",
          "Renault",
          "Chevrolet",
          "Hyundai",
          "Jeep",
          "Toyota"
         ],
         "labels": [
          "Volkswagen",
          "Nissan",
          "Honda",
          "Ford",
          "Fiat",
          "Renault",
          "Chevrolet",
          "Hyundai",
          "Jeep",
          "Toyota"
         ],
         "marker": {
          "coloraxis": "coloraxis",
          "colors": {
           "bdata": "hetRuM498UBcj8L1tNv1QAAAAAA02vVAhetRuPLP8kDD9ShcI6HzQD0K16P47fFAH4XrUaQP80D2KFyPql/xQKRwPQo/nflAcT0K17fK90A=",
           "dtype": "f8"
          }
         },
         "name": "",
         "parents": [
          "",
          "",
          "",
          "",
          "",
          "",
          "",
          "",
          "",
          ""
         ],
         "type": "treemap",
         "values": {
          "bdata": "AAAAAAB0kEAAAAAAACiQQAAAAAAA6I9AAAAAAADIj0AAAAAAACCPQAAAAAAAEI9AAAAAAADIjkAAAAAAAFiOQAAAAAAAOI5AAAAAAAAQjkA=",
          "dtype": "f8"
         }
        }
       ],
       "layout": {
        "coloraxis": {
         "colorbar": {
          "title": {
           "text": "Preco_Medio"
          }
         },
         "colorscale": [
          [
           0,
           "#440154"
          ],
          [
           0.1111111111111111,
           "#482878"
          ],
          [
           0.2222222222222222,
           "#3e4989"
          ],
          [
           0.3333333333333333,
           "#31688e"
          ],
          [
           0.4444444444444444,
           "#26828e"
          ],
          [
           0.5555555555555556,
           "#1f9e89"
          ],
          [
           0.6666666666666666,
           "#35b779"
          ],
          [
           0.7777777777777778,
           "#6ece58"
          ],
          [
           0.8888888888888888,
           "#b5de2b"
          ],
          [
           1,
           "#fde725"
          ]
         ]
        },
        "height": 600,
        "legend": {
         "tracegroupgap": 0
        },
        "template": {
         "data": {
          "bar": [
           {
            "error_x": {
             "color": "#2a3f5f"
            },
            "error_y": {
             "color": "#2a3f5f"
            },
            "marker": {
             "line": {
              "color": "white",
              "width": 0.5
             },
             "pattern": {
              "fillmode": "overlay",
              "size": 10,
              "solidity": 0.2
             }
            },
            "type": "bar"
           }
          ],
          "barpolar": [
           {
            "marker": {
             "line": {
              "color": "white",
              "width": 0.5
             },
             "pattern": {
              "fillmode": "overlay",
              "size": 10,
              "solidity": 0.2
             }
            },
            "type": "barpolar"
           }
          ],
          "carpet": [
           {
            "aaxis": {
             "endlinecolor": "#2a3f5f",
             "gridcolor": "#C8D4E3",
             "linecolor": "#C8D4E3",
             "minorgridcolor": "#C8D4E3",
             "startlinecolor": "#2a3f5f"
            },
            "baxis": {
             "endlinecolor": "#2a3f5f",
             "gridcolor": "#C8D4E3",
             "linecolor": "#C8D4E3",
             "minorgridcolor": "#C8D4E3",
             "startlinecolor": "#2a3f5f"
            },
            "type": "carpet"
           }
          ],
          "choropleth": [
           {
            "colorbar": {
             "outlinewidth": 0,
             "ticks": ""
            },
            "type": "choropleth"
           }
          ],
          "contour": [
           {
            "colorbar": {
             "outlinewidth": 0,
             "ticks": ""
            },
            "colorscale": [
             [
              0,
              "#0d0887"
             ],
             [
              0.1111111111111111,
              "#46039f"
             ],
             [
              0.2222222222222222,
              "#7201a8"
             ],
             [
              0.3333333333333333,
              "#9c179e"
             ],
             [
              0.4444444444444444,
              "#bd3786"
             ],
             [
              0.5555555555555556,
              "#d8576b"
             ],
             [
              0.6666666666666666,
              "#ed7953"
             ],
             [
              0.7777777777777778,
              "#fb9f3a"
             ],
             [
              0.8888888888888888,
              "#fdca26"
             ],
             [
              1,
              "#f0f921"
             ]
            ],
            "type": "contour"
           }
          ],
          "contourcarpet": [
           {
            "colorbar": {
             "outlinewidth": 0,
             "ticks": ""
            },
            "type": "contourcarpet"
           }
          ],
          "heatmap": [
           {
            "colorbar": {
             "outlinewidth": 0,
             "ticks": ""
            },
            "colorscale": [
             [
              0,
              "#0d0887"
             ],
             [
              0.1111111111111111,
              "#46039f"
             ],
             [
              0.2222222222222222,
              "#7201a8"
             ],
             [
              0.3333333333333333,
              "#9c179e"
             ],
             [
              0.4444444444444444,
              "#bd3786"
             ],
             [
              0.5555555555555556,
              "#d8576b"
             ],
             [
              0.6666666666666666,
              "#ed7953"
             ],
             [
              0.7777777777777778,
              "#fb9f3a"
             ],
             [
              0.8888888888888888,
              "#fdca26"
             ],
             [
              1,
              "#f0f921"
             ]
            ],
            "type": "heatmap"
           }
          ],
          "histogram": [
           {
            "marker": {
             "pattern": {
              "fillmode": "overlay",
              "size": 10,
              "solidity": 0.2
             }
            },
            "type": "histogram"
           }
          ],
          "histogram2d": [
           {
            "colorbar": {
             "outlinewidth": 0,
             "ticks": ""
            },
            "colorscale": [
             [
              0,
              "#0d0887"
             ],
             [
              0.1111111111111111,
              "#46039f"
             ],
             [
              0.2222222222222222,
              "#7201a8"
             ],
             [
              0.3333333333333333,
              "#9c179e"
             ],
             [
              0.4444444444444444,
              "#bd3786"
             ],
             [
              0.5555555555555556,
              "#d8576b"
             ],
             [
              0.6666666666666666,
              "#ed7953"
             ],
             [
              0.7777777777777778,
              "#fb9f3a"
             ],
             [
              0.8888888888888888,
              "#fdca26"
             ],
             [
              1,
              "#f0f921"
             ]
            ],
            "type": "histogram2d"
           }
          ],
          "histogram2dcontour": [
           {
            "colorbar": {
             "outlinewidth": 0,
             "ticks": ""
            },
            "colorscale": [
             [
              0,
              "#0d0887"
             ],
             [
              0.1111111111111111,
              "#46039f"
             ],
             [
              0.2222222222222222,
              "#7201a8"
             ],
             [
              0.3333333333333333,
              "#9c179e"
             ],
             [
              0.4444444444444444,
              "#bd3786"
             ],
             [
              0.5555555555555556,
              "#d8576b"
             ],
             [
              0.6666666666666666,
              "#ed7953"
             ],
             [
              0.7777777777777778,
              "#fb9f3a"
             ],
             [
              0.8888888888888888,
              "#fdca26"
             ],
             [
              1,
              "#f0f921"
             ]
            ],
            "type": "histogram2dcontour"
           }
          ],
          "mesh3d": [
           {
            "colorbar": {
             "outlinewidth": 0,
             "ticks": ""
            },
            "type": "mesh3d"
           }
          ],
          "parcoords": [
           {
            "line": {
             "colorbar": {
              "outlinewidth": 0,
              "ticks": ""
             }
            },
            "type": "parcoords"
           }
          ],
          "pie": [
           {
            "automargin": true,
            "type": "pie"
           }
          ],
          "scatter": [
           {
            "fillpattern": {
             "fillmode": "overlay",
             "size": 10,
             "solidity": 0.2
            },
            "type": "scatter"
           }
          ],
          "scatter3d": [
           {
            "line": {
             "colorbar": {
              "outlinewidth": 0,
              "ticks": ""
             }
            },
            "marker": {
             "colorbar": {
              "outlinewidth": 0,
              "ticks": ""
             }
            },
            "type": "scatter3d"
           }
          ],
          "scattercarpet": [
           {
            "marker": {
             "colorbar": {
              "outlinewidth": 0,
              "ticks": ""
             }
            },
            "type": "scattercarpet"
           }
          ],
          "scattergeo": [
           {
            "marker": {
             "colorbar": {
              "outlinewidth": 0,
              "ticks": ""
             }
            },
            "type": "scattergeo"
           }
          ],
          "scattergl": [
           {
            "marker": {
             "colorbar": {
              "outlinewidth": 0,
              "ticks": ""
             }
            },
            "type": "scattergl"
           }
          ],
          "scattermap": [
           {
            "marker": {
             "colorbar": {
              "outlinewidth": 0,
              "ticks": ""
             }
            },
            "type": "scattermap"
           }
          ],
          "scattermapbox": [
           {
            "marker": {
             "colorbar": {
              "outlinewidth": 0,
              "ticks": ""
             }
            },
            "type": "scattermapbox"
           }
          ],
          "scatterpolar": [
           {
            "marker": {
             "colorbar": {
              "outlinewidth": 0,
              "ticks": ""
             }
            },
            "type": "scatterpolar"
           }
          ],
          "scatterpolargl": [
           {
            "marker": {
             "colorbar": {
              "outlinewidth": 0,
              "ticks": ""
             }
            },
            "type": "scatterpolargl"
           }
          ],
          "scatterternary": [
           {
            "marker": {
             "colorbar": {
              "outlinewidth": 0,
              "ticks": ""
             }
            },
            "type": "scatterternary"
           }
          ],
          "surface": [
           {
            "colorbar": {
             "outlinewidth": 0,
             "ticks": ""
            },
            "colorscale": [
             [
              0,
              "#0d0887"
             ],
             [
              0.1111111111111111,
              "#46039f"
             ],
             [
              0.2222222222222222,
              "#7201a8"
             ],
             [
              0.3333333333333333,
              "#9c179e"
             ],
             [
              0.4444444444444444,
              "#bd3786"
             ],
             [
              0.5555555555555556,
              "#d8576b"
             ],
             [
              0.6666666666666666,
              "#ed7953"
             ],
             [
              0.7777777777777778,
              "#fb9f3a"
             ],
             [
              0.8888888888888888,
              "#fdca26"
             ],
             [
              1,
              "#f0f921"
             ]
            ],
            "type": "surface"
           }
          ],
          "table": [
           {
            "cells": {
             "fill": {
              "color": "#EBF0F8"
             },
             "line": {
              "color": "white"
             }
            },
            "header": {
             "fill": {
              "color": "#C8D4E3"
             },
             "line": {
              "color": "white"
             }
            },
            "type": "table"
           }
          ]
         },
         "layout": {
          "annotationdefaults": {
           "arrowcolor": "#2a3f5f",
           "arrowhead": 0,
           "arrowwidth": 1
          },
          "autotypenumbers": "strict",
          "coloraxis": {
           "colorbar": {
            "outlinewidth": 0,
            "ticks": ""
           }
          },
          "colorscale": {
           "diverging": [
            [
             0,
             "#8e0152"
            ],
            [
             0.1,
             "#c51b7d"
            ],
            [
             0.2,
             "#de77ae"
            ],
            [
             0.3,
             "#f1b6da"
            ],
            [
             0.4,
             "#fde0ef"
            ],
            [
             0.5,
             "#f7f7f7"
            ],
            [
             0.6,
             "#e6f5d0"
            ],
            [
             0.7,
             "#b8e186"
            ],
            [
             0.8,
             "#7fbc41"
            ],
            [
             0.9,
             "#4d9221"
            ],
            [
             1,
             "#276419"
            ]
           ],
           "sequential": [
            [
             0,
             "#0d0887"
            ],
            [
             0.1111111111111111,
             "#46039f"
            ],
            [
             0.2222222222222222,
             "#7201a8"
            ],
            [
             0.3333333333333333,
             "#9c179e"
            ],
            [
             0.4444444444444444,
             "#bd3786"
            ],
            [
             0.5555555555555556,
             "#d8576b"
            ],
            [
             0.6666666666666666,
             "#ed7953"
            ],
            [
             0.7777777777777778,
             "#fb9f3a"
            ],
            [
             0.8888888888888888,
             "#fdca26"
            ],
            [
             1,
             "#f0f921"
            ]
           ],
           "sequentialminus": [
            [
             0,
             "#0d0887"
            ],
            [
             0.1111111111111111,
             "#46039f"
            ],
            [
             0.2222222222222222,
             "#7201a8"
            ],
            [
             0.3333333333333333,
             "#9c179e"
            ],
            [
             0.4444444444444444,
             "#bd3786"
            ],
            [
             0.5555555555555556,
             "#d8576b"
            ],
            [
             0.6666666666666666,
             "#ed7953"
            ],
            [
             0.7777777777777778,
             "#fb9f3a"
            ],
            [
             0.8888888888888888,
             "#fdca26"
            ],
            [
             1,
             "#f0f921"
            ]
           ]
          },
          "colorway": [
           "#636efa",
           "#EF553B",
           "#00cc96",
           "#ab63fa",
           "#FFA15A",
           "#19d3f3",
           "#FF6692",
           "#B6E880",
           "#FF97FF",
           "#FECB52"
          ],
          "font": {
           "color": "#2a3f5f"
          },
          "geo": {
           "bgcolor": "white",
           "lakecolor": "white",
           "landcolor": "white",
           "showlakes": true,
           "showland": true,
           "subunitcolor": "#C8D4E3"
          },
          "hoverlabel": {
           "align": "left"
          },
          "hovermode": "closest",
          "mapbox": {
           "style": "light"
          },
          "paper_bgcolor": "white",
          "plot_bgcolor": "white",
          "polar": {
           "angularaxis": {
            "gridcolor": "#EBF0F8",
            "linecolor": "#EBF0F8",
            "ticks": ""
           },
           "bgcolor": "white",
           "radialaxis": {
            "gridcolor": "#EBF0F8",
            "linecolor": "#EBF0F8",
            "ticks": ""
           }
          },
          "scene": {
           "xaxis": {
            "backgroundcolor": "white",
            "gridcolor": "#DFE8F3",
            "gridwidth": 2,
            "linecolor": "#EBF0F8",
            "showbackground": true,
            "ticks": "",
            "zerolinecolor": "#EBF0F8"
           },
           "yaxis": {
            "backgroundcolor": "white",
            "gridcolor": "#DFE8F3",
            "gridwidth": 2,
            "linecolor": "#EBF0F8",
            "showbackground": true,
            "ticks": "",
            "zerolinecolor": "#EBF0F8"
           },
           "zaxis": {
            "backgroundcolor": "white",
            "gridcolor": "#DFE8F3",
            "gridwidth": 2,
            "linecolor": "#EBF0F8",
            "showbackground": true,
            "ticks": "",
            "zerolinecolor": "#EBF0F8"
           }
          },
          "shapedefaults": {
           "line": {
            "color": "#2a3f5f"
           }
          },
          "ternary": {
           "aaxis": {
            "gridcolor": "#DFE8F3",
            "linecolor": "#A2B1C6",
            "ticks": ""
           },
           "baxis": {
            "gridcolor": "#DFE8F3",
            "linecolor": "#A2B1C6",
            "ticks": ""
           },
           "bgcolor": "white",
           "caxis": {
            "gridcolor": "#DFE8F3",
            "linecolor": "#A2B1C6",
            "ticks": ""
           }
          },
          "title": {
           "x": 0.05
          },
          "xaxis": {
           "automargin": true,
           "gridcolor": "#EBF0F8",
           "linecolor": "#EBF0F8",
           "ticks": "",
           "title": {
            "standoff": 15
           },
           "zerolinecolor": "#EBF0F8",
           "zerolinewidth": 2
          },
          "yaxis": {
           "automargin": true,
           "gridcolor": "#EBF0F8",
           "linecolor": "#EBF0F8",
           "ticks": "",
           "title": {
            "standoff": 15
           },
           "zerolinecolor": "#EBF0F8",
           "zerolinewidth": 2
          }
         }
        },
        "title": {
         "text": "Market Share por Marca (Top 10)"
        }
       }
      }
     },
     "metadata": {},
     "output_type": "display_data"
    },
    {
     "data": {
      "application/vnd.plotly.v1+json": {
       "config": {
        "plotlyServerURL": "https://plot.ly"
       },
       "data": [
        {
         "hovertemplate": "<b>%{hovertext}</b><br><br>Volume=%{x}<br>Preco_Medio=%{y}<br>Market_Share=%{marker.size}<extra></extra>",
         "hovertext": [
          "Volkswagen",
          "Nissan",
          "Honda",
          "Ford",
          "Fiat",
          "Renault",
          "Chevrolet",
          "Hyundai",
          "Jeep",
          "Toyota"
         ],
         "legendgroup": "",
         "marker": {
          "color": "#636efa",
          "size": {
           "bdata": "j8L1KFwPJUCuR+F6FK4kQOxRuB6FayRA16NwPQpXJEDsUbgehesjQOF6FK5H4SNAMzMzMzOzI0DsUbgehWsjQNejcD0KVyNAPQrXo3A9I0A=",
           "dtype": "f8"
          },
          "sizemode": "area",
          "sizeref": 0.026324999999999998,
          "symbol": "circle"
         },
         "mode": "markers",
         "name": "",
         "orientation": "v",
         "showlegend": false,
         "type": "scatter",
         "x": {
          "bdata": "HQQKBP0D+QPkA+ID2QPLA8cDwgM=",
          "dtype": "i2"
         },
         "xaxis": "x",
         "y": {
          "bdata": "hetRuM498UBcj8L1tNv1QAAAAAA02vVAhetRuPLP8kDD9ShcI6HzQD0K16P47fFAH4XrUaQP80D2KFyPql/xQKRwPQo/nflAcT0K17fK90A=",
          "dtype": "f8"
         },
         "yaxis": "y"
        }
       ],
       "layout": {
        "height": 500,
        "legend": {
         "itemsizing": "constant",
         "tracegroupgap": 0
        },
        "template": {
         "data": {
          "bar": [
           {
            "error_x": {
             "color": "#2a3f5f"
            },
            "error_y": {
             "color": "#2a3f5f"
            },
            "marker": {
             "line": {
              "color": "white",
              "width": 0.5
             },
             "pattern": {
              "fillmode": "overlay",
              "size": 10,
              "solidity": 0.2
             }
            },
            "type": "bar"
           }
          ],
          "barpolar": [
           {
            "marker": {
             "line": {
              "color": "white",
              "width": 0.5
             },
             "pattern": {
              "fillmode": "overlay",
              "size": 10,
              "solidity": 0.2
             }
            },
            "type": "barpolar"
           }
          ],
          "carpet": [
           {
            "aaxis": {
             "endlinecolor": "#2a3f5f",
             "gridcolor": "#C8D4E3",
             "linecolor": "#C8D4E3",
             "minorgridcolor": "#C8D4E3",
             "startlinecolor": "#2a3f5f"
            },
            "baxis": {
             "endlinecolor": "#2a3f5f",
             "gridcolor": "#C8D4E3",
             "linecolor": "#C8D4E3",
             "minorgridcolor": "#C8D4E3",
             "startlinecolor": "#2a3f5f"
            },
            "type": "carpet"
           }
          ],
          "choropleth": [
           {
            "colorbar": {
             "outlinewidth": 0,
             "ticks": ""
            },
            "type": "choropleth"
           }
          ],
          "contour": [
           {
            "colorbar": {
             "outlinewidth": 0,
             "ticks": ""
            },
            "colorscale": [
             [
              0,
              "#0d0887"
             ],
             [
              0.1111111111111111,
              "#46039f"
             ],
             [
              0.2222222222222222,
              "#7201a8"
             ],
             [
              0.3333333333333333,
              "#9c179e"
             ],
             [
              0.4444444444444444,
              "#bd3786"
             ],
             [
              0.5555555555555556,
              "#d8576b"
             ],
             [
              0.6666666666666666,
              "#ed7953"
             ],
             [
              0.7777777777777778,
              "#fb9f3a"
             ],
             [
              0.8888888888888888,
              "#fdca26"
             ],
             [
              1,
              "#f0f921"
             ]
            ],
            "type": "contour"
           }
          ],
          "contourcarpet": [
           {
            "colorbar": {
             "outlinewidth": 0,
             "ticks": ""
            },
            "type": "contourcarpet"
           }
          ],
          "heatmap": [
           {
            "colorbar": {
             "outlinewidth": 0,
             "ticks": ""
            },
            "colorscale": [
             [
              0,
              "#0d0887"
             ],
             [
              0.1111111111111111,
              "#46039f"
             ],
             [
              0.2222222222222222,
              "#7201a8"
             ],
             [
              0.3333333333333333,
              "#9c179e"
             ],
             [
              0.4444444444444444,
              "#bd3786"
             ],
             [
              0.5555555555555556,
              "#d8576b"
             ],
             [
              0.6666666666666666,
              "#ed7953"
             ],
             [
              0.7777777777777778,
              "#fb9f3a"
             ],
             [
              0.8888888888888888,
              "#fdca26"
             ],
             [
              1,
              "#f0f921"
             ]
            ],
            "type": "heatmap"
           }
          ],
          "histogram": [
           {
            "marker": {
             "pattern": {
              "fillmode": "overlay",
              "size": 10,
              "solidity": 0.2
             }
            },
            "type": "histogram"
           }
          ],
          "histogram2d": [
           {
            "colorbar": {
             "outlinewidth": 0,
             "ticks": ""
            },
            "colorscale": [
             [
              0,
              "#0d0887"
             ],
             [
              0.1111111111111111,
              "#46039f"
             ],
             [
              0.2222222222222222,
              "#7201a8"
             ],
             [
              0.3333333333333333,
              "#9c179e"
             ],
             [
              0.4444444444444444,
              "#bd3786"
             ],
             [
              0.5555555555555556,
              "#d8576b"
             ],
             [
              0.6666666666666666,
              "#ed7953"
             ],
             [
              0.7777777777777778,
              "#fb9f3a"
             ],
             [
              0.8888888888888888,
              "#fdca26"
             ],
             [
              1,
              "#f0f921"
             ]
            ],
            "type": "histogram2d"
           }
          ],
          "histogram2dcontour": [
           {
            "colorbar": {
             "outlinewidth": 0,
             "ticks": ""
            },
            "colorscale": [
             [
              0,
              "#0d0887"
             ],
             [
              0.1111111111111111,
              "#46039f"
             ],
             [
              0.2222222222222222,
              "#7201a8"
             ],
             [
              0.3333333333333333,
              "#9c179e"
             ],
             [
              0.4444444444444444,
              "#bd3786"
             ],
             [
              0.5555555555555556,
              "#d8576b"
             ],
             [
              0.6666666666666666,
              "#ed7953"
             ],
             [
              0.7777777777777778,
              "#fb9f3a"
             ],
             [
              0.8888888888888888,
              "#fdca26"
             ],
             [
              1,
              "#f0f921"
             ]
            ],
            "type": "histogram2dcontour"
           }
          ],
          "mesh3d": [
           {
            "colorbar": {
             "outlinewidth": 0,
             "ticks": ""
            },
            "type": "mesh3d"
           }
          ],
          "parcoords": [
           {
            "line": {
             "colorbar": {
              "outlinewidth": 0,
              "ticks": ""
             }
            },
            "type": "parcoords"
           }
          ],
          "pie": [
           {
            "automargin": true,
            "type": "pie"
           }
          ],
          "scatter": [
           {
            "fillpattern": {
             "fillmode": "overlay",
             "size": 10,
             "solidity": 0.2
            },
            "type": "scatter"
           }
          ],
          "scatter3d": [
           {
            "line": {
             "colorbar": {
              "outlinewidth": 0,
              "ticks": ""
             }
            },
            "marker": {
             "colorbar": {
              "outlinewidth": 0,
              "ticks": ""
             }
            },
            "type": "scatter3d"
           }
          ],
          "scattercarpet": [
           {
            "marker": {
             "colorbar": {
              "outlinewidth": 0,
              "ticks": ""
             }
            },
            "type": "scattercarpet"
           }
          ],
          "scattergeo": [
           {
            "marker": {
             "colorbar": {
              "outlinewidth": 0,
              "ticks": ""
             }
            },
            "type": "scattergeo"
           }
          ],
          "scattergl": [
           {
            "marker": {
             "colorbar": {
              "outlinewidth": 0,
              "ticks": ""
             }
            },
            "type": "scattergl"
           }
          ],
          "scattermap": [
           {
            "marker": {
             "colorbar": {
              "outlinewidth": 0,
              "ticks": ""
             }
            },
            "type": "scattermap"
           }
          ],
          "scattermapbox": [
           {
            "marker": {
             "colorbar": {
              "outlinewidth": 0,
              "ticks": ""
             }
            },
            "type": "scattermapbox"
           }
          ],
          "scatterpolar": [
           {
            "marker": {
             "colorbar": {
              "outlinewidth": 0,
              "ticks": ""
             }
            },
            "type": "scatterpolar"
           }
          ],
          "scatterpolargl": [
           {
            "marker": {
             "colorbar": {
              "outlinewidth": 0,
              "ticks": ""
             }
            },
            "type": "scatterpolargl"
           }
          ],
          "scatterternary": [
           {
            "marker": {
             "colorbar": {
              "outlinewidth": 0,
              "ticks": ""
             }
            },
            "type": "scatterternary"
           }
          ],
          "surface": [
           {
            "colorbar": {
             "outlinewidth": 0,
             "ticks": ""
            },
            "colorscale": [
             [
              0,
              "#0d0887"
             ],
             [
              0.1111111111111111,
              "#46039f"
             ],
             [
              0.2222222222222222,
              "#7201a8"
             ],
             [
              0.3333333333333333,
              "#9c179e"
             ],
             [
              0.4444444444444444,
              "#bd3786"
             ],
             [
              0.5555555555555556,
              "#d8576b"
             ],
             [
              0.6666666666666666,
              "#ed7953"
             ],
             [
              0.7777777777777778,
              "#fb9f3a"
             ],
             [
              0.8888888888888888,
              "#fdca26"
             ],
             [
              1,
              "#f0f921"
             ]
            ],
            "type": "surface"
           }
          ],
          "table": [
           {
            "cells": {
             "fill": {
              "color": "#EBF0F8"
             },
             "line": {
              "color": "white"
             }
            },
            "header": {
             "fill": {
              "color": "#C8D4E3"
             },
             "line": {
              "color": "white"
             }
            },
            "type": "table"
           }
          ]
         },
         "layout": {
          "annotationdefaults": {
           "arrowcolor": "#2a3f5f",
           "arrowhead": 0,
           "arrowwidth": 1
          },
          "autotypenumbers": "strict",
          "coloraxis": {
           "colorbar": {
            "outlinewidth": 0,
            "ticks": ""
           }
          },
          "colorscale": {
           "diverging": [
            [
             0,
             "#8e0152"
            ],
            [
             0.1,
             "#c51b7d"
            ],
            [
             0.2,
             "#de77ae"
            ],
            [
             0.3,
             "#f1b6da"
            ],
            [
             0.4,
             "#fde0ef"
            ],
            [
             0.5,
             "#f7f7f7"
            ],
            [
             0.6,
             "#e6f5d0"
            ],
            [
             0.7,
             "#b8e186"
            ],
            [
             0.8,
             "#7fbc41"
            ],
            [
             0.9,
             "#4d9221"
            ],
            [
             1,
             "#276419"
            ]
           ],
           "sequential": [
            [
             0,
             "#0d0887"
            ],
            [
             0.1111111111111111,
             "#46039f"
            ],
            [
             0.2222222222222222,
             "#7201a8"
            ],
            [
             0.3333333333333333,
             "#9c179e"
            ],
            [
             0.4444444444444444,
             "#bd3786"
            ],
            [
             0.5555555555555556,
             "#d8576b"
            ],
            [
             0.6666666666666666,
             "#ed7953"
            ],
            [
             0.7777777777777778,
             "#fb9f3a"
            ],
            [
             0.8888888888888888,
             "#fdca26"
            ],
            [
             1,
             "#f0f921"
            ]
           ],
           "sequentialminus": [
            [
             0,
             "#0d0887"
            ],
            [
             0.1111111111111111,
             "#46039f"
            ],
            [
             0.2222222222222222,
             "#7201a8"
            ],
            [
             0.3333333333333333,
             "#9c179e"
            ],
            [
             0.4444444444444444,
             "#bd3786"
            ],
            [
             0.5555555555555556,
             "#d8576b"
            ],
            [
             0.6666666666666666,
             "#ed7953"
            ],
            [
             0.7777777777777778,
             "#fb9f3a"
            ],
            [
             0.8888888888888888,
             "#fdca26"
            ],
            [
             1,
             "#f0f921"
            ]
           ]
          },
          "colorway": [
           "#636efa",
           "#EF553B",
           "#00cc96",
           "#ab63fa",
           "#FFA15A",
           "#19d3f3",
           "#FF6692",
           "#B6E880",
           "#FF97FF",
           "#FECB52"
          ],
          "font": {
           "color": "#2a3f5f"
          },
          "geo": {
           "bgcolor": "white",
           "lakecolor": "white",
           "landcolor": "white",
           "showlakes": true,
           "showland": true,
           "subunitcolor": "#C8D4E3"
          },
          "hoverlabel": {
           "align": "left"
          },
          "hovermode": "closest",
          "mapbox": {
           "style": "light"
          },
          "paper_bgcolor": "white",
          "plot_bgcolor": "white",
          "polar": {
           "angularaxis": {
            "gridcolor": "#EBF0F8",
            "linecolor": "#EBF0F8",
            "ticks": ""
           },
           "bgcolor": "white",
           "radialaxis": {
            "gridcolor": "#EBF0F8",
            "linecolor": "#EBF0F8",
            "ticks": ""
           }
          },
          "scene": {
           "xaxis": {
            "backgroundcolor": "white",
            "gridcolor": "#DFE8F3",
            "gridwidth": 2,
            "linecolor": "#EBF0F8",
            "showbackground": true,
            "ticks": "",
            "zerolinecolor": "#EBF0F8"
           },
           "yaxis": {
            "backgroundcolor": "white",
            "gridcolor": "#DFE8F3",
            "gridwidth": 2,
            "linecolor": "#EBF0F8",
            "showbackground": true,
            "ticks": "",
            "zerolinecolor": "#EBF0F8"
           },
           "zaxis": {
            "backgroundcolor": "white",
            "gridcolor": "#DFE8F3",
            "gridwidth": 2,
            "linecolor": "#EBF0F8",
            "showbackground": true,
            "ticks": "",
            "zerolinecolor": "#EBF0F8"
           }
          },
          "shapedefaults": {
           "line": {
            "color": "#2a3f5f"
           }
          },
          "ternary": {
           "aaxis": {
            "gridcolor": "#DFE8F3",
            "linecolor": "#A2B1C6",
            "ticks": ""
           },
           "baxis": {
            "gridcolor": "#DFE8F3",
            "linecolor": "#A2B1C6",
            "ticks": ""
           },
           "bgcolor": "white",
           "caxis": {
            "gridcolor": "#DFE8F3",
            "linecolor": "#A2B1C6",
            "ticks": ""
           }
          },
          "title": {
           "x": 0.05
          },
          "xaxis": {
           "automargin": true,
           "gridcolor": "#EBF0F8",
           "linecolor": "#EBF0F8",
           "ticks": "",
           "title": {
            "standoff": 15
           },
           "zerolinecolor": "#EBF0F8",
           "zerolinewidth": 2
          },
          "yaxis": {
           "automargin": true,
           "gridcolor": "#EBF0F8",
           "linecolor": "#EBF0F8",
           "ticks": "",
           "title": {
            "standoff": 15
           },
           "zerolinecolor": "#EBF0F8",
           "zerolinewidth": 2
          }
         }
        },
        "title": {
         "text": "Posicionamento de Marcas: Volume vs Preço Médio"
        },
        "xaxis": {
         "anchor": "y",
         "domain": [
          0,
          1
         ],
         "title": {
          "text": "Volume"
         }
        },
        "yaxis": {
         "anchor": "x",
         "domain": [
          0,
          1
         ],
         "title": {
          "text": "Preco_Medio"
         }
        }
       }
      }
     },
     "metadata": {},
     "output_type": "display_data"
    },
    {
     "name": "stdout",
     "output_type": "stream",
     "text": [
      "\n",
      " Top 5 Marcas por Volume:\n",
      "  1. Volkswagen: 1053.0 vendas (10.53% do mercado)\n",
      "  2. Nissan: 1034.0 vendas (10.34% do mercado)\n",
      "  3. Honda: 1021.0 vendas (10.21% do mercado)\n",
      "  4. Ford: 1017.0 vendas (10.17% do mercado)\n",
      "  5. Fiat: 996.0 vendas (9.96% do mercado)\n",
      "\n",
      " Top 5 Marcas por Preço Médio:\n",
      "  1. Jeep: R$ 104,915.94 (médio)\n",
      "  2. Toyota: R$ 97,451.49 (médio)\n",
      "  3. Nissan: R$ 89,531.31 (médio)\n",
      "  4. Honda: R$ 89,507.25 (médio)\n",
      "  5. Fiat: R$ 80,402.21 (médio)\n"
     ]
    }
   ],
   "source": [
    "# Análise de market share por marca\n",
    "print(\"=== ANÁLISE DE MARKET SHARE POR MARCA ===\")\n",
    "\n",
    "brand_analysis = df.groupby('Marca').agg({\n",
    "    'Valor_Venda': ['count', 'mean', 'median', 'std'],\n",
    "    'Quilometragem': 'mean',\n",
    "    'Ano': 'mean'\n",
    "}).round(2)\n",
    "\n",
    "# Flatten column names\n",
    "brand_analysis.columns = ['Volume', 'Preco_Medio', 'Preco_Mediano', 'Desvio_Preco', 'Km_Medio', 'Ano_Medio']\n",
    "brand_analysis['Market_Share'] = (brand_analysis['Volume'] / len(df) * 100).round(2)\n",
    "brand_analysis = brand_analysis.sort_values('Volume', ascending=False)\n",
    "\n",
    "# Top 10 marcas\n",
    "top_brands = brand_analysis.head(10)\n",
    "\n",
    "# Visualização interativa do market share\n",
    "fig = px.treemap(top_brands.reset_index(), \n",
    "                 path=['Marca'], \n",
    "                 values='Volume',\n",
    "                 color='Preco_Medio',\n",
    "                 color_continuous_scale='Viridis',\n",
    "                 title='Market Share por Marca (Top 10)')\n",
    "fig.update_layout(height=600)\n",
    "fig.show()\n",
    "\n",
    "# Gráfico de dispersão: Volume vs Preço Médio\n",
    "fig2 = px.scatter(brand_analysis.reset_index(), \n",
    "                  x='Volume', \n",
    "                  y='Preco_Medio',\n",
    "                  size='Market_Share',\n",
    "                  hover_name='Marca',\n",
    "                  title='Posicionamento de Marcas: Volume vs Preço Médio')\n",
    "fig2.update_layout(height=500)\n",
    "fig2.show()\n",
    "\n",
    "print(f\"\\n Top 5 Marcas por Volume:\")\n",
    "for i, (marca, data) in enumerate(top_brands.head(5).iterrows()):\n",
    "    print(f\"  {i+1}. {marca}: {data['Volume']} vendas ({data['Market_Share']}% do mercado)\")\n",
    "\n",
    "print(f\"\\n Top 5 Marcas por Preço Médio:\")\n",
    "top_price_brands = brand_analysis.sort_values('Preco_Medio', ascending=False).head(5)\n",
    "for i, (marca, data) in enumerate(top_price_brands.iterrows()):\n",
    "    print(f\"  {i+1}. {marca}: R$ {data['Preco_Medio']:,.2f} (médio)\")"
   ]
  },
  {
   "cell_type": "markdown",
   "metadata": {},
   "source": [
    "## 9. Insights Analíticos Únicos"
   ]
  },
  {
   "cell_type": "code",
   "execution_count": 39,
   "metadata": {},
   "outputs": [
    {
     "name": "stdout",
     "output_type": "stream",
     "text": [
      "=== INSIGHT 1: ELASTICIDADE PREÇO-QUILOMETRAGEM POR MARCA ===\n",
      "Elasticidade Preço-Quilometragem por Marca:\n"
     ]
    },
    {
     "data": {
      "text/html": [
       "<div>\n",
       "<style scoped>\n",
       "    .dataframe tbody tr th:only-of-type {\n",
       "        vertical-align: middle;\n",
       "    }\n",
       "\n",
       "    .dataframe tbody tr th {\n",
       "        vertical-align: top;\n",
       "    }\n",
       "\n",
       "    .dataframe thead th {\n",
       "        text-align: right;\n",
       "    }\n",
       "</style>\n",
       "<table border=\"1\" class=\"dataframe\">\n",
       "  <thead>\n",
       "    <tr style=\"text-align: right;\">\n",
       "      <th></th>\n",
       "      <th>Marca</th>\n",
       "      <th>Correlacao_Preco_Km</th>\n",
       "      <th>Elasticidade_Aproximada</th>\n",
       "      <th>Volume_Vendas</th>\n",
       "      <th>Preco_Medio</th>\n",
       "    </tr>\n",
       "  </thead>\n",
       "  <tbody>\n",
       "    <tr>\n",
       "      <th>3</th>\n",
       "      <td>Ford</td>\n",
       "      <td>-0.03</td>\n",
       "      <td>-0.02</td>\n",
       "      <td>1017</td>\n",
       "      <td>77055.16</td>\n",
       "    </tr>\n",
       "    <tr>\n",
       "      <th>4</th>\n",
       "      <td>Fiat</td>\n",
       "      <td>-0.01</td>\n",
       "      <td>-0.21</td>\n",
       "      <td>996</td>\n",
       "      <td>80402.21</td>\n",
       "    </tr>\n",
       "    <tr>\n",
       "      <th>8</th>\n",
       "      <td>Jeep</td>\n",
       "      <td>-0.09</td>\n",
       "      <td>-0.30</td>\n",
       "      <td>967</td>\n",
       "      <td>104915.94</td>\n",
       "    </tr>\n",
       "    <tr>\n",
       "      <th>0</th>\n",
       "      <td>Volkswagen</td>\n",
       "      <td>-0.06</td>\n",
       "      <td>-0.32</td>\n",
       "      <td>1053</td>\n",
       "      <td>70620.92</td>\n",
       "    </tr>\n",
       "    <tr>\n",
       "      <th>5</th>\n",
       "      <td>Renault</td>\n",
       "      <td>-0.07</td>\n",
       "      <td>-0.37</td>\n",
       "      <td>994</td>\n",
       "      <td>73439.54</td>\n",
       "    </tr>\n",
       "    <tr>\n",
       "      <th>7</th>\n",
       "      <td>Hyundai</td>\n",
       "      <td>-0.10</td>\n",
       "      <td>-0.39</td>\n",
       "      <td>971</td>\n",
       "      <td>71162.66</td>\n",
       "    </tr>\n",
       "    <tr>\n",
       "      <th>6</th>\n",
       "      <td>Chevrolet</td>\n",
       "      <td>-0.08</td>\n",
       "      <td>-0.42</td>\n",
       "      <td>985</td>\n",
       "      <td>78074.27</td>\n",
       "    </tr>\n",
       "    <tr>\n",
       "      <th>9</th>\n",
       "      <td>Toyota</td>\n",
       "      <td>-0.12</td>\n",
       "      <td>-0.43</td>\n",
       "      <td>962</td>\n",
       "      <td>97451.49</td>\n",
       "    </tr>\n",
       "    <tr>\n",
       "      <th>2</th>\n",
       "      <td>Honda</td>\n",
       "      <td>-0.14</td>\n",
       "      <td>-0.45</td>\n",
       "      <td>1021</td>\n",
       "      <td>89507.25</td>\n",
       "    </tr>\n",
       "    <tr>\n",
       "      <th>1</th>\n",
       "      <td>Nissan</td>\n",
       "      <td>-0.12</td>\n",
       "      <td>-0.51</td>\n",
       "      <td>1034</td>\n",
       "      <td>89531.31</td>\n",
       "    </tr>\n",
       "  </tbody>\n",
       "</table>\n",
       "</div>"
      ],
      "text/plain": [
       "        Marca  Correlacao_Preco_Km  Elasticidade_Aproximada  Volume_Vendas  \\\n",
       "3        Ford                -0.03                    -0.02           1017   \n",
       "4        Fiat                -0.01                    -0.21            996   \n",
       "8        Jeep                -0.09                    -0.30            967   \n",
       "0  Volkswagen                -0.06                    -0.32           1053   \n",
       "5     Renault                -0.07                    -0.37            994   \n",
       "7     Hyundai                -0.10                    -0.39            971   \n",
       "6   Chevrolet                -0.08                    -0.42            985   \n",
       "9      Toyota                -0.12                    -0.43            962   \n",
       "2       Honda                -0.14                    -0.45           1021   \n",
       "1      Nissan                -0.12                    -0.51           1034   \n",
       "\n",
       "   Preco_Medio  \n",
       "3     77055.16  \n",
       "4     80402.21  \n",
       "8    104915.94  \n",
       "0     70620.92  \n",
       "5     73439.54  \n",
       "7     71162.66  \n",
       "6     78074.27  \n",
       "9     97451.49  \n",
       "2     89507.25  \n",
       "1     89531.31  "
      ]
     },
     "metadata": {},
     "output_type": "display_data"
    },
    {
     "name": "stdout",
     "output_type": "stream",
     "text": [
      "\n",
      " Insights:\n",
      "  • Marca mais sensível à quilometragem: Ford\n",
      "  • Marca menos sensível à quilometragem: Nissan\n",
      "  • Isso sugere diferentes estratégias de precificação e posicionamento no mercado\n"
     ]
    }
   ],
   "source": [
    "# 1. Análise de Elasticidade de Preço por Quilometragem por Marca\n",
    "print(\"=== INSIGHT 1: ELASTICIDADE PREÇO-QUILOMETRAGEM POR MARCA ===\")\n",
    "\n",
    "elasticity_analysis = []\n",
    "\n",
    "for marca in df['Marca'].value_counts().head(10).index:\n",
    "    marca_data = df[df['Marca'] == marca]\n",
    "    \n",
    "    # Calcular correlação preço-quilometragem\n",
    "    corr_price_km = marca_data['Valor_Venda'].corr(marca_data['Quilometragem'])\n",
    "    \n",
    "    # Calcular elasticidade aproximada (variação % preço / variação % km)\n",
    "    if len(marca_data) > 10:  # Apenas para marcas com dados suficientes\n",
    "        # Dividir em quartis de quilometragem\n",
    "        marca_data['Km_Quartil'] = pd.qcut(marca_data['Quilometragem'], q=4, labels=['Q1', 'Q2', 'Q3', 'Q4'])\n",
    "        quartil_prices = marca_data.groupby('Km_Quartil')['Valor_Venda'].mean()\n",
    "        \n",
    "        # Elasticidade = (% mudança preço) / (% mudança km)\n",
    "        if len(quartil_prices) == 4:\n",
    "            price_change = ((quartil_prices['Q4'] - quartil_prices['Q1']) / quartil_prices['Q1']) * 100\n",
    "            elasticity = price_change / 100  # Aproximação simples\n",
    "        else:\n",
    "            elasticity = np.nan\n",
    "    else:\n",
    "        elasticity = np.nan\n",
    "    \n",
    "    elasticity_analysis.append({\n",
    "        'Marca': marca,\n",
    "        'Correlacao_Preco_Km': corr_price_km,\n",
    "        'Elasticidade_Aproximada': elasticity,\n",
    "        'Volume_Vendas': len(marca_data),\n",
    "        'Preco_Medio': marca_data['Valor_Venda'].mean()\n",
    "    })\n",
    "\n",
    "elasticity_df = pd.DataFrame(elasticity_analysis).dropna()\n",
    "elasticity_df = elasticity_df.sort_values('Elasticidade_Aproximada', ascending=False)\n",
    "\n",
    "print(\"Elasticidade Preço-Quilometragem por Marca:\")\n",
    "display(elasticity_df.round(3))\n",
    "\n",
    "# Interpretação\n",
    "most_elastic = elasticity_df.iloc[0]['Marca']\n",
    "least_elastic = elasticity_df.iloc[-1]['Marca']\n",
    "print(f\"\\n Insights:\")\n",
    "print(f\"  • Marca mais sensível à quilometragem: {most_elastic}\")\n",
    "print(f\"  • Marca menos sensível à quilometragem: {least_elastic}\")\n",
    "print(f\"  • Isso sugere diferentes estratégias de precificação e posicionamento no mercado\")"
   ]
  },
  {
   "cell_type": "code",
   "execution_count": 40,
   "metadata": {},
   "outputs": [
    {
     "name": "stdout",
     "output_type": "stream",
     "text": [
      "\n",
      "=== INSIGHT 2: SWEET SPOTS DE CUSTO-BENEFÍCIO ===\n",
      "Top 20 Sweet Spots de Custo-Benefício:\n"
     ]
    },
    {
     "data": {
      "text/html": [
       "<div>\n",
       "<style scoped>\n",
       "    .dataframe tbody tr th:only-of-type {\n",
       "        vertical-align: middle;\n",
       "    }\n",
       "\n",
       "    .dataframe tbody tr th {\n",
       "        vertical-align: top;\n",
       "    }\n",
       "\n",
       "    .dataframe thead th {\n",
       "        text-align: right;\n",
       "    }\n",
       "</style>\n",
       "<table border=\"1\" class=\"dataframe\">\n",
       "  <thead>\n",
       "    <tr style=\"text-align: right;\">\n",
       "      <th></th>\n",
       "      <th>Marca</th>\n",
       "      <th>Modelo</th>\n",
       "      <th>Ano</th>\n",
       "      <th>Quilometragem</th>\n",
       "      <th>Valor_Venda</th>\n",
       "      <th>Score_Custo_Beneficio</th>\n",
       "    </tr>\n",
       "  </thead>\n",
       "  <tbody>\n",
       "    <tr>\n",
       "      <th>2133</th>\n",
       "      <td>Renault</td>\n",
       "      <td>Sandero</td>\n",
       "      <td>2000.00</td>\n",
       "      <td>617.00</td>\n",
       "      <td>44227.60</td>\n",
       "      <td>1.15</td>\n",
       "    </tr>\n",
       "    <tr>\n",
       "      <th>6706</th>\n",
       "      <td>Renault</td>\n",
       "      <td>Duster</td>\n",
       "      <td>2000.00</td>\n",
       "      <td>4428.00</td>\n",
       "      <td>44001.40</td>\n",
       "      <td>1.14</td>\n",
       "    </tr>\n",
       "    <tr>\n",
       "      <th>3943</th>\n",
       "      <td>Volkswagen</td>\n",
       "      <td>Virtus</td>\n",
       "      <td>2001.00</td>\n",
       "      <td>1459.00</td>\n",
       "      <td>48087.20</td>\n",
       "      <td>1.14</td>\n",
       "    </tr>\n",
       "    <tr>\n",
       "      <th>3194</th>\n",
       "      <td>Chevrolet</td>\n",
       "      <td>Tracker</td>\n",
       "      <td>2000.00</td>\n",
       "      <td>1986.00</td>\n",
       "      <td>50925.80</td>\n",
       "      <td>1.14</td>\n",
       "    </tr>\n",
       "    <tr>\n",
       "      <th>5845</th>\n",
       "      <td>Volkswagen</td>\n",
       "      <td>Gol</td>\n",
       "      <td>2000.00</td>\n",
       "      <td>1821.00</td>\n",
       "      <td>51387.80</td>\n",
       "      <td>1.14</td>\n",
       "    </tr>\n",
       "    <tr>\n",
       "      <th>6412</th>\n",
       "      <td>Fiat</td>\n",
       "      <td>Argo</td>\n",
       "      <td>2000.00</td>\n",
       "      <td>4847.00</td>\n",
       "      <td>46133.60</td>\n",
       "      <td>1.14</td>\n",
       "    </tr>\n",
       "    <tr>\n",
       "      <th>6954</th>\n",
       "      <td>Renault</td>\n",
       "      <td>Duster</td>\n",
       "      <td>2002.00</td>\n",
       "      <td>1971.00</td>\n",
       "      <td>48821.80</td>\n",
       "      <td>1.13</td>\n",
       "    </tr>\n",
       "    <tr>\n",
       "      <th>5984</th>\n",
       "      <td>Renault</td>\n",
       "      <td>Duster</td>\n",
       "      <td>2004.00</td>\n",
       "      <td>59.00</td>\n",
       "      <td>48378.20</td>\n",
       "      <td>1.13</td>\n",
       "    </tr>\n",
       "    <tr>\n",
       "      <th>9364</th>\n",
       "      <td>Renault</td>\n",
       "      <td>Duster</td>\n",
       "      <td>2002.00</td>\n",
       "      <td>3917.00</td>\n",
       "      <td>46406.60</td>\n",
       "      <td>1.13</td>\n",
       "    </tr>\n",
       "    <tr>\n",
       "      <th>1276</th>\n",
       "      <td>Volkswagen</td>\n",
       "      <td>Polo</td>\n",
       "      <td>2000.00</td>\n",
       "      <td>5021.00</td>\n",
       "      <td>49266.80</td>\n",
       "      <td>1.13</td>\n",
       "    </tr>\n",
       "    <tr>\n",
       "      <th>4528</th>\n",
       "      <td>Chevrolet</td>\n",
       "      <td>Onix</td>\n",
       "      <td>2000.00</td>\n",
       "      <td>6577.00</td>\n",
       "      <td>46397.60</td>\n",
       "      <td>1.13</td>\n",
       "    </tr>\n",
       "    <tr>\n",
       "      <th>2851</th>\n",
       "      <td>Volkswagen</td>\n",
       "      <td>Polo</td>\n",
       "      <td>2003.00</td>\n",
       "      <td>1755.00</td>\n",
       "      <td>49269.00</td>\n",
       "      <td>1.13</td>\n",
       "    </tr>\n",
       "    <tr>\n",
       "      <th>1668</th>\n",
       "      <td>Fiat</td>\n",
       "      <td>Toro</td>\n",
       "      <td>2003.00</td>\n",
       "      <td>1903.00</td>\n",
       "      <td>49117.40</td>\n",
       "      <td>1.13</td>\n",
       "    </tr>\n",
       "    <tr>\n",
       "      <th>2749</th>\n",
       "      <td>Fiat</td>\n",
       "      <td>Toro</td>\n",
       "      <td>2003.00</td>\n",
       "      <td>46.00</td>\n",
       "      <td>53705.80</td>\n",
       "      <td>1.13</td>\n",
       "    </tr>\n",
       "    <tr>\n",
       "      <th>3096</th>\n",
       "      <td>Volkswagen</td>\n",
       "      <td>Gol</td>\n",
       "      <td>2002.00</td>\n",
       "      <td>1067.00</td>\n",
       "      <td>54413.60</td>\n",
       "      <td>1.13</td>\n",
       "    </tr>\n",
       "    <tr>\n",
       "      <th>7342</th>\n",
       "      <td>Hyundai</td>\n",
       "      <td>HB20</td>\n",
       "      <td>2001.00</td>\n",
       "      <td>984.00</td>\n",
       "      <td>57356.20</td>\n",
       "      <td>1.13</td>\n",
       "    </tr>\n",
       "    <tr>\n",
       "      <th>2021</th>\n",
       "      <td>Volkswagen</td>\n",
       "      <td>T-Cross</td>\n",
       "      <td>2003.00</td>\n",
       "      <td>2491.00</td>\n",
       "      <td>50075.80</td>\n",
       "      <td>1.13</td>\n",
       "    </tr>\n",
       "    <tr>\n",
       "      <th>3352</th>\n",
       "      <td>Renault</td>\n",
       "      <td>Kwid</td>\n",
       "      <td>2001.00</td>\n",
       "      <td>5156.00</td>\n",
       "      <td>50018.80</td>\n",
       "      <td>1.13</td>\n",
       "    </tr>\n",
       "    <tr>\n",
       "      <th>3084</th>\n",
       "      <td>Renault</td>\n",
       "      <td>Sandero</td>\n",
       "      <td>2004.00</td>\n",
       "      <td>1676.00</td>\n",
       "      <td>49476.80</td>\n",
       "      <td>1.12</td>\n",
       "    </tr>\n",
       "    <tr>\n",
       "      <th>7756</th>\n",
       "      <td>Renault</td>\n",
       "      <td>Duster</td>\n",
       "      <td>2000.00</td>\n",
       "      <td>11674.00</td>\n",
       "      <td>40397.20</td>\n",
       "      <td>1.12</td>\n",
       "    </tr>\n",
       "  </tbody>\n",
       "</table>\n",
       "</div>"
      ],
      "text/plain": [
       "           Marca   Modelo     Ano  Quilometragem  Valor_Venda  \\\n",
       "2133     Renault  Sandero 2000.00         617.00     44227.60   \n",
       "6706     Renault   Duster 2000.00        4428.00     44001.40   \n",
       "3943  Volkswagen   Virtus 2001.00        1459.00     48087.20   \n",
       "3194   Chevrolet  Tracker 2000.00        1986.00     50925.80   \n",
       "5845  Volkswagen      Gol 2000.00        1821.00     51387.80   \n",
       "6412        Fiat     Argo 2000.00        4847.00     46133.60   \n",
       "6954     Renault   Duster 2002.00        1971.00     48821.80   \n",
       "5984     Renault   Duster 2004.00          59.00     48378.20   \n",
       "9364     Renault   Duster 2002.00        3917.00     46406.60   \n",
       "1276  Volkswagen     Polo 2000.00        5021.00     49266.80   \n",
       "4528   Chevrolet     Onix 2000.00        6577.00     46397.60   \n",
       "2851  Volkswagen     Polo 2003.00        1755.00     49269.00   \n",
       "1668        Fiat     Toro 2003.00        1903.00     49117.40   \n",
       "2749        Fiat     Toro 2003.00          46.00     53705.80   \n",
       "3096  Volkswagen      Gol 2002.00        1067.00     54413.60   \n",
       "7342     Hyundai     HB20 2001.00         984.00     57356.20   \n",
       "2021  Volkswagen  T-Cross 2003.00        2491.00     50075.80   \n",
       "3352     Renault     Kwid 2001.00        5156.00     50018.80   \n",
       "3084     Renault  Sandero 2004.00        1676.00     49476.80   \n",
       "7756     Renault   Duster 2000.00       11674.00     40397.20   \n",
       "\n",
       "      Score_Custo_Beneficio  \n",
       "2133                   1.15  \n",
       "6706                   1.14  \n",
       "3943                   1.14  \n",
       "3194                   1.14  \n",
       "5845                   1.14  \n",
       "6412                   1.14  \n",
       "6954                   1.13  \n",
       "5984                   1.13  \n",
       "9364                   1.13  \n",
       "1276                   1.13  \n",
       "4528                   1.13  \n",
       "2851                   1.13  \n",
       "1668                   1.13  \n",
       "2749                   1.13  \n",
       "3096                   1.13  \n",
       "7342                   1.13  \n",
       "2021                   1.13  \n",
       "3352                   1.13  \n",
       "3084                   1.12  \n",
       "7756                   1.12  "
      ]
     },
     "metadata": {},
     "output_type": "display_data"
    },
    {
     "name": "stdout",
     "output_type": "stream",
     "text": [
      "\n",
      " Sweet Spots por Segmento de Preço:\n"
     ]
    },
    {
     "data": {
      "text/html": [
       "<div>\n",
       "<style scoped>\n",
       "    .dataframe tbody tr th:only-of-type {\n",
       "        vertical-align: middle;\n",
       "    }\n",
       "\n",
       "    .dataframe tbody tr th {\n",
       "        vertical-align: top;\n",
       "    }\n",
       "\n",
       "    .dataframe thead th {\n",
       "        text-align: right;\n",
       "    }\n",
       "</style>\n",
       "<table border=\"1\" class=\"dataframe\">\n",
       "  <thead>\n",
       "    <tr style=\"text-align: right;\">\n",
       "      <th></th>\n",
       "      <th>mean</th>\n",
       "      <th>std</th>\n",
       "      <th>count</th>\n",
       "    </tr>\n",
       "    <tr>\n",
       "      <th>Faixa_Preco</th>\n",
       "      <th></th>\n",
       "      <th></th>\n",
       "      <th></th>\n",
       "    </tr>\n",
       "  </thead>\n",
       "  <tbody>\n",
       "    <tr>\n",
       "      <th>Econômico</th>\n",
       "      <td>0.57</td>\n",
       "      <td>0.22</td>\n",
       "      <td>738</td>\n",
       "    </tr>\n",
       "    <tr>\n",
       "      <th>Médio</th>\n",
       "      <td>0.18</td>\n",
       "      <td>1.21</td>\n",
       "      <td>4341</td>\n",
       "    </tr>\n",
       "    <tr>\n",
       "      <th>Premium</th>\n",
       "      <td>-0.04</td>\n",
       "      <td>1.30</td>\n",
       "      <td>4205</td>\n",
       "    </tr>\n",
       "    <tr>\n",
       "      <th>Luxo</th>\n",
       "      <td>-2.02</td>\n",
       "      <td>4.04</td>\n",
       "      <td>517</td>\n",
       "    </tr>\n",
       "  </tbody>\n",
       "</table>\n",
       "</div>"
      ],
      "text/plain": [
       "             mean  std  count\n",
       "Faixa_Preco                  \n",
       "Econômico    0.57 0.22    738\n",
       "Médio        0.18 1.21   4341\n",
       "Premium     -0.04 1.30   4205\n",
       "Luxo        -2.02 4.04    517"
      ]
     },
     "metadata": {},
     "output_type": "display_data"
    }
   ],
   "source": [
    "# 2. Análise de Sweet Spots de Custo-Benefício\n",
    "print(\"\\n=== INSIGHT 2: SWEET SPOTS DE CUSTO-BENEFÍCIO ===\")\n",
    "\n",
    "# Criar índice de custo-benefício\n",
    "df['Idade_Veiculo'] = 2024 - df['Ano']\n",
    "df['Custo_Por_Ano'] = df['Valor_Venda'] / (df['Idade_Veiculo'] + 1)  # +1 para evitar divisão por zero\n",
    "df['Eficiencia_Km'] = df['Quilometragem'] / (df['Idade_Veiculo'] + 1)  # Km por ano\n",
    "\n",
    "# Normalizar métricas para criar score composto\n",
    "scaler = StandardScaler()\n",
    "df['Custo_Normalizado'] = scaler.fit_transform(df[['Custo_Por_Ano']])\n",
    "df['Km_Normalizado'] = scaler.fit_transform(df[['Eficiencia_Km']])\n",
    "\n",
    "# Score de custo-benefício (menor custo, menor km/ano = melhor)\n",
    "df['Score_Custo_Beneficio'] = -(df['Custo_Normalizado'] + df['Km_Normalizado'])\n",
    "\n",
    "# Identificar sweet spots por categoria\n",
    "sweet_spots = df.nlargest(20, 'Score_Custo_Beneficio')[['Marca', 'Modelo', 'Ano', 'Quilometragem', \n",
    "                                                       'Valor_Venda', 'Score_Custo_Beneficio']]\n",
    "\n",
    "print(\"Top 20 Sweet Spots de Custo-Benefício:\")\n",
    "display(sweet_spots.round(2))\n",
    "\n",
    "# Análise por segmento\n",
    "df['Faixa_Preco'] = pd.cut(df['Valor_Venda'], \n",
    "                          bins=[0, 30000, 60000, 100000, float('inf')],\n",
    "                          labels=['Econômico', 'Médio', 'Premium', 'Luxo'])\n",
    "\n",
    "sweet_spots_by_segment = df.groupby('Faixa_Preco')['Score_Custo_Beneficio'].agg(['mean', 'std', 'count'])\n",
    "print(f\"\\n Sweet Spots por Segmento de Preço:\")\n",
    "display(sweet_spots_by_segment.round(3))"
   ]
  },
  {
   "cell_type": "code",
   "execution_count": 41,
   "metadata": {},
   "outputs": [
    {
     "name": "stdout",
     "output_type": "stream",
     "text": [
      "\n",
      "===  INSIGHT 3: PADRÕES DE DEPRECIAÇÃO ===\n",
      "Análise de Depreciação por Marca:\n"
     ]
    },
    {
     "data": {
      "text/html": [
       "<div>\n",
       "<style scoped>\n",
       "    .dataframe tbody tr th:only-of-type {\n",
       "        vertical-align: middle;\n",
       "    }\n",
       "\n",
       "    .dataframe tbody tr th {\n",
       "        vertical-align: top;\n",
       "    }\n",
       "\n",
       "    .dataframe thead th {\n",
       "        text-align: right;\n",
       "    }\n",
       "</style>\n",
       "<table border=\"1\" class=\"dataframe\">\n",
       "  <thead>\n",
       "    <tr style=\"text-align: right;\">\n",
       "      <th></th>\n",
       "      <th>Marca</th>\n",
       "      <th>Taxa_Depreciacao_Anual_%</th>\n",
       "      <th>R_Quadrado</th>\n",
       "      <th>P_Value</th>\n",
       "      <th>Preco_Base_Estimado</th>\n",
       "      <th>Resistencia_Depreciacao</th>\n",
       "    </tr>\n",
       "  </thead>\n",
       "  <tbody>\n",
       "    <tr>\n",
       "      <th>0</th>\n",
       "      <td>Volkswagen</td>\n",
       "      <td>NaN</td>\n",
       "      <td>NaN</td>\n",
       "      <td>NaN</td>\n",
       "      <td>NaN</td>\n",
       "      <td>Baixa</td>\n",
       "    </tr>\n",
       "    <tr>\n",
       "      <th>1</th>\n",
       "      <td>Nissan</td>\n",
       "      <td>NaN</td>\n",
       "      <td>NaN</td>\n",
       "      <td>NaN</td>\n",
       "      <td>NaN</td>\n",
       "      <td>Baixa</td>\n",
       "    </tr>\n",
       "    <tr>\n",
       "      <th>2</th>\n",
       "      <td>Honda</td>\n",
       "      <td>NaN</td>\n",
       "      <td>NaN</td>\n",
       "      <td>NaN</td>\n",
       "      <td>NaN</td>\n",
       "      <td>Baixa</td>\n",
       "    </tr>\n",
       "    <tr>\n",
       "      <th>3</th>\n",
       "      <td>Ford</td>\n",
       "      <td>NaN</td>\n",
       "      <td>NaN</td>\n",
       "      <td>NaN</td>\n",
       "      <td>NaN</td>\n",
       "      <td>Baixa</td>\n",
       "    </tr>\n",
       "    <tr>\n",
       "      <th>4</th>\n",
       "      <td>Fiat</td>\n",
       "      <td>NaN</td>\n",
       "      <td>NaN</td>\n",
       "      <td>NaN</td>\n",
       "      <td>NaN</td>\n",
       "      <td>Baixa</td>\n",
       "    </tr>\n",
       "    <tr>\n",
       "      <th>5</th>\n",
       "      <td>Renault</td>\n",
       "      <td>NaN</td>\n",
       "      <td>NaN</td>\n",
       "      <td>NaN</td>\n",
       "      <td>NaN</td>\n",
       "      <td>Baixa</td>\n",
       "    </tr>\n",
       "    <tr>\n",
       "      <th>6</th>\n",
       "      <td>Chevrolet</td>\n",
       "      <td>NaN</td>\n",
       "      <td>NaN</td>\n",
       "      <td>NaN</td>\n",
       "      <td>NaN</td>\n",
       "      <td>Baixa</td>\n",
       "    </tr>\n",
       "    <tr>\n",
       "      <th>7</th>\n",
       "      <td>Hyundai</td>\n",
       "      <td>NaN</td>\n",
       "      <td>NaN</td>\n",
       "      <td>NaN</td>\n",
       "      <td>NaN</td>\n",
       "      <td>Baixa</td>\n",
       "    </tr>\n",
       "    <tr>\n",
       "      <th>8</th>\n",
       "      <td>Jeep</td>\n",
       "      <td>NaN</td>\n",
       "      <td>NaN</td>\n",
       "      <td>NaN</td>\n",
       "      <td>NaN</td>\n",
       "      <td>Baixa</td>\n",
       "    </tr>\n",
       "    <tr>\n",
       "      <th>9</th>\n",
       "      <td>Toyota</td>\n",
       "      <td>NaN</td>\n",
       "      <td>NaN</td>\n",
       "      <td>NaN</td>\n",
       "      <td>NaN</td>\n",
       "      <td>Baixa</td>\n",
       "    </tr>\n",
       "  </tbody>\n",
       "</table>\n",
       "</div>"
      ],
      "text/plain": [
       "        Marca  Taxa_Depreciacao_Anual_%  R_Quadrado  P_Value  \\\n",
       "0  Volkswagen                       NaN         NaN      NaN   \n",
       "1      Nissan                       NaN         NaN      NaN   \n",
       "2       Honda                       NaN         NaN      NaN   \n",
       "3        Ford                       NaN         NaN      NaN   \n",
       "4        Fiat                       NaN         NaN      NaN   \n",
       "5     Renault                       NaN         NaN      NaN   \n",
       "6   Chevrolet                       NaN         NaN      NaN   \n",
       "7     Hyundai                       NaN         NaN      NaN   \n",
       "8        Jeep                       NaN         NaN      NaN   \n",
       "9      Toyota                       NaN         NaN      NaN   \n",
       "\n",
       "   Preco_Base_Estimado Resistencia_Depreciacao  \n",
       "0                  NaN                   Baixa  \n",
       "1                  NaN                   Baixa  \n",
       "2                  NaN                   Baixa  \n",
       "3                  NaN                   Baixa  \n",
       "4                  NaN                   Baixa  \n",
       "5                  NaN                   Baixa  \n",
       "6                  NaN                   Baixa  \n",
       "7                  NaN                   Baixa  \n",
       "8                  NaN                   Baixa  \n",
       "9                  NaN                   Baixa  "
      ]
     },
     "metadata": {},
     "output_type": "display_data"
    },
    {
     "data": {
      "application/vnd.plotly.v1+json": {
       "config": {
        "plotlyServerURL": "https://plot.ly"
       },
       "data": [
        {
         "hovertemplate": "Resistencia_Depreciacao=Baixa<br>Marca=%{x}<br>Taxa_Depreciacao_Anual_%=%{y}<extra></extra>",
         "legendgroup": "Baixa",
         "marker": {
          "color": "#636efa",
          "pattern": {
           "shape": ""
          }
         },
         "name": "Baixa",
         "orientation": "v",
         "showlegend": true,
         "textposition": "auto",
         "type": "bar",
         "x": [
          "Volkswagen",
          "Nissan",
          "Honda",
          "Ford",
          "Fiat",
          "Renault",
          "Chevrolet",
          "Hyundai",
          "Jeep",
          "Toyota"
         ],
         "xaxis": "x",
         "y": {
          "bdata": "AAAAAAAA+P8AAAAAAAD4/wAAAAAAAPj/AAAAAAAA+P8AAAAAAAD4/wAAAAAAAPj/AAAAAAAA+P8AAAAAAAD4/wAAAAAAAPj/AAAAAAAA+P8=",
          "dtype": "f8"
         },
         "yaxis": "y"
        }
       ],
       "layout": {
        "barmode": "relative",
        "height": 500,
        "legend": {
         "title": {
          "text": "Resistencia_Depreciacao"
         },
         "tracegroupgap": 0
        },
        "template": {
         "data": {
          "bar": [
           {
            "error_x": {
             "color": "#2a3f5f"
            },
            "error_y": {
             "color": "#2a3f5f"
            },
            "marker": {
             "line": {
              "color": "white",
              "width": 0.5
             },
             "pattern": {
              "fillmode": "overlay",
              "size": 10,
              "solidity": 0.2
             }
            },
            "type": "bar"
           }
          ],
          "barpolar": [
           {
            "marker": {
             "line": {
              "color": "white",
              "width": 0.5
             },
             "pattern": {
              "fillmode": "overlay",
              "size": 10,
              "solidity": 0.2
             }
            },
            "type": "barpolar"
           }
          ],
          "carpet": [
           {
            "aaxis": {
             "endlinecolor": "#2a3f5f",
             "gridcolor": "#C8D4E3",
             "linecolor": "#C8D4E3",
             "minorgridcolor": "#C8D4E3",
             "startlinecolor": "#2a3f5f"
            },
            "baxis": {
             "endlinecolor": "#2a3f5f",
             "gridcolor": "#C8D4E3",
             "linecolor": "#C8D4E3",
             "minorgridcolor": "#C8D4E3",
             "startlinecolor": "#2a3f5f"
            },
            "type": "carpet"
           }
          ],
          "choropleth": [
           {
            "colorbar": {
             "outlinewidth": 0,
             "ticks": ""
            },
            "type": "choropleth"
           }
          ],
          "contour": [
           {
            "colorbar": {
             "outlinewidth": 0,
             "ticks": ""
            },
            "colorscale": [
             [
              0,
              "#0d0887"
             ],
             [
              0.1111111111111111,
              "#46039f"
             ],
             [
              0.2222222222222222,
              "#7201a8"
             ],
             [
              0.3333333333333333,
              "#9c179e"
             ],
             [
              0.4444444444444444,
              "#bd3786"
             ],
             [
              0.5555555555555556,
              "#d8576b"
             ],
             [
              0.6666666666666666,
              "#ed7953"
             ],
             [
              0.7777777777777778,
              "#fb9f3a"
             ],
             [
              0.8888888888888888,
              "#fdca26"
             ],
             [
              1,
              "#f0f921"
             ]
            ],
            "type": "contour"
           }
          ],
          "contourcarpet": [
           {
            "colorbar": {
             "outlinewidth": 0,
             "ticks": ""
            },
            "type": "contourcarpet"
           }
          ],
          "heatmap": [
           {
            "colorbar": {
             "outlinewidth": 0,
             "ticks": ""
            },
            "colorscale": [
             [
              0,
              "#0d0887"
             ],
             [
              0.1111111111111111,
              "#46039f"
             ],
             [
              0.2222222222222222,
              "#7201a8"
             ],
             [
              0.3333333333333333,
              "#9c179e"
             ],
             [
              0.4444444444444444,
              "#bd3786"
             ],
             [
              0.5555555555555556,
              "#d8576b"
             ],
             [
              0.6666666666666666,
              "#ed7953"
             ],
             [
              0.7777777777777778,
              "#fb9f3a"
             ],
             [
              0.8888888888888888,
              "#fdca26"
             ],
             [
              1,
              "#f0f921"
             ]
            ],
            "type": "heatmap"
           }
          ],
          "histogram": [
           {
            "marker": {
             "pattern": {
              "fillmode": "overlay",
              "size": 10,
              "solidity": 0.2
             }
            },
            "type": "histogram"
           }
          ],
          "histogram2d": [
           {
            "colorbar": {
             "outlinewidth": 0,
             "ticks": ""
            },
            "colorscale": [
             [
              0,
              "#0d0887"
             ],
             [
              0.1111111111111111,
              "#46039f"
             ],
             [
              0.2222222222222222,
              "#7201a8"
             ],
             [
              0.3333333333333333,
              "#9c179e"
             ],
             [
              0.4444444444444444,
              "#bd3786"
             ],
             [
              0.5555555555555556,
              "#d8576b"
             ],
             [
              0.6666666666666666,
              "#ed7953"
             ],
             [
              0.7777777777777778,
              "#fb9f3a"
             ],
             [
              0.8888888888888888,
              "#fdca26"
             ],
             [
              1,
              "#f0f921"
             ]
            ],
            "type": "histogram2d"
           }
          ],
          "histogram2dcontour": [
           {
            "colorbar": {
             "outlinewidth": 0,
             "ticks": ""
            },
            "colorscale": [
             [
              0,
              "#0d0887"
             ],
             [
              0.1111111111111111,
              "#46039f"
             ],
             [
              0.2222222222222222,
              "#7201a8"
             ],
             [
              0.3333333333333333,
              "#9c179e"
             ],
             [
              0.4444444444444444,
              "#bd3786"
             ],
             [
              0.5555555555555556,
              "#d8576b"
             ],
             [
              0.6666666666666666,
              "#ed7953"
             ],
             [
              0.7777777777777778,
              "#fb9f3a"
             ],
             [
              0.8888888888888888,
              "#fdca26"
             ],
             [
              1,
              "#f0f921"
             ]
            ],
            "type": "histogram2dcontour"
           }
          ],
          "mesh3d": [
           {
            "colorbar": {
             "outlinewidth": 0,
             "ticks": ""
            },
            "type": "mesh3d"
           }
          ],
          "parcoords": [
           {
            "line": {
             "colorbar": {
              "outlinewidth": 0,
              "ticks": ""
             }
            },
            "type": "parcoords"
           }
          ],
          "pie": [
           {
            "automargin": true,
            "type": "pie"
           }
          ],
          "scatter": [
           {
            "fillpattern": {
             "fillmode": "overlay",
             "size": 10,
             "solidity": 0.2
            },
            "type": "scatter"
           }
          ],
          "scatter3d": [
           {
            "line": {
             "colorbar": {
              "outlinewidth": 0,
              "ticks": ""
             }
            },
            "marker": {
             "colorbar": {
              "outlinewidth": 0,
              "ticks": ""
             }
            },
            "type": "scatter3d"
           }
          ],
          "scattercarpet": [
           {
            "marker": {
             "colorbar": {
              "outlinewidth": 0,
              "ticks": ""
             }
            },
            "type": "scattercarpet"
           }
          ],
          "scattergeo": [
           {
            "marker": {
             "colorbar": {
              "outlinewidth": 0,
              "ticks": ""
             }
            },
            "type": "scattergeo"
           }
          ],
          "scattergl": [
           {
            "marker": {
             "colorbar": {
              "outlinewidth": 0,
              "ticks": ""
             }
            },
            "type": "scattergl"
           }
          ],
          "scattermap": [
           {
            "marker": {
             "colorbar": {
              "outlinewidth": 0,
              "ticks": ""
             }
            },
            "type": "scattermap"
           }
          ],
          "scattermapbox": [
           {
            "marker": {
             "colorbar": {
              "outlinewidth": 0,
              "ticks": ""
             }
            },
            "type": "scattermapbox"
           }
          ],
          "scatterpolar": [
           {
            "marker": {
             "colorbar": {
              "outlinewidth": 0,
              "ticks": ""
             }
            },
            "type": "scatterpolar"
           }
          ],
          "scatterpolargl": [
           {
            "marker": {
             "colorbar": {
              "outlinewidth": 0,
              "ticks": ""
             }
            },
            "type": "scatterpolargl"
           }
          ],
          "scatterternary": [
           {
            "marker": {
             "colorbar": {
              "outlinewidth": 0,
              "ticks": ""
             }
            },
            "type": "scatterternary"
           }
          ],
          "surface": [
           {
            "colorbar": {
             "outlinewidth": 0,
             "ticks": ""
            },
            "colorscale": [
             [
              0,
              "#0d0887"
             ],
             [
              0.1111111111111111,
              "#46039f"
             ],
             [
              0.2222222222222222,
              "#7201a8"
             ],
             [
              0.3333333333333333,
              "#9c179e"
             ],
             [
              0.4444444444444444,
              "#bd3786"
             ],
             [
              0.5555555555555556,
              "#d8576b"
             ],
             [
              0.6666666666666666,
              "#ed7953"
             ],
             [
              0.7777777777777778,
              "#fb9f3a"
             ],
             [
              0.8888888888888888,
              "#fdca26"
             ],
             [
              1,
              "#f0f921"
             ]
            ],
            "type": "surface"
           }
          ],
          "table": [
           {
            "cells": {
             "fill": {
              "color": "#EBF0F8"
             },
             "line": {
              "color": "white"
             }
            },
            "header": {
             "fill": {
              "color": "#C8D4E3"
             },
             "line": {
              "color": "white"
             }
            },
            "type": "table"
           }
          ]
         },
         "layout": {
          "annotationdefaults": {
           "arrowcolor": "#2a3f5f",
           "arrowhead": 0,
           "arrowwidth": 1
          },
          "autotypenumbers": "strict",
          "coloraxis": {
           "colorbar": {
            "outlinewidth": 0,
            "ticks": ""
           }
          },
          "colorscale": {
           "diverging": [
            [
             0,
             "#8e0152"
            ],
            [
             0.1,
             "#c51b7d"
            ],
            [
             0.2,
             "#de77ae"
            ],
            [
             0.3,
             "#f1b6da"
            ],
            [
             0.4,
             "#fde0ef"
            ],
            [
             0.5,
             "#f7f7f7"
            ],
            [
             0.6,
             "#e6f5d0"
            ],
            [
             0.7,
             "#b8e186"
            ],
            [
             0.8,
             "#7fbc41"
            ],
            [
             0.9,
             "#4d9221"
            ],
            [
             1,
             "#276419"
            ]
           ],
           "sequential": [
            [
             0,
             "#0d0887"
            ],
            [
             0.1111111111111111,
             "#46039f"
            ],
            [
             0.2222222222222222,
             "#7201a8"
            ],
            [
             0.3333333333333333,
             "#9c179e"
            ],
            [
             0.4444444444444444,
             "#bd3786"
            ],
            [
             0.5555555555555556,
             "#d8576b"
            ],
            [
             0.6666666666666666,
             "#ed7953"
            ],
            [
             0.7777777777777778,
             "#fb9f3a"
            ],
            [
             0.8888888888888888,
             "#fdca26"
            ],
            [
             1,
             "#f0f921"
            ]
           ],
           "sequentialminus": [
            [
             0,
             "#0d0887"
            ],
            [
             0.1111111111111111,
             "#46039f"
            ],
            [
             0.2222222222222222,
             "#7201a8"
            ],
            [
             0.3333333333333333,
             "#9c179e"
            ],
            [
             0.4444444444444444,
             "#bd3786"
            ],
            [
             0.5555555555555556,
             "#d8576b"
            ],
            [
             0.6666666666666666,
             "#ed7953"
            ],
            [
             0.7777777777777778,
             "#fb9f3a"
            ],
            [
             0.8888888888888888,
             "#fdca26"
            ],
            [
             1,
             "#f0f921"
            ]
           ]
          },
          "colorway": [
           "#636efa",
           "#EF553B",
           "#00cc96",
           "#ab63fa",
           "#FFA15A",
           "#19d3f3",
           "#FF6692",
           "#B6E880",
           "#FF97FF",
           "#FECB52"
          ],
          "font": {
           "color": "#2a3f5f"
          },
          "geo": {
           "bgcolor": "white",
           "lakecolor": "white",
           "landcolor": "white",
           "showlakes": true,
           "showland": true,
           "subunitcolor": "#C8D4E3"
          },
          "hoverlabel": {
           "align": "left"
          },
          "hovermode": "closest",
          "mapbox": {
           "style": "light"
          },
          "paper_bgcolor": "white",
          "plot_bgcolor": "white",
          "polar": {
           "angularaxis": {
            "gridcolor": "#EBF0F8",
            "linecolor": "#EBF0F8",
            "ticks": ""
           },
           "bgcolor": "white",
           "radialaxis": {
            "gridcolor": "#EBF0F8",
            "linecolor": "#EBF0F8",
            "ticks": ""
           }
          },
          "scene": {
           "xaxis": {
            "backgroundcolor": "white",
            "gridcolor": "#DFE8F3",
            "gridwidth": 2,
            "linecolor": "#EBF0F8",
            "showbackground": true,
            "ticks": "",
            "zerolinecolor": "#EBF0F8"
           },
           "yaxis": {
            "backgroundcolor": "white",
            "gridcolor": "#DFE8F3",
            "gridwidth": 2,
            "linecolor": "#EBF0F8",
            "showbackground": true,
            "ticks": "",
            "zerolinecolor": "#EBF0F8"
           },
           "zaxis": {
            "backgroundcolor": "white",
            "gridcolor": "#DFE8F3",
            "gridwidth": 2,
            "linecolor": "#EBF0F8",
            "showbackground": true,
            "ticks": "",
            "zerolinecolor": "#EBF0F8"
           }
          },
          "shapedefaults": {
           "line": {
            "color": "#2a3f5f"
           }
          },
          "ternary": {
           "aaxis": {
            "gridcolor": "#DFE8F3",
            "linecolor": "#A2B1C6",
            "ticks": ""
           },
           "baxis": {
            "gridcolor": "#DFE8F3",
            "linecolor": "#A2B1C6",
            "ticks": ""
           },
           "bgcolor": "white",
           "caxis": {
            "gridcolor": "#DFE8F3",
            "linecolor": "#A2B1C6",
            "ticks": ""
           }
          },
          "title": {
           "x": 0.05
          },
          "xaxis": {
           "automargin": true,
           "gridcolor": "#EBF0F8",
           "linecolor": "#EBF0F8",
           "ticks": "",
           "title": {
            "standoff": 15
           },
           "zerolinecolor": "#EBF0F8",
           "zerolinewidth": 2
          },
          "yaxis": {
           "automargin": true,
           "gridcolor": "#EBF0F8",
           "linecolor": "#EBF0F8",
           "ticks": "",
           "title": {
            "standoff": 15
           },
           "zerolinecolor": "#EBF0F8",
           "zerolinewidth": 2
          }
         }
        },
        "title": {
         "text": "Taxa de Depreciação Anual por Marca"
        },
        "xaxis": {
         "anchor": "y",
         "domain": [
          0,
          1
         ],
         "title": {
          "text": "Marca"
         }
        },
        "yaxis": {
         "anchor": "x",
         "domain": [
          0,
          1
         ],
         "title": {
          "text": "Taxa_Depreciacao_Anual_%"
         }
        }
       }
      }
     },
     "metadata": {},
     "output_type": "display_data"
    },
    {
     "name": "stdout",
     "output_type": "stream",
     "text": [
      "\n",
      " Insights de Depreciação:\n",
      "  • Melhor retenção de valor: Volkswagen (nan% ao ano)\n",
      "  • Maior depreciação: Toyota (nan% ao ano)\n"
     ]
    }
   ],
   "source": [
    "# 3. Análise de Padrões de Depreciação\n",
    "print(\"\\n===  INSIGHT 3: PADRÕES DE DEPRECIAÇÃO ===\")\n",
    "\n",
    "# Calcular depreciação anual aproximada\n",
    "depreciation_analysis = []\n",
    "\n",
    "for marca in df['Marca'].value_counts().head(10).index:\n",
    "    marca_data = df[df['Marca'] == marca].copy()\n",
    "    \n",
    "    if len(marca_data) > 20:  # Dados suficientes\n",
    "        # Regressão simples: preço vs idade\n",
    "        from scipy.stats import linregress\n",
    "        slope, intercept, r_value, p_value, std_err = linregress(marca_data['Idade_Veiculo'], marca_data['Valor_Venda'])\n",
    "        \n",
    "        # Taxa de depreciação anual (slope negativo indica depreciação)\n",
    "        depreciation_rate = -slope / intercept * 100 if intercept != 0 else 0\n",
    "        \n",
    "        depreciation_analysis.append({\n",
    "            'Marca': marca,\n",
    "            'Taxa_Depreciacao_Anual_%': depreciation_rate,\n",
    "            'R_Quadrado': r_value**2,\n",
    "            'P_Value': p_value,\n",
    "            'Preco_Base_Estimado': intercept,\n",
    "            'Resistencia_Depreciacao': 'Alta' if depreciation_rate < 5 else 'Média' if depreciation_rate < 10 else 'Baixa'\n",
    "        })\n",
    "\n",
    "depreciation_df = pd.DataFrame(depreciation_analysis)\n",
    "depreciation_df = depreciation_df.sort_values('Taxa_Depreciacao_Anual_%')\n",
    "\n",
    "print(\"Análise de Depreciação por Marca:\")\n",
    "display(depreciation_df.round(3))\n",
    "\n",
    "# Visualização\n",
    "fig = px.bar(depreciation_df, \n",
    "             x='Marca', \n",
    "             y='Taxa_Depreciacao_Anual_%',\n",
    "             color='Resistencia_Depreciacao',\n",
    "             title='Taxa de Depreciação Anual por Marca')\n",
    "fig.update_layout(height=500)\n",
    "fig.show()\n",
    "\n",
    "# Insights\n",
    "best_retention = depreciation_df.iloc[0]['Marca']\n",
    "worst_retention = depreciation_df.iloc[-1]['Marca']\n",
    "print(f\"\\n Insights de Depreciação:\")\n",
    "print(f\"  • Melhor retenção de valor: {best_retention} ({depreciation_df.iloc[0]['Taxa_Depreciacao_Anual_%']:.1f}% ao ano)\")\n",
    "print(f\"  • Maior depreciação: {worst_retention} ({depreciation_df.iloc[-1]['Taxa_Depreciacao_Anual_%']:.1f}% ao ano)\")"
   ]
  },
  {
   "cell_type": "code",
   "execution_count": 43,
   "metadata": {},
   "outputs": [
    {
     "name": "stdout",
     "output_type": "stream",
     "text": [
      "\n",
      "===  INSIGHT 4: SEGMENTAÇÃO NATURAL DO MERCADO ===\n",
      "Segmentação Natural do Mercado:\n",
      "\n",
      " Cluster 0 - Médio Seminovo:\n",
      "   Preço médio: R$ 76,711.16\n",
      "   Idade média: 8.1 anos\n",
      "   Quilometragem média: 46,765 km\n",
      "   Volume: 3036.0 veículos (31.0%)\n",
      "\n",
      " Cluster 1 - Econômico Usado:\n",
      "   Preço médio: R$ 48,513.16\n",
      "   Idade média: 19.8 anos\n",
      "   Quilometragem média: 99,789 km\n",
      "   Volume: 3585.0 veículos (36.6%)\n",
      "\n",
      " Cluster 2 - Luxury:\n",
      "   Preço médio: R$ 1,241,962.00\n",
      "   Idade média: 12.9 anos\n",
      "   Quilometragem média: 94,757 km\n",
      "   Volume: 197.0 veículos (2.0%)\n",
      "\n",
      " Cluster 3 - Médio Seminovo:\n",
      "   Preço médio: R$ 54,968.13\n",
      "   Idade média: 8.2 anos\n",
      "   Quilometragem média: 154,167 km\n",
      "   Volume: 2983.0 veículos (30.4%)\n"
     ]
    },
    {
     "data": {
      "application/vnd.plotly.v1+json": {
       "config": {
        "plotlyServerURL": "https://plot.ly"
       },
       "data": [
        {
         "hovertemplate": "Valor_Venda=%{x}<br>Idade_Veiculo=%{y}<br>Quilometragem=%{z}<br>Segmento=%{marker.color}<extra></extra>",
         "legendgroup": "",
         "marker": {
          "color": {
           "bdata": "AQAAAAAAAAABAAAAAAAAAAAAAAAAAAAAAAAAAAEAAAABAAAAAwAAAAEAAAAAAAAAAAAAAAAAAAAAAAAAAQAAAAEAAAAAAAAAAAAAAAAAAAABAAAAAAAAAAEAAAAAAAAAAQAAAAAAAAABAAAAAwAAAAEAAAAAAAAAAAAAAAEAAAAAAAAAAQAAAAEAAAABAAAAAwAAAAMAAAABAAAAAAAAAAMAAAABAAAAAAAAAAMAAAABAAAAAQAAAAAAAAADAAAAAAAAAAAAAAADAAAAAQAAAAAAAAAAAAAAAAAAAAAAAAAAAAAAAQAAAAEAAAABAAAAAwAAAAAAAAACAAAAAwAAAAAAAAAAAAAAAQAAAAMAAAABAAAAAwAAAAEAAAABAAAAAQAAAAMAAAADAAAAAQAAAAAAAAADAAAAAAAAAAAAAAABAAAAAQAAAAAAAAABAAAAAQAAAAMAAAAAAAAAAAAAAAEAAAACAAAAAQAAAAEAAAAAAAAAAQAAAAEAAAABAAAAAQAAAAEAAAADAAAAAQAAAAEAAAADAAAAAQAAAAMAAAABAAAAAgAAAAMAAAADAAAAAQAAAAAAAAABAAAAAQAAAAAAAAADAAAAAQAAAAEAAAABAAAAAwAAAAEAAAADAAAAAwAAAAAAAAAAAAAAAwAAAAAAAAABAAAAAwAAAAMAAAAAAAAAAwAAAAMAAAABAAAAAAAAAAMAAAAAAAAAAAAAAAAAAAABAAAAAAAAAAAAAAAAAAAAAQAAAAMAAAADAAAAAwAAAAAAAAAAAAAAAwAAAAMAAAAAAAAAAQAAAAEAAAADAAAAAAAAAAMAAAADAAAAAQAAAAEAAAADAAAAAwAAAAAAAAADAAAAAQAAAAAAAAABAAAAAwAAAAEAAAADAAAAAQAAAAMAAAADAAAAAAAAAAEAAAADAAAAAQAAAAAAAAADAAAAAAAAAAAAAAADAAAAAAAAAAEAAAABAAAAAQAAAAAAAAAAAAAAAwAAAAEAAAABAAAAAAAAAAMAAAABAAAAAQAAAAEAAAABAAAAAwAAAAEAAAADAAAAAQAAAAEAAAADAAAAAwAAAAMAAAAAAAAAAAAAAAAAAAABAAAAAAAAAAAAAAABAAAAAwAAAAAAAAAAAAAAAAAAAAMAAAADAAAAAAAAAAEAAAABAAAAAQAAAAAAAAAAAAAAAQAAAAEAAAADAAAAAwAAAAEAAAAAAAAAAQAAAAMAAAABAAAAAAAAAAAAAAABAAAAAAAAAAEAAAAAAAAAAAAAAAAAAAADAAAAAAAAAAAAAAADAAAAAQAAAAMAAAADAAAAAQAAAAAAAAAAAAAAAQAAAAEAAAABAAAAAQAAAAAAAAABAAAAAQAAAAEAAAABAAAAAQAAAAAAAAAAAAAAAwAAAAMAAAAAAAAAAwAAAAAAAAADAAAAAAAAAAMAAAACAAAAAwAAAAEAAAABAAAAAwAAAAMAAAAAAAAAAAAAAAEAAAABAAAAAAAAAAAAAAADAAAAAAAAAAAAAAABAAAAAAAAAAAAAAAAAAAAAwAAAAEAAAADAAAAAQAAAAMAAAABAAAAAQAAAAMAAAADAAAAAQAAAAAAAAADAAAAAAAAAAEAAAAAAAAAAQAAAAAAAAABAAAAAwAAAAMAAAADAAAAAwAAAAAAAAADAAAAAQAAAAMAAAAAAAAAAQAAAAMAAAADAAAAAQAAAAEAAAABAAAAAQAAAAEAAAABAAAAAwAAAAEAAAABAAAAAwAAAAMAAAAAAAAAAQAAAAAAAAADAAAAAAAAAAEAAAAAAAAAAQAAAAEAAAAAAAAAAQAAAAAAAAAAAAAAAwAAAAMAAAAAAAAAAAAAAAMAAAAAAAAAAwAAAAMAAAAAAAAAAQAAAAMAAAAAAAAAAwAAAAAAAAAAAAAAAAAAAAEAAAADAAAAAwAAAAAAAAAAAAAAAwAAAAMAAAABAAAAAAAAAAEAAAAAAAAAAAAAAAMAAAADAAAAAAAAAAMAAAAAAAAAAQAAAAAAAAABAAAAAQAAAAEAAAAAAAAAAAAAAAAAAAABAAAAAAAAAAAAAAABAAAAAQAAAAEAAAADAAAAAAAAAAAAAAAAAAAAAwAAAAEAAAADAAAAAQAAAAMAAAABAAAAAQAAAAEAAAADAAAAAwAAAAAAAAABAAAAAwAAAAEAAAABAAAAAQAAAAEAAAADAAAAAAAAAAAAAAAAAAAAAAAAAAEAAAADAAAAAwAAAAMAAAADAAAAAAAAAAMAAAABAAAAAwAAAAEAAAAAAAAAAAAAAAEAAAADAAAAAwAAAAAAAAABAAAAAQAAAAMAAAADAAAAAAAAAAIAAAABAAAAAQAAAAMAAAADAAAAAAAAAAMAAAAAAAAAAAAAAAEAAAABAAAAAQAAAAAAAAADAAAAAwAAAAMAAAADAAAAAwAAAAEAAAADAAAAAQAAAAAAAAABAAAAAQAAAAEAAAADAAAAAAAAAAEAAAABAAAAAwAAAAAAAAAAAAAAAAAAAAAAAAABAAAAAAAAAAIAAAAAAAAAAwAAAAAAAAABAAAAAwAAAAEAAAADAAAAAwAAAAAAAAABAAAAAQAAAAEAAAABAAAAAwAAAAAAAAADAAAAAAAAAAAAAAADAAAAAwAAAAAAAAABAAAAAwAAAAAAAAAAAAAAAAAAAAEAAAADAAAAAQAAAAMAAAAAAAAAAQAAAAMAAAAAAAAAAQAAAAMAAAADAAAAAAAAAAEAAAADAAAAAQAAAAMAAAAAAAAAAQAAAAMAAAABAAAAAAAAAAMAAAADAAAAAwAAAAEAAAABAAAAAQAAAAMAAAAAAAAAAwAAAAMAAAADAAAAAwAAAAAAAAADAAAAAwAAAAMAAAADAAAAAAAAAAEAAAADAAAAAQAAAAEAAAADAAAAAAAAAAEAAAABAAAAAwAAAAEAAAABAAAAAAAAAAMAAAADAAAAAwAAAAMAAAADAAAAAwAAAAAAAAABAAAAAQAAAAMAAAABAAAAAAAAAAMAAAABAAAAAQAAAAAAAAABAAAAAAAAAAMAAAAAAAAAAQAAAAMAAAADAAAAAgAAAAMAAAADAAAAAAAAAAEAAAABAAAAAQAAAAAAAAABAAAAAwAAAAAAAAAAAAAAAQAAAAAAAAADAAAAAwAAAAEAAAAAAAAAAwAAAAMAAAAAAAAAAQAAAAMAAAADAAAAAQAAAAAAAAAAAAAAAgAAAAEAAAABAAAAAAAAAAIAAAAAAAAAAAAAAAMAAAABAAAAAAAAAAEAAAACAAAAAwAAAAMAAAABAAAAAQAAAAEAAAADAAAAAAAAAAAAAAAAAAAAAQAAAAEAAAABAAAAAAAAAAAAAAABAAAAAwAAAAEAAAAAAAAAAAAAAAMAAAABAAAAAQAAAAMAAAAAAAAAAQAAAAAAAAADAAAAAQAAAAAAAAAAAAAAAAAAAAEAAAADAAAAAAAAAAEAAAAAAAAAAQAAAAEAAAAAAAAAAgAAAAMAAAACAAAAAAAAAAEAAAABAAAAAwAAAAAAAAADAAAAAwAAAAAAAAADAAAAAAAAAAMAAAAAAAAAAAAAAAMAAAABAAAAAwAAAAEAAAADAAAAAwAAAAEAAAABAAAAAwAAAAMAAAAAAAAAAQAAAAAAAAADAAAAAwAAAAAAAAADAAAAAQAAAAMAAAADAAAAAAAAAAEAAAADAAAAAQAAAAAAAAABAAAAAwAAAAEAAAAAAAAAAAAAAAMAAAAAAAAAAAAAAAMAAAADAAAAAwAAAAAAAAABAAAAAQAAAAMAAAADAAAAAwAAAAEAAAADAAAAAAAAAAEAAAABAAAAAAAAAAEAAAAAAAAAAQAAAAAAAAAAAAAAAAAAAAAAAAAAAAAAAQAAAAEAAAAAAAAAAwAAAAAAAAAAAAAAAwAAAAEAAAABAAAAAQAAAAMAAAAAAAAAAwAAAAAAAAAAAAAAAQAAAAEAAAABAAAAAAAAAAAAAAADAAAAAQAAAAAAAAADAAAAAQAAAAMAAAADAAAAAAAAAAMAAAABAAAAAAAAAAMAAAABAAAAAQAAAAEAAAAAAAAAAAAAAAEAAAAAAAAAAQAAAAAAAAADAAAAAwAAAAEAAAAAAAAAAAAAAAAAAAADAAAAAQAAAAEAAAADAAAAAAAAAAEAAAABAAAAAQAAAAEAAAAAAAAAAwAAAAMAAAABAAAAAQAAAAEAAAABAAAAAQAAAAEAAAADAAAAAQAAAAMAAAADAAAAAAAAAAEAAAADAAAAAAAAAAAAAAABAAAAAQAAAAMAAAABAAAAAQAAAAEAAAABAAAAAQAAAAAAAAADAAAAAAAAAAMAAAABAAAAAwAAAAMAAAABAAAAAQAAAAMAAAADAAAAAQAAAAEAAAADAAAAAQAAAAAAAAABAAAAAwAAAAEAAAADAAAAAAAAAAAAAAADAAAAAQAAAAMAAAADAAAAAQAAAAAAAAAAAAAAAAAAAAAAAAABAAAAAAAAAAMAAAABAAAAAQAAAAAAAAAAAAAAAgAAAAAAAAAAAAAAAAAAAAEAAAABAAAAAwAAAAEAAAABAAAAAQAAAAAAAAABAAAAAAAAAAAAAAABAAAAAAAAAAEAAAAAAAAAAAAAAAEAAAABAAAAAwAAAAAAAAABAAAAAQAAAAEAAAABAAAAAQAAAAEAAAABAAAAAAAAAAMAAAAAAAAAAAAAAAEAAAADAAAAAAAAAAMAAAAAAAAAAAAAAAEAAAAAAAAAAAAAAAAAAAADAAAAAwAAAAAAAAABAAAAAAAAAAEAAAADAAAAAwAAAAEAAAABAAAAAAAAAAEAAAABAAAAAQAAAAAAAAADAAAAAwAAAAEAAAABAAAAAwAAAAAAAAAAAAAAAQAAAAAAAAAAAAAAAwAAAAMAAAAAAAAAAAAAAAEAAAADAAAAAAAAAAAAAAABAAAAAwAAAAMAAAADAAAAAgAAAAEAAAADAAAAAQAAAAAAAAADAAAAAQAAAAMAAAAAAAAAAAAAAAEAAAADAAAAAQAAAAAAAAAAAAAAAwAAAAEAAAADAAAAAQAAAAEAAAABAAAAAAAAAAMAAAABAAAAAwAAAAAAAAADAAAAAgAAAAAAAAABAAAAAAAAAAMAAAABAAAAAAAAAAAAAAADAAAAAQAAAAEAAAADAAAAAwAAAAMAAAADAAAAAAAAAAAAAAABAAAAAAAAAAEAAAADAAAAAwAAAAMAAAABAAAAAQAAAAEAAAABAAAAAwAAAAAAAAABAAAAAQAAAAAAAAADAAAAAAAAAAAAAAACAAAAAAAAAAAAAAADAAAAAQAAAAAAAAADAAAAAAAAAAEAAAADAAAAAwAAAAAAAAAAAAAAAQAAAAMAAAAAAAAAAAAAAAEAAAADAAAAAwAAAAAAAAABAAAAAQAAAAMAAAADAAAAAQAAAAMAAAADAAAAAQAAAAAAAAADAAAAAwAAAAEAAAADAAAAAQAAAAMAAAAAAAAAAwAAAAIAAAADAAAAAAAAAAIAAAADAAAAAwAAAAEAAAABAAAAAwAAAAMAAAADAAAAAQAAAAMAAAADAAAAAAAAAAEAAAADAAAAAQAAAAEAAAAAAAAAAQAAAAAAAAAAAAAAAQAAAAEAAAAAAAAAAQAAAAMAAAADAAAAAwAAAAAAAAABAAAAAAAAAAEAAAABAAAAAQAAAAAAAAADAAAAAQAAAAEAAAADAAAAAwAAAAAAAAADAAAAAAAAAAEAAAAAAAAAAQAAAAMAAAABAAAAAwAAAAEAAAABAAAAAwAAAAMAAAADAAAAAQAAAAMAAAABAAAAAAAAAAEAAAABAAAAAAAAAAEAAAABAAAAAQAAAAAAAAADAAAAAQAAAAMAAAAAAAAAAAAAAAEAAAABAAAAAQAAAAEAAAABAAAAAAAAAAAAAAABAAAAAAAAAAEAAAABAAAAAwAAAAMAAAAAAAAAAQAAAAMAAAABAAAAAwAAAAMAAAADAAAAAwAAAAMAAAABAAAAAAAAAAMAAAABAAAAAwAAAAMAAAABAAAAAAAAAAEAAAADAAAAAwAAAAMAAAAAAAAAAQAAAAEAAAADAAAAAAAAAAEAAAAAAAAAAQAAAAEAAAABAAAAAQAAAAAAAAABAAAAAQAAAAAAAAADAAAAAwAAAAEAAAADAAAAAwAAAAMAAAADAAAAAwAAAAAAAAACAAAAAAAAAAAAAAABAAAAAAAAAAEAAAAAAAAAAwAAAAMAAAADAAAAAAAAAAAAAAADAAAAAAAAAAEAAAAAAAAAAAAAAAEAAAADAAAAAAAAAAEAAAABAAAAAAAAAAEAAAAAAAAAAAAAAAMAAAAAAAAAAAAAAAAAAAAAAAAAAQAAAAIAAAABAAAAAQAAAAAAAAADAAAAAAAAAAAAAAABAAAAAAAAAAAAAAABAAAAAQAAAAMAAAABAAAAAAAAAAEAAAADAAAAAwAAAAEAAAACAAAAAgAAAAEAAAAAAAAAAwAAAAEAAAAAAAAAAQAAAAEAAAABAAAAAAAAAAEAAAABAAAAAQAAAAEAAAABAAAAAwAAAAAAAAABAAAAAgAAAAMAAAAAAAAAAwAAAAAAAAABAAAAAwAAAAEAAAADAAAAAQAAAAMAAAABAAAAAwAAAAMAAAADAAAAAQAAAAEAAAAAAAAAAQAAAAAAAAAAAAAAAgAAAAMAAAABAAAAAAAAAAEAAAABAAAAAAAAAAMAAAAAAAAAAwAAAAAAAAAAAAAAAwAAAAMAAAAAAAAAAQAAAAMAAAAAAAAAAQAAAAAAAAABAAAAAAAAAAMAAAAAAAAAAQAAAAEAAAADAAAAAAAAAAAAAAAAAAAAAQAAAAMAAAAAAAAAAwAAAAMAAAADAAAAAAAAAAEAAAAAAAAAAwAAAAEAAAACAAAAAAAAAAAAAAABAAAAAwAAAAAAAAADAAAAAQAAAAEAAAAAAAAAAQAAAAMAAAADAAAAAwAAAAAAAAADAAAAAQAAAAMAAAABAAAAAQAAAAEAAAAAAAAAAwAAAAMAAAABAAAAAQAAAAMAAAADAAAAAwAAAAIAAAAAAAAAAQAAAAEAAAAAAAAAAAAAAAAAAAAAAAAAAQAAAAMAAAABAAAAAAAAAAAAAAABAAAAAAAAAAAAAAAAAAAAAAAAAAAAAAADAAAAAQAAAAMAAAAAAAAAAAAAAAAAAAABAAAAAwAAAAMAAAADAAAAAQAAAAMAAAADAAAAAQAAAAEAAAAAAAAAAAAAAAAAAAAAAAAAAAAAAAMAAAADAAAAAQAAAAAAAAADAAAAAQAAAAEAAAABAAAAAAAAAAMAAAAAAAAAAQAAAAAAAAABAAAAAAAAAAEAAAADAAAAAwAAAAAAAAADAAAAAgAAAAMAAAADAAAAAAAAAAEAAAABAAAAAwAAAAAAAAAAAAAAAQAAAAMAAAAAAAAAAQAAAAEAAAACAAAAAwAAAAEAAAACAAAAAQAAAAAAAAABAAAAAQAAAAEAAAADAAAAAAAAAAAAAAADAAAAAAAAAAEAAAADAAAAAAAAAAAAAAABAAAAAAAAAAMAAAABAAAAAwAAAAMAAAAAAAAAAwAAAAAAAAAAAAAAAAAAAAAAAAABAAAAAQAAAAMAAAADAAAAAAAAAAEAAAADAAAAAwAAAAEAAAAAAAAAAwAAAAEAAAAAAAAAAwAAAAMAAAABAAAAAAAAAAMAAAABAAAAAAAAAAMAAAABAAAAAwAAAAAAAAAAAAAAAQAAAAAAAAAAAAAAAwAAAAAAAAAAAAAAAAAAAAAAAAAAAAAAAQAAAAAAAAABAAAAAQAAAAEAAAAAAAAAAAAAAAEAAAABAAAAAwAAAAAAAAADAAAAAQAAAAMAAAADAAAAAAAAAAAAAAABAAAAAQAAAAAAAAAAAAAAAwAAAAAAAAADAAAAAAAAAAAAAAABAAAAAAAAAAEAAAABAAAAAQAAAAAAAAABAAAAAQAAAAEAAAABAAAAAwAAAAAAAAABAAAAAQAAAAMAAAADAAAAAwAAAAEAAAAAAAAAAAAAAAEAAAAAAAAAAQAAAAAAAAAAAAAAAwAAAAAAAAADAAAAAAAAAAEAAAABAAAAAwAAAAEAAAABAAAAAAAAAAEAAAAAAAAAAQAAAAEAAAABAAAAAQAAAAEAAAABAAAAAAAAAAEAAAAAAAAAAQAAAAEAAAADAAAAAQAAAAEAAAAAAAAAAwAAAAEAAAAAAAAAAQAAAAMAAAADAAAAAAAAAAMAAAAAAAAAAQAAAAEAAAABAAAAAAAAAAAAAAABAAAAAwAAAAMAAAABAAAAAQAAAAMAAAABAAAAAwAAAAMAAAABAAAAAwAAAAEAAAAAAAAAAQAAAAMAAAABAAAAAwAAAAMAAAAAAAAAAwAAAAMAAAABAAAAAQAAAAMAAAAAAAAAAwAAAAEAAAABAAAAAwAAAAMAAAABAAAAAAAAAAEAAAABAAAAAAAAAAEAAAABAAAAAQAAAAEAAAABAAAAAwAAAAEAAAABAAAAAQAAAAEAAAACAAAAAwAAAAEAAAABAAAAAQAAAAMAAAAAAAAAAAAAAAEAAAACAAAAAQAAAAAAAAABAAAAAAAAAAAAAAABAAAAAwAAAAMAAAABAAAAAAAAAAEAAAAAAAAAAQAAAAEAAAABAAAAAwAAAAEAAAAAAAAAAQAAAAAAAAABAAAAAAAAAAMAAAAAAAAAAwAAAAEAAAABAAAAAwAAAAEAAAABAAAAAAAAAAEAAAABAAAAAQAAAAEAAAABAAAAAQAAAAMAAAABAAAAAwAAAAEAAAADAAAAAAAAAAAAAAABAAAAAQAAAAEAAAAAAAAAAQAAAAEAAAABAAAAAQAAAAMAAAAAAAAAAAAAAAAAAAAAAAAAAwAAAAEAAAADAAAAAwAAAAEAAAABAAAAAwAAAAAAAAAAAAAAAQAAAAEAAAAAAAAAAQAAAAAAAAAAAAAAAwAAAAAAAAAAAAAAAQAAAAMAAAABAAAAAQAAAAEAAAAAAAAAAAAAAAAAAAADAAAAAwAAAAMAAAABAAAAAQAAAAMAAAADAAAAAAAAAAAAAAABAAAAAwAAAAMAAAAAAAAAAgAAAAAAAAABAAAAAAAAAAAAAAABAAAAAQAAAAIAAAABAAAAAwAAAAEAAAAAAAAAAQAAAAAAAAABAAAAAwAAAAEAAAAAAAAAAAAAAAIAAAADAAAAAQAAAAAAAAABAAAAAAAAAAAAAAADAAAAAwAAAAMAAAABAAAAAwAAAAEAAAADAAAAAAAAAAMAAAABAAAAAwAAAAEAAAABAAAAAQAAAAEAAAAAAAAAAQAAAAMAAAADAAAAAQAAAAMAAAABAAAAAQAAAAAAAAAAAAAAAAAAAAAAAAABAAAAAAAAAAMAAAABAAAAAQAAAAMAAAAAAAAAAwAAAAAAAAABAAAAAwAAAAAAAAABAAAAAwAAAAEAAAADAAAAAQAAAAEAAAABAAAAAAAAAAMAAAADAAAAAAAAAAEAAAABAAAAAgAAAAMAAAABAAAAAwAAAAEAAAAAAAAAAwAAAAAAAAADAAAAAQAAAAMAAAAAAAAAAQAAAAAAAAAAAAAAAQAAAAMAAAADAAAAAwAAAAMAAAABAAAAAAAAAAMAAAABAAAAAwAAAAEAAAABAAAAAwAAAAEAAAABAAAAAAAAAAMAAAACAAAAAQAAAAMAAAADAAAAAQAAAAAAAAADAAAAAAAAAAEAAAAAAAAAAQAAAAMAAAABAAAAAwAAAAEAAAAAAAAAAQAAAAEAAAAAAAAAAAAAAAMAAAABAAAAAAAAAAMAAAABAAAAAAAAAAAAAAABAAAAAAAAAAEAAAADAAAAAwAAAAEAAAACAAAAAgAAAAEAAAAAAAAAAAAAAAAAAAABAAAAAAAAAAEAAAAAAAAAAQAAAAMAAAAAAAAAAAAAAAMAAAADAAAAAQAAAAEAAAABAAAAAwAAAAEAAAABAAAAAwAAAAEAAAABAAAAAAAAAAMAAAAAAAAAAgAAAAMAAAADAAAAAAAAAAAAAAAAAAAAAQAAAAEAAAAAAAAAAAAAAAAAAAAAAAAAAQAAAAAAAAABAAAAAQAAAAAAAAADAAAAAQAAAAAAAAAAAAAAAQAAAAAAAAAAAAAAAAAAAAEAAAABAAAAAQAAAAMAAAADAAAAAAAAAAEAAAABAAAAAAAAAAAAAAACAAAAAgAAAAMAAAADAAAAAwAAAAEAAAABAAAAAwAAAAMAAAADAAAAAQAAAAAAAAADAAAAAQAAAAEAAAADAAAAAwAAAAEAAAABAAAAAQAAAAAAAAABAAAAAAAAAAMAAAABAAAAAQAAAAMAAAAAAAAAAwAAAAMAAAADAAAAAQAAAAEAAAADAAAAAQAAAAAAAAADAAAAAgAAAAMAAAABAAAAAAAAAAEAAAAAAAAAAAAAAAEAAAAAAAAAAQAAAAMAAAAAAAAAAQAAAAEAAAABAAAAAQAAAAAAAAABAAAAAwAAAAMAAAABAAAAAAAAAAEAAAACAAAAAAAAAAMAAAABAAAAAQAAAAAAAAABAAAAAAAAAAAAAAABAAAAAwAAAAMAAAABAAAAAAAAAAAAAAADAAAAAgAAAAEAAAABAAAAAQAAAAEAAAABAAAAAwAAAAEAAAABAAAAAwAAAAEAAAADAAAAAAAAAAEAAAAAAAAAAQAAAAAAAAABAAAAAwAAAAEAAAAAAAAAAQAAAAAAAAABAAAAAAAAAAEAAAAAAAAAAAAAAAAAAAABAAAAAAAAAAEAAAADAAAAAAAAAAEAAAADAAAAAAAAAAAAAAABAAAAAQAAAAEAAAADAAAAAAAAAAMAAAABAAAAAwAAAAMAAAABAAAAAwAAAAMAAAABAAAAAQAAAAEAAAADAAAAAQAAAAMAAAAAAAAAAwAAAAAAAAADAAAAAQAAAAEAAAACAAAAAAAAAAEAAAAAAAAAAAAAAAMAAAADAAAAAAAAAAEAAAABAAAAAwAAAAMAAAADAAAAAQAAAAAAAAABAAAAAAAAAAEAAAAAAAAAAAAAAAAAAAABAAAAAAAAAAEAAAABAAAAAQAAAAEAAAAAAAAAAwAAAAEAAAADAAAAAAAAAAMAAAAAAAAAAQAAAAEAAAABAAAAAQAAAAMAAAADAAAAAQAAAAAAAAABAAAAAQAAAAAAAAAAAAAAAwAAAAEAAAABAAAAAAAAAAEAAAADAAAAAwAAAAMAAAAAAAAAAAAAAAEAAAADAAAAAAAAAAEAAAAAAAAAAQAAAAEAAAABAAAAAwAAAAEAAAABAAAAAwAAAAEAAAADAAAAAQAAAAMAAAAAAAAAAwAAAAEAAAAAAAAAAQAAAAMAAAABAAAAAwAAAAMAAAAAAAAAAAAAAAEAAAADAAAAAAAAAAAAAAADAAAAAAAAAAEAAAADAAAAAQAAAAMAAAAAAAAAAQAAAAIAAAABAAAAAAAAAAAAAAAAAAAAAQAAAAAAAAABAAAAAQAAAAAAAAADAAAAAQAAAAMAAAADAAAAAQAAAAAAAAADAAAAAwAAAAEAAAAAAAAAAAAAAAEAAAADAAAAAAAAAAEAAAABAAAAAAAAAAAAAAAAAAAAAAAAAAEAAAAAAAAAAwAAAAAAAAADAAAAAQAAAAMAAAABAAAAAQAAAAMAAAABAAAAAwAAAAEAAAABAAAAAwAAAAAAAAADAAAAAwAAAAEAAAABAAAAAAAAAAAAAAABAAAAAAAAAAEAAAAAAAAAAwAAAAMAAAADAAAAAAAAAAMAAAADAAAAAAAAAAAAAAADAAAAAwAAAAMAAAABAAAAAAAAAAMAAAAAAAAAAQAAAAEAAAAAAAAAAQAAAAEAAAAAAAAAAQAAAAAAAAAAAAAAAwAAAAMAAAADAAAAAQAAAAEAAAADAAAAAAAAAAAAAAABAAAAAwAAAAEAAAADAAAAAQAAAAEAAAABAAAAAgAAAAAAAAADAAAAAwAAAAAAAAADAAAAAAAAAAMAAAABAAAAAAAAAAAAAAADAAAAAQAAAAAAAAAAAAAAAQAAAAEAAAADAAAAAAAAAAMAAAAAAAAAAQAAAAAAAAADAAAAAQAAAAAAAAABAAAAAAAAAAMAAAABAAAAAAAAAAMAAAADAAAAAQAAAAEAAAABAAAAAwAAAAMAAAAAAAAAAQAAAAMAAAABAAAAAQAAAAMAAAABAAAAAwAAAAAAAAADAAAAAwAAAAEAAAAAAAAAAwAAAAMAAAADAAAAAwAAAAMAAAADAAAAAAAAAAEAAAADAAAAAAAAAAMAAAAAAAAAAwAAAAAAAAADAAAAAwAAAAAAAAAAAAAAAwAAAAAAAAADAAAAAAAAAAAAAAABAAAAAAAAAAMAAAADAAAAAQAAAAEAAAABAAAAAAAAAAEAAAACAAAAAwAAAAEAAAAAAAAAAwAAAAEAAAAAAAAAAwAAAAMAAAABAAAAAwAAAAEAAAAAAAAAAwAAAAAAAAACAAAAAAAAAAEAAAAAAAAAAQAAAAIAAAAAAAAAAQAAAAAAAAABAAAAAAAAAAEAAAADAAAAAAAAAAEAAAACAAAAAQAAAAEAAAAAAAAAAAAAAAEAAAAAAAAAAQAAAAAAAAAAAAAAAwAAAAAAAAABAAAAAQAAAAEAAAABAAAAAwAAAAEAAAAAAAAAAQAAAAEAAAAAAAAAAAAAAAEAAAADAAAAAAAAAAEAAAABAAAAAQAAAAMAAAABAAAAAwAAAAEAAAAAAAAAAQAAAAMAAAABAAAAAQAAAAEAAAAAAAAAAQAAAAAAAAAAAAAAAAAAAAEAAAABAAAAAQAAAAAAAAADAAAAAAAAAAAAAAABAAAAAQAAAAEAAAABAAAAAAAAAAEAAAAAAAAAAQAAAAAAAAABAAAAAAAAAAEAAAADAAAAAwAAAAEAAAADAAAAAQAAAAEAAAABAAAAAwAAAAMAAAAAAAAAAwAAAAEAAAABAAAAAgAAAAEAAAADAAAAAQAAAAIAAAACAAAAAwAAAAMAAAABAAAAAQAAAAMAAAAAAAAAAwAAAAEAAAABAAAAAwAAAAMAAAADAAAAAQAAAAEAAAABAAAAAAAAAAEAAAAAAAAAAwAAAAAAAAABAAAAAAAAAAMAAAAAAAAAAwAAAAAAAAABAAAAAAAAAAAAAAAAAAAAAQAAAAMAAAADAAAAAwAAAAAAAAABAAAAAQAAAAEAAAAAAAAAAAAAAAAAAAABAAAAAQAAAAEAAAAAAAAAAwAAAAMAAAABAAAAAwAAAAAAAAABAAAAAwAAAAEAAAABAAAAAAAAAAAAAAAAAAAAAQAAAAAAAAADAAAAAQAAAAMAAAAAAAAAAQAAAAAAAAABAAAAAAAAAAEAAAAAAAAAAAAAAAEAAAADAAAAAQAAAAAAAAADAAAAAQAAAAAAAAADAAAAAwAAAAEAAAADAAAAAwAAAAMAAAADAAAAAwAAAAMAAAABAAAAAwAAAAMAAAADAAAAAQAAAAIAAAABAAAAAQAAAAEAAAABAAAAAAAAAAAAAAAAAAAAAwAAAAMAAAABAAAAAwAAAAEAAAAAAAAAAQAAAAAAAAADAAAAAQAAAAAAAAABAAAAAwAAAAAAAAAAAAAAAAAAAAAAAAABAAAAAAAAAAMAAAADAAAAAQAAAAAAAAAAAAAAAQAAAAAAAAAAAAAAAQAAAAEAAAABAAAAAAAAAAEAAAADAAAAAQAAAAMAAAABAAAAAQAAAAMAAAADAAAAAwAAAAAAAAADAAAAAAAAAAEAAAABAAAAAQAAAAAAAAADAAAAAQAAAAMAAAADAAAAAwAAAAMAAAABAAAAAQAAAAMAAAABAAAAAQAAAAAAAAADAAAAAQAAAAMAAAAAAAAAAAAAAAAAAAADAAAAAwAAAAMAAAAAAAAAAwAAAAAAAAADAAAAAwAAAAEAAAADAAAAAQAAAAMAAAAAAAAAAAAAAAEAAAADAAAAAQAAAAEAAAADAAAAAAAAAAMAAAAAAAAAAQAAAAEAAAAAAAAAAAAAAAIAAAAAAAAAAAAAAAEAAAADAAAAAAAAAAEAAAAAAAAAAwAAAAEAAAADAAAAAAAAAAAAAAABAAAAAwAAAAEAAAADAAAAAAAAAAMAAAAAAAAAAAAAAAAAAAADAAAAAAAAAAEAAAADAAAAAAAAAAMAAAABAAAAAAAAAAEAAAADAAAAAwAAAAMAAAADAAAAAAAAAAEAAAAAAAAAAwAAAAMAAAABAAAAAwAAAAMAAAAAAAAAAQAAAAMAAAABAAAAAwAAAAMAAAAAAAAAAQAAAAAAAAABAAAAAwAAAAAAAAADAAAAAwAAAAEAAAAAAAAAAQAAAAEAAAACAAAAAwAAAAAAAAABAAAAAQAAAAEAAAAAAAAAAwAAAAMAAAADAAAAAwAAAAAAAAAAAAAAAwAAAAAAAAADAAAAAwAAAAMAAAABAAAAAQAAAAMAAAAAAAAAAAAAAAAAAAABAAAAAQAAAAMAAAADAAAAAwAAAAAAAAABAAAAAwAAAAAAAAABAAAAAQAAAAEAAAAAAAAAAQAAAAMAAAAAAAAAAAAAAAAAAAACAAAAAQAAAAEAAAABAAAAAwAAAAEAAAABAAAAAgAAAAMAAAABAAAAAwAAAAAAAAABAAAAAQAAAAMAAAABAAAAAAAAAAEAAAAAAAAAAAAAAAEAAAADAAAAAwAAAAMAAAABAAAAAwAAAAEAAAADAAAAAQAAAAMAAAAAAAAAAQAAAAAAAAADAAAAAAAAAAAAAAAAAAAAAAAAAAAAAAAAAAAAAwAAAAEAAAAAAAAAAAAAAAEAAAAAAAAAAAAAAAMAAAABAAAAAAAAAAAAAAADAAAAAwAAAAIAAAAAAAAAAQAAAAMAAAAAAAAAAQAAAAAAAAABAAAAAwAAAAMAAAABAAAAAQAAAAEAAAABAAAAAwAAAAEAAAADAAAAAQAAAAEAAAADAAAAAQAAAAMAAAADAAAAAQAAAAEAAAABAAAAAwAAAAMAAAAAAAAAAwAAAAMAAAADAAAAAAAAAAMAAAADAAAAAAAAAAMAAAABAAAAAwAAAAEAAAABAAAAAwAAAAMAAAADAAAAAQAAAAEAAAABAAAAAQAAAAMAAAAAAAAAAQAAAAEAAAADAAAAAQAAAAEAAAADAAAAAAAAAAAAAAAAAAAAAQAAAAEAAAAAAAAAAAAAAAAAAAADAAAAAAAAAAMAAAAAAAAAAwAAAAEAAAABAAAAAQAAAAAAAAABAAAAAQAAAAEAAAABAAAAAwAAAAEAAAADAAAAAAAAAAAAAAABAAAAAQAAAAEAAAADAAAAAAAAAAEAAAABAAAAAAAAAAAAAAAAAAAAAAAAAAAAAAABAAAAAQAAAAAAAAADAAAAAwAAAAMAAAABAAAAAAAAAAEAAAABAAAAAQAAAAAAAAAAAAAAAwAAAAMAAAADAAAAAQAAAAIAAAADAAAAAwAAAAIAAAAAAAAAAwAAAAEAAAACAAAAAwAAAAEAAAAAAAAAAAAAAAMAAAADAAAAAwAAAAAAAAABAAAAAQAAAAEAAAAAAAAAAQAAAAMAAAAAAAAAAwAAAAMAAAABAAAAAQAAAAEAAAABAAAAAAAAAAMAAAABAAAAAAAAAAEAAAABAAAAAQAAAAMAAAABAAAAAwAAAAMAAAABAAAAAAAAAAIAAAADAAAAAQAAAAMAAAABAAAAAQAAAAMAAAADAAAAAwAAAAEAAAAAAAAAAQAAAAAAAAAAAAAAAQAAAAMAAAAAAAAAAAAAAAAAAAABAAAAAQAAAAMAAAADAAAAAQAAAAMAAAADAAAAAwAAAAEAAAAAAAAAAwAAAAMAAAABAAAAAQAAAAAAAAABAAAAAQAAAAMAAAADAAAAAwAAAAMAAAABAAAAAwAAAAAAAAAAAAAAAwAAAAEAAAABAAAAAwAAAAAAAAADAAAAAQAAAAEAAAAAAAAAAAAAAAMAAAABAAAAAQAAAAEAAAADAAAAAAAAAAEAAAAAAAAAAQAAAAEAAAAAAAAAAwAAAAEAAAAAAAAAAwAAAAAAAAABAAAAAwAAAAAAAAAAAAAAAAAAAAEAAAABAAAAAQAAAAEAAAAAAAAAAwAAAAEAAAADAAAAAwAAAAEAAAADAAAAAQAAAAMAAAADAAAAAAAAAAMAAAAAAAAAAwAAAAAAAAAAAAAAAQAAAAMAAAADAAAAAQAAAAEAAAADAAAAAwAAAAMAAAADAAAAAQAAAAAAAAABAAAAAQAAAAEAAAABAAAAAQAAAAEAAAABAAAAAwAAAAEAAAAAAAAAAQAAAAEAAAAAAAAAAQAAAAAAAAABAAAAAwAAAAMAAAAAAAAAAAAAAAAAAAABAAAAAwAAAAMAAAADAAAAAAAAAAAAAAABAAAAAQAAAAMAAAAAAAAAAAAAAAMAAAABAAAAAQAAAAEAAAADAAAAAAAAAAEAAAABAAAAAwAAAAMAAAAAAAAAAwAAAAEAAAABAAAAAQAAAAMAAAABAAAAAAAAAAMAAAABAAAAAAAAAAMAAAACAAAAAAAAAAMAAAABAAAAAAAAAAAAAAABAAAAAwAAAAEAAAABAAAAAwAAAAEAAAADAAAAAQAAAAEAAAAAAAAAAAAAAAEAAAAAAAAAAQAAAAEAAAABAAAAAgAAAAAAAAABAAAAAwAAAAAAAAABAAAAAAAAAAAAAAABAAAAAwAAAAMAAAABAAAAAAAAAAEAAAABAAAAAAAAAAAAAAABAAAAAwAAAAEAAAADAAAAAQAAAAEAAAAAAAAAAAAAAAMAAAABAAAAAQAAAAEAAAADAAAAAwAAAAAAAAADAAAAAwAAAAAAAAAAAAAAAwAAAAMAAAABAAAAAQAAAAAAAAABAAAAAwAAAAEAAAADAAAAAAAAAAMAAAABAAAAAQAAAAAAAAABAAAAAwAAAAEAAAABAAAAAQAAAAMAAAABAAAAAQAAAAEAAAADAAAAAwAAAAEAAAADAAAAAAAAAAAAAAADAAAAAwAAAAMAAAAAAAAAAQAAAAAAAAABAAAAAwAAAAAAAAABAAAAAwAAAAAAAAABAAAAAAAAAAAAAAAAAAAAAwAAAAMAAAABAAAAAwAAAAEAAAADAAAAAwAAAAEAAAABAAAAAAAAAAMAAAABAAAAAAAAAAMAAAAAAAAAAAAAAAMAAAADAAAAAAAAAAMAAAABAAAAAQAAAAAAAAADAAAAAQAAAAEAAAAAAAAAAAAAAAAAAAABAAAAAwAAAAIAAAADAAAAAQAAAAAAAAAAAAAAAAAAAAMAAAAAAAAAAAAAAAAAAAABAAAAAQAAAAEAAAADAAAAAQAAAAAAAAABAAAAAgAAAAEAAAADAAAAAAAAAAEAAAAAAAAAAgAAAAEAAAABAAAAAQAAAAAAAAABAAAAAQAAAAMAAAADAAAAAAAAAAAAAAABAAAAAAAAAAMAAAABAAAAAAAAAAMAAAAAAAAAAQAAAAEAAAADAAAAAwAAAAEAAAADAAAAAAAAAAEAAAAAAAAAAAAAAAMAAAADAAAAAAAAAAEAAAABAAAAAAAAAAEAAAADAAAAAAAAAAEAAAAAAAAAAwAAAAAAAAABAAAAAQAAAAMAAAAAAAAAAgAAAAAAAAADAAAAAwAAAAEAAAADAAAAAQAAAAAAAAADAAAAAwAAAAMAAAAAAAAAAAAAAAEAAAADAAAAAAAAAAAAAAABAAAAAAAAAAEAAAABAAAAAwAAAAMAAAAAAAAAAQAAAAEAAAABAAAAAAAAAAEAAAABAAAAAQAAAAEAAAADAAAAAQAAAAAAAAABAAAAAwAAAAEAAAABAAAAAwAAAAEAAAABAAAAAQAAAAAAAAABAAAAAwAAAAMAAAADAAAAAQAAAAEAAAADAAAAAQAAAAAAAAADAAAAAAAAAAEAAAADAAAAAQAAAAEAAAADAAAAAQAAAAAAAAADAAAAAwAAAAAAAAAAAAAAAQAAAAMAAAADAAAAAQAAAAMAAAAAAAAAAQAAAAIAAAADAAAAAwAAAAAAAAAAAAAAAwAAAAMAAAABAAAAAAAAAAEAAAABAAAAAQAAAAMAAAABAAAAAQAAAAMAAAABAAAAAQAAAAAAAAABAAAAAQAAAAAAAAABAAAAAQAAAAAAAAAAAAAAAwAAAAMAAAABAAAAAQAAAAEAAAADAAAAAAAAAAAAAAAAAAAAAwAAAAMAAAAAAAAAAwAAAAMAAAADAAAAAAAAAAEAAAAAAAAAAQAAAAIAAAAAAAAAAQAAAAAAAAABAAAAAQAAAAEAAAABAAAAAAAAAAEAAAAAAAAAAwAAAAAAAAAAAAAAAwAAAAMAAAABAAAAAwAAAAEAAAAAAAAAAwAAAAAAAAABAAAAAQAAAAEAAAAAAAAAAAAAAAMAAAABAAAAAQAAAAEAAAAAAAAAAwAAAAAAAAADAAAAAwAAAAMAAAABAAAAAAAAAAAAAAABAAAAAwAAAAMAAAABAAAAAQAAAAEAAAABAAAAAQAAAAAAAAAAAAAAAQAAAAAAAAABAAAAAQAAAAMAAAABAAAAAwAAAAEAAAADAAAAAQAAAAEAAAAAAAAAAAAAAAEAAAADAAAAAQAAAAAAAAAAAAAAAAAAAAMAAAACAAAAAQAAAAMAAAADAAAAAwAAAAEAAAADAAAAAAAAAAEAAAAAAAAAAwAAAAEAAAADAAAAAQAAAAMAAAABAAAAAwAAAAAAAAAAAAAAAAAAAAAAAAADAAAAAAAAAAMAAAADAAAAAQAAAAEAAAABAAAAAQAAAAAAAAABAAAAAQAAAAAAAAABAAAAAwAAAAEAAAABAAAAAwAAAAMAAAADAAAAAAAAAAEAAAABAAAAAQAAAAAAAAABAAAAAwAAAAAAAAABAAAAAAAAAAEAAAADAAAAAAAAAAAAAAADAAAAAwAAAAAAAAAAAAAAAQAAAAAAAAADAAAAAQAAAAMAAAADAAAAAQAAAAAAAAACAAAAAAAAAAMAAAAAAAAAAQAAAAEAAAAAAAAAAAAAAAEAAAADAAAAAAAAAAMAAAAAAAAAAgAAAAMAAAABAAAAAAAAAAAAAAABAAAAAQAAAAMAAAAAAAAAAwAAAAAAAAADAAAAAwAAAAEAAAAAAAAAAQAAAAAAAAABAAAAAAAAAAMAAAABAAAAAwAAAAEAAAADAAAAAwAAAAEAAAADAAAAAQAAAAEAAAABAAAAAwAAAAMAAAADAAAAAQAAAAEAAAAAAAAAAwAAAAEAAAAAAAAAAQAAAAMAAAABAAAAAwAAAAEAAAABAAAAAgAAAAAAAAAAAAAAAQAAAAMAAAABAAAAAwAAAAMAAAADAAAAAwAAAAEAAAABAAAAAAAAAAAAAAAAAAAAAwAAAAAAAAABAAAAAwAAAAAAAAADAAAAAwAAAAAAAAADAAAAAwAAAAEAAAADAAAAAAAAAAAAAAADAAAAAAAAAAMAAAAAAAAAAwAAAAEAAAADAAAAAAAAAAMAAAAAAAAAAAAAAAEAAAAAAAAAAQAAAAEAAAABAAAAAQAAAAEAAAADAAAAAwAAAAEAAAAAAAAAAAAAAAMAAAAAAAAAAQAAAAAAAAABAAAAAQAAAAMAAAABAAAAAAAAAAEAAAABAAAAAAAAAAAAAAADAAAAAwAAAAAAAAADAAAAAwAAAAAAAAADAAAAAwAAAAMAAAAAAAAAAQAAAAAAAAADAAAAAAAAAAMAAAAAAAAAAwAAAAAAAAAAAAAAAQAAAAMAAAAAAAAAAwAAAAMAAAABAAAAAQAAAAEAAAAAAAAAAwAAAAEAAAABAAAAAAAAAAEAAAABAAAAAwAAAAEAAAADAAAAAAAAAAIAAAAAAAAAAgAAAAMAAAABAAAAAQAAAAMAAAABAAAAAAAAAAMAAAADAAAAAQAAAAEAAAABAAAAAQAAAAAAAAAAAAAAAAAAAAAAAAACAAAAAQAAAAEAAAAAAAAAAAAAAAEAAAAAAAAAAQAAAAAAAAABAAAAAAAAAAAAAAAAAAAAAwAAAAEAAAAAAAAAAAAAAAEAAAADAAAAAwAAAAAAAAABAAAAAwAAAAMAAAAAAAAAAQAAAAMAAAADAAAAAAAAAAAAAAABAAAAAAAAAAEAAAAAAAAAAAAAAAMAAAABAAAAAAAAAAEAAAAAAAAAAQAAAAMAAAAAAAAAAQAAAAEAAAAAAAAAAwAAAAMAAAADAAAAAwAAAAEAAAAAAAAAAwAAAAEAAAAAAAAAAQAAAAMAAAAAAAAAAQAAAAMAAAABAAAAAwAAAAEAAAADAAAAAAAAAAEAAAABAAAAAQAAAAMAAAAAAAAAAQAAAAEAAAABAAAAAAAAAAEAAAADAAAAAAAAAAAAAAAAAAAAAAAAAAMAAAABAAAAAQAAAAMAAAAAAAAAAwAAAAMAAAADAAAAAQAAAAAAAAAAAAAAAAAAAAEAAAABAAAAAwAAAAMAAAABAAAAAwAAAAAAAAAAAAAAAAAAAAEAAAADAAAAAwAAAAEAAAAAAAAAAwAAAAIAAAADAAAAAAAAAAAAAAABAAAAAwAAAAAAAAADAAAAAwAAAAEAAAADAAAAAQAAAAMAAAABAAAAAwAAAAEAAAABAAAAAQAAAAAAAAABAAAAAAAAAAMAAAADAAAAAQAAAAAAAAABAAAAAAAAAAAAAAABAAAAAQAAAAAAAAADAAAAAwAAAAMAAAABAAAAAQAAAAIAAAAAAAAAAwAAAAAAAAACAAAAAAAAAAEAAAAAAAAAAQAAAAAAAAABAAAAAQAAAAMAAAADAAAAAQAAAAEAAAABAAAAAQAAAAMAAAAAAAAAAQAAAAEAAAABAAAAAwAAAAAAAAADAAAAAAAAAAEAAAAAAAAAAQAAAAMAAAABAAAAAQAAAAAAAAABAAAAAQAAAAAAAAABAAAAAAAAAAMAAAADAAAAAQAAAAAAAAAAAAAAAAAAAAEAAAABAAAAAQAAAAAAAAADAAAAAwAAAAEAAAAAAAAAAwAAAAEAAAADAAAAAQAAAAEAAAAAAAAAAQAAAAAAAAABAAAAAgAAAAAAAAADAAAAAQAAAAMAAAABAAAAAAAAAAEAAAADAAAAAAAAAAEAAAABAAAAAQAAAAMAAAADAAAAAQAAAAEAAAAAAAAAAAAAAAMAAAADAAAAAQAAAAMAAAADAAAAAQAAAAMAAAAAAAAAAAAAAAMAAAABAAAAAQAAAAEAAAADAAAAAAAAAAEAAAADAAAAAQAAAAEAAAADAAAAAQAAAAMAAAABAAAAAQAAAAAAAAABAAAAAAAAAAAAAAAAAAAAAAAAAAAAAAAAAAAAAQAAAAAAAAAAAAAAAgAAAAMAAAACAAAAAwAAAAEAAAADAAAAAwAAAAAAAAADAAAAAwAAAAMAAAAAAAAAAQAAAAAAAAABAAAAAQAAAAEAAAABAAAAAQAAAAEAAAABAAAAAQAAAAAAAAABAAAAAwAAAAAAAAADAAAAAwAAAAAAAAADAAAAAQAAAAEAAAABAAAAAQAAAAMAAAAAAAAAAAAAAAAAAAADAAAAAwAAAAMAAAADAAAAAwAAAAAAAAADAAAAAwAAAAMAAAABAAAAAQAAAAEAAAAAAAAAAQAAAAEAAAABAAAAAQAAAAEAAAAAAAAAAAAAAAIAAAAAAAAAAQAAAAMAAAAAAAAAAQAAAAAAAAAAAAAAAgAAAAMAAAADAAAAAQAAAAMAAAADAAAAAAAAAAAAAAADAAAAAQAAAAEAAAAAAAAAAwAAAAAAAAABAAAAAAAAAAEAAAADAAAAAQAAAAEAAAADAAAAAQAAAAEAAAABAAAAAwAAAAMAAAABAAAAAwAAAAMAAAAAAAAAAQAAAAEAAAAAAAAAAwAAAAMAAAAAAAAAAAAAAAAAAAABAAAAAQAAAAEAAAADAAAAAwAAAAAAAAAAAAAAAQAAAAEAAAAAAAAAAQAAAAAAAAAAAAAAAwAAAAEAAAAAAAAAAAAAAAIAAAAAAAAAAQAAAAEAAAAAAAAAAwAAAAEAAAAAAAAAAAAAAAAAAAADAAAAAwAAAAAAAAABAAAAAAAAAAMAAAAAAAAAAQAAAAAAAAADAAAAAwAAAAAAAAABAAAAAAAAAAMAAAAAAAAAAwAAAAEAAAAAAAAAAwAAAAAAAAAAAAAAAAAAAAEAAAADAAAAAQAAAAAAAAADAAAAAQAAAAEAAAADAAAAAAAAAAAAAAABAAAAAwAAAAMAAAAAAAAAAAAAAAAAAAABAAAAAQAAAAMAAAAAAAAAAwAAAAEAAAAAAAAAAQAAAAEAAAAAAAAAAAAAAAEAAAAAAAAAAwAAAAEAAAABAAAAAAAAAAMAAAAAAAAAAwAAAAAAAAABAAAAAwAAAAMAAAADAAAAAQAAAAEAAAADAAAAAQAAAAMAAAABAAAAAQAAAAAAAAAAAAAAAwAAAAEAAAAAAAAAAwAAAAMAAAABAAAAAgAAAAEAAAADAAAAAwAAAAEAAAAAAAAAAAAAAAAAAAAAAAAAAQAAAAMAAAABAAAAAgAAAAMAAAABAAAAAwAAAAMAAAAAAAAAAQAAAAAAAAABAAAAAAAAAAAAAAABAAAAAAAAAAAAAAAAAAAAAAAAAAEAAAAAAAAAAQAAAAEAAAAAAAAAAQAAAAMAAAADAAAAAQAAAAEAAAADAAAAAQAAAAAAAAABAAAAAAAAAAEAAAABAAAAAAAAAAMAAAABAAAAAwAAAAMAAAAAAAAAAAAAAAMAAAAAAAAAAQAAAAMAAAAAAAAAAAAAAAAAAAADAAAAAAAAAAMAAAABAAAAAQAAAAAAAAAAAAAAAwAAAAEAAAAAAAAAAwAAAAAAAAAAAAAAAQAAAAAAAAABAAAAAwAAAAEAAAABAAAAAQAAAAEAAAABAAAAAAAAAAEAAAADAAAAAwAAAAEAAAABAAAAAAAAAAMAAAAAAAAAAQAAAAAAAAAAAAAAAwAAAAAAAAADAAAAAwAAAAMAAAABAAAAAwAAAAMAAAAAAAAAAQAAAAEAAAAAAAAAAwAAAAAAAAAAAAAAAQAAAAAAAAACAAAAAAAAAAEAAAAAAAAAAQAAAAEAAAABAAAAAgAAAAEAAAABAAAAAAAAAAIAAAAAAAAAAAAAAAMAAAADAAAAAwAAAAAAAAABAAAAAAAAAAEAAAADAAAAAwAAAAAAAAADAAAAAwAAAAEAAAABAAAAAAAAAAMAAAADAAAAAwAAAAEAAAADAAAAAAAAAAEAAAABAAAAAAAAAAAAAAAAAAAAAwAAAAEAAAAAAAAAAQAAAAEAAAAAAAAAAQAAAAEAAAABAAAAAwAAAAEAAAABAAAAAwAAAAMAAAADAAAAAAAAAAEAAAABAAAAAAAAAAEAAAADAAAAAwAAAAEAAAAAAAAAAAAAAAEAAAAAAAAAAAAAAAAAAAADAAAAAAAAAAAAAAAAAAAAAAAAAAEAAAADAAAAAAAAAAEAAAADAAAAAQAAAAMAAAADAAAAAAAAAAMAAAABAAAAAQAAAAAAAAADAAAAAAAAAAEAAAADAAAAAAAAAAMAAAADAAAAAAAAAAEAAAADAAAAAAAAAAMAAAADAAAAAwAAAAEAAAABAAAAAwAAAAAAAAABAAAAAQAAAAEAAAABAAAAAwAAAAAAAAABAAAAAwAAAAAAAAABAAAAAwAAAAMAAAADAAAAAwAAAAEAAAADAAAAAQAAAAEAAAABAAAAAwAAAAEAAAACAAAAAQAAAAAAAAABAAAAAQAAAAEAAAAAAAAAAwAAAAAAAAAAAAAAAAAAAAEAAAADAAAAAwAAAAMAAAABAAAAAQAAAAAAAAAAAAAAAQAAAAMAAAAAAAAAAwAAAAAAAAABAAAAAAAAAAEAAAABAAAAAQAAAAAAAAADAAAAAQAAAAEAAAADAAAAAQAAAAEAAAAAAAAAAwAAAAMAAAABAAAAAAAAAAMAAAAAAAAAAAAAAAAAAAAAAAAAAwAAAAEAAAABAAAAAAAAAAAAAAABAAAAAAAAAAMAAAADAAAAAwAAAAAAAAADAAAAAwAAAAMAAAADAAAAAAAAAAEAAAADAAAAAwAAAAAAAAADAAAAAQAAAAAAAAADAAAAAQAAAAMAAAAAAAAAAAAAAAEAAAABAAAAAQAAAAMAAAADAAAAAQAAAAMAAAAAAAAAAAAAAAAAAAADAAAAAwAAAAAAAAAAAAAAAwAAAAIAAAADAAAAAAAAAAEAAAADAAAAAQAAAAEAAAADAAAAAQAAAAAAAAABAAAAAwAAAAAAAAABAAAAAQAAAAMAAAAAAAAAAgAAAAMAAAABAAAAAQAAAAAAAAABAAAAAQAAAAEAAAADAAAAAwAAAAEAAAABAAAAAQAAAAAAAAADAAAAAQAAAAMAAAAAAAAAAAAAAAAAAAABAAAAAwAAAAEAAAADAAAAAQAAAAEAAAAAAAAAAgAAAAEAAAABAAAAAQAAAAMAAAACAAAAAAAAAAEAAAAAAAAAAAAAAAAAAAADAAAAAwAAAAMAAAAAAAAAAwAAAAIAAAABAAAAAwAAAAAAAAABAAAAAQAAAAAAAAADAAAAAAAAAAAAAAABAAAAAAAAAAMAAAABAAAAAQAAAAMAAAAAAAAAAAAAAAMAAAADAAAAAAAAAAAAAAABAAAAAwAAAAEAAAAAAAAAAQAAAAEAAAAAAAAAAQAAAAMAAAABAAAAAAAAAAMAAAADAAAAAwAAAAAAAAABAAAAAAAAAAMAAAADAAAAAwAAAAAAAAADAAAAAQAAAAAAAAABAAAAAQAAAAEAAAADAAAAAAAAAAEAAAADAAAAAQAAAAAAAAABAAAAAQAAAAAAAAADAAAAAQAAAAMAAAAAAAAAAwAAAAMAAAABAAAAAAAAAAAAAAABAAAAAAAAAAEAAAABAAAAAwAAAAMAAAADAAAAAwAAAAMAAAAAAAAAAwAAAAAAAAADAAAAAQAAAAMAAAABAAAAAQAAAAMAAAAAAAAAAwAAAAAAAAAAAAAAAwAAAAEAAAABAAAAAwAAAAAAAAADAAAAAwAAAAEAAAAAAAAAAwAAAAEAAAAAAAAAAwAAAAAAAAADAAAAAAAAAAEAAAADAAAAAAAAAAEAAAABAAAAAQAAAAMAAAABAAAAAQAAAAMAAAAAAAAAAwAAAAEAAAABAAAAAwAAAAEAAAABAAAAAQAAAAEAAAADAAAAAAAAAAEAAAADAAAAAQAAAAAAAAADAAAAAQAAAAEAAAAAAAAAAwAAAAAAAAADAAAAAAAAAAEAAAADAAAAAQAAAAEAAAABAAAAAQAAAAEAAAAAAAAAAAAAAAMAAAABAAAAAwAAAAAAAAABAAAAAQAAAAMAAAAAAAAAAAAAAAMAAAADAAAAAQAAAAEAAAABAAAAAAAAAAMAAAADAAAAAAAAAAMAAAAAAAAAAAAAAAEAAAADAAAAAwAAAAEAAAAAAAAAAwAAAAMAAAABAAAAAQAAAAEAAAABAAAAAAAAAAEAAAABAAAAAwAAAAAAAAABAAAAAAAAAAEAAAABAAAAAQAAAAMAAAAAAAAAAAAAAAEAAAADAAAAAwAAAAIAAAAAAAAAAQAAAAEAAAAAAAAAAQAAAAAAAAADAAAAAAAAAAAAAAABAAAAAQAAAAAAAAABAAAAAAAAAAAAAAAAAAAAAAAAAAMAAAAAAAAAAwAAAAAAAAABAAAAAAAAAAEAAAAAAAAAAQAAAAAAAAAAAAAAAQAAAAAAAAADAAAAAAAAAAMAAAAAAAAAAAAAAAEAAAAAAAAAAQAAAAEAAAABAAAAAwAAAAEAAAABAAAAAQAAAAAAAAADAAAAAwAAAAAAAAAAAAAAAQAAAAAAAAADAAAAAwAAAAEAAAAAAAAAAQAAAAEAAAADAAAAAAAAAAAAAAAAAAAAAQAAAAAAAAABAAAAAQAAAAAAAAABAAAAAQAAAAAAAAABAAAAAQAAAAAAAAABAAAAAQAAAAAAAAABAAAAAAAAAAMAAAAAAAAAAQAAAAAAAAADAAAAAwAAAAAAAAAAAAAAAwAAAAAAAAABAAAAAwAAAAAAAAADAAAAAQAAAAMAAAAAAAAAAAAAAAEAAAAAAAAAAQAAAAEAAAADAAAAAQAAAAEAAAABAAAAAQAAAAAAAAADAAAAAQAAAAAAAAACAAAAAAAAAAEAAAADAAAAAgAAAAMAAAABAAAAAAAAAAEAAAADAAAAAQAAAAEAAAABAAAAAQAAAAMAAAAAAAAAAwAAAAEAAAABAAAAAQAAAAAAAAAAAAAAAAAAAAAAAAADAAAAAgAAAAEAAAABAAAAAAAAAAAAAAABAAAAAQAAAAEAAAABAAAAAwAAAAMAAAADAAAAAQAAAAAAAAAAAAAAAQAAAAAAAAABAAAAAwAAAAMAAAAAAAAAAAAAAAMAAAADAAAAAwAAAAMAAAABAAAAAwAAAAEAAAABAAAAAQAAAAAAAAADAAAAAAAAAAAAAAADAAAAAAAAAAMAAAABAAAAAwAAAAEAAAAAAAAAAAAAAAMAAAADAAAAAwAAAAMAAAADAAAAAAAAAAMAAAAAAAAAAwAAAAEAAAADAAAAAwAAAAEAAAADAAAAAAAAAAAAAAABAAAAAQAAAAEAAAABAAAAAQAAAAMAAAADAAAAAAAAAAEAAAABAAAAAQAAAAAAAAAAAAAAAgAAAAEAAAAAAAAAAwAAAAEAAAAAAAAAAwAAAAEAAAABAAAAAwAAAAMAAAAAAAAAAAAAAAEAAAABAAAAAAAAAAEAAAAAAAAAAQAAAAMAAAADAAAAAwAAAAAAAAADAAAAAAAAAAMAAAABAAAAAwAAAAAAAAADAAAAAQAAAAEAAAABAAAAAwAAAAMAAAADAAAAAAAAAAEAAAABAAAAAQAAAAMAAAAAAAAAAwAAAAEAAAADAAAAAAAAAAAAAAAAAAAAAQAAAAEAAAAAAAAAAwAAAAEAAAAAAAAAAQAAAAEAAAABAAAAAwAAAAMAAAABAAAAAAAAAAMAAAABAAAAAQAAAAAAAAADAAAAAAAAAAEAAAABAAAAAwAAAAEAAAAAAAAAAwAAAAMAAAABAAAAAQAAAAMAAAABAAAAAQAAAAEAAAABAAAAAQAAAAEAAAABAAAAAQAAAAMAAAAAAAAAAwAAAAEAAAABAAAAAAAAAAMAAAADAAAAAwAAAAMAAAAAAAAAAwAAAAAAAAAAAAAAAQAAAAEAAAABAAAAAQAAAAMAAAAAAAAAAQAAAAAAAAADAAAAAQAAAAEAAAADAAAAAwAAAAAAAAADAAAAAAAAAAEAAAAAAAAAAQAAAAAAAAADAAAAAwAAAAMAAAAAAAAAAQAAAAMAAAAAAAAAAAAAAAMAAAADAAAAAQAAAAMAAAADAAAAAwAAAAEAAAADAAAAAwAAAAEAAAABAAAAAwAAAAMAAAADAAAAAwAAAAEAAAAAAAAAAQAAAAEAAAADAAAAAAAAAAMAAAABAAAAAwAAAAAAAAADAAAAAAAAAAAAAAABAAAAAAAAAAMAAAADAAAAAAAAAAMAAAABAAAAAQAAAAAAAAAAAAAAAQAAAAMAAAABAAAAAQAAAAAAAAABAAAAAQAAAAMAAAABAAAAAQAAAAEAAAADAAAAAgAAAAAAAAADAAAAAQAAAAEAAAAAAAAAAwAAAAMAAAAAAAAAAAAAAAMAAAAAAAAAAAAAAAMAAAADAAAAAQAAAAAAAAAAAAAAAAAAAAAAAAADAAAAAwAAAAEAAAADAAAAAAAAAAEAAAABAAAAAAAAAAMAAAAAAAAAAQAAAAEAAAAAAAAAAwAAAAAAAAABAAAAAwAAAAAAAAADAAAAAAAAAAMAAAADAAAAAAAAAAEAAAAAAAAAAwAAAAMAAAAAAAAAAQAAAAMAAAADAAAAAQAAAAMAAAADAAAAAwAAAAAAAAABAAAAAwAAAAEAAAADAAAAAwAAAAAAAAADAAAAAQAAAAEAAAABAAAAAQAAAAAAAAAAAAAAAAAAAAAAAAAAAAAAAwAAAAEAAAABAAAAAwAAAAMAAAAAAAAAAQAAAAAAAAABAAAAAAAAAAEAAAABAAAAAQAAAAAAAAAAAAAAAQAAAAEAAAABAAAAAQAAAAMAAAAAAAAAAwAAAAMAAAAAAAAAAQAAAAEAAAAAAAAAAQAAAAEAAAADAAAAAwAAAAMAAAABAAAAAwAAAAMAAAAAAAAAAwAAAAEAAAABAAAAAwAAAAMAAAAAAAAAAAAAAAMAAAADAAAAAwAAAAAAAAABAAAAAwAAAAAAAAACAAAAAwAAAAEAAAABAAAAAwAAAAAAAAADAAAAAwAAAAEAAAAAAAAAAAAAAAEAAAAAAAAAAwAAAAMAAAABAAAAAAAAAAAAAAADAAAAAQAAAAEAAAAAAAAAAQAAAAAAAAADAAAAAAAAAAEAAAAAAAAAAAAAAAEAAAABAAAAAwAAAAMAAAADAAAAAwAAAAAAAAABAAAAAAAAAAAAAAABAAAAAAAAAAAAAAADAAAAAQAAAAAAAAADAAAAAAAAAAAAAAADAAAAAAAAAAEAAAAAAAAAAAAAAAEAAAADAAAAAQAAAAEAAAACAAAAAwAAAAMAAAABAAAAAQAAAAMAAAAAAAAAAAAAAAMAAAADAAAAAwAAAAEAAAAAAAAAAwAAAAAAAAAAAAAAAAAAAAAAAAAAAAAAAQAAAAEAAAADAAAAAAAAAAAAAAABAAAAAAAAAAAAAAAAAAAAAAAAAAEAAAABAAAAAAAAAAEAAAADAAAAAQAAAAMAAAAAAAAAAQAAAAEAAAABAAAAAQAAAAAAAAAAAAAAAQAAAAEAAAAAAAAAAAAAAAMAAAAAAAAAAQAAAAAAAAAAAAAAAQAAAAMAAAABAAAAAQAAAAMAAAABAAAAAwAAAAAAAAAAAAAAAQAAAAAAAAAAAAAAAAAAAAMAAAAAAAAAAQAAAAMAAAAAAAAAAwAAAAMAAAABAAAAAQAAAAAAAAABAAAAAQAAAAEAAAABAAAAAQAAAAEAAAAAAAAAAgAAAAAAAAABAAAAAQAAAAEAAAABAAAAAwAAAAMAAAADAAAAAwAAAAEAAAADAAAAAAAAAAEAAAADAAAAAQAAAAEAAAABAAAAAwAAAAMAAAABAAAAAAAAAAEAAAADAAAAAwAAAAEAAAADAAAAAAAAAAMAAAADAAAAAAAAAAAAAAADAAAAAQAAAAAAAAABAAAAAQAAAAEAAAACAAAAAwAAAAMAAAADAAAAAwAAAAAAAAABAAAAAwAAAAEAAAADAAAAAQAAAAMAAAADAAAAAAAAAAAAAAAAAAAAAwAAAAEAAAABAAAAAwAAAAAAAAADAAAAAwAAAAIAAAABAAAAAAAAAAAAAAADAAAAAAAAAAEAAAAAAAAAAQAAAAMAAAADAAAAAQAAAAAAAAABAAAAAwAAAAEAAAAAAAAAAQAAAAEAAAADAAAAAQAAAAEAAAABAAAAAAAAAAMAAAAAAAAAAQAAAAEAAAACAAAAAAAAAAAAAAABAAAAAwAAAAAAAAADAAAAAwAAAAAAAAADAAAAAwAAAAMAAAADAAAAAwAAAAMAAAADAAAAAQAAAAAAAAADAAAAAwAAAAAAAAABAAAAAQAAAAEAAAADAAAAAQAAAAEAAAADAAAAAAAAAAEAAAAAAAAAAwAAAAAAAAAAAAAAAwAAAAAAAAADAAAAAAAAAAMAAAABAAAAAwAAAAMAAAABAAAAAwAAAAEAAAADAAAAAwAAAAEAAAABAAAAAgAAAAAAAAADAAAAAQAAAAMAAAABAAAAAAAAAAEAAAABAAAAAAAAAAMAAAABAAAAAQAAAAAAAAAAAAAAAQAAAAMAAAAAAAAAAAAAAAMAAAABAAAAAAAAAAIAAAAAAAAAAwAAAAEAAAABAAAAAQAAAAEAAAAAAAAAAQAAAAEAAAADAAAAAQAAAAMAAAABAAAAAQAAAAEAAAADAAAAAgAAAAMAAAABAAAAAwAAAAMAAAAAAAAAAQAAAAMAAAAAAAAAAQAAAAEAAAAAAAAAAwAAAAAAAAADAAAAAwAAAAAAAAABAAAAAAAAAAEAAAAAAAAAAAAAAAEAAAABAAAAAAAAAAEAAAADAAAAAQAAAAAAAAAAAAAAAwAAAAEAAAADAAAAAwAAAAEAAAAAAAAAAQAAAAMAAAABAAAAAQAAAAMAAAABAAAAAQAAAAMAAAAAAAAAAwAAAAMAAAADAAAAAgAAAAMAAAAAAAAAAQAAAAEAAAADAAAAAAAAAAMAAAABAAAAAQAAAAMAAAAAAAAAAAAAAAAAAAABAAAAAQAAAAEAAAABAAAAAAAAAAMAAAAAAAAAAQAAAAMAAAABAAAAAwAAAAAAAAAAAAAAAAAAAAMAAAAAAAAAAAAAAAEAAAABAAAAAwAAAAEAAAAAAAAAAQAAAAMAAAABAAAAAAAAAAMAAAAAAAAAAAAAAAAAAAABAAAAAQAAAAAAAAAAAAAAAAAAAAEAAAAAAAAAAAAAAAEAAAABAAAAAwAAAAEAAAADAAAAAQAAAAMAAAAAAAAAAQAAAAEAAAADAAAAAAAAAAEAAAAAAAAAAwAAAAEAAAAAAAAAAQAAAAAAAAABAAAAAQAAAAMAAAAAAAAAAAAAAAAAAAAAAAAAAwAAAAEAAAAAAAAAAwAAAAMAAAADAAAAAAAAAAMAAAABAAAAAwAAAAEAAAAAAAAAAwAAAAAAAAABAAAAAwAAAAEAAAAAAAAAAAAAAAEAAAAAAAAAAAAAAAMAAAABAAAAAwAAAAMAAAABAAAAAwAAAAEAAAAAAAAAAwAAAAEAAAADAAAAAQAAAAEAAAABAAAAAwAAAAEAAAADAAAAAAAAAAAAAAADAAAAAwAAAAEAAAAAAAAAAAAAAAMAAAADAAAAAAAAAAMAAAAAAAAAAwAAAAMAAAADAAAAAQAAAAAAAAABAAAAAQAAAAMAAAAAAAAAAAAAAAAAAAABAAAAAQAAAAAAAAADAAAAAAAAAAMAAAAAAAAAAAAAAAAAAAAAAAAAAwAAAAAAAAABAAAAAAAAAAAAAAADAAAAAAAAAAAAAAAAAAAAAAAAAAMAAAAAAAAAAwAAAAMAAAADAAAAAwAAAAAAAAAAAAAAAwAAAAEAAAADAAAAAQAAAAAAAAABAAAAAAAAAAEAAAADAAAAAQAAAAEAAAABAAAAAwAAAAEAAAABAAAAAQAAAAEAAAADAAAAAQAAAAEAAAABAAAAAQAAAAEAAAAAAAAAAwAAAAMAAAAAAAAAAwAAAAAAAAABAAAAAQAAAAMAAAAAAAAAAwAAAAAAAAAAAAAAAwAAAAEAAAAAAAAAAQAAAAMAAAABAAAAAwAAAAEAAAAAAAAAAwAAAAMAAAABAAAAAwAAAAAAAAADAAAAAAAAAAEAAAAAAAAAAQAAAAMAAAADAAAAAAAAAAMAAAAAAAAAAQAAAAEAAAADAAAAAwAAAAEAAAADAAAAAwAAAAAAAAADAAAAAAAAAAEAAAAAAAAAAwAAAAEAAAADAAAAAAAAAAMAAAADAAAAAAAAAAAAAAADAAAAAAAAAAMAAAABAAAAAwAAAAAAAAABAAAAAAAAAAMAAAADAAAAAwAAAAAAAAADAAAAAgAAAAEAAAABAAAAAgAAAAEAAAABAAAAAAAAAAMAAAABAAAAAAAAAAEAAAADAAAAAAAAAAMAAAAAAAAAAwAAAAEAAAABAAAAAAAAAAAAAAABAAAAAwAAAAEAAAABAAAAAQAAAAAAAAABAAAAAwAAAAAAAAAAAAAAAAAAAAAAAAABAAAAAQAAAAAAAAABAAAAAAAAAAEAAAABAAAAAQAAAAEAAAAAAAAAAQAAAAEAAAADAAAAAAAAAAMAAAAAAAAAAQAAAAEAAAADAAAAAwAAAAEAAAABAAAAAAAAAAEAAAAAAAAAAQAAAAEAAAADAAAAAwAAAAEAAAADAAAAAAAAAAIAAAAAAAAAAwAAAAMAAAABAAAAAQAAAAEAAAAAAAAAAwAAAAEAAAAAAAAAAQAAAAEAAAABAAAAAQAAAAMAAAAAAAAAAwAAAAMAAAADAAAAAwAAAAAAAAAAAAAAAQAAAAAAAAABAAAAAwAAAAEAAAADAAAAAAAAAAAAAAADAAAAAQAAAAMAAAADAAAAAQAAAAEAAAADAAAAAQAAAAAAAAADAAAAAQAAAAMAAAADAAAAAQAAAAIAAAABAAAAAAAAAAMAAAABAAAAAwAAAAAAAAADAAAAAQAAAAMAAAABAAAAAAAAAAMAAAADAAAAAQAAAAAAAAABAAAAAAAAAAAAAAAAAAAAAwAAAAEAAAABAAAAAwAAAAMAAAADAAAAAwAAAAEAAAAAAAAAAQAAAAMAAAABAAAAAAAAAAMAAAAAAAAAAQAAAAAAAAAAAAAAAQAAAAEAAAAAAAAAAQAAAAEAAAADAAAAAQAAAAEAAAADAAAAAwAAAAEAAAABAAAAAgAAAAMAAAADAAAAAgAAAAMAAAAAAAAAAAAAAAEAAAABAAAAAQAAAAMAAAABAAAAAAAAAAAAAAAAAAAAAwAAAAMAAAADAAAAAwAAAAEAAAADAAAAAwAAAAMAAAAAAAAAAgAAAAEAAAABAAAAAQAAAAAAAAAAAAAAAQAAAAEAAAADAAAAAQAAAAAAAAABAAAAAwAAAAAAAAADAAAAAAAAAAAAAAADAAAAAwAAAAMAAAAAAAAAAQAAAAEAAAABAAAAAAAAAAMAAAADAAAAAwAAAAEAAAADAAAAAAAAAAAAAAABAAAAAQAAAAEAAAABAAAAAwAAAAEAAAAAAAAAAwAAAAAAAAADAAAAAQAAAAEAAAADAAAAAQAAAAEAAAABAAAAAQAAAAMAAAAAAAAAAwAAAAEAAAAAAAAAAwAAAAAAAAADAAAAAwAAAAAAAAADAAAAAQAAAAEAAAAAAAAAAQAAAAIAAAADAAAAAQAAAAMAAAAAAAAAAQAAAAEAAAADAAAAAwAAAAAAAAABAAAAAwAAAAAAAAADAAAAAAAAAAEAAAADAAAAAQAAAAEAAAAAAAAAAwAAAAMAAAABAAAAAAAAAAMAAAADAAAAAQAAAAEAAAABAAAAAQAAAAEAAAABAAAAAQAAAAMAAAAAAAAAAwAAAAIAAAADAAAAAAAAAAAAAAABAAAAAwAAAAEAAAADAAAAAwAAAAEAAAADAAAAAQAAAAEAAAABAAAAAwAAAAEAAAAAAAAAAAAAAAEAAAADAAAAAQAAAAEAAAADAAAAAAAAAAAAAAABAAAAAwAAAAEAAAABAAAAAQAAAAAAAAABAAAAAgAAAAEAAAABAAAAAAAAAAMAAAABAAAAAAAAAAEAAAAAAAAAAAAAAAAAAAABAAAAAwAAAAMAAAAAAAAAAwAAAAEAAAADAAAAAAAAAAEAAAAAAAAAAAAAAAAAAAADAAAAAwAAAAEAAAACAAAAAwAAAAEAAAADAAAAAwAAAAMAAAAAAAAAAQAAAAEAAAAAAAAAAAAAAAEAAAABAAAAAQAAAAMAAAAAAAAAAQAAAAMAAAABAAAAAQAAAAEAAAAAAAAAAQAAAAMAAAADAAAAAQAAAAEAAAAAAAAAAgAAAAEAAAABAAAAAQAAAAMAAAABAAAAAwAAAAEAAAABAAAAAwAAAAEAAAAAAAAAAAAAAAEAAAAAAAAAAAAAAAMAAAAAAAAAAQAAAAEAAAAAAAAAAQAAAAEAAAABAAAAAQAAAAAAAAABAAAAAQAAAAMAAAADAAAAAwAAAAAAAAAAAAAAAwAAAAEAAAABAAAAAQAAAAEAAAABAAAAAwAAAAEAAAABAAAAAQAAAAAAAAABAAAAAwAAAAMAAAADAAAAAwAAAAAAAAABAAAAAwAAAAMAAAAAAAAAAQAAAAMAAAADAAAAAQAAAAMAAAADAAAAAwAAAAEAAAAAAAAAAAAAAAAAAAAAAAAAAwAAAAMAAAAAAAAAAAAAAAAAAAACAAAAAwAAAAEAAAAAAAAAAwAAAAEAAAADAAAAAQAAAAEAAAABAAAAAQAAAAEAAAAAAAAAAAAAAAEAAAABAAAAAQAAAAAAAAAAAAAAAQAAAAEAAAAAAAAAAAAAAAAAAAADAAAAAQAAAAMAAAADAAAAAwAAAAEAAAACAAAAAwAAAAAAAAABAAAAAAAAAAAAAAADAAAAAAAAAAMAAAAAAAAAAQAAAAEAAAABAAAAAwAAAAEAAAABAAAAAwAAAAMAAAABAAAAAAAAAAEAAAAAAAAAAAAAAAEAAAABAAAAAAAAAAAAAAABAAAAAQAAAAMAAAADAAAAAQAAAAAAAAADAAAAAQAAAAMAAAABAAAAAAAAAAMAAAADAAAAAQAAAAEAAAADAAAAAQAAAAAAAAABAAAAAQAAAAAAAAAAAAAAAQAAAAEAAAABAAAAAQAAAAEAAAADAAAAAQAAAAMAAAAAAAAAAgAAAAMAAAABAAAAAAAAAAIAAAAAAAAAAAAAAAEAAAADAAAAAAAAAAAAAAABAAAAAwAAAAEAAAAAAAAAAAAAAAEAAAAAAAAAAwAAAAAAAAADAAAAAQAAAAMAAAACAAAAAQAAAAEAAAABAAAAAQAAAAAAAAABAAAAAAAAAAEAAAABAAAAAAAAAAAAAAADAAAAAwAAAAMAAAABAAAAAwAAAAMAAAABAAAAAAAAAAAAAAADAAAAAQAAAAEAAAABAAAAAwAAAAAAAAADAAAAAAAAAAMAAAAAAAAAAQAAAAAAAAABAAAAAQAAAAMAAAADAAAAAwAAAAEAAAAAAAAAAQAAAAMAAAAAAAAAAwAAAAMAAAAAAAAAAQAAAAMAAAABAAAAAAAAAAAAAAADAAAAAwAAAAMAAAAAAAAAAwAAAAAAAAADAAAAAQAAAAAAAAAAAAAAAAAAAAAAAAADAAAAAQAAAAEAAAAAAAAAAwAAAAEAAAADAAAAAQAAAAEAAAABAAAAAQAAAAAAAAAAAAAAAwAAAAEAAAABAAAAAQAAAAMAAAAAAAAAAwAAAAMAAAADAAAAAQAAAAAAAAADAAAAAwAAAAEAAAADAAAAAAAAAAEAAAABAAAAAAAAAAAAAAADAAAAAwAAAAEAAAACAAAAAwAAAAMAAAAAAAAAAQAAAAAAAAAAAAAAAQAAAAEAAAABAAAAAAAAAAEAAAAAAAAAAQAAAAAAAAAAAAAAAAAAAAEAAAAAAAAAAwAAAAEAAAAAAAAAAwAAAAAAAAABAAAAAAAAAAMAAAAAAAAAAAAAAAMAAAADAAAAAAAAAAMAAAABAAAAAAAAAAMAAAABAAAAAQAAAAMAAAABAAAAAQAAAAEAAAADAAAAAwAAAAAAAAADAAAAAwAAAAAAAAABAAAAAwAAAAMAAAAAAAAAAwAAAAMAAAAAAAAAAQAAAAEAAAABAAAAAwAAAAEAAAABAAAAAQAAAAMAAAADAAAAAQAAAAEAAAADAAAAAAAAAAAAAAABAAAAAAAAAAMAAAADAAAAAAAAAAAAAAAAAAAAAAAAAAAAAAADAAAAAwAAAAEAAAADAAAAAAAAAAMAAAADAAAAAwAAAAAAAAADAAAAAQAAAAAAAAABAAAAAAAAAAAAAAABAAAAAQAAAAEAAAADAAAAAAAAAAEAAAAAAAAAAQAAAAAAAAABAAAAAwAAAAMAAAAAAAAAAAAAAAAAAAABAAAAAQAAAAEAAAABAAAAAQAAAAEAAAADAAAAAQAAAAAAAAABAAAAAQAAAAMAAAAAAAAAAwAAAAAAAAADAAAAAAAAAAAAAAADAAAAAQAAAAAAAAAAAAAAAAAAAAMAAAADAAAAAQAAAAEAAAABAAAAAQAAAAEAAAAAAAAAAAAAAAAAAAADAAAAAQAAAAEAAAADAAAAAQAAAAEAAAABAAAAAwAAAAEAAAABAAAAAAAAAAAAAAABAAAAAwAAAAEAAAABAAAAAwAAAAAAAAABAAAAAwAAAAEAAAADAAAAAQAAAAMAAAAAAAAAAwAAAAAAAAADAAAAAwAAAAMAAAAAAAAAAwAAAAMAAAABAAAAAwAAAAAAAAADAAAAAAAAAAEAAAADAAAAAwAAAAEAAAABAAAAAAAAAAEAAAABAAAAAQAAAAEAAAABAAAAAAAAAAMAAAAAAAAAAwAAAAAAAAADAAAAAwAAAAAAAAABAAAAAwAAAAMAAAAAAAAAAwAAAAMAAAAAAAAAAQAAAAMAAAADAAAAAwAAAAAAAAAAAAAAAQAAAAAAAAABAAAAAQAAAAEAAAADAAAAAwAAAAEAAAACAAAAAQAAAAMAAAADAAAAAwAAAAAAAAADAAAAAQAAAAEAAAAAAAAAAQAAAAAAAAADAAAAAQAAAAAAAAAAAAAAAQAAAAMAAAADAAAAAwAAAAMAAAAAAAAAAAAAAAMAAAAAAAAAAQAAAAMAAAADAAAAAAAAAAMAAAABAAAAAQAAAAAAAAABAAAAAwAAAAEAAAAAAAAAAAAAAAEAAAABAAAAAQAAAAAAAAABAAAAAQAAAAIAAAABAAAAAQAAAAAAAAABAAAAAwAAAAMAAAABAAAAAQAAAAEAAAADAAAAAQAAAAEAAAAAAAAAAAAAAAMAAAADAAAAAwAAAAAAAAAAAAAAAwAAAAMAAAADAAAAAwAAAAIAAAAAAAAAAQAAAAMAAAABAAAAAwAAAAAAAAABAAAAAQAAAAMAAAADAAAAAAAAAAMAAAADAAAAAwAAAAMAAAAAAAAAAQAAAAEAAAADAAAAAwAAAAEAAAAAAAAAAQAAAAEAAAABAAAAAwAAAAAAAAAAAAAAAAAAAAEAAAAAAAAAAwAAAAMAAAADAAAAAQAAAAAAAAADAAAAAAAAAAAAAAABAAAAAQAAAAAAAAADAAAAAAAAAAMAAAABAAAAAAAAAAEAAAADAAAAAQAAAAMAAAADAAAAAQAAAAMAAAAAAAAAAwAAAAAAAAABAAAAAAAAAAAAAAABAAAAAwAAAAMAAAAAAAAAAQAAAAAAAAAAAAAAAwAAAAEAAAADAAAAAAAAAAMAAAADAAAAAwAAAAAAAAABAAAAAQAAAAMAAAABAAAAAwAAAAAAAAAAAAAAAAAAAAAAAAAAAAAAAAAAAAEAAAADAAAAAQAAAAAAAAABAAAAAwAAAAEAAAAAAAAAAQAAAAEAAAAAAAAAAQAAAAAAAAAAAAAAAQAAAAAAAAAAAAAAAAAAAAMAAAADAAAAAQAAAAEAAAAAAAAAAAAAAAAAAAADAAAAAQAAAAMAAAABAAAAAAAAAAEAAAAAAAAAAQAAAAEAAAAAAAAAAwAAAAEAAAABAAAAAAAAAAEAAAABAAAAAAAAAAMAAAABAAAAAQAAAAAAAAADAAAAAAAAAAAAAAAAAAAAAAAAAAAAAAADAAAAAQAAAAEAAAACAAAAAQAAAAMAAAAAAAAAAQAAAAMAAAAAAAAAAwAAAAEAAAAAAAAAAQAAAAMAAAADAAAAAAAAAAMAAAABAAAAAwAAAAEAAAADAAAAAQAAAAAAAAAAAAAAAQAAAAMAAAADAAAAAQAAAAAAAAADAAAAAAAAAAEAAAADAAAAAAAAAAAAAAAAAAAAAAAAAAEAAAADAAAAAwAAAAEAAAABAAAAAQAAAAAAAAADAAAAAwAAAAEAAAADAAAAAAAAAAMAAAAAAAAAAAAAAAEAAAABAAAAAAAAAAEAAAADAAAAAQAAAAEAAAAAAAAAAQAAAAMAAAAAAAAAAAAAAAEAAAABAAAAAQAAAAEAAAAAAAAAAwAAAAEAAAABAAAAAwAAAAEAAAAAAAAAAgAAAAAAAAADAAAAAQAAAAMAAAAAAAAAAAAAAAEAAAADAAAAAQAAAAEAAAABAAAAAQAAAAAAAAAAAAAAAwAAAAEAAAABAAAAAwAAAAEAAAADAAAAAwAAAAEAAAABAAAAAQAAAAEAAAADAAAAAAAAAAAAAAADAAAAAQAAAAAAAAAAAAAAAwAAAAMAAAABAAAAAwAAAAEAAAABAAAAAQAAAAAAAAAAAAAAAAAAAAMAAAAAAAAAAQAAAAEAAAAAAAAAAQAAAAEAAAADAAAAAQAAAAMAAAADAAAAAQAAAAAAAAADAAAAAwAAAAAAAAABAAAAAAAAAAEAAAABAAAAAAAAAAMAAAADAAAAAAAAAAMAAAABAAAAAwAAAAMAAAAAAAAAAAAAAAAAAAABAAAAAwAAAAAAAAABAAAAAAAAAAAAAAABAAAAAQAAAAAAAAAAAAAAAwAAAAEAAAABAAAAAwAAAAAAAAABAAAAAwAAAAEAAAADAAAAAwAAAAMAAAAAAAAAAQAAAAAAAAAAAAAAAwAAAAAAAAABAAAAAAAAAAMAAAABAAAAAAAAAAEAAAADAAAAAAAAAAEAAAABAAAAAwAAAAEAAAABAAAAAwAAAAEAAAABAAAAAAAAAAMAAAADAAAAAAAAAAIAAAADAAAAAwAAAAEAAAAAAAAAAAAAAAMAAAABAAAAAQAAAAMAAAADAAAAAAAAAAAAAAAAAAAAAwAAAAMAAAAAAAAAAgAAAAEAAAABAAAAAAAAAAAAAAAAAAAAAQAAAAEAAAABAAAAAAAAAAMAAAABAAAAAQAAAAEAAAABAAAAAAAAAAMAAAABAAAAAAAAAAEAAAADAAAAAgAAAAIAAAAAAAAAAQAAAAMAAAAAAAAAAQAAAAAAAAADAAAAAwAAAAAAAAADAAAAAwAAAAEAAAAAAAAAAwAAAAEAAAAAAAAAAQAAAAMAAAAAAAAAAAAAAAEAAAABAAAAAwAAAAAAAAADAAAAAQAAAAMAAAABAAAAAgAAAAIAAAAAAAAAAAAAAAMAAAADAAAAAAAAAAAAAAAAAAAAAwAAAAAAAAADAAAAAAAAAAAAAAADAAAAAQAAAAAAAAAAAAAAAwAAAAEAAAADAAAAAAAAAAEAAAABAAAAAQAAAAEAAAADAAAAAAAAAAEAAAABAAAAAAAAAAMAAAADAAAAAwAAAAAAAAABAAAAAwAAAAAAAAAAAAAAAQAAAAAAAAAAAAAAAQAAAAMAAAADAAAAAwAAAAEAAAADAAAAAwAAAAEAAAAAAAAAAQAAAAMAAAACAAAAAQAAAAAAAAABAAAAAwAAAAMAAAABAAAAAQAAAAEAAAAAAAAAAAAAAAEAAAADAAAAAAAAAAAAAAAAAAAAAwAAAAAAAAABAAAAAQAAAAAAAAAAAAAAAwAAAAMAAAABAAAAAwAAAAMAAAAAAAAAAAAAAAMAAAAAAAAAAgAAAAMAAAADAAAAAAAAAAAAAAABAAAAAAAAAAEAAAABAAAAAQAAAAEAAAADAAAAAwAAAAAAAAAAAAAAAwAAAAMAAAABAAAAAQAAAAAAAAABAAAAAwAAAAAAAAABAAAAAwAAAAEAAAAAAAAAAQAAAAMAAAAAAAAAAwAAAAEAAAABAAAAAAAAAAAAAAAAAAAAAQAAAAMAAAAAAAAAAwAAAAAAAAADAAAAAwAAAAAAAAADAAAAAwAAAAEAAAADAAAAAwAAAAEAAAADAAAAAQAAAAEAAAABAAAAAwAAAAAAAAABAAAAAQAAAAEAAAADAAAAAAAAAAAAAAADAAAAAwAAAAMAAAAAAAAAAAAAAAEAAAAAAAAAAQAAAAEAAAAAAAAAAwAAAAAAAAABAAAAAQAAAAMAAAACAAAAAQAAAAAAAAADAAAAAQAAAAAAAAABAAAAAQAAAAEAAAABAAAAAwAAAAAAAAADAAAAAQAAAAAAAAABAAAAAQAAAAAAAAAAAAAAAwAAAAEAAAADAAAAAQAAAAMAAAAAAAAAAwAAAAMAAAABAAAAAgAAAAEAAAADAAAAAwAAAAAAAAADAAAAAwAAAAEAAAAAAAAAAAAAAAEAAAADAAAAAAAAAAEAAAAAAAAAAwAAAAAAAAADAAAAAQAAAAEAAAABAAAAAwAAAAAAAAAAAAAAAAAAAAEAAAAAAAAAAAAAAAMAAAADAAAAAwAAAAEAAAADAAAAAAAAAAMAAAABAAAAAQAAAAEAAAABAAAAAwAAAAAAAAADAAAAAQAAAAMAAAAAAAAAAQAAAAAAAAAAAAAAAQAAAAMAAAADAAAAAAAAAAEAAAABAAAAAwAAAAEAAAAAAAAAAQAAAAMAAAABAAAAAwAAAAEAAAAAAAAAAAAAAAMAAAADAAAAAQAAAAEAAAABAAAAAAAAAAMAAAABAAAAAwAAAAEAAAABAAAAAwAAAAEAAAABAAAAAAAAAAEAAAAAAAAAAwAAAAEAAAAAAAAAAAAAAAEAAAABAAAAAAAAAAAAAAAAAAAAAwAAAAEAAAADAAAAAAAAAAAAAAADAAAAAQAAAAEAAAADAAAAAwAAAAMAAAAAAAAAAwAAAAEAAAAAAAAAAwAAAAEAAAABAAAAAwAAAAMAAAADAAAAAQAAAAEAAAADAAAAAwAAAAAAAAADAAAAAQAAAAEAAAABAAAAAQAAAAMAAAABAAAAAwAAAAAAAAABAAAAAAAAAAAAAAADAAAAAAAAAAAAAAAAAAAAAQAAAAMAAAAAAAAAAwAAAAMAAAADAAAAAAAAAAEAAAAAAAAAAAAAAAEAAAADAAAAAAAAAAAAAAAAAAAAAQAAAAEAAAADAAAAAQAAAAMAAAABAAAAAwAAAAMAAAADAAAAAAAAAAMAAAAAAAAAAQAAAAEAAAABAAAAAQAAAAMAAAABAAAAAQAAAAEAAAABAAAAAQAAAAEAAAAAAAAAAQAAAAEAAAADAAAAAQAAAAEAAAABAAAAAwAAAAEAAAADAAAAAwAAAAMAAAAAAAAAAgAAAAMAAAAAAAAAAAAAAAMAAAADAAAAAQAAAAAAAAABAAAAAAAAAAAAAAABAAAAAAAAAAEAAAAAAAAAAAAAAAEAAAADAAAAAAAAAAIAAAAAAAAAAwAAAAMAAAAAAAAAAwAAAAEAAAADAAAAAwAAAAIAAAADAAAAAAAAAAMAAAAAAAAAAAAAAAAAAAABAAAAAgAAAAAAAAABAAAAAAAAAAAAAAADAAAAAQAAAAAAAAAAAAAAAQAAAAEAAAABAAAAAQAAAAEAAAAAAAAAAQAAAAIAAAADAAAAAQAAAAMAAAADAAAAAwAAAAAAAAABAAAAAwAAAAMAAAABAAAAAwAAAAMAAAACAAAAAAAAAAAAAAAAAAAAAwAAAAEAAAADAAAAAQAAAAEAAAADAAAAAAAAAAMAAAABAAAAAgAAAAEAAAABAAAAAQAAAAAAAAABAAAAAAAAAAAAAAAAAAAAAwAAAAEAAAABAAAAAwAAAAMAAAABAAAAAwAAAAMAAAAAAAAAAQAAAAEAAAABAAAAAAAAAAAAAAABAAAAAAAAAAMAAAADAAAAAAAAAAEAAAAAAAAAAAAAAAMAAAADAAAAAAAAAAMAAAAAAAAAAAAAAAMAAAAAAAAAAAAAAAAAAAAAAAAAAwAAAAEAAAAAAAAAAQAAAAAAAAABAAAAAwAAAAEAAAABAAAAAAAAAAEAAAABAAAAAAAAAAAAAAAAAAAAAwAAAAMAAAABAAAAAwAAAAEAAAAAAAAAAAAAAAAAAAABAAAAAwAAAAAAAAADAAAAAgAAAAEAAAABAAAAAwAAAAEAAAABAAAAAwAAAAAAAAAAAAAAAAAAAAAAAAABAAAAAAAAAAMAAAAAAAAAAQAAAAAAAAAAAAAAAQAAAAEAAAADAAAAAQAAAAAAAAABAAAAAAAAAAMAAAAAAAAAAQAAAAAAAAAAAAAAAQAAAAEAAAADAAAAAQAAAAEAAAAAAAAAAQAAAAEAAAABAAAAAwAAAAEAAAAAAAAAAAAAAAAAAAABAAAAAgAAAAEAAAABAAAAAQAAAAEAAAADAAAAAAAAAAMAAAABAAAAAQAAAAEAAAABAAAAAQAAAAAAAAAAAAAAAwAAAAAAAAADAAAAAQAAAAAAAAADAAAAAQAAAAEAAAAAAAAAAQAAAAAAAAAAAAAAAQAAAAEAAAABAAAAAAAAAAEAAAABAAAAAAAAAAEAAAAAAAAAAwAAAAEAAAAAAAAAAQAAAAEAAAABAAAAAAAAAAAAAAAAAAAAAAAAAAMAAAAAAAAAAQAAAAAAAAADAAAAAQAAAAMAAAAAAAAAAAAAAAMAAAADAAAAAQAAAAIAAAAAAAAAAQAAAAMAAAADAAAAAwAAAAAAAAAAAAAAAwAAAAMAAAADAAAAAQAAAAEAAAADAAAAAQAAAAMAAAAAAAAAAAAAAAIAAAAAAAAAAQAAAAAAAAABAAAAAQAAAAAAAAADAAAAAAAAAAEAAAABAAAAAAAAAAAAAAADAAAAAQAAAAAAAAABAAAAAwAAAAEAAAADAAAAAAAAAAMAAAAAAAAAAAAAAAAAAAADAAAAAAAAAAEAAAABAAAAAAAAAAMAAAAAAAAAAQAAAAAAAAABAAAAAQAAAAEAAAADAAAAAQAAAAEAAAADAAAAAwAAAAAAAAAAAAAAAwAAAAMAAAAAAAAAAAAAAAEAAAAAAAAAAwAAAAEAAAAAAAAAAwAAAAMAAAAAAAAAAAAAAAMAAAABAAAAAAAAAAIAAAAAAAAAAQAAAAEAAAABAAAAAQAAAAEAAAADAAAAAQAAAAMAAAABAAAAAwAAAAMAAAADAAAAAwAAAAAAAAADAAAAAQAAAAMAAAADAAAAAAAAAAAAAAADAAAAAAAAAAEAAAABAAAAAQAAAAEAAAADAAAAAAAAAAEAAAAAAAAAAgAAAAIAAAABAAAAAQAAAAEAAAABAAAAAwAAAAMAAAADAAAAAAAAAAAAAAAAAAAAAwAAAAMAAAABAAAAAwAAAAMAAAABAAAAAAAAAAAAAAABAAAAAwAAAAEAAAABAAAAAQAAAAMAAAABAAAAAQAAAAMAAAABAAAAAAAAAAMAAAADAAAAAAAAAAEAAAAAAAAAAwAAAAMAAAABAAAAAwAAAAEAAAAAAAAAAQAAAAEAAAAAAAAAAAAAAAMAAAAAAAAAAwAAAAEAAAADAAAAAwAAAAMAAAABAAAAAAAAAAEAAAAAAAAAAQAAAAAAAAADAAAAAQAAAAAAAAADAAAAAwAAAAEAAAABAAAAAAAAAAEAAAAAAAAAAAAAAAAAAAABAAAAAQAAAAEAAAADAAAAAgAAAAAAAAABAAAAAwAAAAAAAAAAAAAAAAAAAAEAAAADAAAAAAAAAAEAAAADAAAAAAAAAAMAAAADAAAAAwAAAAAAAAABAAAAAwAAAAEAAAAAAAAAAAAAAAEAAAADAAAAAAAAAAMAAAAAAAAAAwAAAAEAAAADAAAAAwAAAAEAAAAAAAAAAQAAAAMAAAADAAAAAwAAAAMAAAAAAAAAAQAAAAEAAAAAAAAAAQAAAAMAAAAAAAAAAQAAAAEAAAAAAAAAAQAAAAMAAAADAAAAAQAAAAMAAAABAAAAAAAAAAEAAAAAAAAAAAAAAAMAAAADAAAAAQAAAAEAAAABAAAAAAAAAAMAAAABAAAAAQAAAAAAAAADAAAAAwAAAAAAAAADAAAAAQAAAAEAAAADAAAAAAAAAAAAAAAAAAAAAAAAAAAAAAAAAAAAAwAAAAEAAAADAAAAAQAAAAMAAAABAAAAAAAAAAEAAAADAAAAAQAAAAMAAAADAAAAAgAAAAIAAAADAAAAAQAAAAEAAAABAAAAAwAAAAIAAAABAAAAAwAAAAEAAAADAAAAAwAAAAEAAAAAAAAAAAAAAAEAAAADAAAAAwAAAAMAAAACAAAAAQAAAAEAAAAAAAAAAQAAAAEAAAADAAAAAQAAAAMAAAAAAAAAAQAAAAAAAAADAAAAAAAAAAAAAAABAAAAAAAAAAEAAAADAAAAAQAAAAAAAAACAAAAAAAAAAEAAAAAAAAAAAAAAAAAAAAAAAAAAwAAAAEAAAABAAAAAQAAAAEAAAAAAAAAAQAAAAAAAAABAAAAAQAAAAEAAAABAAAAAQAAAAAAAAADAAAAAQAAAAMAAAAAAAAAAwAAAAAAAAABAAAAAQAAAAEAAAADAAAAAQAAAAAAAAABAAAAAwAAAAAAAAADAAAAAQAAAAEAAAADAAAAAQAAAAAAAAABAAAAAwAAAAMAAAABAAAAAQAAAAEAAAABAAAAAAAAAAMAAAABAAAAAwAAAAEAAAADAAAAAwAAAAMAAAABAAAAAQAAAAAAAAABAAAAAQAAAAAAAAABAAAAAAAAAAEAAAABAAAAAwAAAAAAAAABAAAAAAAAAAAAAAABAAAAAQAAAAAAAAADAAAAAwAAAAMAAAABAAAAAwAAAAMAAAADAAAAAwAAAAEAAAADAAAAAAAAAAAAAAADAAAAAAAAAAMAAAAAAAAAAQAAAAMAAAADAAAAAwAAAAEAAAABAAAAAQAAAAAAAAABAAAAAAAAAAAAAAAAAAAAAAAAAAEAAAABAAAAAAAAAAEAAAABAAAAAAAAAAMAAAAAAAAAAQAAAAAAAAADAAAAAQAAAAMAAAADAAAAAQAAAAEAAAABAAAAAQAAAAEAAAABAAAAAwAAAAMAAAABAAAAAQAAAAAAAAADAAAAAAAAAAEAAAAAAAAAAQAAAAMAAAADAAAAAQAAAAEAAAAAAAAAAQAAAAAAAAAAAAAAAQAAAAAAAAABAAAAAQAAAAAAAAAAAAAAAwAAAAAAAAABAAAAAAAAAAEAAAAAAAAAAwAAAAEAAAAAAAAAAAAAAAAAAAAAAAAAAwAAAAAAAAABAAAAAQAAAAAAAAADAAAAAwAAAAMAAAABAAAAAwAAAAMAAAADAAAAAwAAAAMAAAAAAAAAAwAAAAMAAAABAAAAAwAAAAMAAAAAAAAAAAAAAAMAAAABAAAAAAAAAAMAAAAAAAAAAgAAAAAAAAABAAAAAwAAAAEAAAADAAAAAQAAAAEAAAAAAAAAAwAAAAAAAAADAAAAAAAAAAEAAAAAAAAAAAAAAAAAAAABAAAAAwAAAAMAAAABAAAAAQAAAAAAAAABAAAAAwAAAAAAAAADAAAAAQAAAAEAAAAAAAAAAwAAAAMAAAAAAAAAAQAAAAEAAAAAAAAAAQAAAAAAAAABAAAAAwAAAAMAAAACAAAAAAAAAAEAAAAAAAAAAAAAAAMAAAABAAAAAAAAAAEAAAAAAAAAAQAAAAAAAAADAAAAAQAAAAEAAAAAAAAAAQAAAAEAAAAAAAAAAQAAAAMAAAADAAAAAQAAAAEAAAADAAAAAAAAAAEAAAAAAAAAAAAAAAMAAAABAAAAAQAAAAMAAAAAAAAAAAAAAAAAAAABAAAAAwAAAAMAAAAAAAAAAwAAAAEAAAABAAAAAwAAAAEAAAADAAAAAAAAAAAAAAAAAAAAAQAAAAEAAAAAAAAAAAAAAAAAAAADAAAAAwAAAAEAAAAAAAAAAQAAAAEAAAADAAAAAwAAAAAAAAADAAAAAgAAAAAAAAABAAAAAQAAAAEAAAADAAAAAwAAAAMAAAAAAAAAAQAAAAAAAAABAAAAAAAAAAEAAAAAAAAAAQAAAAEAAAAAAAAAAQAAAAMAAAAAAAAAAAAAAAMAAAABAAAAAAAAAAEAAAAAAAAAAwAAAAEAAAAAAAAAAQAAAAEAAAABAAAAAAAAAAAAAAAAAAAAAQAAAAAAAAAAAAAAAAAAAAEAAAABAAAAAQAAAAMAAAABAAAAAAAAAAMAAAABAAAAAAAAAAMAAAADAAAAAwAAAAMAAAADAAAAAwAAAAMAAAADAAAAAwAAAAAAAAABAAAAAQAAAAEAAAABAAAAAwAAAAAAAAAAAAAAAAAAAAIAAAAAAAAAAAAAAAEAAAADAAAAAwAAAAAAAAADAAAAAQAAAAMAAAAAAAAAAwAAAAEAAAAAAAAAAwAAAAEAAAAAAAAAAQAAAAAAAAAAAAAAAwAAAAEAAAAAAAAAAQAAAAAAAAAAAAAAAAAAAAAAAAABAAAAAwAAAAMAAAADAAAAAwAAAAEAAAADAAAAAAAAAAAAAAAAAAAAAAAAAAMAAAAAAAAAAQAAAAEAAAADAAAAAAAAAAEAAAADAAAAAwAAAAMAAAADAAAAAAAAAAAAAAABAAAAAQAAAAEAAAADAAAAAQAAAAAAAAADAAAAAQAAAAMAAAABAAAAAQAAAAEAAAABAAAAAwAAAAAAAAABAAAAAwAAAAAAAAADAAAAAwAAAAMAAAABAAAAAwAAAAMAAAABAAAAAwAAAAMAAAAAAAAAAAAAAAMAAAACAAAAAAAAAAAAAAAAAAAAAwAAAAMAAAABAAAAAQAAAAEAAAADAAAAAQAAAAAAAAADAAAAAAAAAAEAAAABAAAAAwAAAAAAAAABAAAAAQAAAAEAAAAAAAAAAAAAAAAAAAADAAAAAwAAAAMAAAAAAAAAAAAAAAAAAAADAAAAAwAAAAMAAAABAAAAAAAAAAEAAAAAAAAAAQAAAAAAAAADAAAAAAAAAAMAAAABAAAAAQAAAAEAAAABAAAAAwAAAAEAAAADAAAAAAAAAAAAAAABAAAAAwAAAAAAAAADAAAAAAAAAAEAAAABAAAAAQAAAAAAAAABAAAAAQAAAAAAAAABAAAAAwAAAAAAAAAAAAAAAwAAAAEAAAADAAAAAAAAAAMAAAABAAAAAAAAAAMAAAABAAAAAQAAAAAAAAABAAAAAQAAAAEAAAACAAAAAAAAAAAAAAADAAAAAQAAAAEAAAADAAAAAQAAAAMAAAABAAAAAQAAAAEAAAADAAAAAwAAAAMAAAAAAAAAAQAAAAAAAAAAAAAAAQAAAAEAAAABAAAAAAAAAAAAAAABAAAAAQAAAAAAAAAAAAAAAQAAAAIAAAABAAAAAwAAAAMAAAAAAAAAAAAAAAMAAAAAAAAAAAAAAAEAAAADAAAAAAAAAAMAAAAAAAAAAQAAAAMAAAAAAAAAAQAAAAMAAAABAAAAAQAAAAAAAAAAAAAAAQAAAAAAAAABAAAAAwAAAAAAAAADAAAAAwAAAAAAAAADAAAAAQAAAAAAAAADAAAAAAAAAAAAAAABAAAAAQAAAAAAAAAAAAAAAwAAAAAAAAABAAAAAAAAAAEAAAACAAAAAQAAAAMAAAADAAAAAwAAAAMAAAABAAAAAQAAAAAAAAABAAAAAwAAAAAAAAAAAAAAAQAAAAEAAAABAAAAAAAAAAAAAAADAAAAAwAAAAMAAAAAAAAAAAAAAAMAAAADAAAAAAAAAAMAAAABAAAAAAAAAAAAAAABAAAAAAAAAAEAAAAAAAAAAwAAAAAAAAAAAAAAAQAAAAAAAAAAAAAAAQAAAAAAAAABAAAAAQAAAAAAAAADAAAAAQAAAAEAAAABAAAAAAAAAAAAAAADAAAAAAAAAAAAAAAAAAAAAwAAAAAAAAADAAAAAwAAAAEAAAABAAAAAAAAAAAAAAADAAAAAwAAAAMAAAABAAAAAQAAAAEAAAABAAAAAQAAAAEAAAADAAAAAQAAAAMAAAABAAAAAAAAAAEAAAAAAAAAAwAAAAEAAAADAAAAAwAAAAEAAAABAAAAAwAAAAMAAAADAAAAAQAAAAMAAAABAAAAAQAAAAAAAAAAAAAAAAAAAAAAAAABAAAAAQAAAAAAAAAAAAAAAAAAAAEAAAAAAAAAAQAAAAEAAAAAAAAAAQAAAAAAAAABAAAAAwAAAAAAAAABAAAAAQAAAAEAAAAAAAAAAwAAAAEAAAADAAAAAQAAAAMAAAAAAAAAAQAAAAEAAAABAAAAAgAAAAEAAAADAAAAAAAAAAMAAAADAAAAAQAAAAAAAAAAAAAAAQAAAAMAAAABAAAAAwAAAAMAAAABAAAAAAAAAAEAAAABAAAAAAAAAAEAAAAAAAAAAQAAAAAAAAAAAAAAAQAAAAEAAAABAAAAAwAAAAMAAAAAAAAAAwAAAAEAAAAAAAAAAAAAAAMAAAABAAAAAAAAAAMAAAABAAAAAAAAAAMAAAABAAAAAgAAAAEAAAABAAAAAQAAAAMAAAABAAAAAAAAAAAAAAAAAAAAAAAAAAMAAAABAAAAAwAAAAMAAAAAAAAAAQAAAAAAAAADAAAAAAAAAAEAAAAAAAAAAAAAAAEAAAABAAAAAAAAAAMAAAAAAAAAAAAAAAMAAAAAAAAAAQAAAAMAAAAAAAAAAwAAAAMAAAABAAAAAAAAAAEAAAADAAAAAAAAAAEAAAACAAAAAQAAAAAAAAABAAAAAQAAAAMAAAABAAAAAQAAAAEAAAABAAAAAwAAAAAAAAAAAAAAAAAAAAEAAAAAAAAAAwAAAAEAAAABAAAAAQAAAAAAAAACAAAAAQAAAAMAAAAAAAAAAQAAAAEAAAADAAAAAAAAAAMAAAAAAAAAAQAAAAMAAAADAAAAAwAAAAAAAAADAAAAAwAAAAEAAAADAAAAAAAAAAEAAAAAAAAAAwAAAAEAAAADAAAAAwAAAAEAAAADAAAAAQAAAAEAAAAAAAAAAQAAAAMAAAABAAAAAQAAAAMAAAACAAAAAQAAAAAAAAAAAAAAAgAAAAEAAAABAAAAAQAAAAMAAAADAAAAAQAAAAAAAAAAAAAAAAAAAAAAAAAAAAAAAwAAAAMAAAADAAAAAwAAAAAAAAADAAAAAQAAAAAAAAAAAAAAAwAAAAEAAAADAAAAAwAAAAEAAAAAAAAAAAAAAAAAAAABAAAAAQAAAAMAAAABAAAAAQAAAAMAAAAAAAAAAAAAAAEAAAABAAAAAgAAAAEAAAADAAAAAQAAAAMAAAADAAAAAwAAAAEAAAAAAAAAAwAAAAAAAAACAAAAAAAAAAAAAAABAAAAAwAAAAMAAAABAAAAAQAAAAMAAAABAAAAAwAAAAAAAAABAAAAAwAAAAEAAAAAAAAAAQAAAAAAAAABAAAAAwAAAAAAAAABAAAAAwAAAAMAAAAAAAAAAQAAAAEAAAADAAAAAQAAAAAAAAABAAAAAAAAAAEAAAADAAAAAAAAAAMAAAADAAAAAAAAAAMAAAADAAAAAQAAAAAAAAADAAAAAQAAAAAAAAABAAAAAAAAAAEAAAAAAAAAAwAAAAMAAAADAAAAAQAAAAAAAAABAAAAAQAAAAAAAAAAAAAAAwAAAAEAAAADAAAAAAAAAAMAAAABAAAAAQAAAAAAAAABAAAAAAAAAAAAAAABAAAAAAAAAAEAAAAAAAAAAQAAAAAAAAABAAAAAwAAAAAAAAADAAAAAQAAAAMAAAADAAAAAAAAAAEAAAAAAAAAAwAAAAMAAAADAAAAAAAAAAAAAAAAAAAAAwAAAAEAAAADAAAAAQAAAAAAAAADAAAAAQAAAAEAAAADAAAAAAAAAAMAAAADAAAAAAAAAAMAAAAAAAAAAwAAAAAAAAAAAAAAAwAAAAMAAAABAAAAAQAAAAMAAAAAAAAAAAAAAAAAAAABAAAAAwAAAAEAAAADAAAAAQAAAAAAAAADAAAAAAAAAAAAAAAAAAAAAAAAAAEAAAAAAAAAAwAAAAMAAAADAAAAAQAAAAMAAAABAAAAAQAAAAAAAAABAAAAAQAAAAMAAAADAAAAAQAAAAAAAAABAAAAAQAAAAMAAAAAAAAAAQAAAAEAAAAAAAAAAQAAAAMAAAAAAAAAAwAAAAAAAAAAAAAAAQAAAAAAAAADAAAAAQAAAAAAAAABAAAAAQAAAAAAAAAAAAAAAQAAAAEAAAADAAAAAAAAAAAAAAAAAAAAAQAAAAMAAAABAAAAAQAAAAAAAAABAAAAAAAAAAMAAAADAAAAAwAAAAAAAAABAAAAAAAAAAMAAAABAAAAAQAAAAAAAAABAAAAAQAAAAAAAAADAAAAAwAAAAAAAAABAAAAAwAAAAMAAAABAAAAAQAAAAEAAAACAAAAAgAAAAEAAAABAAAAAAAAAAEAAAAAAAAAAAAAAAAAAAADAAAAAwAAAAMAAAAAAAAAAwAAAAAAAAAAAAAAAwAAAAMAAAABAAAAAwAAAAEAAAAAAAAAAAAAAAAAAAADAAAAAQAAAAAAAAABAAAAAAAAAAEAAAAAAAAAAQAAAAAAAAABAAAAAAAAAAEAAAADAAAAAwAAAAMAAAABAAAAAAAAAAEAAAADAAAAAAAAAAEAAAAAAAAAAwAAAAEAAAABAAAAAQAAAAAAAAAAAAAAAQAAAAEAAAAAAAAAAQAAAAEAAAABAAAAAAAAAAMAAAADAAAAAQAAAAMAAAADAAAAAQAAAAEAAAAAAAAAAQAAAAEAAAAAAAAAAwAAAAEAAAABAAAAAQAAAAAAAAADAAAAAAAAAAAAAAAAAAAAAwAAAAMAAAABAAAAAAAAAAMAAAADAAAAAQAAAAMAAAADAAAAAAAAAAEAAAAAAAAAAwAAAAAAAAAAAAAAAwAAAAAAAAADAAAAAwAAAAAAAAABAAAAAAAAAAAAAAAAAAAAAQAAAAMAAAAAAAAAAAAAAAMAAAAAAAAAAQAAAAMAAAADAAAAAAAAAAEAAAABAAAAAQAAAAAAAAAAAAAAAQAAAAAAAAADAAAAAwAAAAMAAAAAAAAAAAAAAAMAAAADAAAAAQAAAAAAAAADAAAAAAAAAAMAAAADAAAAAAAAAAEAAAABAAAAAgAAAAMAAAABAAAAAwAAAAMAAAABAAAAAAAAAAMAAAADAAAAAgAAAAEAAAABAAAAAgAAAAMAAAADAAAAAQAAAAMAAAADAAAAAQAAAAAAAAADAAAAAQAAAAEAAAADAAAAAQAAAAAAAAABAAAAAQAAAAEAAAAAAAAAAAAAAAAAAAABAAAAAAAAAAAAAAADAAAAAAAAAAMAAAAAAAAAAQAAAAAAAAADAAAAAwAAAAAAAAABAAAAAAAAAAAAAAABAAAAAAAAAAMAAAAAAAAAAQAAAAAAAAADAAAAAAAAAAEAAAAAAAAAAgAAAAEAAAABAAAAAwAAAAEAAAADAAAAAQAAAAEAAAABAAAAAAAAAAMAAAAAAAAAAAAAAAAAAAABAAAAAwAAAAEAAAABAAAAAQAAAAEAAAADAAAAAQAAAAEAAAAAAAAAAwAAAAAAAAAAAAAAAQAAAAEAAAAAAAAAAAAAAAEAAAABAAAAAwAAAAMAAAABAAAAAAAAAAMAAAABAAAAAAAAAAEAAAAAAAAAAQAAAAMAAAABAAAAAwAAAAMAAAADAAAAAQAAAAEAAAABAAAAAAAAAAMAAAADAAAAAwAAAAMAAAADAAAAAwAAAAMAAAADAAAAAwAAAAEAAAABAAAAAQAAAAMAAAACAAAAAAAAAAEAAAABAAAAAAAAAAEAAAADAAAAAAAAAAAAAAABAAAAAwAAAAEAAAADAAAAAwAAAAMAAAADAAAAAQAAAAEAAAABAAAAAAAAAAMAAAAAAAAAAQAAAAMAAAADAAAAAwAAAAMAAAABAAAAAAAAAAAAAAAAAAAAAAAAAAAAAAAAAAAAAAAAAAAAAAAAAAAAAQAAAAEAAAADAAAAAAAAAAEAAAAAAAAAAAAAAAMAAAADAAAAAQAAAAMAAAABAAAAAQAAAAEAAAADAAAAAQAAAAAAAAAAAAAAAQAAAAMAAAABAAAAAwAAAAMAAAAAAAAAAQAAAAEAAAADAAAAAwAAAAMAAAABAAAAAAAAAAEAAAABAAAAAwAAAAEAAAADAAAAAwAAAAAAAAADAAAAAAAAAAEAAAACAAAAAQAAAAAAAAABAAAAAwAAAAAAAAABAAAAAQAAAAAAAAABAAAAAwAAAAIAAAAAAAAAAQAAAAEAAAABAAAAAwAAAAMAAAAAAAAAAAAAAAAAAAABAAAAAQAAAAMAAAAAAAAAAQAAAAMAAAABAAAAAQAAAAAAAAABAAAAAQAAAAAAAAABAAAAAQAAAAMAAAAAAAAAAwAAAAMAAAABAAAAAQAAAAEAAAADAAAAAAAAAAMAAAABAAAAAAAAAAEAAAAAAAAAAwAAAAEAAAAAAAAAAwAAAAEAAAAAAAAAAwAAAAMAAAAAAAAAAwAAAAMAAAACAAAAAQAAAAMAAAADAAAAAAAAAAEAAAAAAAAAAwAAAAEAAAAAAAAAAAAAAAAAAAABAAAAAAAAAAMAAAAAAAAAAQAAAAEAAAABAAAAAQAAAAAAAAABAAAAAAAAAAMAAAADAAAAAAAAAAMAAAADAAAAAAAAAAMAAAABAAAAAwAAAAAAAAADAAAAAAAAAAIAAAAAAAAAAQAAAAAAAAAAAAAAAAAAAAEAAAAAAAAAAAAAAAEAAAADAAAAAAAAAAAAAAABAAAAAQAAAAAAAAADAAAAAAAAAAMAAAABAAAAAQAAAAEAAAAAAAAAAQAAAAAAAAADAAAAAAAAAAAAAAABAAAAAAAAAAMAAAADAAAAAAAAAAEAAAADAAAAAgAAAAMAAAADAAAAAQAAAAAAAAAAAAAAAQAAAAMAAAABAAAAAwAAAAEAAAADAAAAAQAAAAAAAAAAAAAAAQAAAAIAAAAAAAAAAQAAAAAAAAADAAAAAAAAAAMAAAABAAAAAwAAAAAAAAADAAAAAwAAAAEAAAADAAAAAwAAAAMAAAADAAAAAAAAAAEAAAADAAAAAQAAAAEAAAADAAAA",
           "dtype": "i4"
          },
          "coloraxis": "coloraxis",
          "symbol": "circle"
         },
         "mode": "markers",
         "name": "",
         "scene": "scene",
         "showlegend": false,
         "type": "scatter3d",
         "x": {
          "bdata": "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",
          "dtype": "f8"
         },
         "y": {
          "bdata": "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",
          "dtype": "f8"
         },
         "z": {
          "bdata": "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",
          "dtype": "f8"
         }
        }
       ],
       "layout": {
        "coloraxis": {
         "colorbar": {
          "title": {
           "text": "Segmento"
          }
         },
         "colorscale": [
          [
           0,
           "#0d0887"
          ],
          [
           0.1111111111111111,
           "#46039f"
          ],
          [
           0.2222222222222222,
           "#7201a8"
          ],
          [
           0.3333333333333333,
           "#9c179e"
          ],
          [
           0.4444444444444444,
           "#bd3786"
          ],
          [
           0.5555555555555556,
           "#d8576b"
          ],
          [
           0.6666666666666666,
           "#ed7953"
          ],
          [
           0.7777777777777778,
           "#fb9f3a"
          ],
          [
           0.8888888888888888,
           "#fdca26"
          ],
          [
           1,
           "#f0f921"
          ]
         ]
        },
        "height": 600,
        "legend": {
         "tracegroupgap": 0
        },
        "scene": {
         "domain": {
          "x": [
           0,
           1
          ],
          "y": [
           0,
           1
          ]
         },
         "xaxis": {
          "title": {
           "text": "Valor_Venda"
          }
         },
         "yaxis": {
          "title": {
           "text": "Idade_Veiculo"
          }
         },
         "zaxis": {
          "title": {
           "text": "Quilometragem"
          }
         }
        },
        "template": {
         "data": {
          "bar": [
           {
            "error_x": {
             "color": "#2a3f5f"
            },
            "error_y": {
             "color": "#2a3f5f"
            },
            "marker": {
             "line": {
              "color": "white",
              "width": 0.5
             },
             "pattern": {
              "fillmode": "overlay",
              "size": 10,
              "solidity": 0.2
             }
            },
            "type": "bar"
           }
          ],
          "barpolar": [
           {
            "marker": {
             "line": {
              "color": "white",
              "width": 0.5
             },
             "pattern": {
              "fillmode": "overlay",
              "size": 10,
              "solidity": 0.2
             }
            },
            "type": "barpolar"
           }
          ],
          "carpet": [
           {
            "aaxis": {
             "endlinecolor": "#2a3f5f",
             "gridcolor": "#C8D4E3",
             "linecolor": "#C8D4E3",
             "minorgridcolor": "#C8D4E3",
             "startlinecolor": "#2a3f5f"
            },
            "baxis": {
             "endlinecolor": "#2a3f5f",
             "gridcolor": "#C8D4E3",
             "linecolor": "#C8D4E3",
             "minorgridcolor": "#C8D4E3",
             "startlinecolor": "#2a3f5f"
            },
            "type": "carpet"
           }
          ],
          "choropleth": [
           {
            "colorbar": {
             "outlinewidth": 0,
             "ticks": ""
            },
            "type": "choropleth"
           }
          ],
          "contour": [
           {
            "colorbar": {
             "outlinewidth": 0,
             "ticks": ""
            },
            "colorscale": [
             [
              0,
              "#0d0887"
             ],
             [
              0.1111111111111111,
              "#46039f"
             ],
             [
              0.2222222222222222,
              "#7201a8"
             ],
             [
              0.3333333333333333,
              "#9c179e"
             ],
             [
              0.4444444444444444,
              "#bd3786"
             ],
             [
              0.5555555555555556,
              "#d8576b"
             ],
             [
              0.6666666666666666,
              "#ed7953"
             ],
             [
              0.7777777777777778,
              "#fb9f3a"
             ],
             [
              0.8888888888888888,
              "#fdca26"
             ],
             [
              1,
              "#f0f921"
             ]
            ],
            "type": "contour"
           }
          ],
          "contourcarpet": [
           {
            "colorbar": {
             "outlinewidth": 0,
             "ticks": ""
            },
            "type": "contourcarpet"
           }
          ],
          "heatmap": [
           {
            "colorbar": {
             "outlinewidth": 0,
             "ticks": ""
            },
            "colorscale": [
             [
              0,
              "#0d0887"
             ],
             [
              0.1111111111111111,
              "#46039f"
             ],
             [
              0.2222222222222222,
              "#7201a8"
             ],
             [
              0.3333333333333333,
              "#9c179e"
             ],
             [
              0.4444444444444444,
              "#bd3786"
             ],
             [
              0.5555555555555556,
              "#d8576b"
             ],
             [
              0.6666666666666666,
              "#ed7953"
             ],
             [
              0.7777777777777778,
              "#fb9f3a"
             ],
             [
              0.8888888888888888,
              "#fdca26"
             ],
             [
              1,
              "#f0f921"
             ]
            ],
            "type": "heatmap"
           }
          ],
          "histogram": [
           {
            "marker": {
             "pattern": {
              "fillmode": "overlay",
              "size": 10,
              "solidity": 0.2
             }
            },
            "type": "histogram"
           }
          ],
          "histogram2d": [
           {
            "colorbar": {
             "outlinewidth": 0,
             "ticks": ""
            },
            "colorscale": [
             [
              0,
              "#0d0887"
             ],
             [
              0.1111111111111111,
              "#46039f"
             ],
             [
              0.2222222222222222,
              "#7201a8"
             ],
             [
              0.3333333333333333,
              "#9c179e"
             ],
             [
              0.4444444444444444,
              "#bd3786"
             ],
             [
              0.5555555555555556,
              "#d8576b"
             ],
             [
              0.6666666666666666,
              "#ed7953"
             ],
             [
              0.7777777777777778,
              "#fb9f3a"
             ],
             [
              0.8888888888888888,
              "#fdca26"
             ],
             [
              1,
              "#f0f921"
             ]
            ],
            "type": "histogram2d"
           }
          ],
          "histogram2dcontour": [
           {
            "colorbar": {
             "outlinewidth": 0,
             "ticks": ""
            },
            "colorscale": [
             [
              0,
              "#0d0887"
             ],
             [
              0.1111111111111111,
              "#46039f"
             ],
             [
              0.2222222222222222,
              "#7201a8"
             ],
             [
              0.3333333333333333,
              "#9c179e"
             ],
             [
              0.4444444444444444,
              "#bd3786"
             ],
             [
              0.5555555555555556,
              "#d8576b"
             ],
             [
              0.6666666666666666,
              "#ed7953"
             ],
             [
              0.7777777777777778,
              "#fb9f3a"
             ],
             [
              0.8888888888888888,
              "#fdca26"
             ],
             [
              1,
              "#f0f921"
             ]
            ],
            "type": "histogram2dcontour"
           }
          ],
          "mesh3d": [
           {
            "colorbar": {
             "outlinewidth": 0,
             "ticks": ""
            },
            "type": "mesh3d"
           }
          ],
          "parcoords": [
           {
            "line": {
             "colorbar": {
              "outlinewidth": 0,
              "ticks": ""
             }
            },
            "type": "parcoords"
           }
          ],
          "pie": [
           {
            "automargin": true,
            "type": "pie"
           }
          ],
          "scatter": [
           {
            "fillpattern": {
             "fillmode": "overlay",
             "size": 10,
             "solidity": 0.2
            },
            "type": "scatter"
           }
          ],
          "scatter3d": [
           {
            "line": {
             "colorbar": {
              "outlinewidth": 0,
              "ticks": ""
             }
            },
            "marker": {
             "colorbar": {
              "outlinewidth": 0,
              "ticks": ""
             }
            },
            "type": "scatter3d"
           }
          ],
          "scattercarpet": [
           {
            "marker": {
             "colorbar": {
              "outlinewidth": 0,
              "ticks": ""
             }
            },
            "type": "scattercarpet"
           }
          ],
          "scattergeo": [
           {
            "marker": {
             "colorbar": {
              "outlinewidth": 0,
              "ticks": ""
             }
            },
            "type": "scattergeo"
           }
          ],
          "scattergl": [
           {
            "marker": {
             "colorbar": {
              "outlinewidth": 0,
              "ticks": ""
             }
            },
            "type": "scattergl"
           }
          ],
          "scattermap": [
           {
            "marker": {
             "colorbar": {
              "outlinewidth": 0,
              "ticks": ""
             }
            },
            "type": "scattermap"
           }
          ],
          "scattermapbox": [
           {
            "marker": {
             "colorbar": {
              "outlinewidth": 0,
              "ticks": ""
             }
            },
            "type": "scattermapbox"
           }
          ],
          "scatterpolar": [
           {
            "marker": {
             "colorbar": {
              "outlinewidth": 0,
              "ticks": ""
             }
            },
            "type": "scatterpolar"
           }
          ],
          "scatterpolargl": [
           {
            "marker": {
             "colorbar": {
              "outlinewidth": 0,
              "ticks": ""
             }
            },
            "type": "scatterpolargl"
           }
          ],
          "scatterternary": [
           {
            "marker": {
             "colorbar": {
              "outlinewidth": 0,
              "ticks": ""
             }
            },
            "type": "scatterternary"
           }
          ],
          "surface": [
           {
            "colorbar": {
             "outlinewidth": 0,
             "ticks": ""
            },
            "colorscale": [
             [
              0,
              "#0d0887"
             ],
             [
              0.1111111111111111,
              "#46039f"
             ],
             [
              0.2222222222222222,
              "#7201a8"
             ],
             [
              0.3333333333333333,
              "#9c179e"
             ],
             [
              0.4444444444444444,
              "#bd3786"
             ],
             [
              0.5555555555555556,
              "#d8576b"
             ],
             [
              0.6666666666666666,
              "#ed7953"
             ],
             [
              0.7777777777777778,
              "#fb9f3a"
             ],
             [
              0.8888888888888888,
              "#fdca26"
             ],
             [
              1,
              "#f0f921"
             ]
            ],
            "type": "surface"
           }
          ],
          "table": [
           {
            "cells": {
             "fill": {
              "color": "#EBF0F8"
             },
             "line": {
              "color": "white"
             }
            },
            "header": {
             "fill": {
              "color": "#C8D4E3"
             },
             "line": {
              "color": "white"
             }
            },
            "type": "table"
           }
          ]
         },
         "layout": {
          "annotationdefaults": {
           "arrowcolor": "#2a3f5f",
           "arrowhead": 0,
           "arrowwidth": 1
          },
          "autotypenumbers": "strict",
          "coloraxis": {
           "colorbar": {
            "outlinewidth": 0,
            "ticks": ""
           }
          },
          "colorscale": {
           "diverging": [
            [
             0,
             "#8e0152"
            ],
            [
             0.1,
             "#c51b7d"
            ],
            [
             0.2,
             "#de77ae"
            ],
            [
             0.3,
             "#f1b6da"
            ],
            [
             0.4,
             "#fde0ef"
            ],
            [
             0.5,
             "#f7f7f7"
            ],
            [
             0.6,
             "#e6f5d0"
            ],
            [
             0.7,
             "#b8e186"
            ],
            [
             0.8,
             "#7fbc41"
            ],
            [
             0.9,
             "#4d9221"
            ],
            [
             1,
             "#276419"
            ]
           ],
           "sequential": [
            [
             0,
             "#0d0887"
            ],
            [
             0.1111111111111111,
             "#46039f"
            ],
            [
             0.2222222222222222,
             "#7201a8"
            ],
            [
             0.3333333333333333,
             "#9c179e"
            ],
            [
             0.4444444444444444,
             "#bd3786"
            ],
            [
             0.5555555555555556,
             "#d8576b"
            ],
            [
             0.6666666666666666,
             "#ed7953"
            ],
            [
             0.7777777777777778,
             "#fb9f3a"
            ],
            [
             0.8888888888888888,
             "#fdca26"
            ],
            [
             1,
             "#f0f921"
            ]
           ],
           "sequentialminus": [
            [
             0,
             "#0d0887"
            ],
            [
             0.1111111111111111,
             "#46039f"
            ],
            [
             0.2222222222222222,
             "#7201a8"
            ],
            [
             0.3333333333333333,
             "#9c179e"
            ],
            [
             0.4444444444444444,
             "#bd3786"
            ],
            [
             0.5555555555555556,
             "#d8576b"
            ],
            [
             0.6666666666666666,
             "#ed7953"
            ],
            [
             0.7777777777777778,
             "#fb9f3a"
            ],
            [
             0.8888888888888888,
             "#fdca26"
            ],
            [
             1,
             "#f0f921"
            ]
           ]
          },
          "colorway": [
           "#636efa",
           "#EF553B",
           "#00cc96",
           "#ab63fa",
           "#FFA15A",
           "#19d3f3",
           "#FF6692",
           "#B6E880",
           "#FF97FF",
           "#FECB52"
          ],
          "font": {
           "color": "#2a3f5f"
          },
          "geo": {
           "bgcolor": "white",
           "lakecolor": "white",
           "landcolor": "white",
           "showlakes": true,
           "showland": true,
           "subunitcolor": "#C8D4E3"
          },
          "hoverlabel": {
           "align": "left"
          },
          "hovermode": "closest",
          "mapbox": {
           "style": "light"
          },
          "paper_bgcolor": "white",
          "plot_bgcolor": "white",
          "polar": {
           "angularaxis": {
            "gridcolor": "#EBF0F8",
            "linecolor": "#EBF0F8",
            "ticks": ""
           },
           "bgcolor": "white",
           "radialaxis": {
            "gridcolor": "#EBF0F8",
            "linecolor": "#EBF0F8",
            "ticks": ""
           }
          },
          "scene": {
           "xaxis": {
            "backgroundcolor": "white",
            "gridcolor": "#DFE8F3",
            "gridwidth": 2,
            "linecolor": "#EBF0F8",
            "showbackground": true,
            "ticks": "",
            "zerolinecolor": "#EBF0F8"
           },
           "yaxis": {
            "backgroundcolor": "white",
            "gridcolor": "#DFE8F3",
            "gridwidth": 2,
            "linecolor": "#EBF0F8",
            "showbackground": true,
            "ticks": "",
            "zerolinecolor": "#EBF0F8"
           },
           "zaxis": {
            "backgroundcolor": "white",
            "gridcolor": "#DFE8F3",
            "gridwidth": 2,
            "linecolor": "#EBF0F8",
            "showbackground": true,
            "ticks": "",
            "zerolinecolor": "#EBF0F8"
           }
          },
          "shapedefaults": {
           "line": {
            "color": "#2a3f5f"
           }
          },
          "ternary": {
           "aaxis": {
            "gridcolor": "#DFE8F3",
            "linecolor": "#A2B1C6",
            "ticks": ""
           },
           "baxis": {
            "gridcolor": "#DFE8F3",
            "linecolor": "#A2B1C6",
            "ticks": ""
           },
           "bgcolor": "white",
           "caxis": {
            "gridcolor": "#DFE8F3",
            "linecolor": "#A2B1C6",
            "ticks": ""
           }
          },
          "title": {
           "x": 0.05
          },
          "xaxis": {
           "automargin": true,
           "gridcolor": "#EBF0F8",
           "linecolor": "#EBF0F8",
           "ticks": "",
           "title": {
            "standoff": 15
           },
           "zerolinecolor": "#EBF0F8",
           "zerolinewidth": 2
          },
          "yaxis": {
           "automargin": true,
           "gridcolor": "#EBF0F8",
           "linecolor": "#EBF0F8",
           "ticks": "",
           "title": {
            "standoff": 15
           },
           "zerolinecolor": "#EBF0F8",
           "zerolinewidth": 2
          }
         }
        },
        "title": {
         "text": "Segmentação Natural do Mercado Automotivo"
        }
       }
      }
     },
     "metadata": {},
     "output_type": "display_data"
    }
   ],
   "source": [
    "# 4. Análise de Segmentação Natural do Mercado (Clustering)\n",
    "print(\"\\n===  INSIGHT 4: SEGMENTAÇÃO NATURAL DO MERCADO ===\")\n",
    "\n",
    "from sklearn.cluster import KMeans\n",
    "from sklearn.preprocessing import StandardScaler\n",
    "\n",
    "# Preparar dados para clustering\n",
    "cluster_features = ['Valor_Venda', 'Idade_Veiculo', 'Quilometragem']\n",
    "cluster_data = df[cluster_features].dropna()\n",
    "\n",
    "# Normalizar dados\n",
    "scaler_cluster = StandardScaler()\n",
    "cluster_data_scaled = scaler_cluster.fit_transform(cluster_data)\n",
    "\n",
    "# Determinar número ótimo de clusters (método do cotovelo)\n",
    "inertias = []\n",
    "k_range = range(2, 9)\n",
    "\n",
    "for k in k_range:\n",
    "    kmeans = KMeans(n_clusters=k, random_state=42, n_init=10)\n",
    "    kmeans.fit(cluster_data_scaled)\n",
    "    inertias.append(kmeans.inertia_)\n",
    "\n",
    "# Aplicar clustering com k=4 (assumindo 4 segmentos principais)\n",
    "kmeans_final = KMeans(n_clusters=4, random_state=42, n_init=10)\n",
    "cluster_labels = kmeans_final.fit_predict(cluster_data_scaled)\n",
    "\n",
    "# Adicionar labels ao dataframe\n",
    "df_cluster = cluster_data.copy()\n",
    "df_cluster['Cluster'] = cluster_labels\n",
    "\n",
    "# Analisar características dos clusters\n",
    "cluster_summary = df_cluster.groupby('Cluster').agg({\n",
    "    'Valor_Venda': ['mean', 'std', 'count'],\n",
    "    'Idade_Veiculo': 'mean',\n",
    "    'Quilometragem': 'mean'\n",
    "}).round(2)\n",
    "\n",
    "cluster_summary.columns = ['Preco_Medio', 'Preco_Std', 'Volume', 'Idade_Media', 'Km_Medio']\n",
    "\n",
    "# Nomear clusters baseado nas características\n",
    "cluster_names = {\n",
    "    0: 'Econômico Usado',\n",
    "    1: 'Premium Novo',\n",
    "    2: 'Médio Seminovo', \n",
    "    3: 'Luxury/Antigo'\n",
    "}\n",
    "\n",
    "# Ajustar nomes baseado nos dados reais\n",
    "for cluster_id in cluster_summary.index:\n",
    "    price = cluster_summary.loc[cluster_id, 'Preco_Medio']\n",
    "    age = cluster_summary.loc[cluster_id, 'Idade_Media']\n",
    "    \n",
    "    if price < 50000 and age > 10:\n",
    "        cluster_names[cluster_id] = 'Econômico Usado'\n",
    "    elif price > 80000 and age < 5:\n",
    "        cluster_names[cluster_id] = 'Premium Novo'\n",
    "    elif price > 100000:\n",
    "        cluster_names[cluster_id] = 'Luxury'\n",
    "    else:\n",
    "        cluster_names[cluster_id] = 'Médio Seminovo'\n",
    "\n",
    "print(\"Segmentação Natural do Mercado:\")\n",
    "for cluster_id, summary in cluster_summary.iterrows():\n",
    "    name = cluster_names[cluster_id]\n",
    "    print(f\"\\n Cluster {cluster_id} - {name}:\")\n",
    "    print(f\"   Preço médio: R$ {summary['Preco_Medio']:,.2f}\")\n",
    "    print(f\"   Idade média: {summary['Idade_Media']:.1f} anos\")\n",
    "    print(f\"   Quilometragem média: {summary['Km_Medio']:,.0f} km\")\n",
    "    print(f\"   Volume: {summary['Volume']} veículos ({summary['Volume']/len(df_cluster)*100:.1f}%)\")\n",
    "\n",
    "# Visualização 3D dos clusters\n",
    "fig = px.scatter_3d(df_cluster, \n",
    "                    x='Valor_Venda', \n",
    "                    y='Idade_Veiculo', \n",
    "                    z='Quilometragem',\n",
    "                    color='Cluster',\n",
    "                    title='Segmentação Natural do Mercado Automotivo',\n",
    "                    labels={'Cluster': 'Segmento'})\n",
    "fig.update_layout(height=600)\n",
    "fig.show()"
   ]
  },
  {
   "cell_type": "markdown",
   "metadata": {},
   "source": [
    "## 10. Resumo Executivo de Insights"
   ]
  },
  {
   "cell_type": "code",
   "execution_count": 44,
   "metadata": {},
   "outputs": [
    {
     "name": "stdout",
     "output_type": "stream",
     "text": [
      "===  RESUMO EXECUTIVO DE INSIGHTS ===\n",
      "\n",
      " PRINCIPAIS DESCOBERTAS SOBRE O MERCADO AUTOMOTIVO BRASILEIRO:\n",
      "\n",
      "1.  CARACTERÍSTICAS DOS DADOS:\n",
      "   • Dataset: 10,000 registros, 16 variáveis\n",
      "   • Qualidade: 0 duplicatas, dados limpos\n",
      "   • Cobertura temporal: 2000.0 - 2023.0\n",
      "\n",
      "2.  ANÁLISE DE PREÇOS:\n",
      "   • Preço médio: R$ 83,097.49\n",
      "   • Mediana: R$ 58,905.70\n",
      "   • Variabilidade: 200.8% (coef. variação)\n",
      "   • Distribuição: Assimétrica positiva (cauda à direita)\n",
      "\n",
      "3.  MARKET SHARE:\n",
      "   • 1º: Volkswagen - 1,053 vendas (10.5%)\n",
      "   • 2º: Nissan - 1,034 vendas (10.3%)\n",
      "   • 3º: Honda - 1,021 vendas (10.2%)\n",
      "\n",
      "4.  CORRELAÇÕES IMPORTANTES:\n",
      "   • Quilometragem: 0.079 (correlação com preço)\n",
      "   • Ano: 0.051 (correlação com preço)\n",
      "   • Portas: 0.006 (correlação com preço)\n",
      "\n",
      "5.  PADRÕES DE DEPRECIAÇÃO:\n",
      "   • Melhor retenção: Volkswagen (nan%/ano)\n",
      "   • Maior depreciação: Toyota (nan%/ano)\n",
      "\n",
      "6.  SEGMENTAÇÃO DO MERCADO:\n",
      "   • Identificados 4 segmentos naturais\n",
      "   • Médio Seminovo: 3036.0 veículos (31.0%)\n",
      "   • Econômico Usado: 3585.0 veículos (36.6%)\n",
      "   • Luxury: 197.0 veículos (2.0%)\n",
      "   • Médio Seminovo: 2983.0 veículos (30.4%)\n",
      "\n",
      "7.  ANOMALIAS DETECTADAS:\n",
      "   • 1 tipos de anomalias identificadas\n",
      "   • Business Logic Anomalies: 2 problemas\n",
      "\n",
      "8.  INSIGHTS ESTRATÉGICOS:\n",
      "   • Mercado fragmentado com múltiplas marcas competindo\n",
      "   • Forte correlação idade-preço indica depreciação consistente\n",
      "   • Segmentação clara entre mercados econômico, médio e premium\n",
      "   • Oportunidades de arbitragem em sweet spots identificados\n",
      "\n",
      " PRÓXIMOS PASSOS RECOMENDADOS:\n",
      "   1. Limpeza e tratamento de outliers identificados\n",
      "   2. Feature engineering baseada nos padrões descobertos\n",
      "   3. Modelagem considerando segmentação natural\n",
      "   4. Validação dos insights com dados externos\n"
     ]
    }
   ],
   "source": [
    "# Consolidação de todos os insights descobertos\n",
    "print(\"===  RESUMO EXECUTIVO DE INSIGHTS ===\")\n",
    "print(\"\\n PRINCIPAIS DESCOBERTAS SOBRE O MERCADO AUTOMOTIVO BRASILEIRO:\")\n",
    "\n",
    "print(\"\\n1.  CARACTERÍSTICAS DOS DADOS:\")\n",
    "print(f\"   • Dataset: {df.shape[0]:,} registros, {df.shape[1]} variáveis\")\n",
    "print(f\"   • Qualidade: {quality_report['data_quality']['duplicates']} duplicatas, dados limpos\")\n",
    "print(f\"   • Cobertura temporal: {df['Ano'].min()} - {df['Ano'].max()}\")\n",
    "\n",
    "print(\"\\n2.  ANÁLISE DE PREÇOS:\")\n",
    "print(f\"   • Preço médio: R$ {df['Valor_Venda'].mean():,.2f}\")\n",
    "print(f\"   • Mediana: R$ {df['Valor_Venda'].median():,.2f}\")\n",
    "print(f\"   • Variabilidade: {(df['Valor_Venda'].std()/df['Valor_Venda'].mean())*100:.1f}% (coef. variação)\")\n",
    "print(f\"   • Distribuição: Assimétrica positiva (cauda à direita)\")\n",
    "\n",
    "print(\"\\n3.  MARKET SHARE:\")\n",
    "top_3_brands = df['Marca'].value_counts().head(3)\n",
    "for i, (marca, count) in enumerate(top_3_brands.items()):\n",
    "    percentage = (count / len(df)) * 100\n",
    "    print(f\"   • {i+1}º: {marca} - {count:,} vendas ({percentage:.1f}%)\")\n",
    "\n",
    "print(\"\\n4.  CORRELAÇÕES IMPORTANTES:\")\n",
    "important_corrs = correlation_matrix[target].abs().sort_values(ascending=False)[1:4]\n",
    "for var, corr in important_corrs.items():\n",
    "    print(f\"   • {var}: {corr:.3f} (correlação com preço)\")\n",
    "\n",
    "print(\"\\n5.  PADRÕES DE DEPRECIAÇÃO:\")\n",
    "if 'depreciation_df' in locals():\n",
    "    best_brand = depreciation_df.iloc[0]\n",
    "    worst_brand = depreciation_df.iloc[-1]\n",
    "    print(f\"   • Melhor retenção: {best_brand['Marca']} ({best_brand['Taxa_Depreciacao_Anual_%']:.1f}%/ano)\")\n",
    "    print(f\"   • Maior depreciação: {worst_brand['Marca']} ({worst_brand['Taxa_Depreciacao_Anual_%']:.1f}%/ano)\")\n",
    "\n",
    "print(\"\\n6.  SEGMENTAÇÃO DO MERCADO:\")\n",
    "if 'cluster_summary' in locals():\n",
    "    print(f\"   • Identificados 4 segmentos naturais\")\n",
    "    for cluster_id, summary in cluster_summary.iterrows():\n",
    "        name = cluster_names.get(cluster_id, f'Cluster {cluster_id}')\n",
    "        print(f\"   • {name}: {summary['Volume']} veículos ({summary['Volume']/len(df_cluster)*100:.1f}%)\")\n",
    "\n",
    "print(\"\\n7.  ANOMALIAS DETECTADAS:\")\n",
    "total_anomaly_types = sum(1 for issues in anomalies.values() if issues)\n",
    "print(f\"   • {total_anomaly_types} tipos de anomalias identificadas\")\n",
    "for category, issues in anomalies.items():\n",
    "    if issues:\n",
    "        print(f\"   • {category.replace('_', ' ').title()}: {len(issues)} problemas\")\n",
    "\n",
    "print(\"\\n8.  INSIGHTS ESTRATÉGICOS:\")\n",
    "print(\"   • Mercado fragmentado com múltiplas marcas competindo\")\n",
    "print(\"   • Forte correlação idade-preço indica depreciação consistente\")\n",
    "print(\"   • Segmentação clara entre mercados econômico, médio e premium\")\n",
    "print(\"   • Oportunidades de arbitragem em sweet spots identificados\")\n",
    "\n",
    "print(\"\\n PRÓXIMOS PASSOS RECOMENDADOS:\")\n",
    "print(\"   1. Limpeza e tratamento de outliers identificados\")\n",
    "print(\"   2. Feature engineering baseada nos padrões descobertos\")\n",
    "print(\"   3. Modelagem considerando segmentação natural\")\n",
    "print(\"   4. Validação dos insights com dados externos\")"
   ]
  },
  {
   "cell_type": "code",
   "execution_count": 45,
   "metadata": {},
   "outputs": [
    {
     "name": "stdout",
     "output_type": "stream",
     "text": [
      "\n",
      "===  SALVANDO RELATÓRIOS E INSIGHTS ===\n",
      " Relatórios salvos:\n",
      "   • ../reports/data_quality_report.json\n",
      "   • ../reports/insights_summary.json\n",
      "\n",
      " ANÁLISE DE DATA UNDERSTANDING CONCLUÍDA!\n",
      "Timestamp: 2025-09-28 18:09:41\n",
      "Próximo passo: Notebook 03 - Data Preparation\n"
     ]
    }
   ],
   "source": [
    "# Salvar insights e relatórios\n",
    "print(\"\\n===  SALVANDO RELATÓRIOS E INSIGHTS ===\")\n",
    "\n",
    "# Criar diretório de relatórios se não existir\n",
    "import os\n",
    "os.makedirs('../reports', exist_ok=True)\n",
    "os.makedirs('../reports/figures', exist_ok=True)\n",
    "os.makedirs('../reports/metrics', exist_ok=True)\n",
    "\n",
    "# Salvar relatório de qualidade\n",
    "with open('../reports/data_quality_report.json', 'w', encoding='utf-8') as f:\n",
    "    json.dump(quality_report, f, indent=2, ensure_ascii=False, default=str)\n",
    "\n",
    "# Salvar resumo de insights\n",
    "insights_summary = {\n",
    "    'dataset_info': {\n",
    "        'shape': df.shape,\n",
    "        'timespan': f\"{df['Ano'].min()}-{df['Ano'].max()}\",\n",
    "        'memory_mb': df.memory_usage(deep=True).sum() / 1024**2\n",
    "    },\n",
    "    'price_analysis': {\n",
    "        'mean': df['Valor_Venda'].mean(),\n",
    "        'median': df['Valor_Venda'].median(),\n",
    "        'std': df['Valor_Venda'].std(),\n",
    "        'skewness': df['Valor_Venda'].skew(),\n",
    "        'coefficient_variation': (df['Valor_Venda'].std()/df['Valor_Venda'].mean())*100\n",
    "    },\n",
    "    'market_share': df['Marca'].value_counts().head(10).to_dict(),\n",
    "    'correlations': correlation_matrix[target].to_dict(),\n",
    "    'anomalies_summary': anomalies,\n",
    "    'timestamp': datetime.now().isoformat()\n",
    "}\n",
    "\n",
    "with open('../reports/insights_summary.json', 'w', encoding='utf-8') as f:\n",
    "    json.dump(insights_summary, f, indent=2, ensure_ascii=False, default=str)\n",
    "\n",
    "print(\" Relatórios salvos:\")\n",
    "print(\"   • ../reports/data_quality_report.json\")\n",
    "print(\"   • ../reports/insights_summary.json\")\n",
    "\n",
    "print(f\"\\n ANÁLISE DE DATA UNDERSTANDING CONCLUÍDA!\")\n",
    "print(f\"Timestamp: {datetime.now().strftime('%Y-%m-%d %H:%M:%S')}\")\n",
    "print(f\"Próximo passo: Notebook 03 - Data Preparation\")"
   ]
  }
 ],
 "metadata": {
  "kernelspec": {
   "display_name": "Python 3",
   "language": "python",
   "name": "python3"
  },
  "language_info": {
   "codemirror_mode": {
    "name": "ipython",
    "version": 3
   },
   "file_extension": ".py",
   "mimetype": "text/x-python",
   "name": "python",
   "nbconvert_exporter": "python",
   "pygments_lexer": "ipython3",
   "version": "3.13.5"
  }
 },
 "nbformat": 4,
 "nbformat_minor": 4
}
