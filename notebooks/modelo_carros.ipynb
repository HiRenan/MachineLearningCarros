{
 "cells": [
  {
   "cell_type": "markdown",
   "metadata": {
    "id": "bAYBlHTzcYDx"
   },
   "source": [
    "# Imports e Upload"
   ]
  },
  {
   "cell_type": "code",
   "execution_count": 1,
   "metadata": {
    "id": "Hwu1v2fcTIek"
   },
   "outputs": [],
   "source": [
    "import re\n",
    "import numpy as np\n",
    "import pandas as pd\n",
    "import matplotlib.pyplot as plt\n",
    "from sklearn.model_selection import train_test_split\n",
    "from sklearn.linear_model import LinearRegression, Ridge, Lasso\n",
    "from sklearn.tree import DecisionTreeRegressor\n",
    "from sklearn.ensemble import RandomForestRegressor, GradientBoostingRegressor\n",
    "from sklearn.metrics import mean_absolute_error, mean_squared_error, r2_score\n",
    "from datetime import datetime\n",
    "import xgboost as xgb\n",
    "import lightgbm as lgb"
   ]
  },
  {
   "cell_type": "markdown",
   "metadata": {},
   "source": [
    "# Configuracao MLflow"
   ]
  },
  {
   "cell_type": "code",
   "execution_count": null,
   "metadata": {},
   "outputs": [],
   "source": [
    "import mlflow\n",
    "import mlflow.sklearn\n",
    "import os\n",
    "\n",
    "# Configurar MLflow com caminho absoluto\n",
    "notebook_dir = os.path.dirname(os.path.abspath(\"__file__\")) if \"__file__\" in dir() else os.getcwd()\n",
    "mlruns_path = os.path.join(notebook_dir, \"mlruns\")\n",
    "mlflow.set_tracking_uri(f\"file:{mlruns_path}\")\n",
    "mlflow.set_experiment(\"Predicao_Precos_Carros\")\n",
    "\n",
    "print(\"MLflow configurado!\")\n",
    "print(f\"Tracking URI: {mlflow.get_tracking_uri()}\")\n",
    "experiment = mlflow.get_experiment_by_name('Predicao_Precos_Carros')\n",
    "if experiment:\n",
    "    print(f\"Experimento ativo: {experiment.name} (ID: {experiment.experiment_id})\")\n",
    "else:\n",
    "    print(\"Experimento criado: Predicao_Precos_Carros\")"
   ]
  },
  {
   "cell_type": "code",
   "execution_count": 3,
   "metadata": {
    "id": "MKf1GgIOVdXf"
   },
   "outputs": [],
   "source": [
    "df = pd.read_csv(\"../data/raw/dataset_carros_brasil.csv\")"
   ]
  },
  {
   "cell_type": "markdown",
   "metadata": {
    "id": "mnl3Av3Kcblf"
   },
   "source": [
    "# Análise Exploratória"
   ]
  },
  {
   "cell_type": "code",
   "execution_count": 4,
   "metadata": {
    "colab": {
     "base_uri": "https://localhost:8080/"
    },
    "id": "gGGQfAG8V4Zp",
    "outputId": "929870f1-3225-425c-a667-7a2baf0968b7"
   },
   "outputs": [
    {
     "data": {
      "text/plain": [
       "(10000, 9)"
      ]
     },
     "execution_count": 4,
     "metadata": {},
     "output_type": "execute_result"
    }
   ],
   "source": [
    "df.shape"
   ]
  },
  {
   "cell_type": "code",
   "execution_count": 5,
   "metadata": {
    "colab": {
     "base_uri": "https://localhost:8080/"
    },
    "id": "hAJwWKmCVpev",
    "outputId": "cb79a56d-1e19-4d7e-c559-516e983531e0"
   },
   "outputs": [
    {
     "name": "stdout",
     "output_type": "stream",
     "text": [
      "<class 'pandas.core.frame.DataFrame'>\n",
      "RangeIndex: 10000 entries, 0 to 9999\n",
      "Data columns (total 9 columns):\n",
      " #   Column         Non-Null Count  Dtype  \n",
      "---  ------         --------------  -----  \n",
      " 0   Marca          10000 non-null  object \n",
      " 1   Modelo         10000 non-null  object \n",
      " 2   Ano            9900 non-null   float64\n",
      " 3   Quilometragem  10000 non-null  object \n",
      " 4   Cor            10000 non-null  object \n",
      " 5   Cambio         10000 non-null  object \n",
      " 6   Combustivel    10000 non-null  object \n",
      " 7   Portas         10000 non-null  int64  \n",
      " 8   Valor_Venda    10000 non-null  float64\n",
      "dtypes: float64(2), int64(1), object(6)\n",
      "memory usage: 703.3+ KB\n"
     ]
    }
   ],
   "source": [
    "df.info()"
   ]
  },
  {
   "cell_type": "code",
   "execution_count": 6,
   "metadata": {
    "colab": {
     "base_uri": "https://localhost:8080/",
     "height": 424
    },
    "id": "2BplVUWPXqBu",
    "outputId": "75608f7d-3ea9-4176-d6f8-6af3f70eb8bf"
   },
   "outputs": [
    {
     "data": {
      "text/html": [
       "<div>\n",
       "<style scoped>\n",
       "    .dataframe tbody tr th:only-of-type {\n",
       "        vertical-align: middle;\n",
       "    }\n",
       "\n",
       "    .dataframe tbody tr th {\n",
       "        vertical-align: top;\n",
       "    }\n",
       "\n",
       "    .dataframe thead th {\n",
       "        text-align: right;\n",
       "    }\n",
       "</style>\n",
       "<table border=\"1\" class=\"dataframe\">\n",
       "  <thead>\n",
       "    <tr style=\"text-align: right;\">\n",
       "      <th></th>\n",
       "      <th>Marca</th>\n",
       "      <th>Modelo</th>\n",
       "      <th>Ano</th>\n",
       "      <th>Quilometragem</th>\n",
       "      <th>Cor</th>\n",
       "      <th>Cambio</th>\n",
       "      <th>Combustivel</th>\n",
       "      <th>Portas</th>\n",
       "      <th>Valor_Venda</th>\n",
       "    </tr>\n",
       "  </thead>\n",
       "  <tbody>\n",
       "    <tr>\n",
       "      <th>0</th>\n",
       "      <td>Ford</td>\n",
       "      <td>EcoSport</td>\n",
       "      <td>2003.0</td>\n",
       "      <td>82624</td>\n",
       "      <td>Azul</td>\n",
       "      <td>Automático</td>\n",
       "      <td>Flex</td>\n",
       "      <td>4</td>\n",
       "      <td>52604.2</td>\n",
       "    </tr>\n",
       "    <tr>\n",
       "      <th>1</th>\n",
       "      <td>Hyundai</td>\n",
       "      <td>HB20S</td>\n",
       "      <td>2017.0</td>\n",
       "      <td>69260</td>\n",
       "      <td>Azul</td>\n",
       "      <td>Automático</td>\n",
       "      <td>Diesel</td>\n",
       "      <td>2</td>\n",
       "      <td>63219.0</td>\n",
       "    </tr>\n",
       "    <tr>\n",
       "      <th>2</th>\n",
       "      <td>Jeep</td>\n",
       "      <td>Renegade</td>\n",
       "      <td>2008.0</td>\n",
       "      <td>106493</td>\n",
       "      <td>Cinza</td>\n",
       "      <td>Manual</td>\n",
       "      <td>Gasolina</td>\n",
       "      <td>2</td>\n",
       "      <td>79710.4</td>\n",
       "    </tr>\n",
       "    <tr>\n",
       "      <th>3</th>\n",
       "      <td>Toyota</td>\n",
       "      <td>Corolla</td>\n",
       "      <td>2018.0</td>\n",
       "      <td>53570</td>\n",
       "      <td>Prata</td>\n",
       "      <td>Automático</td>\n",
       "      <td>Flex</td>\n",
       "      <td>2</td>\n",
       "      <td>99149.0</td>\n",
       "    </tr>\n",
       "    <tr>\n",
       "      <th>4</th>\n",
       "      <td>Ford</td>\n",
       "      <td>Ranger</td>\n",
       "      <td>2009.0</td>\n",
       "      <td>21643</td>\n",
       "      <td>Prata</td>\n",
       "      <td>Manual</td>\n",
       "      <td>Flex</td>\n",
       "      <td>2</td>\n",
       "      <td>68913.4</td>\n",
       "    </tr>\n",
       "    <tr>\n",
       "      <th>...</th>\n",
       "      <td>...</td>\n",
       "      <td>...</td>\n",
       "      <td>...</td>\n",
       "      <td>...</td>\n",
       "      <td>...</td>\n",
       "      <td>...</td>\n",
       "      <td>...</td>\n",
       "      <td>...</td>\n",
       "      <td>...</td>\n",
       "    </tr>\n",
       "    <tr>\n",
       "      <th>9995</th>\n",
       "      <td>Ford</td>\n",
       "      <td>EcoSport</td>\n",
       "      <td>2008.0</td>\n",
       "      <td>141618</td>\n",
       "      <td>Vermelho</td>\n",
       "      <td>Automático</td>\n",
       "      <td>Flex</td>\n",
       "      <td>2</td>\n",
       "      <td>47848.4</td>\n",
       "    </tr>\n",
       "    <tr>\n",
       "      <th>9996</th>\n",
       "      <td>Nissan</td>\n",
       "      <td>Frontier</td>\n",
       "      <td>2019.0</td>\n",
       "      <td>141820</td>\n",
       "      <td>Branco</td>\n",
       "      <td>Manual</td>\n",
       "      <td>Gasolina</td>\n",
       "      <td>2</td>\n",
       "      <td>69586.0</td>\n",
       "    </tr>\n",
       "    <tr>\n",
       "      <th>9997</th>\n",
       "      <td>Fiat</td>\n",
       "      <td>Cronos</td>\n",
       "      <td>2003.0</td>\n",
       "      <td>67089</td>\n",
       "      <td>Vermelho</td>\n",
       "      <td>Manual</td>\n",
       "      <td>Flex</td>\n",
       "      <td>4</td>\n",
       "      <td>36726.2</td>\n",
       "    </tr>\n",
       "    <tr>\n",
       "      <th>9998</th>\n",
       "      <td>Nissan</td>\n",
       "      <td>Versa</td>\n",
       "      <td>2000.0</td>\n",
       "      <td>191101</td>\n",
       "      <td>Cinza</td>\n",
       "      <td>Manual</td>\n",
       "      <td>Flex</td>\n",
       "      <td>2</td>\n",
       "      <td>31730.8</td>\n",
       "    </tr>\n",
       "    <tr>\n",
       "      <th>9999</th>\n",
       "      <td>Toyota</td>\n",
       "      <td>Hilux</td>\n",
       "      <td>2015.0</td>\n",
       "      <td>156313</td>\n",
       "      <td>Cinza</td>\n",
       "      <td>Manual</td>\n",
       "      <td>Diesel</td>\n",
       "      <td>2</td>\n",
       "      <td>66276.4</td>\n",
       "    </tr>\n",
       "  </tbody>\n",
       "</table>\n",
       "<p>10000 rows × 9 columns</p>\n",
       "</div>"
      ],
      "text/plain": [
       "        Marca    Modelo     Ano Quilometragem       Cor      Cambio  \\\n",
       "0        Ford  EcoSport  2003.0         82624      Azul  Automático   \n",
       "1     Hyundai     HB20S  2017.0         69260      Azul  Automático   \n",
       "2        Jeep  Renegade  2008.0        106493     Cinza      Manual   \n",
       "3      Toyota   Corolla  2018.0         53570     Prata  Automático   \n",
       "4        Ford    Ranger  2009.0         21643     Prata      Manual   \n",
       "...       ...       ...     ...           ...       ...         ...   \n",
       "9995     Ford  EcoSport  2008.0        141618  Vermelho  Automático   \n",
       "9996   Nissan  Frontier  2019.0        141820    Branco      Manual   \n",
       "9997     Fiat    Cronos  2003.0         67089  Vermelho      Manual   \n",
       "9998   Nissan     Versa  2000.0        191101     Cinza      Manual   \n",
       "9999   Toyota     Hilux  2015.0        156313     Cinza      Manual   \n",
       "\n",
       "     Combustivel  Portas  Valor_Venda  \n",
       "0           Flex       4      52604.2  \n",
       "1         Diesel       2      63219.0  \n",
       "2       Gasolina       2      79710.4  \n",
       "3           Flex       2      99149.0  \n",
       "4           Flex       2      68913.4  \n",
       "...          ...     ...          ...  \n",
       "9995        Flex       2      47848.4  \n",
       "9996    Gasolina       2      69586.0  \n",
       "9997        Flex       4      36726.2  \n",
       "9998        Flex       2      31730.8  \n",
       "9999      Diesel       2      66276.4  \n",
       "\n",
       "[10000 rows x 9 columns]"
      ]
     },
     "metadata": {},
     "output_type": "display_data"
    }
   ],
   "source": [
    "display(df)"
   ]
  },
  {
   "cell_type": "markdown",
   "metadata": {
    "id": "GMaR64RfciuA"
   },
   "source": [
    "## Removendo nulos"
   ]
  },
  {
   "cell_type": "code",
   "execution_count": 7,
   "metadata": {
    "colab": {
     "base_uri": "https://localhost:8080/"
    },
    "id": "j6gRVUgwV4D5",
    "outputId": "9c893b12-e788-4929-847a-4ddc94ff357a"
   },
   "outputs": [
    {
     "name": "stdout",
     "output_type": "stream",
     "text": [
      "Shape original: (10000, 9)\n",
      "Shape após remoção de nulos: (9900, 9)\n",
      "\n",
      "Valores nulos por coluna:\n",
      "Marca            0\n",
      "Modelo           0\n",
      "Ano              0\n",
      "Quilometragem    0\n",
      "Cor              0\n",
      "Cambio           0\n",
      "Combustivel      0\n",
      "Portas           0\n",
      "Valor_Venda      0\n",
      "dtype: int64\n"
     ]
    }
   ],
   "source": [
    "# Remover linhas com qualquer valor nulo\n",
    "df_clean = df.dropna()\n",
    "\n",
    "print(\"Shape original:\", df.shape)\n",
    "print(\"Shape após remoção de nulos:\", df_clean.shape)\n",
    "\n",
    "# Conferir se ainda restaram valores nulos\n",
    "print(\"\\nValores nulos por coluna:\")\n",
    "print(df_clean.isna().sum())"
   ]
  },
  {
   "cell_type": "code",
   "execution_count": 8,
   "metadata": {
    "colab": {
     "base_uri": "https://localhost:8080/"
    },
    "id": "jApGSIpvWeP1",
    "outputId": "38a5db9f-333b-4c4c-d24c-4b4982ad2239"
   },
   "outputs": [
    {
     "name": "stdout",
     "output_type": "stream",
     "text": [
      "<class 'pandas.core.frame.DataFrame'>\n",
      "Index: 9900 entries, 0 to 9999\n",
      "Data columns (total 9 columns):\n",
      " #   Column         Non-Null Count  Dtype  \n",
      "---  ------         --------------  -----  \n",
      " 0   Marca          9900 non-null   object \n",
      " 1   Modelo         9900 non-null   object \n",
      " 2   Ano            9900 non-null   float64\n",
      " 3   Quilometragem  9900 non-null   object \n",
      " 4   Cor            9900 non-null   object \n",
      " 5   Cambio         9900 non-null   object \n",
      " 6   Combustivel    9900 non-null   object \n",
      " 7   Portas         9900 non-null   int64  \n",
      " 8   Valor_Venda    9900 non-null   float64\n",
      "dtypes: float64(2), int64(1), object(6)\n",
      "memory usage: 773.4+ KB\n"
     ]
    }
   ],
   "source": [
    "df_clean.info()"
   ]
  },
  {
   "cell_type": "markdown",
   "metadata": {
    "id": "eKDKKK9IdQ9u"
   },
   "source": [
    "## Verificando as colunas categóricas"
   ]
  },
  {
   "cell_type": "code",
   "execution_count": 9,
   "metadata": {
    "colab": {
     "base_uri": "https://localhost:8080/"
    },
    "id": "42CYT80VW9sK",
    "outputId": "885298dd-60b7-4ab6-81b2-d4afe47603ed"
   },
   "outputs": [
    {
     "name": "stdout",
     "output_type": "stream",
     "text": [
      "\n",
      "Marca\n",
      "Total de categorias: 10\n",
      "['Ford' 'Hyundai' 'Jeep' 'Toyota' 'Nissan' 'Fiat' 'Honda' 'Chevrolet'\n",
      " 'Volkswagen' 'Renault']\n",
      "\n",
      "Modelo\n",
      "Total de categorias: 32\n",
      "['EcoSport' 'HB20S' 'Renegade' 'Corolla' 'Ranger' 'Frontier' 'Toro'\n",
      " 'Hilux' 'HB20' 'Argo' 'Civic' 'Onix Plus' 'HR-V' 'Gol' 'Kicks' 'Sandero'\n",
      " 'Virtus' 'Versa' 'Yaris' 'Mobi' 'Ka' 'Kwid' 'Tracker' 'Creta' 'Cronos'\n",
      " 'T-Cross' 'Compass' 'S10' 'Duster' 'Onix' 'Polo' 'Fit']\n",
      "\n",
      "Cor\n",
      "Total de categorias: 6\n",
      "['Azul' 'Cinza' 'Prata' 'Preto' 'Vermelho' 'Branco']\n",
      "\n",
      "Cambio\n",
      "Total de categorias: 2\n",
      "['Automático' 'Manual']\n",
      "\n",
      "Combustivel\n",
      "Total de categorias: 3\n",
      "['Flex' 'Diesel' 'Gasolina']\n",
      "\n",
      "Portas\n",
      "Total de categorias: 2\n",
      "[4 2]\n",
      "\n",
      "Quilometragem\n",
      "Total de categorias: 9559\n",
      "['82624' '69260' '106493' ... '67089' '191101' '156313']\n"
     ]
    }
   ],
   "source": [
    "categorical_cols = [\"Marca\", \"Modelo\", \"Cor\", \"Cambio\", \"Combustivel\", \"Portas\", \"Quilometragem\"]\n",
    "\n",
    "for col in categorical_cols:\n",
    "    uniques = df_clean[col].unique()\n",
    "    print(f\"\\n{col}\")\n",
    "    print(f\"Total de categorias: {len(uniques)}\")\n",
    "    print(uniques)"
   ]
  },
  {
   "cell_type": "markdown",
   "metadata": {
    "id": "hEZNvcNxdaO-"
   },
   "source": [
    "## Limpando a Quilometragem"
   ]
  },
  {
   "cell_type": "code",
   "execution_count": 10,
   "metadata": {
    "colab": {
     "base_uri": "https://localhost:8080/"
    },
    "id": "WwV_oN3xYO8S",
    "outputId": "d5f80294-baa3-4544-a48b-188bf7040682"
   },
   "outputs": [
    {
     "name": "stdout",
     "output_type": "stream",
     "text": [
      "Quilometragem\n",
      "erro_medicao    99\n",
      "166373           3\n",
      "118222           3\n",
      "124790           3\n",
      "97491            3\n",
      "95381            2\n",
      "81254            2\n",
      "125200           2\n",
      "189928           2\n",
      "73497            2\n",
      "79942            2\n",
      "44420            2\n",
      "113417           2\n",
      "56436            2\n",
      "159701           2\n",
      "142953           2\n",
      "3801             2\n",
      "76323            2\n",
      "45832            2\n",
      "51356            2\n",
      "Name: count, dtype: int64\n",
      "\n",
      "Total de valores distintos: 9559\n",
      "\n",
      "Exemplos de valores com texto dentro:\n",
      "['erro_medicao']\n"
     ]
    }
   ],
   "source": [
    "# Contagem dos valores únicos\n",
    "print(df_clean[\"Quilometragem\"].value_counts().head(20))\n",
    "print(\"\\nTotal de valores distintos:\", df_clean[\"Quilometragem\"].nunique())\n",
    "\n",
    "# Mostrar exemplos que não são numéricos\n",
    "mask_non_numeric = df_clean[\"Quilometragem\"].str.contains(r\"[^\\d\\.]\", regex=True, na=False)\n",
    "print(\"\\nExemplos de valores com texto dentro:\")\n",
    "print(df_clean.loc[mask_non_numeric, \"Quilometragem\"].unique()[:20])"
   ]
  },
  {
   "cell_type": "code",
   "execution_count": 11,
   "metadata": {
    "colab": {
     "base_uri": "https://localhost:8080/"
    },
    "id": "uSExO0-IZhqj",
    "outputId": "01c9a579-9d87-4115-a60d-29f6c716a77b"
   },
   "outputs": [
    {
     "name": "stdout",
     "output_type": "stream",
     "text": [
      "Shape após remoção: (9801, 9)\n"
     ]
    }
   ],
   "source": [
    "df_clean = df_clean[df_clean[\"Quilometragem\"] != \"erro_medicao\"].copy()\n",
    "print(\"Shape após remoção:\", df_clean.shape)"
   ]
  },
  {
   "cell_type": "code",
   "execution_count": 12,
   "metadata": {
    "colab": {
     "base_uri": "https://localhost:8080/",
     "height": 300
    },
    "id": "YstYFzJIXhHN",
    "outputId": "ad25b37f-7bb7-4d33-f4b1-58fdecf3d8e3"
   },
   "outputs": [
    {
     "data": {
      "text/html": [
       "<div>\n",
       "<style scoped>\n",
       "    .dataframe tbody tr th:only-of-type {\n",
       "        vertical-align: middle;\n",
       "    }\n",
       "\n",
       "    .dataframe tbody tr th {\n",
       "        vertical-align: top;\n",
       "    }\n",
       "\n",
       "    .dataframe thead th {\n",
       "        text-align: right;\n",
       "    }\n",
       "</style>\n",
       "<table border=\"1\" class=\"dataframe\">\n",
       "  <thead>\n",
       "    <tr style=\"text-align: right;\">\n",
       "      <th></th>\n",
       "      <th>Ano</th>\n",
       "      <th>Portas</th>\n",
       "      <th>Valor_Venda</th>\n",
       "    </tr>\n",
       "  </thead>\n",
       "  <tbody>\n",
       "    <tr>\n",
       "      <th>count</th>\n",
       "      <td>9801.000000</td>\n",
       "      <td>9801.000000</td>\n",
       "      <td>9.801000e+03</td>\n",
       "    </tr>\n",
       "    <tr>\n",
       "      <th>mean</th>\n",
       "      <td>2011.509438</td>\n",
       "      <td>3.009693</td>\n",
       "      <td>8.320082e+04</td>\n",
       "    </tr>\n",
       "    <tr>\n",
       "      <th>std</th>\n",
       "      <td>6.897880</td>\n",
       "      <td>1.000004</td>\n",
       "      <td>1.672646e+05</td>\n",
       "    </tr>\n",
       "    <tr>\n",
       "      <th>min</th>\n",
       "      <td>2000.000000</td>\n",
       "      <td>2.000000</td>\n",
       "      <td>1.000000e+04</td>\n",
       "    </tr>\n",
       "    <tr>\n",
       "      <th>25%</th>\n",
       "      <td>2006.000000</td>\n",
       "      <td>2.000000</td>\n",
       "      <td>4.444760e+04</td>\n",
       "    </tr>\n",
       "    <tr>\n",
       "      <th>50%</th>\n",
       "      <td>2012.000000</td>\n",
       "      <td>4.000000</td>\n",
       "      <td>5.893580e+04</td>\n",
       "    </tr>\n",
       "    <tr>\n",
       "      <th>75%</th>\n",
       "      <td>2017.000000</td>\n",
       "      <td>4.000000</td>\n",
       "      <td>7.484280e+04</td>\n",
       "    </tr>\n",
       "    <tr>\n",
       "      <th>max</th>\n",
       "      <td>2023.000000</td>\n",
       "      <td>4.000000</td>\n",
       "      <td>1.241962e+06</td>\n",
       "    </tr>\n",
       "  </tbody>\n",
       "</table>\n",
       "</div>"
      ],
      "text/plain": [
       "               Ano       Portas   Valor_Venda\n",
       "count  9801.000000  9801.000000  9.801000e+03\n",
       "mean   2011.509438     3.009693  8.320082e+04\n",
       "std       6.897880     1.000004  1.672646e+05\n",
       "min    2000.000000     2.000000  1.000000e+04\n",
       "25%    2006.000000     2.000000  4.444760e+04\n",
       "50%    2012.000000     4.000000  5.893580e+04\n",
       "75%    2017.000000     4.000000  7.484280e+04\n",
       "max    2023.000000     4.000000  1.241962e+06"
      ]
     },
     "execution_count": 12,
     "metadata": {},
     "output_type": "execute_result"
    }
   ],
   "source": [
    "df_clean.describe()"
   ]
  },
  {
   "cell_type": "markdown",
   "metadata": {
    "id": "2L4Ya4Oedvgw"
   },
   "source": [
    "## Arrumando os tipos"
   ]
  },
  {
   "cell_type": "code",
   "execution_count": 13,
   "metadata": {
    "colab": {
     "base_uri": "https://localhost:8080/"
    },
    "id": "u1iOWhEZZ3nN",
    "outputId": "0f0b55e8-1671-4595-eda7-fe966691f4f5"
   },
   "outputs": [
    {
     "name": "stdout",
     "output_type": "stream",
     "text": [
      "<class 'pandas.core.frame.DataFrame'>\n",
      "Index: 9801 entries, 0 to 9999\n",
      "Data columns (total 9 columns):\n",
      " #   Column         Non-Null Count  Dtype  \n",
      "---  ------         --------------  -----  \n",
      " 0   Marca          9801 non-null   object \n",
      " 1   Modelo         9801 non-null   object \n",
      " 2   Ano            9801 non-null   int64  \n",
      " 3   Quilometragem  9801 non-null   float64\n",
      " 4   Cor            9801 non-null   object \n",
      " 5   Cambio         9801 non-null   object \n",
      " 6   Combustivel    9801 non-null   object \n",
      " 7   Portas         9801 non-null   int64  \n",
      " 8   Valor_Venda    9801 non-null   float64\n",
      "dtypes: float64(2), int64(2), object(5)\n",
      "memory usage: 765.7+ KB\n"
     ]
    }
   ],
   "source": [
    "df_clean[\"Ano\"] = df_clean[\"Ano\"].astype(int)\n",
    "df_clean[\"Quilometragem\"] = df_clean[\"Quilometragem\"].astype(float)\n",
    "df_clean.info()"
   ]
  },
  {
   "cell_type": "markdown",
   "metadata": {
    "id": "zmygI2HTdz3B"
   },
   "source": [
    "## Verificando Outliers (Ainda não apaguei)"
   ]
  },
  {
   "cell_type": "code",
   "execution_count": 14,
   "metadata": {
    "colab": {
     "base_uri": "https://localhost:8080/",
     "height": 418
    },
    "id": "ThS-2V8Abi5R",
    "outputId": "796f4492-24fc-4a82-f033-da5f20701b2a"
   },
   "outputs": [
    {
     "name": "stderr",
     "output_type": "stream",
     "text": [
      "C:\\Users\\renan\\AppData\\Local\\Temp\\ipykernel_31948\\1224703819.py:12: FutureWarning: DataFrameGroupBy.apply operated on the grouping columns. This behavior is deprecated, and in a future version of pandas the grouping columns will be excluded from the operation. Either pass `include_groups=False` to exclude the groupings or explicitly select the grouping columns after groupby to silence this warning.\n",
      "  outliers_por_marca = df_clean.groupby(\"Marca\").apply(contar_outliers).reset_index(name=\"Qtd_Outliers\")\n"
     ]
    },
    {
     "data": {
      "text/html": [
       "<div>\n",
       "<style scoped>\n",
       "    .dataframe tbody tr th:only-of-type {\n",
       "        vertical-align: middle;\n",
       "    }\n",
       "\n",
       "    .dataframe tbody tr th {\n",
       "        vertical-align: top;\n",
       "    }\n",
       "\n",
       "    .dataframe thead th {\n",
       "        text-align: right;\n",
       "    }\n",
       "</style>\n",
       "<table border=\"1\" class=\"dataframe\">\n",
       "  <thead>\n",
       "    <tr style=\"text-align: right;\">\n",
       "      <th></th>\n",
       "      <th>Marca</th>\n",
       "      <th>Qtd_Outliers</th>\n",
       "    </tr>\n",
       "  </thead>\n",
       "  <tbody>\n",
       "    <tr>\n",
       "      <th>1</th>\n",
       "      <td>Fiat</td>\n",
       "      <td>28</td>\n",
       "    </tr>\n",
       "    <tr>\n",
       "      <th>0</th>\n",
       "      <td>Chevrolet</td>\n",
       "      <td>24</td>\n",
       "    </tr>\n",
       "    <tr>\n",
       "      <th>6</th>\n",
       "      <td>Nissan</td>\n",
       "      <td>24</td>\n",
       "    </tr>\n",
       "    <tr>\n",
       "      <th>7</th>\n",
       "      <td>Renault</td>\n",
       "      <td>23</td>\n",
       "    </tr>\n",
       "    <tr>\n",
       "      <th>9</th>\n",
       "      <td>Volkswagen</td>\n",
       "      <td>20</td>\n",
       "    </tr>\n",
       "    <tr>\n",
       "      <th>2</th>\n",
       "      <td>Ford</td>\n",
       "      <td>17</td>\n",
       "    </tr>\n",
       "    <tr>\n",
       "      <th>8</th>\n",
       "      <td>Toyota</td>\n",
       "      <td>17</td>\n",
       "    </tr>\n",
       "    <tr>\n",
       "      <th>4</th>\n",
       "      <td>Hyundai</td>\n",
       "      <td>16</td>\n",
       "    </tr>\n",
       "    <tr>\n",
       "      <th>5</th>\n",
       "      <td>Jeep</td>\n",
       "      <td>15</td>\n",
       "    </tr>\n",
       "    <tr>\n",
       "      <th>3</th>\n",
       "      <td>Honda</td>\n",
       "      <td>14</td>\n",
       "    </tr>\n",
       "  </tbody>\n",
       "</table>\n",
       "</div>"
      ],
      "text/plain": [
       "        Marca  Qtd_Outliers\n",
       "1        Fiat            28\n",
       "0   Chevrolet            24\n",
       "6      Nissan            24\n",
       "7     Renault            23\n",
       "9  Volkswagen            20\n",
       "2        Ford            17\n",
       "8      Toyota            17\n",
       "4     Hyundai            16\n",
       "5        Jeep            15\n",
       "3       Honda            14"
      ]
     },
     "execution_count": 14,
     "metadata": {},
     "output_type": "execute_result"
    }
   ],
   "source": [
    "# Função para contar outliers com base no IQR\n",
    "def contar_outliers(grupo, coluna=\"Valor_Venda\"):\n",
    "    Q1 = grupo[coluna].quantile(0.25)\n",
    "    Q3 = grupo[coluna].quantile(0.75)\n",
    "    IQR = Q3 - Q1\n",
    "    limite_inferior = Q1 - 1.5 * IQR\n",
    "    limite_superior = Q3 + 1.5 * IQR\n",
    "    outliers = grupo[(grupo[coluna] < limite_inferior) | (grupo[coluna] > limite_superior)]\n",
    "    return len(outliers)\n",
    "\n",
    "# Calcular outliers por marca\n",
    "outliers_por_marca = df_clean.groupby(\"Marca\").apply(contar_outliers).reset_index(name=\"Qtd_Outliers\")\n",
    "\n",
    "# Ordenar do maior para o menor\n",
    "outliers_por_marca = outliers_por_marca.sort_values(by=\"Qtd_Outliers\", ascending=False)\n",
    "\n",
    "outliers_por_marca.head(50)"
   ]
  },
  {
   "cell_type": "code",
   "execution_count": 15,
   "metadata": {
    "colab": {
     "base_uri": "https://localhost:8080/",
     "height": 1000
    },
    "id": "5-3AGilPaT8x",
    "outputId": "693461ff-37c4-4655-d07d-0a4b53b3ad2f"
   },
   "outputs": [
    {
     "name": "stderr",
     "output_type": "stream",
     "text": [
      "C:\\Users\\renan\\AppData\\Local\\Temp\\ipykernel_31948\\2748338716.py:2: FutureWarning: DataFrameGroupBy.apply operated on the grouping columns. This behavior is deprecated, and in a future version of pandas the grouping columns will be excluded from the operation. Either pass `include_groups=False` to exclude the groupings or explicitly select the grouping columns after groupby to silence this warning.\n",
      "  outliers_por_modelo = df_clean.groupby(\"Modelo\").apply(contar_outliers).reset_index(name=\"Qtd_Outliers\")\n"
     ]
    },
    {
     "data": {
      "text/html": [
       "<div>\n",
       "<style scoped>\n",
       "    .dataframe tbody tr th:only-of-type {\n",
       "        vertical-align: middle;\n",
       "    }\n",
       "\n",
       "    .dataframe tbody tr th {\n",
       "        vertical-align: top;\n",
       "    }\n",
       "\n",
       "    .dataframe thead th {\n",
       "        text-align: right;\n",
       "    }\n",
       "</style>\n",
       "<table border=\"1\" class=\"dataframe\">\n",
       "  <thead>\n",
       "    <tr style=\"text-align: right;\">\n",
       "      <th></th>\n",
       "      <th>Modelo</th>\n",
       "      <th>Qtd_Outliers</th>\n",
       "    </tr>\n",
       "  </thead>\n",
       "  <tbody>\n",
       "    <tr>\n",
       "      <th>5</th>\n",
       "      <td>Cronos</td>\n",
       "      <td>12</td>\n",
       "    </tr>\n",
       "    <tr>\n",
       "      <th>9</th>\n",
       "      <td>Frontier</td>\n",
       "      <td>12</td>\n",
       "    </tr>\n",
       "    <tr>\n",
       "      <th>23</th>\n",
       "      <td>Renegade</td>\n",
       "      <td>10</td>\n",
       "    </tr>\n",
       "    <tr>\n",
       "      <th>17</th>\n",
       "      <td>Kwid</td>\n",
       "      <td>10</td>\n",
       "    </tr>\n",
       "    <tr>\n",
       "      <th>18</th>\n",
       "      <td>Mobi</td>\n",
       "      <td>9</td>\n",
       "    </tr>\n",
       "    <tr>\n",
       "      <th>19</th>\n",
       "      <td>Onix</td>\n",
       "      <td>8</td>\n",
       "    </tr>\n",
       "    <tr>\n",
       "      <th>15</th>\n",
       "      <td>Ka</td>\n",
       "      <td>8</td>\n",
       "    </tr>\n",
       "    <tr>\n",
       "      <th>20</th>\n",
       "      <td>Onix Plus</td>\n",
       "      <td>8</td>\n",
       "    </tr>\n",
       "    <tr>\n",
       "      <th>24</th>\n",
       "      <td>S10</td>\n",
       "      <td>7</td>\n",
       "    </tr>\n",
       "    <tr>\n",
       "      <th>31</th>\n",
       "      <td>Yaris</td>\n",
       "      <td>7</td>\n",
       "    </tr>\n",
       "    <tr>\n",
       "      <th>16</th>\n",
       "      <td>Kicks</td>\n",
       "      <td>7</td>\n",
       "    </tr>\n",
       "    <tr>\n",
       "      <th>3</th>\n",
       "      <td>Corolla</td>\n",
       "      <td>7</td>\n",
       "    </tr>\n",
       "    <tr>\n",
       "      <th>6</th>\n",
       "      <td>Duster</td>\n",
       "      <td>7</td>\n",
       "    </tr>\n",
       "    <tr>\n",
       "      <th>13</th>\n",
       "      <td>HR-V</td>\n",
       "      <td>7</td>\n",
       "    </tr>\n",
       "    <tr>\n",
       "      <th>10</th>\n",
       "      <td>Gol</td>\n",
       "      <td>6</td>\n",
       "    </tr>\n",
       "    <tr>\n",
       "      <th>12</th>\n",
       "      <td>HB20S</td>\n",
       "      <td>6</td>\n",
       "    </tr>\n",
       "    <tr>\n",
       "      <th>26</th>\n",
       "      <td>T-Cross</td>\n",
       "      <td>6</td>\n",
       "    </tr>\n",
       "    <tr>\n",
       "      <th>22</th>\n",
       "      <td>Ranger</td>\n",
       "      <td>6</td>\n",
       "    </tr>\n",
       "    <tr>\n",
       "      <th>25</th>\n",
       "      <td>Sandero</td>\n",
       "      <td>6</td>\n",
       "    </tr>\n",
       "    <tr>\n",
       "      <th>11</th>\n",
       "      <td>HB20</td>\n",
       "      <td>6</td>\n",
       "    </tr>\n",
       "    <tr>\n",
       "      <th>29</th>\n",
       "      <td>Versa</td>\n",
       "      <td>5</td>\n",
       "    </tr>\n",
       "    <tr>\n",
       "      <th>14</th>\n",
       "      <td>Hilux</td>\n",
       "      <td>5</td>\n",
       "    </tr>\n",
       "    <tr>\n",
       "      <th>2</th>\n",
       "      <td>Compass</td>\n",
       "      <td>5</td>\n",
       "    </tr>\n",
       "    <tr>\n",
       "      <th>30</th>\n",
       "      <td>Virtus</td>\n",
       "      <td>5</td>\n",
       "    </tr>\n",
       "    <tr>\n",
       "      <th>4</th>\n",
       "      <td>Creta</td>\n",
       "      <td>4</td>\n",
       "    </tr>\n",
       "    <tr>\n",
       "      <th>27</th>\n",
       "      <td>Toro</td>\n",
       "      <td>4</td>\n",
       "    </tr>\n",
       "    <tr>\n",
       "      <th>8</th>\n",
       "      <td>Fit</td>\n",
       "      <td>4</td>\n",
       "    </tr>\n",
       "    <tr>\n",
       "      <th>7</th>\n",
       "      <td>EcoSport</td>\n",
       "      <td>3</td>\n",
       "    </tr>\n",
       "    <tr>\n",
       "      <th>0</th>\n",
       "      <td>Argo</td>\n",
       "      <td>3</td>\n",
       "    </tr>\n",
       "    <tr>\n",
       "      <th>1</th>\n",
       "      <td>Civic</td>\n",
       "      <td>3</td>\n",
       "    </tr>\n",
       "    <tr>\n",
       "      <th>21</th>\n",
       "      <td>Polo</td>\n",
       "      <td>3</td>\n",
       "    </tr>\n",
       "    <tr>\n",
       "      <th>28</th>\n",
       "      <td>Tracker</td>\n",
       "      <td>1</td>\n",
       "    </tr>\n",
       "  </tbody>\n",
       "</table>\n",
       "</div>"
      ],
      "text/plain": [
       "       Modelo  Qtd_Outliers\n",
       "5      Cronos            12\n",
       "9    Frontier            12\n",
       "23   Renegade            10\n",
       "17       Kwid            10\n",
       "18       Mobi             9\n",
       "19       Onix             8\n",
       "15         Ka             8\n",
       "20  Onix Plus             8\n",
       "24        S10             7\n",
       "31      Yaris             7\n",
       "16      Kicks             7\n",
       "3     Corolla             7\n",
       "6      Duster             7\n",
       "13       HR-V             7\n",
       "10        Gol             6\n",
       "12      HB20S             6\n",
       "26    T-Cross             6\n",
       "22     Ranger             6\n",
       "25    Sandero             6\n",
       "11       HB20             6\n",
       "29      Versa             5\n",
       "14      Hilux             5\n",
       "2     Compass             5\n",
       "30     Virtus             5\n",
       "4       Creta             4\n",
       "27       Toro             4\n",
       "8         Fit             4\n",
       "7    EcoSport             3\n",
       "0        Argo             3\n",
       "1       Civic             3\n",
       "21       Polo             3\n",
       "28    Tracker             1"
      ]
     },
     "execution_count": 15,
     "metadata": {},
     "output_type": "execute_result"
    }
   ],
   "source": [
    "# Calcular outliers por modelo\n",
    "outliers_por_modelo = df_clean.groupby(\"Modelo\").apply(contar_outliers).reset_index(name=\"Qtd_Outliers\")\n",
    "\n",
    "# Ordenar do maior para o menor\n",
    "outliers_por_modelo = outliers_por_modelo.sort_values(by=\"Qtd_Outliers\", ascending=False)\n",
    "\n",
    "outliers_por_modelo.head(50)"
   ]
  },
  {
   "cell_type": "code",
   "execution_count": 16,
   "metadata": {
    "colab": {
     "base_uri": "https://localhost:8080/",
     "height": 512
    },
    "id": "gR7m7FQ3bD_1",
    "outputId": "4736d28d-63d3-429d-ee32-919404546662"
   },
   "outputs": [
    {
     "data": {
      "text/plain": [
       "<Figure size 1200x600 with 0 Axes>"
      ]
     },
     "metadata": {},
     "output_type": "display_data"
    },
    {
     "data": {
      "image/png": "[encoded data removed]",
      "text/plain": [
       "<Figure size 640x480 with 1 Axes>"
      ]
     },
     "metadata": {},
     "output_type": "display_data"
    }
   ],
   "source": [
    "# Selecionar os 10 modelos mais frequentes\n",
    "top_modelos = df_clean[\"Modelo\"].value_counts().head(10).index\n",
    "df_clean_top = df_clean[df_clean[\"Modelo\"].isin(top_modelos)]\n",
    "\n",
    "plt.figure(figsize=(12,6))\n",
    "df_clean_top.boxplot(column=\"Valor_Venda\", by=\"Modelo\", showfliers=True, grid=False)\n",
    "plt.title(\"Boxplot - Valor_Venda por Modelo (Top 10)\")\n",
    "plt.suptitle(\"\")\n",
    "plt.xlabel(\"Modelo\")\n",
    "plt.ylabel(\"Valor de Venda\")\n",
    "plt.xticks(rotation=30, ha=\"right\")\n",
    "plt.show()\n"
   ]
  },
  {
   "cell_type": "markdown",
   "metadata": {
    "id": "B4NGKStUSV1l"
   },
   "source": [
    "# Removendo outliers por marca"
   ]
  },
  {
   "cell_type": "code",
   "execution_count": 17,
   "metadata": {
    "colab": {
     "base_uri": "https://localhost:8080/",
     "height": 484
    },
    "id": "s79TzbNWQqG6",
    "outputId": "3cef8cf1-7dfd-452d-8843-aed53abdbad4"
   },
   "outputs": [
    {
     "name": "stdout",
     "output_type": "stream",
     "text": [
      "Shape antes da remoção de outliers por marca: (9801, 9)\n",
      "Shape depois da remoção de outliers por marca: (9603, 9)\n"
     ]
    },
    {
     "name": "stderr",
     "output_type": "stream",
     "text": [
      "C:\\Users\\renan\\AppData\\Local\\Temp\\ipykernel_31948\\1305782487.py:23: FutureWarning: DataFrameGroupBy.apply operated on the grouping columns. This behavior is deprecated, and in a future version of pandas the grouping columns will be excluded from the operation. Either pass `include_groups=False` to exclude the groupings or explicitly select the grouping columns after groupby to silence this warning.\n",
      "  df_clean = df_clean.groupby('Marca').apply(remover_outliers_grupo).reset_index(drop=True)\n"
     ]
    },
    {
     "data": {
      "text/html": [
       "<div>\n",
       "<style scoped>\n",
       "    .dataframe tbody tr th:only-of-type {\n",
       "        vertical-align: middle;\n",
       "    }\n",
       "\n",
       "    .dataframe tbody tr th {\n",
       "        vertical-align: top;\n",
       "    }\n",
       "\n",
       "    .dataframe thead th {\n",
       "        text-align: right;\n",
       "    }\n",
       "</style>\n",
       "<table border=\"1\" class=\"dataframe\">\n",
       "  <thead>\n",
       "    <tr style=\"text-align: right;\">\n",
       "      <th></th>\n",
       "      <th>count</th>\n",
       "      <th>mean</th>\n",
       "      <th>std</th>\n",
       "      <th>min</th>\n",
       "      <th>25%</th>\n",
       "      <th>50%</th>\n",
       "      <th>75%</th>\n",
       "      <th>max</th>\n",
       "    </tr>\n",
       "    <tr>\n",
       "      <th>Marca</th>\n",
       "      <th></th>\n",
       "      <th></th>\n",
       "      <th></th>\n",
       "      <th></th>\n",
       "      <th></th>\n",
       "      <th></th>\n",
       "      <th></th>\n",
       "      <th></th>\n",
       "    </tr>\n",
       "  </thead>\n",
       "  <tbody>\n",
       "    <tr>\n",
       "      <th>Chevrolet</th>\n",
       "      <td>948.0</td>\n",
       "      <td>48945.603797</td>\n",
       "      <td>16163.088247</td>\n",
       "      <td>10000.0</td>\n",
       "      <td>37261.15</td>\n",
       "      <td>48889.7</td>\n",
       "      <td>60768.65</td>\n",
       "      <td>88726.4</td>\n",
       "    </tr>\n",
       "    <tr>\n",
       "      <th>Fiat</th>\n",
       "      <td>947.0</td>\n",
       "      <td>45505.569588</td>\n",
       "      <td>15696.905728</td>\n",
       "      <td>10000.0</td>\n",
       "      <td>34254.30</td>\n",
       "      <td>45283.2</td>\n",
       "      <td>56588.20</td>\n",
       "      <td>84047.6</td>\n",
       "    </tr>\n",
       "    <tr>\n",
       "      <th>Ford</th>\n",
       "      <td>983.0</td>\n",
       "      <td>57247.147508</td>\n",
       "      <td>16012.054296</td>\n",
       "      <td>19524.2</td>\n",
       "      <td>45465.90</td>\n",
       "      <td>57526.6</td>\n",
       "      <td>69105.20</td>\n",
       "      <td>94471.6</td>\n",
       "    </tr>\n",
       "    <tr>\n",
       "      <th>Honda</th>\n",
       "      <td>989.0</td>\n",
       "      <td>72237.992315</td>\n",
       "      <td>16189.960476</td>\n",
       "      <td>36135.2</td>\n",
       "      <td>60135.40</td>\n",
       "      <td>72560.6</td>\n",
       "      <td>84195.00</td>\n",
       "      <td>111464.0</td>\n",
       "    </tr>\n",
       "    <tr>\n",
       "      <th>Hyundai</th>\n",
       "      <td>924.0</td>\n",
       "      <td>52751.791558</td>\n",
       "      <td>14525.435808</td>\n",
       "      <td>16951.0</td>\n",
       "      <td>43133.85</td>\n",
       "      <td>52743.0</td>\n",
       "      <td>62807.20</td>\n",
       "      <td>91396.2</td>\n",
       "    </tr>\n",
       "    <tr>\n",
       "      <th>Jeep</th>\n",
       "      <td>938.0</td>\n",
       "      <td>87053.177825</td>\n",
       "      <td>15832.594182</td>\n",
       "      <td>48862.6</td>\n",
       "      <td>75777.25</td>\n",
       "      <td>86984.6</td>\n",
       "      <td>97842.45</td>\n",
       "      <td>124196.2</td>\n",
       "    </tr>\n",
       "    <tr>\n",
       "      <th>Nissan</th>\n",
       "      <td>994.0</td>\n",
       "      <td>62089.731992</td>\n",
       "      <td>15931.669156</td>\n",
       "      <td>21502.6</td>\n",
       "      <td>50250.65</td>\n",
       "      <td>62408.8</td>\n",
       "      <td>73763.10</td>\n",
       "      <td>104107.6</td>\n",
       "    </tr>\n",
       "    <tr>\n",
       "      <th>Renault</th>\n",
       "      <td>949.0</td>\n",
       "      <td>44502.650580</td>\n",
       "      <td>15731.629170</td>\n",
       "      <td>10000.0</td>\n",
       "      <td>33453.20</td>\n",
       "      <td>43749.8</td>\n",
       "      <td>56012.80</td>\n",
       "      <td>85909.6</td>\n",
       "    </tr>\n",
       "    <tr>\n",
       "      <th>Toyota</th>\n",
       "      <td>920.0</td>\n",
       "      <td>76858.490217</td>\n",
       "      <td>15876.194927</td>\n",
       "      <td>36034.6</td>\n",
       "      <td>65603.20</td>\n",
       "      <td>76636.3</td>\n",
       "      <td>88092.75</td>\n",
       "      <td>118311.4</td>\n",
       "    </tr>\n",
       "    <tr>\n",
       "      <th>Volkswagen</th>\n",
       "      <td>1011.0</td>\n",
       "      <td>47976.325223</td>\n",
       "      <td>15797.652624</td>\n",
       "      <td>10000.0</td>\n",
       "      <td>36839.90</td>\n",
       "      <td>47661.2</td>\n",
       "      <td>59830.70</td>\n",
       "      <td>83874.8</td>\n",
       "    </tr>\n",
       "  </tbody>\n",
       "</table>\n",
       "</div>"
      ],
      "text/plain": [
       "             count          mean           std      min       25%      50%  \\\n",
       "Marca                                                                        \n",
       "Chevrolet    948.0  48945.603797  16163.088247  10000.0  37261.15  48889.7   \n",
       "Fiat         947.0  45505.569588  15696.905728  10000.0  34254.30  45283.2   \n",
       "Ford         983.0  57247.147508  16012.054296  19524.2  45465.90  57526.6   \n",
       "Honda        989.0  72237.992315  16189.960476  36135.2  60135.40  72560.6   \n",
       "Hyundai      924.0  52751.791558  14525.435808  16951.0  43133.85  52743.0   \n",
       "Jeep         938.0  87053.177825  15832.594182  48862.6  75777.25  86984.6   \n",
       "Nissan       994.0  62089.731992  15931.669156  21502.6  50250.65  62408.8   \n",
       "Renault      949.0  44502.650580  15731.629170  10000.0  33453.20  43749.8   \n",
       "Toyota       920.0  76858.490217  15876.194927  36034.6  65603.20  76636.3   \n",
       "Volkswagen  1011.0  47976.325223  15797.652624  10000.0  36839.90  47661.2   \n",
       "\n",
       "                 75%       max  \n",
       "Marca                           \n",
       "Chevrolet   60768.65   88726.4  \n",
       "Fiat        56588.20   84047.6  \n",
       "Ford        69105.20   94471.6  \n",
       "Honda       84195.00  111464.0  \n",
       "Hyundai     62807.20   91396.2  \n",
       "Jeep        97842.45  124196.2  \n",
       "Nissan      73763.10  104107.6  \n",
       "Renault     56012.80   85909.6  \n",
       "Toyota      88092.75  118311.4  \n",
       "Volkswagen  59830.70   83874.8  "
      ]
     },
     "execution_count": 17,
     "metadata": {},
     "output_type": "execute_result"
    }
   ],
   "source": [
    "df_clean = df.dropna()\n",
    "df_clean = df_clean[df_clean[\"Quilometragem\"] != \"erro_medicao\"].copy()\n",
    "df_clean[\"Ano\"] = df_clean[\"Ano\"].astype(int)\n",
    "df_clean[\"Quilometragem\"] = df_clean[\"Quilometragem\"].astype(float)\n",
    "\n",
    "\n",
    "# Função que calcula os limites IQR e filtra o grupo\n",
    "def remover_outliers_grupo(grupo, coluna='Valor_Venda'):\n",
    "    Q1 = grupo[coluna].quantile(0.25)\n",
    "    Q3 = grupo[coluna].quantile(0.75)\n",
    "    IQR = Q3 - Q1\n",
    "    limite_inferior = Q1 - 1.5 * IQR\n",
    "    limite_superior = Q3 + 1.5 * IQR\n",
    "\n",
    "    # Retorna o grupo filtrado, mantendo apenas os valores dentro dos limites\n",
    "    return grupo[(grupo[coluna] >= limite_inferior) & (grupo[coluna] <= limite_superior)]\n",
    "\n",
    "# Agrupar o DataFrame por 'Marca'\n",
    "# Aplicar a função a cada grupo\n",
    "# Resetar o índice para juntar os grupos de volta em um único DataFrame\n",
    "print(f\"Shape antes da remoção de outliers por marca: {df_clean.shape}\")\n",
    "\n",
    "df_clean = df_clean.groupby('Marca').apply(remover_outliers_grupo).reset_index(drop=True)\n",
    "\n",
    "print(f\"Shape depois da remoção de outliers por marca: {df_clean.shape}\")\n",
    "\n",
    "df_clean.groupby('Marca')['Valor_Venda'].describe()"
   ]
  },
  {
   "cell_type": "markdown",
   "metadata": {
    "id": "v6o17QQbSaGW"
   },
   "source": [
    "# Verificando duplicatas"
   ]
  },
  {
   "cell_type": "code",
   "execution_count": 18,
   "metadata": {
    "colab": {
     "base_uri": "https://localhost:8080/"
    },
    "id": "WIqnWjIrQDYu",
    "outputId": "b744f91d-8c2e-4dce-9190-6e58e62e92be"
   },
   "outputs": [
    {
     "name": "stdout",
     "output_type": "stream",
     "text": [
      "Linhas duplicadas: 0\n"
     ]
    }
   ],
   "source": [
    "print(f\"Linhas duplicadas: {df_clean.duplicated().sum()}\")\n",
    "df_clean.drop_duplicates(inplace=True)"
   ]
  },
  {
   "cell_type": "markdown",
   "metadata": {
    "id": "Q2lt8PPPSd2-"
   },
   "source": [
    "# Criando features"
   ]
  },
  {
   "cell_type": "code",
   "execution_count": 19,
   "metadata": {
    "id": "r44JW5r6QNAe"
   },
   "outputs": [],
   "source": [
    "from datetime import datetime\n",
    "\n",
    "ano_atual = datetime.now().year\n",
    "df_clean['Idade_Veiculo'] = ano_atual - df_clean['Ano']\n",
    "\n",
    "df_clean.drop('Ano', axis=1, inplace=True)"
   ]
  },
  {
   "cell_type": "code",
   "execution_count": 20,
   "metadata": {
    "id": "RAkybS5oQPZ-"
   },
   "outputs": [],
   "source": [
    "# Adicionamos +1 na idade para evitar divisão por zero caso o carro seja do ano corrente\n",
    "df_clean['Km_por_Ano'] = df_clean['Quilometragem'] / (df_clean['Idade_Veiculo'] + 1)"
   ]
  },
  {
   "cell_type": "markdown",
   "metadata": {},
   "source": [
    "# Salvando dados processados"
   ]
  },
  {
   "cell_type": "code",
   "execution_count": 21,
   "metadata": {},
   "outputs": [
    {
     "name": "stdout",
     "output_type": "stream",
     "text": [
      "Dados processados salvos em data/processed/\n",
      "Total de registros: 9603\n",
      "Colunas: ['Marca', 'Modelo', 'Quilometragem', 'Cor', 'Cambio', 'Combustivel', 'Portas', 'Valor_Venda', 'Idade_Veiculo', 'Km_por_Ano']\n"
     ]
    }
   ],
   "source": [
    "import os\n",
    "\n",
    "# Criar diretório se não existir\n",
    "os.makedirs('../data/processed', exist_ok=True)\n",
    "\n",
    "# Salvar dados limpos em CSV\n",
    "df_clean.to_csv('../data/processed/dataset_limpo.csv', index=False)\n",
    "\n",
    "# Salvar também em pickle para preservar tipos\n",
    "df_clean.to_pickle('../data/processed/dataset_limpo.pkl')\n",
    "\n",
    "print(f\"Dados processados salvos em data/processed/\")\n",
    "print(f\"Total de registros: {len(df_clean)}\")\n",
    "print(f\"Colunas: {list(df_clean.columns)}\")"
   ]
  },
  {
   "cell_type": "code",
   "execution_count": 22,
   "metadata": {
    "colab": {
     "base_uri": "https://localhost:8080/"
    },
    "id": "95GupkQrREZ1",
    "outputId": "bdd356f7-0597-413e-92f1-8658e5bef070"
   },
   "outputs": [
    {
     "name": "stdout",
     "output_type": "stream",
     "text": [
      "Iniciando treinamento e avaliação dos modelos...\n",
      "Treinando Linear Regression...\n",
      "Treinando Ridge Regression...\n",
      "Treinando Lasso Regression...\n",
      "Treinando Decision Tree...\n"
     ]
    },
    {
     "name": "stderr",
     "output_type": "stream",
     "text": [
      "c:\\Users\\renan\\AppData\\Local\\Programs\\Python\\Python313\\Lib\\site-packages\\sklearn\\linear_model\\_coordinate_descent.py:695: ConvergenceWarning: Objective did not converge. You might want to increase the number of iterations, check the scale of the features or consider increasing regularisation. Duality gap: 8.839e+08, tolerance: 3.402e+08\n",
      "  model = cd_fast.enet_coordinate_descent(\n"
     ]
    },
    {
     "name": "stdout",
     "output_type": "stream",
     "text": [
      "Treinando Random Forest...\n",
      "Treinando Gradient Boosting...\n",
      "Treinando XGBoost...\n",
      "Treinando LightGBM...\n",
      "[LightGBM] [Warning] Found whitespace in feature_names, replace with underlines\n",
      "[LightGBM] [Info] Auto-choosing row-wise multi-threading, the overhead of testing was 0.000114 seconds.\n",
      "You can set `force_row_wise=true` to remove the overhead.\n",
      "And if memory is not enough, you can set `force_col_wise=true`.\n",
      "[LightGBM] [Info] Total Bins 634\n",
      "[LightGBM] [Info] Number of data points in the train set: 7682, number of used features: 52\n",
      "[LightGBM] [Info] Start training from score 59439.326550\n",
      "\n",
      "Resultados Finais da Comparação dos Modelos\n",
      "              Modelo   MAE (R$)  RMSE (R$)      R²\n",
      "2   Lasso Regression  2527.4564  2917.8031  0.9803\n",
      "0  Linear Regression  2528.4533  2919.5109  0.9803\n",
      "1   Ridge Regression  2528.6220  2919.7418  0.9803\n",
      "7           LightGBM  2599.5605  3083.2604  0.9780\n",
      "5  Gradient Boosting  2714.0261  3234.9720  0.9758\n",
      "4      Random Forest  2775.8137  3333.7535  0.9743\n",
      "6            XGBoost  2786.4016  3348.1759  0.9741\n",
      "3      Decision Tree  3813.5570  4676.4747  0.9495\n"
     ]
    }
   ],
   "source": [
    "df_modelo = df_clean.copy()\n",
    "\n",
    "df_modelo = pd.get_dummies(df_modelo, columns=['Marca', 'Modelo', 'Cor', 'Cambio', 'Combustivel'], drop_first=True)\n",
    "X = df_modelo.drop('Valor_Venda', axis=1)\n",
    "y = df_modelo['Valor_Venda']\n",
    "\n",
    "# Divisão em Treino e Teste\n",
    "X_train, X_test, y_train, y_test = train_test_split(X, y, test_size=0.2, random_state=42)\n",
    "\n",
    "# Dicionário com os modelos que vamos treinar\n",
    "modelos = {\n",
    "    \"Linear Regression\": LinearRegression(),\n",
    "    \"Ridge Regression\": Ridge(),\n",
    "    \"Lasso Regression\": Lasso(),\n",
    "    \"Decision Tree\": DecisionTreeRegressor(random_state=42),\n",
    "    \"Random Forest\": RandomForestRegressor(random_state=42, n_jobs=-1), # n_jobs=-1 usa todos os processadores\n",
    "    \"Gradient Boosting\": GradientBoostingRegressor(random_state=42),\n",
    "    \"XGBoost\": xgb.XGBRegressor(random_state=42, n_jobs=-1),\n",
    "    \"LightGBM\": lgb.LGBMRegressor(random_state=42, n_jobs=-1)\n",
    "}\n",
    "\n",
    "# Lista para armazenar os resultados\n",
    "resultados = []\n",
    "\n",
    "# Loop para treinar e avaliar cada modelo\n",
    "print(\"Iniciando treinamento e avaliação dos modelos...\")\n",
    "for nome, modelo in modelos.items():\n",
    "    print(f\"Treinando {nome}...\")\n",
    "    # Treinar o modelo\n",
    "    modelo.fit(X_train, y_train)\n",
    "\n",
    "    # Fazer previsões\n",
    "    previsoes = modelo.predict(X_test)\n",
    "\n",
    "    # Calcular as métricas\n",
    "    mae = mean_absolute_error(y_test, previsoes)\n",
    "    rmse = np.sqrt(mean_squared_error(y_test, previsoes))\n",
    "    r2 = r2_score(y_test, previsoes)\n",
    "\n",
    "    # Adicionar os resultados à lista\n",
    "    resultados.append({\n",
    "        \"Modelo\": nome,\n",
    "        \"MAE (R$)\": mae,\n",
    "        \"RMSE (R$)\": rmse,\n",
    "        \"R²\": r2\n",
    "    })\n",
    "\n",
    "# Avaliação e Comparação\n",
    "df_resultados = pd.DataFrame(resultados).sort_values(by='R²', ascending=False)\n",
    "\n",
    "print(\"\\nResultados Finais da Comparação dos Modelos\")\n",
    "print(df_resultados.round(4))"
   ]
  },
  {
   "cell_type": "markdown",
   "metadata": {
    "id": "PhU0RX3GS-Uy"
   },
   "source": [
    "# Teste hiperparametrizando"
   ]
  },
  {
   "cell_type": "code",
   "execution_count": 23,
   "metadata": {
    "colab": {
     "base_uri": "https://localhost:8080/",
     "height": 498
    },
    "id": "m0yw8g9fSsOY",
    "outputId": "a2f4cb2e-67d9-4f0f-98fe-1c8ff313cbcd"
   },
   "outputs": [
    {
     "name": "stdout",
     "output_type": "stream",
     "text": [
      "Iniciando busca de hiperparâmetros com MLflow tracking...\n",
      "Otimizando Ridge...\n"
     ]
    },
    {
     "name": "stderr",
     "output_type": "stream",
     "text": [
      "2025/09/30 21:38:49 WARNING mlflow.models.model: `artifact_path` is deprecated. Please use `name` instead.\n",
      "2025/09/30 21:38:54 WARNING mlflow.models.model: Model logged without a signature and input example. Please set `input_example` parameter when logging the model to auto infer the model signature.\n"
     ]
    },
    {
     "name": "stdout",
     "output_type": "stream",
     "text": [
      "  Registrado no MLflow (Run ID: d496d0e8...)\n",
      "Otimizando Lasso...\n"
     ]
    },
    {
     "name": "stderr",
     "output_type": "stream",
     "text": [
      "2025/09/30 21:38:54 WARNING mlflow.models.model: `artifact_path` is deprecated. Please use `name` instead.\n",
      "2025/09/30 21:38:57 WARNING mlflow.models.model: Model logged without a signature and input example. Please set `input_example` parameter when logging the model to auto infer the model signature.\n"
     ]
    },
    {
     "name": "stdout",
     "output_type": "stream",
     "text": [
      "  Registrado no MLflow (Run ID: 185fb669...)\n",
      "Otimizando Random Forest...\n"
     ]
    },
    {
     "name": "stderr",
     "output_type": "stream",
     "text": [
      "2025/09/30 21:39:22 WARNING mlflow.models.model: `artifact_path` is deprecated. Please use `name` instead.\n",
      "2025/09/30 21:39:25 WARNING mlflow.models.model: Model logged without a signature and input example. Please set `input_example` parameter when logging the model to auto infer the model signature.\n"
     ]
    },
    {
     "name": "stdout",
     "output_type": "stream",
     "text": [
      "  Registrado no MLflow (Run ID: 1e0b2d1e...)\n",
      "Otimizando Gradient Boosting...\n"
     ]
    },
    {
     "name": "stderr",
     "output_type": "stream",
     "text": [
      "2025/09/30 21:39:35 WARNING mlflow.models.model: `artifact_path` is deprecated. Please use `name` instead.\n",
      "2025/09/30 21:39:39 WARNING mlflow.models.model: Model logged without a signature and input example. Please set `input_example` parameter when logging the model to auto infer the model signature.\n"
     ]
    },
    {
     "name": "stdout",
     "output_type": "stream",
     "text": [
      "  Registrado no MLflow (Run ID: 96265df3...)\n",
      "Otimizando XGBoost...\n"
     ]
    },
    {
     "name": "stderr",
     "output_type": "stream",
     "text": [
      "2025/09/30 21:39:40 WARNING mlflow.models.model: `artifact_path` is deprecated. Please use `name` instead.\n",
      "2025/09/30 21:39:43 WARNING mlflow.models.model: Model logged without a signature and input example. Please set `input_example` parameter when logging the model to auto infer the model signature.\n"
     ]
    },
    {
     "name": "stdout",
     "output_type": "stream",
     "text": [
      "  Registrado no MLflow (Run ID: c75d0e94...)\n",
      "Otimizando LightGBM...\n"
     ]
    },
    {
     "name": "stderr",
     "output_type": "stream",
     "text": [
      "2025/09/30 21:39:49 WARNING mlflow.models.model: `artifact_path` is deprecated. Please use `name` instead.\n",
      "2025/09/30 21:39:52 WARNING mlflow.models.model: Model logged without a signature and input example. Please set `input_example` parameter when logging the model to auto infer the model signature.\n"
     ]
    },
    {
     "name": "stdout",
     "output_type": "stream",
     "text": [
      "  Registrado no MLflow (Run ID: 41e5b9a8...)\n",
      "\n",
      "Resultados Finais dos Modelos Otimizados\n",
      "\n",
      "Todos os experimentos registrados no MLflow!\n"
     ]
    },
    {
     "data": {
      "text/html": [
       "<div>\n",
       "<style scoped>\n",
       "    .dataframe tbody tr th:only-of-type {\n",
       "        vertical-align: middle;\n",
       "    }\n",
       "\n",
       "    .dataframe tbody tr th {\n",
       "        vertical-align: top;\n",
       "    }\n",
       "\n",
       "    .dataframe thead th {\n",
       "        text-align: right;\n",
       "    }\n",
       "</style>\n",
       "<table border=\"1\" class=\"dataframe\">\n",
       "  <thead>\n",
       "    <tr style=\"text-align: right;\">\n",
       "      <th></th>\n",
       "      <th>Modelo</th>\n",
       "      <th>MAE (R$)</th>\n",
       "      <th>RMSE (R$)</th>\n",
       "      <th>R²</th>\n",
       "      <th>Melhores Parâmetros</th>\n",
       "      <th>MLflow Run ID</th>\n",
       "    </tr>\n",
       "  </thead>\n",
       "  <tbody>\n",
       "    <tr>\n",
       "      <th>1</th>\n",
       "      <td>Lasso</td>\n",
       "      <td>2527.4564</td>\n",
       "      <td>2917.8031</td>\n",
       "      <td>0.9803</td>\n",
       "      <td>{'alpha': 1.0}</td>\n",
       "      <td>185fb6692f7d431f9a85661bb6b018f9</td>\n",
       "    </tr>\n",
       "    <tr>\n",
       "      <th>0</th>\n",
       "      <td>Ridge</td>\n",
       "      <td>2528.6220</td>\n",
       "      <td>2919.7418</td>\n",
       "      <td>0.9803</td>\n",
       "      <td>{'alpha': 1.0}</td>\n",
       "      <td>d496d0e81c4245388699aa9eba1a535f</td>\n",
       "    </tr>\n",
       "    <tr>\n",
       "      <th>4</th>\n",
       "      <td>XGBoost</td>\n",
       "      <td>2600.4039</td>\n",
       "      <td>3058.3697</td>\n",
       "      <td>0.9784</td>\n",
       "      <td>{'learning_rate': 0.1, 'max_depth': 3, 'n_estimators': 200}</td>\n",
       "      <td>c75d0e9478974cd986ba939b49d109d2</td>\n",
       "    </tr>\n",
       "    <tr>\n",
       "      <th>3</th>\n",
       "      <td>Gradient Boosting</td>\n",
       "      <td>2609.8190</td>\n",
       "      <td>3063.9909</td>\n",
       "      <td>0.9783</td>\n",
       "      <td>{'learning_rate': 0.1, 'max_depth': 3, 'n_estimators': 200}</td>\n",
       "      <td>96265df37b774367a6700ccc2399b4b2</td>\n",
       "    </tr>\n",
       "    <tr>\n",
       "      <th>5</th>\n",
       "      <td>LightGBM</td>\n",
       "      <td>2611.7957</td>\n",
       "      <td>3085.4706</td>\n",
       "      <td>0.9780</td>\n",
       "      <td>{'learning_rate': 0.05, 'n_estimators': 200, 'num_leaves': 31}</td>\n",
       "      <td>41e5b9a8dd8e48c0909a3f2d2749806f</td>\n",
       "    </tr>\n",
       "    <tr>\n",
       "      <th>2</th>\n",
       "      <td>Random Forest</td>\n",
       "      <td>2746.9229</td>\n",
       "      <td>3293.2949</td>\n",
       "      <td>0.9749</td>\n",
       "      <td>{'max_depth': None, 'min_samples_split': 5, 'n_estimators': 200}</td>\n",
       "      <td>1e0b2d1e0a394803a55d592f50995501</td>\n",
       "    </tr>\n",
       "  </tbody>\n",
       "</table>\n",
       "</div>"
      ],
      "text/plain": [
       "              Modelo   MAE (R$)  RMSE (R$)      R²  \\\n",
       "1              Lasso  2527.4564  2917.8031  0.9803   \n",
       "0              Ridge  2528.6220  2919.7418  0.9803   \n",
       "4            XGBoost  2600.4039  3058.3697  0.9784   \n",
       "3  Gradient Boosting  2609.8190  3063.9909  0.9783   \n",
       "5           LightGBM  2611.7957  3085.4706  0.9780   \n",
       "2      Random Forest  2746.9229  3293.2949  0.9749   \n",
       "\n",
       "                                                Melhores Parâmetros  \\\n",
       "1                                                    {'alpha': 1.0}   \n",
       "0                                                    {'alpha': 1.0}   \n",
       "4       {'learning_rate': 0.1, 'max_depth': 3, 'n_estimators': 200}   \n",
       "3       {'learning_rate': 0.1, 'max_depth': 3, 'n_estimators': 200}   \n",
       "5    {'learning_rate': 0.05, 'n_estimators': 200, 'num_leaves': 31}   \n",
       "2  {'max_depth': None, 'min_samples_split': 5, 'n_estimators': 200}   \n",
       "\n",
       "                      MLflow Run ID  \n",
       "1  185fb6692f7d431f9a85661bb6b018f9  \n",
       "0  d496d0e81c4245388699aa9eba1a535f  \n",
       "4  c75d0e9478974cd986ba939b49d109d2  \n",
       "3  96265df37b774367a6700ccc2399b4b2  \n",
       "5  41e5b9a8dd8e48c0909a3f2d2749806f  \n",
       "2  1e0b2d1e0a394803a55d592f50995501  "
      ]
     },
     "execution_count": 23,
     "metadata": {},
     "output_type": "execute_result"
    }
   ],
   "source": [
    "from sklearn.model_selection import train_test_split, GridSearchCV\n",
    "from sklearn.linear_model import Ridge, Lasso\n",
    "from sklearn.tree import DecisionTreeRegressor\n",
    "from sklearn.ensemble import RandomForestRegressor, GradientBoostingRegressor\n",
    "from sklearn.metrics import mean_absolute_error, mean_squared_error, r2_score\n",
    "import numpy as np\n",
    "import pandas as pd\n",
    "from datetime import datetime\n",
    "import warnings\n",
    "import xgboost as xgb\n",
    "import lightgbm as lgb\n",
    "import mlflow\n",
    "import mlflow.sklearn\n",
    "\n",
    "# Ignorar avisos para manter a saída limpa\n",
    "warnings.filterwarnings('ignore')\n",
    "\n",
    "df_modelo = df_clean.copy()\n",
    "\n",
    "df_modelo = pd.get_dummies(df_modelo, columns=['Marca', 'Modelo', 'Cor', 'Cambio', 'Combustivel'], drop_first=True)\n",
    "X = df_modelo.drop('Valor_Venda', axis=1)\n",
    "y = df_modelo['Valor_Venda']\n",
    "\n",
    "X_train, X_test, y_train, y_test = train_test_split(X, y, test_size=0.2, random_state=42)\n",
    "\n",
    "# Dicionário de modelos\n",
    "modelos = {\n",
    "    \"Ridge\": Ridge(),\n",
    "    \"Lasso\": Lasso(),\n",
    "    \"Random Forest\": RandomForestRegressor(random_state=42, n_jobs=-1),\n",
    "    \"Gradient Boosting\": GradientBoostingRegressor(random_state=42),\n",
    "    \"XGBoost\": xgb.XGBRegressor(random_state=42, n_jobs=-1),\n",
    "    \"LightGBM\": lgb.LGBMRegressor(random_state=42, n_jobs=-1, verbose=-1)\n",
    "}\n",
    "\n",
    "# Grades de parâmetros para cada modelo\n",
    "param_grids = {\n",
    "    \"Ridge\": {\n",
    "        'alpha': [0.1, 1.0, 10.0, 100.0]\n",
    "    },\n",
    "    \"Lasso\": {\n",
    "        'alpha': [0.1, 1.0, 10.0, 100.0]\n",
    "    },\n",
    "    \"Random Forest\": {\n",
    "        'n_estimators': [100, 200],\n",
    "        'max_depth': [10, 20, None],\n",
    "        'min_samples_split': [2, 5]\n",
    "    },\n",
    "    \"Gradient Boosting\": {\n",
    "        'n_estimators': [100, 200],\n",
    "        'learning_rate': [0.05, 0.1],\n",
    "        'max_depth': [3, 5]\n",
    "    },\n",
    "    \"XGBoost\": {\n",
    "        'n_estimators': [100, 200],\n",
    "        'learning_rate': [0.05, 0.1],\n",
    "        'max_depth': [3, 5]\n",
    "    },\n",
    "    \"LightGBM\": {\n",
    "        'n_estimators': [100, 200],\n",
    "        'learning_rate': [0.05, 0.1],\n",
    "        'num_leaves': [31, 40]\n",
    "    }\n",
    "}\n",
    "\n",
    "# Loop de Treinamento com GridSearchCV e MLflow\n",
    "resultados_otimizados = []\n",
    "\n",
    "print(\"Iniciando busca de hiperparâmetros com MLflow tracking...\")\n",
    "for nome, modelo in modelos.items():\n",
    "    print(f\"Otimizando {nome}...\")\n",
    "    \n",
    "    # Iniciar run do MLflow\n",
    "    with mlflow.start_run(run_name=f\"{nome}_GridSearch\"):\n",
    "        \n",
    "        # GridSearchCV\n",
    "        grid_search = GridSearchCV(modelo, param_grids[nome], cv=5, scoring='r2', n_jobs=-1)\n",
    "        grid_search.fit(X_train, y_train)\n",
    "        melhor_modelo = grid_search.best_estimator_\n",
    "        \n",
    "        # Predições\n",
    "        previsoes = melhor_modelo.predict(X_test)\n",
    "        \n",
    "        # Métricas\n",
    "        mae = mean_absolute_error(y_test, previsoes)\n",
    "        rmse = np.sqrt(mean_squared_error(y_test, previsoes))\n",
    "        r2 = r2_score(y_test, previsoes)\n",
    "        \n",
    "        # LOGGING NO MLFLOW\n",
    "        # 1. Parâmetros\n",
    "        mlflow.log_params(grid_search.best_params_)\n",
    "        mlflow.log_param(\"modelo_tipo\", nome)\n",
    "        mlflow.log_param(\"cv_folds\", 5)\n",
    "        mlflow.log_param(\"test_size\", 0.2)\n",
    "        mlflow.log_param(\"random_state\", 42)\n",
    "        \n",
    "        # 2. Métricas\n",
    "        mlflow.log_metric(\"mae\", mae)\n",
    "        mlflow.log_metric(\"rmse\", rmse)\n",
    "        mlflow.log_metric(\"r2_score\", r2)\n",
    "        \n",
    "        # 3. Dataset info\n",
    "        mlflow.log_param(\"n_features\", X_train.shape[1])\n",
    "        mlflow.log_param(\"n_train_samples\", X_train.shape[0])\n",
    "        mlflow.log_param(\"n_test_samples\", X_test.shape[0])\n",
    "        \n",
    "        # 4. Modelo\n",
    "        mlflow.sklearn.log_model(melhor_modelo, f\"model_{nome.replace(' ', '_')}\")\n",
    "        \n",
    "        # 5. Tags para organização\n",
    "        if nome in [\"XGBoost\", \"LightGBM\"]:\n",
    "            mlflow.set_tag(\"framework\", nome)\n",
    "        else:\n",
    "            mlflow.set_tag(\"framework\", \"scikit-learn\")\n",
    "        \n",
    "        if nome in [\"Ridge\", \"Lasso\"]:\n",
    "            mlflow.set_tag(\"model_family\", \"linear\")\n",
    "        else:\n",
    "            mlflow.set_tag(\"model_family\", \"tree-based\")\n",
    "        \n",
    "        resultados_otimizados.append({\n",
    "            \"Modelo\": nome,\n",
    "            \"MAE (R$)\": mae,\n",
    "            \"RMSE (R$)\": rmse,\n",
    "            \"R²\": r2,\n",
    "            \"Melhores Parâmetros\": grid_search.best_params_,\n",
    "            \"MLflow Run ID\": mlflow.active_run().info.run_id\n",
    "        })\n",
    "        \n",
    "        print(f\"  Registrado no MLflow (Run ID: {mlflow.active_run().info.run_id[:8]}...)\")\n",
    "\n",
    "# Comparação dos Resultados Otimizados\n",
    "df_resultados_otimizados = pd.DataFrame(resultados_otimizados).sort_values(by='R²', ascending=False)\n",
    "\n",
    "print(\"\\nResultados Finais dos Modelos Otimizados\")\n",
    "print(\"\\nTodos os experimentos registrados no MLflow!\")\n",
    "pd.set_option('display.max_colwidth', None)\n",
    "df_resultados_otimizados.round(4)"
   ]
  },
  {
   "cell_type": "code",
   "execution_count": 24,
   "metadata": {
    "colab": {
     "base_uri": "https://localhost:8080/",
     "height": 364
    },
    "id": "jg8C8xZNa84q",
    "outputId": "b045d237-8a15-431d-cb6f-c482396b8471"
   },
   "outputs": [
    {
     "name": "stdout",
     "output_type": "stream",
     "text": [
      "Iniciando busca de hiperparâmetros e geração de gráficos...\n",
      "Otimizando e analisando Ridge...\n",
      "Otimizando e analisando Lasso...\n",
      "Otimizando e analisando Random Forest...\n",
      "Otimizando e analisando Gradient Boosting...\n",
      "Otimizando e analisando XGBoost...\n",
      "Otimizando e analisando LightGBM...\n",
      "\n",
      "Gráficos salvos em reports/figures/\n"
     ]
    },
    {
     "data": {
      "text/plain": [
       "<Figure size 1200x800 with 0 Axes>"
      ]
     },
     "metadata": {},
     "output_type": "display_data"
    },
    {
     "data": {
      "text/plain": [
       "<Figure size 1200x800 with 0 Axes>"
      ]
     },
     "metadata": {},
     "output_type": "display_data"
    },
    {
     "data": {
      "text/plain": [
       "<Figure size 1200x800 with 0 Axes>"
      ]
     },
     "metadata": {},
     "output_type": "display_data"
    },
    {
     "data": {
      "text/plain": [
       "<Figure size 1200x800 with 0 Axes>"
      ]
     },
     "metadata": {},
     "output_type": "display_data"
    },
    {
     "data": {
      "text/plain": [
       "<Figure size 1200x800 with 0 Axes>"
      ]
     },
     "metadata": {},
     "output_type": "display_data"
    },
    {
     "data": {
      "text/plain": [
       "<Figure size 1200x800 with 0 Axes>"
      ]
     },
     "metadata": {},
     "output_type": "display_data"
    }
   ],
   "source": [
    "from sklearn.model_selection import train_test_split, GridSearchCV\n",
    "from sklearn.linear_model import Ridge, Lasso\n",
    "from sklearn.tree import DecisionTreeRegressor\n",
    "from sklearn.ensemble import RandomForestRegressor, GradientBoostingRegressor\n",
    "from sklearn.metrics import mean_absolute_error, mean_squared_error, r2_score\n",
    "import numpy as np\n",
    "import pandas as pd\n",
    "from datetime import datetime\n",
    "import warnings\n",
    "import xgboost as xgb\n",
    "import lightgbm as lgb\n",
    "import matplotlib.pyplot as plt\n",
    "import seaborn as sns\n",
    "import os\n",
    "\n",
    "warnings.filterwarnings('ignore')\n",
    "sns.set(style='whitegrid')\n",
    "\n",
    "# Criar diretório para as imagens se não existir\n",
    "os.makedirs('../reports/figures', exist_ok=True)\n",
    "\n",
    "df_modelo = df_clean.copy()\n",
    "\n",
    "df_modelo = pd.get_dummies(df_modelo, columns=['Marca', 'Modelo', 'Cor', 'Cambio', 'Combustivel'], drop_first=True)\n",
    "X = df_modelo.drop('Valor_Venda', axis=1)\n",
    "y = df_modelo['Valor_Venda']\n",
    "\n",
    "X_train, X_test, y_train, y_test = train_test_split(X, y, test_size=0.2, random_state=42)\n",
    "\n",
    "# Modelos e Grades de Parâmetros\n",
    "modelos = {\n",
    "    \"Ridge\": Ridge(),\n",
    "    \"Lasso\": Lasso(),\n",
    "    \"Random Forest\": RandomForestRegressor(random_state=42, n_jobs=-1),\n",
    "    \"Gradient Boosting\": GradientBoostingRegressor(random_state=42),\n",
    "    \"XGBoost\": xgb.XGBRegressor(random_state=42, n_jobs=-1),\n",
    "    \"LightGBM\": lgb.LGBMRegressor(random_state=42, n_jobs=-1)\n",
    "}\n",
    "param_grids = {\n",
    "    \"Ridge\": {'alpha': [0.1, 1.0, 10.0]},\n",
    "    \"Lasso\": {'alpha': [0.1, 1.0, 10.0]},\n",
    "    \"Random Forest\": {'n_estimators': [100, 200], 'max_depth': [10, 20]},\n",
    "    \"Gradient Boosting\": {'n_estimators': [100, 200], 'learning_rate': [0.1], 'max_depth': [3]},\n",
    "    \"XGBoost\": {'n_estimators': [100, 200], 'learning_rate': [0.1], 'max_depth': [3]},\n",
    "    \"LightGBM\": {'n_estimators': [100, 200], 'learning_rate': [0.1], 'num_leaves': [31]}\n",
    "}\n",
    "\n",
    "# Loop de Treinamento, Avaliação e PLOTAGEM\n",
    "print(\"Iniciando busca de hiperparâmetros e geração de gráficos...\")\n",
    "for nome, modelo in modelos.items():\n",
    "    print(f\"Otimizando e analisando {nome}...\")\n",
    "\n",
    "    grid_search = GridSearchCV(modelo, param_grids[nome], cv=3, scoring='r2', n_jobs=-1)\n",
    "    grid_search.fit(X_train, y_train)\n",
    "    melhor_modelo = grid_search.best_estimator_\n",
    "\n",
    "    # Extração e Plotagem da Importância das Features\n",
    "\n",
    "    # Verificar se o modelo tem 'feature_importances_' (modelos de árvore) ou 'coef_' (modelos lineares)\n",
    "    if hasattr(melhor_modelo, 'feature_importances_'):\n",
    "        importances = melhor_modelo.feature_importances_\n",
    "    elif hasattr(melhor_modelo, 'coef_'):\n",
    "        importances = np.abs(melhor_modelo.coef_)\n",
    "    else:\n",
    "        continue # Pula para o próximo modelo se não tiver como medir a importância\n",
    "\n",
    "    # Criar um DataFrame de features e suas importâncias\n",
    "    feature_importance_df = pd.DataFrame({\n",
    "        'Feature': X_train.columns,\n",
    "        'Importance': importances\n",
    "    }).sort_values(by='Importance', ascending=False)\n",
    "\n",
    "    # Pegar as 20 features mais importantes para o gráfico\n",
    "    top_20_features = feature_importance_df.head(20)\n",
    "\n",
    "    # Criar o gráfico\n",
    "    plt.figure(figsize=(12, 8))\n",
    "    sns.barplot(x='Importance', y='Feature', data=top_20_features, palette='viridis')\n",
    "    plt.title(f'Top 20 Features Mais Importantes - {nome}', fontsize=16)\n",
    "    plt.xlabel('Importância', fontsize=12)\n",
    "    plt.ylabel('Feature', fontsize=12)\n",
    "    plt.tight_layout() # Ajusta o layout para não cortar os nomes\n",
    "\n",
    "    # Salvar o gráfico no diretório correto\n",
    "    plt.savefig(f'../reports/figures/importancia_features_{nome.replace(\" \", \"_\")}.png', dpi=300, bbox_inches='tight')\n",
    "    plt.clf() # Limpa a figura para o próximo gráfico\n",
    "\n",
    "print(\"\\nGráficos salvos em reports/figures/\")"
   ]
  },
  {
   "cell_type": "markdown",
   "metadata": {},
   "source": [
    "# Salvando Metricas dos Modelos"
   ]
  },
  {
   "cell_type": "code",
   "execution_count": 25,
   "metadata": {},
   "outputs": [
    {
     "name": "stdout",
     "output_type": "stream",
     "text": [
      "Metricas salvas em reports/metrics/\n",
      "\n",
      "Resumo:\n",
      "- Melhor modelo: Lasso\n",
      "- R² Score: 0.9803\n",
      "- MAE: R$ 2527.46\n",
      "- RMSE: R$ 2917.80\n"
     ]
    }
   ],
   "source": [
    "import os\n",
    "import json\n",
    "\n",
    "# Criar diretório se não existir\n",
    "os.makedirs('../reports/metrics', exist_ok=True)\n",
    "\n",
    "# Salvar métricas em CSV\n",
    "df_resultados_otimizados.to_csv('../reports/metrics/resultados_modelos.csv', index=False)\n",
    "\n",
    "# Salvar métricas em JSON (mais estruturado)\n",
    "df_resultados_otimizados.to_json('../reports/metrics/resultados_modelos.json', orient='records', indent=2)\n",
    "\n",
    "print(\"Metricas salvas em reports/metrics/\")\n",
    "print(f\"\\nResumo:\")\n",
    "print(f\"- Melhor modelo: {df_resultados_otimizados.iloc[0]['Modelo']}\")\n",
    "print(f\"- R² Score: {df_resultados_otimizados.iloc[0]['R²']:.4f}\")\n",
    "print(f\"- MAE: R$ {df_resultados_otimizados.iloc[0]['MAE (R$)']:.2f}\")\n",
    "print(f\"- RMSE: R$ {df_resultados_otimizados.iloc[0]['RMSE (R$)']:.2f}\")"
   ]
  },
  {
   "cell_type": "markdown",
   "metadata": {},
   "source": [
    "# Salvando Modelo Campeao"
   ]
  },
  {
   "cell_type": "code",
   "execution_count": 26,
   "metadata": {},
   "outputs": [
    {
     "name": "stderr",
     "output_type": "stream",
     "text": [
      "2025/09/30 21:40:05 WARNING mlflow.models.model: `artifact_path` is deprecated. Please use `name` instead.\n",
      "2025/09/30 21:40:08 WARNING mlflow.models.model: Model logged without a signature and input example. Please set `input_example` parameter when logging the model to auto infer the model signature.\n"
     ]
    },
    {
     "name": "stdout",
     "output_type": "stream",
     "text": [
      "Modelo campeao registrado no MLflow (Run ID: 191aef06...)\n",
      "\n",
      "Modelo campeao salvo!\n",
      "  Local: models/trained_models/lasso_modelo_campeao.pkl\n",
      "  MLflow Model Registry: PredicaoCarros_Lasso_Campeao\n",
      "  Metricas: R²=0.9803, MAE=R$2527.46, RMSE=R$2917.80\n"
     ]
    },
    {
     "name": "stderr",
     "output_type": "stream",
     "text": [
      "Registered model 'PredicaoCarros_Lasso_Campeao' already exists. Creating a new version of this model...\n",
      "Created version '2' of model 'PredicaoCarros_Lasso_Campeao'.\n"
     ]
    }
   ],
   "source": [
    "import os\n",
    "import joblib\n",
    "from sklearn.linear_model import Lasso\n",
    "import mlflow\n",
    "import mlflow.sklearn\n",
    "\n",
    "# Criar diretorio se nao existir\n",
    "os.makedirs('../models/trained_models', exist_ok=True)\n",
    "\n",
    "# Treinar o modelo campeao (Lasso) com os melhores parametros\n",
    "modelo_campeao = Lasso(alpha=1.0)\n",
    "modelo_campeao.fit(X_train, y_train)\n",
    "\n",
    "# Registrar modelo campeão no MLflow Model Registry\n",
    "with mlflow.start_run(run_name=\"Modelo_Campeao_Lasso\"):\n",
    "    \n",
    "    # Métricas finais\n",
    "    previsoes_final = modelo_campeao.predict(X_test)\n",
    "    mae_final = mean_absolute_error(y_test, previsoes_final)\n",
    "    rmse_final = np.sqrt(mean_squared_error(y_test, previsoes_final))\n",
    "    r2_final = r2_score(y_test, previsoes_final)\n",
    "    \n",
    "    # Logging\n",
    "    mlflow.log_param(\"alpha\", 1.0)\n",
    "    mlflow.log_param(\"modelo\", \"Lasso\")\n",
    "    mlflow.log_metric(\"mae\", mae_final)\n",
    "    mlflow.log_metric(\"rmse\", rmse_final)\n",
    "    mlflow.log_metric(\"r2_score\", r2_final)\n",
    "    \n",
    "    # Registrar modelo no MLflow\n",
    "    mlflow.sklearn.log_model(\n",
    "        modelo_campeao, \n",
    "        \"modelo_campeao\",\n",
    "        registered_model_name=\"PredicaoCarros_Lasso_Campeao\"\n",
    "    )\n",
    "    \n",
    "    # Salvar artefatos adicionais\n",
    "    mlflow.log_artifact('../reports/metrics/resultados_modelos.json')\n",
    "    \n",
    "    # Tags\n",
    "    mlflow.set_tag(\"status\", \"producao\")\n",
    "    mlflow.set_tag(\"versao\", \"1.0\")\n",
    "    mlflow.set_tag(\"framework\", \"scikit-learn\")\n",
    "    \n",
    "    run_id = mlflow.active_run().info.run_id\n",
    "    print(f\"Modelo campeao registrado no MLflow (Run ID: {run_id[:8]}...)\")\n",
    "\n",
    "# Salvar localmente também (backup)\n",
    "joblib.dump(modelo_campeao, '../models/trained_models/lasso_modelo_campeao.pkl')\n",
    "\n",
    "feature_info = {\n",
    "    'features': list(X_train.columns),\n",
    "    'n_features': len(X_train.columns),\n",
    "    'modelo': 'Lasso',\n",
    "    'parametros': {'alpha': 1.0},\n",
    "    'mlflow_registered': True,\n",
    "    'model_registry_name': 'PredicaoCarros_Lasso_Campeao'\n",
    "}\n",
    "\n",
    "import json\n",
    "with open('../models/trained_models/feature_info.json', 'w') as f:\n",
    "    json.dump(feature_info, f, indent=2)\n",
    "\n",
    "print(\"\\nModelo campeao salvo!\")\n",
    "print(f\"  Local: models/trained_models/lasso_modelo_campeao.pkl\")\n",
    "print(f\"  MLflow Model Registry: PredicaoCarros_Lasso_Campeao\")\n",
    "print(f\"  Metricas: R²={r2_final:.4f}, MAE=R${mae_final:.2f}, RMSE=R${rmse_final:.2f}\")"
   ]
  },
  {
   "cell_type": "markdown",
   "metadata": {},
   "source": [
    "# Visualizando Experimentos no MLflow\n",
    "\n",
    "Para visualizar todos os experimentos registrados, execute em um terminal:\n",
    "\n",
    "```bash\n",
    "cd notebooks\n",
    "mlflow ui --port 5000\n",
    "```\n",
    "\n",
    "Depois acesse: http://localhost:5000\n",
    "\n",
    "## O que voce vera:\n",
    "- **Experiments**: Comparacao de todos os 6 modelos treinados\n",
    "- **Parametros**: Hiperparametros de cada modelo\n",
    "- **Metricas**: MAE, RMSE, R² de cada experimento\n",
    "- **Artifacts**: Modelos salvos e arquivos de metricas\n",
    "- **Model Registry**: Modelo campeao registrado para producao\n",
    "\n",
    "## Modelo Registrado:\n",
    "- **Nome**: PredicaoCarros_Lasso_Campeao\n",
    "- **Versao**: 1.0\n",
    "- **Status**: Producao"
   ]
  },
  {
   "cell_type": "markdown",
   "metadata": {},
   "source": [
    "# Testando MLflow - Visualizando Experimentos\n",
    "\n",
    "Vamos verificar se todos os experimentos foram registrados corretamente:"
   ]
  },
  {
   "cell_type": "code",
   "execution_count": 28,
   "metadata": {},
   "outputs": [
    {
     "name": "stdout",
     "output_type": "stream",
     "text": [
      "Experimentos disponiveis:\n",
      "  - Predicao_Precos_Carros (ID: 952608842550762447)\n",
      "  - Default (ID: 0)\n",
      "\n",
      "Total de runs: 14\n",
      "\n",
      "Resumo dos experimentos (ordenado por R² Score):\n"
     ]
    },
    {
     "data": {
      "text/html": [
       "<div>\n",
       "<style scoped>\n",
       "    .dataframe tbody tr th:only-of-type {\n",
       "        vertical-align: middle;\n",
       "    }\n",
       "\n",
       "    .dataframe tbody tr th {\n",
       "        vertical-align: top;\n",
       "    }\n",
       "\n",
       "    .dataframe thead th {\n",
       "        text-align: right;\n",
       "    }\n",
       "</style>\n",
       "<table border=\"1\" class=\"dataframe\">\n",
       "  <thead>\n",
       "    <tr style=\"text-align: right;\">\n",
       "      <th></th>\n",
       "      <th>Nome do Run</th>\n",
       "      <th>R² Score</th>\n",
       "      <th>MAE</th>\n",
       "      <th>RMSE</th>\n",
       "      <th>Modelo</th>\n",
       "      <th>start_time</th>\n",
       "    </tr>\n",
       "  </thead>\n",
       "  <tbody>\n",
       "    <tr>\n",
       "      <th>0</th>\n",
       "      <td>Modelo_Campeao_Lasso</td>\n",
       "      <td>0.980334</td>\n",
       "      <td>2527.456400</td>\n",
       "      <td>2917.803059</td>\n",
       "      <td>None</td>\n",
       "      <td>2025-10-01 00:40:05.439000+00:00</td>\n",
       "    </tr>\n",
       "    <tr>\n",
       "      <th>5</th>\n",
       "      <td>Lasso_GridSearch</td>\n",
       "      <td>0.980334</td>\n",
       "      <td>2527.456400</td>\n",
       "      <td>2917.803059</td>\n",
       "      <td>Lasso</td>\n",
       "      <td>2025-10-01 00:38:54.293000+00:00</td>\n",
       "    </tr>\n",
       "    <tr>\n",
       "      <th>12</th>\n",
       "      <td>Lasso_GridSearch</td>\n",
       "      <td>0.980334</td>\n",
       "      <td>2527.456400</td>\n",
       "      <td>2917.803059</td>\n",
       "      <td>Lasso</td>\n",
       "      <td>2025-10-01 00:29:31.124000+00:00</td>\n",
       "    </tr>\n",
       "    <tr>\n",
       "      <th>7</th>\n",
       "      <td>Modelo_Campeao_Lasso</td>\n",
       "      <td>0.980334</td>\n",
       "      <td>2527.456400</td>\n",
       "      <td>2917.803059</td>\n",
       "      <td>None</td>\n",
       "      <td>2025-10-01 00:30:40.250000+00:00</td>\n",
       "    </tr>\n",
       "    <tr>\n",
       "      <th>6</th>\n",
       "      <td>Ridge_GridSearch</td>\n",
       "      <td>0.980308</td>\n",
       "      <td>2528.621993</td>\n",
       "      <td>2919.741802</td>\n",
       "      <td>Ridge</td>\n",
       "      <td>2025-10-01 00:38:44.737000+00:00</td>\n",
       "    </tr>\n",
       "    <tr>\n",
       "      <th>13</th>\n",
       "      <td>Ridge_GridSearch</td>\n",
       "      <td>0.980308</td>\n",
       "      <td>2528.621993</td>\n",
       "      <td>2919.741802</td>\n",
       "      <td>Ridge</td>\n",
       "      <td>2025-10-01 00:29:19.784000+00:00</td>\n",
       "    </tr>\n",
       "    <tr>\n",
       "      <th>9</th>\n",
       "      <td>XGBoost_GridSearch</td>\n",
       "      <td>0.978393</td>\n",
       "      <td>2600.403908</td>\n",
       "      <td>3058.369717</td>\n",
       "      <td>XGBoost</td>\n",
       "      <td>2025-10-01 00:30:14.867000+00:00</td>\n",
       "    </tr>\n",
       "    <tr>\n",
       "      <th>2</th>\n",
       "      <td>XGBoost_GridSearch</td>\n",
       "      <td>0.978393</td>\n",
       "      <td>2600.403908</td>\n",
       "      <td>3058.369717</td>\n",
       "      <td>XGBoost</td>\n",
       "      <td>2025-10-01 00:39:39.191000+00:00</td>\n",
       "    </tr>\n",
       "    <tr>\n",
       "      <th>3</th>\n",
       "      <td>Gradient Boosting_GridSearch</td>\n",
       "      <td>0.978314</td>\n",
       "      <td>2609.819026</td>\n",
       "      <td>3063.990866</td>\n",
       "      <td>Gradient Boosting</td>\n",
       "      <td>2025-10-01 00:39:25.389000+00:00</td>\n",
       "    </tr>\n",
       "    <tr>\n",
       "      <th>10</th>\n",
       "      <td>Gradient Boosting_GridSearch</td>\n",
       "      <td>0.978314</td>\n",
       "      <td>2609.819026</td>\n",
       "      <td>3063.990866</td>\n",
       "      <td>Gradient Boosting</td>\n",
       "      <td>2025-10-01 00:30:01.869000+00:00</td>\n",
       "    </tr>\n",
       "    <tr>\n",
       "      <th>8</th>\n",
       "      <td>LightGBM_GridSearch</td>\n",
       "      <td>0.978009</td>\n",
       "      <td>2611.795726</td>\n",
       "      <td>3085.470577</td>\n",
       "      <td>LightGBM</td>\n",
       "      <td>2025-10-01 00:30:19.579000+00:00</td>\n",
       "    </tr>\n",
       "    <tr>\n",
       "      <th>1</th>\n",
       "      <td>LightGBM_GridSearch</td>\n",
       "      <td>0.978009</td>\n",
       "      <td>2611.795726</td>\n",
       "      <td>3085.470577</td>\n",
       "      <td>LightGBM</td>\n",
       "      <td>2025-10-01 00:39:43.469000+00:00</td>\n",
       "    </tr>\n",
       "    <tr>\n",
       "      <th>4</th>\n",
       "      <td>Random Forest_GridSearch</td>\n",
       "      <td>0.974946</td>\n",
       "      <td>2746.922893</td>\n",
       "      <td>3293.294913</td>\n",
       "      <td>Random Forest</td>\n",
       "      <td>2025-10-01 00:38:57.965000+00:00</td>\n",
       "    </tr>\n",
       "    <tr>\n",
       "      <th>11</th>\n",
       "      <td>Random Forest_GridSearch</td>\n",
       "      <td>0.974946</td>\n",
       "      <td>2746.922893</td>\n",
       "      <td>3293.294913</td>\n",
       "      <td>Random Forest</td>\n",
       "      <td>2025-10-01 00:29:34.851000+00:00</td>\n",
       "    </tr>\n",
       "  </tbody>\n",
       "</table>\n",
       "</div>"
      ],
      "text/plain": [
       "                     Nome do Run  R² Score          MAE         RMSE  \\\n",
       "0           Modelo_Campeao_Lasso  0.980334  2527.456400  2917.803059   \n",
       "5               Lasso_GridSearch  0.980334  2527.456400  2917.803059   \n",
       "12              Lasso_GridSearch  0.980334  2527.456400  2917.803059   \n",
       "7           Modelo_Campeao_Lasso  0.980334  2527.456400  2917.803059   \n",
       "6               Ridge_GridSearch  0.980308  2528.621993  2919.741802   \n",
       "13              Ridge_GridSearch  0.980308  2528.621993  2919.741802   \n",
       "9             XGBoost_GridSearch  0.978393  2600.403908  3058.369717   \n",
       "2             XGBoost_GridSearch  0.978393  2600.403908  3058.369717   \n",
       "3   Gradient Boosting_GridSearch  0.978314  2609.819026  3063.990866   \n",
       "10  Gradient Boosting_GridSearch  0.978314  2609.819026  3063.990866   \n",
       "8            LightGBM_GridSearch  0.978009  2611.795726  3085.470577   \n",
       "1            LightGBM_GridSearch  0.978009  2611.795726  3085.470577   \n",
       "4       Random Forest_GridSearch  0.974946  2746.922893  3293.294913   \n",
       "11      Random Forest_GridSearch  0.974946  2746.922893  3293.294913   \n",
       "\n",
       "               Modelo                       start_time  \n",
       "0                None 2025-10-01 00:40:05.439000+00:00  \n",
       "5               Lasso 2025-10-01 00:38:54.293000+00:00  \n",
       "12              Lasso 2025-10-01 00:29:31.124000+00:00  \n",
       "7                None 2025-10-01 00:30:40.250000+00:00  \n",
       "6               Ridge 2025-10-01 00:38:44.737000+00:00  \n",
       "13              Ridge 2025-10-01 00:29:19.784000+00:00  \n",
       "9             XGBoost 2025-10-01 00:30:14.867000+00:00  \n",
       "2             XGBoost 2025-10-01 00:39:39.191000+00:00  \n",
       "3   Gradient Boosting 2025-10-01 00:39:25.389000+00:00  \n",
       "10  Gradient Boosting 2025-10-01 00:30:01.869000+00:00  \n",
       "8            LightGBM 2025-10-01 00:30:19.579000+00:00  \n",
       "1            LightGBM 2025-10-01 00:39:43.469000+00:00  \n",
       "4       Random Forest 2025-10-01 00:38:57.965000+00:00  \n",
       "11      Random Forest 2025-10-01 00:29:34.851000+00:00  "
      ]
     },
     "metadata": {},
     "output_type": "display_data"
    }
   ],
   "source": [
    "import mlflow\n",
    "import pandas as pd\n",
    "\n",
    "# Buscar todos os experimentos\n",
    "experimentos = mlflow.search_experiments()\n",
    "print(\"Experimentos disponiveis:\")\n",
    "for exp in experimentos:\n",
    "    print(f\"  - {exp.name} (ID: {exp.experiment_id})\")\n",
    "\n",
    "# Buscar todos os runs do experimento principal\n",
    "runs = mlflow.search_runs(experiment_names=[\"Predicao_Precos_Carros\"])\n",
    "\n",
    "print(f\"\\nTotal de runs: {len(runs)}\")\n",
    "print(\"\\nResumo dos experimentos (ordenado por R² Score):\")\n",
    "\n",
    "# Selecionar colunas relevantes\n",
    "colunas_importantes = [\n",
    "    'tags.mlflow.runName',\n",
    "    'metrics.r2_score', \n",
    "    'metrics.mae',\n",
    "    'metrics.rmse',\n",
    "    'params.modelo_tipo',\n",
    "    'start_time'\n",
    "]\n",
    "\n",
    "# Filtrar apenas as colunas que existem\n",
    "colunas_existentes = [col for col in colunas_importantes if col in runs.columns]\n",
    "\n",
    "# Mostrar resultados\n",
    "runs_resumo = runs[colunas_existentes].sort_values('metrics.r2_score', ascending=False)\n",
    "runs_resumo.rename(columns={\n",
    "    'tags.mlflow.runName': 'Nome do Run',\n",
    "    'metrics.r2_score': 'R² Score',\n",
    "    'metrics.mae': 'MAE',\n",
    "    'metrics.rmse': 'RMSE',\n",
    "    'params.modelo_tipo': 'Modelo'\n",
    "}, inplace=True)\n",
    "\n",
    "display(runs_resumo)"
   ]
  },
  {
   "cell_type": "markdown",
   "metadata": {},
   "source": [
    "## Comparacao Visual dos Modelos\n",
    "\n",
    "Criando um grafico comparando as metricas dos modelos:"
   ]
  },
  {
   "cell_type": "code",
   "execution_count": 30,
   "metadata": {},
   "outputs": [
    {
     "data": {
      "image/png": "[encoded data removed]",
      "text/plain": [
       "<Figure size 1800x500 with 3 Axes>"
      ]
     },
     "metadata": {},
     "output_type": "display_data"
    },
    {
     "name": "stdout",
     "output_type": "stream",
     "text": [
      "Grafico salvo em reports/figures/mlflow_comparacao_modelos.png\n"
     ]
    }
   ],
   "source": [
    "import matplotlib.pyplot as plt\n",
    "import seaborn as sns\n",
    "\n",
    "# Filtrar apenas os runs de GridSearch (excluir duplicatas)\n",
    "runs_grid = runs[runs['tags.mlflow.runName'].str.contains('GridSearch', na=False)]\n",
    "\n",
    "# Preparar dados para visualizacao\n",
    "modelos_unicos = runs_grid.groupby('params.modelo_tipo').first().reset_index()\n",
    "\n",
    "fig, axes = plt.subplots(1, 3, figsize=(18, 5))\n",
    "\n",
    "# Grafico 1: R² Score\n",
    "axes[0].barh(modelos_unicos['params.modelo_tipo'], modelos_unicos['metrics.r2_score'], color='skyblue')\n",
    "axes[0].set_xlabel('R² Score', fontsize=12)\n",
    "axes[0].set_title('Comparacao de R² Score por Modelo', fontsize=14, fontweight='bold')\n",
    "axes[0].set_xlim(0.97, 0.99)\n",
    "\n",
    "# Grafico 2: MAE\n",
    "axes[1].barh(modelos_unicos['params.modelo_tipo'], modelos_unicos['metrics.mae'], color='salmon')\n",
    "axes[1].set_xlabel('MAE (R$)', fontsize=12)\n",
    "axes[1].set_title('Comparacao de MAE por Modelo', fontsize=14, fontweight='bold')\n",
    "\n",
    "# Grafico 3: RMSE\n",
    "axes[2].barh(modelos_unicos['params.modelo_tipo'], modelos_unicos['metrics.rmse'], color='lightgreen')\n",
    "axes[2].set_xlabel('RMSE (R$)', fontsize=12)\n",
    "axes[2].set_title('Comparacao de RMSE por Modelo', fontsize=14, fontweight='bold')\n",
    "\n",
    "plt.tight_layout()\n",
    "plt.savefig('../reports/figures/mlflow_comparacao_modelos.png', dpi=300, bbox_inches='tight')\n",
    "plt.show()\n",
    "\n",
    "print(\"Grafico salvo em reports/figures/mlflow_comparacao_modelos.png\")"
   ]
  }
 ],
 "metadata": {
  "colab": {
   "provenance": []
  },
  "kernelspec": {
   "display_name": "Python 3",
   "name": "python3"
  },
  "language_info": {
   "codemirror_mode": {
    "name": "ipython",
    "version": 3
   },
   "file_extension": ".py",
   "mimetype": "text/x-python",
   "name": "python",
   "nbconvert_exporter": "python",
   "pygments_lexer": "ipython3",
   "version": "3.13.5"
  }
 },
 "nbformat": 4,
 "nbformat_minor": 0
}
